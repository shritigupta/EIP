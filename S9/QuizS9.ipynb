{
  "nbformat": 4,
  "nbformat_minor": 0,
  "metadata": {
    "kernelspec": {
      "name": "python3",
      "display_name": "Python 3"
    },
    "language_info": {
      "codemirror_mode": {
        "name": "ipython",
        "version": 3
      },
      "file_extension": ".py",
      "mimetype": "text/x-python",
      "name": "python",
      "nbconvert_exporter": "python",
      "pygments_lexer": "ipython3",
      "version": "3.6.6"
    },
    "colab": {
      "name": "QuizS9.ipynb",
      "provenance": [],
      "collapsed_sections": [],
      "include_colab_link": true
    },
    "accelerator": "GPU"
  },
  "cells": [
    {
      "cell_type": "markdown",
      "metadata": {
        "id": "view-in-github",
        "colab_type": "text"
      },
      "source": [
        "<a href=\"https://colab.research.google.com/github/shritigupta/EIP/blob/master/S9/QuizS9.ipynb\" target=\"_parent\"><img src=\"https://colab.research.google.com/assets/colab-badge.svg\" alt=\"Open In Colab\"/></a>"
      ]
    },
    {
      "cell_type": "code",
      "metadata": {
        "id": "QVbdg0z4poCc",
        "colab_type": "code",
        "colab": {}
      },
      "source": [
        "%matplotlib inline"
      ],
      "execution_count": 0,
      "outputs": []
    },
    {
      "cell_type": "code",
      "metadata": {
        "id": "uYtvcb1Q6n20",
        "colab_type": "code",
        "colab": {
          "base_uri": "https://localhost:8080/",
          "height": 34
        },
        "outputId": "c38dd497-b28e-4787-8e6a-686df82e541f"
      },
      "source": [
        "from datetime import datetime \n",
        "print(\"Current Date/Time: \", datetime.now())"
      ],
      "execution_count": 17,
      "outputs": [
        {
          "output_type": "stream",
          "text": [
            "Current Date/Time:  2020-03-21 22:04:33.912061\n"
          ],
          "name": "stdout"
        }
      ]
    },
    {
      "cell_type": "code",
      "metadata": {
        "id": "-yVpodAMpoCi",
        "colab_type": "code",
        "colab": {}
      },
      "source": [
        "import torch\n",
        "import torchvision\n",
        "import torchvision.transforms as transforms"
      ],
      "execution_count": 0,
      "outputs": []
    },
    {
      "cell_type": "code",
      "metadata": {
        "id": "qu8Z3WJ0DoKO",
        "colab_type": "code",
        "outputId": "305930bc-4040-48c2-d31c-4170be382085",
        "colab": {
          "base_uri": "https://localhost:8080/",
          "height": 139
        }
      },
      "source": [
        "from google.colab import drive\n",
        "\n",
        "drive.mount('/content/gdrive', force_remount=True)\n",
        "%cd /content/gdrive/My\\ Drive/ass_util/"
      ],
      "execution_count": 1,
      "outputs": [
        {
          "output_type": "stream",
          "text": [
            "Go to this URL in a browser: https://accounts.google.com/o/oauth2/auth?client_id=947318989803-6bn6qk8qdgf4n4g3pfee6491hc0brc4i.apps.googleusercontent.com&redirect_uri=urn%3aietf%3awg%3aoauth%3a2.0%3aoob&response_type=code&scope=email%20https%3a%2f%2fwww.googleapis.com%2fauth%2fdocs.test%20https%3a%2f%2fwww.googleapis.com%2fauth%2fdrive%20https%3a%2f%2fwww.googleapis.com%2fauth%2fdrive.photos.readonly%20https%3a%2f%2fwww.googleapis.com%2fauth%2fpeopleapi.readonly\n",
            "\n",
            "Enter your authorization code:\n",
            "··········\n",
            "Mounted at /content/gdrive\n",
            "/content/gdrive/My Drive/ass_util\n"
          ],
          "name": "stdout"
        }
      ]
    },
    {
      "cell_type": "code",
      "metadata": {
        "id": "D8Tjigo2poCl",
        "colab_type": "code",
        "outputId": "3a2c6902-20ef-43ba-aa56-8b7deb18066a",
        "colab": {
          "base_uri": "https://localhost:8080/",
          "height": 51
        }
      },
      "source": [
        "import my_transform\n",
        "#transform = my_transform.transform\n",
        "\n",
        "trainset = my_transform.trainset\n",
        "trainloader = my_transform.trainloader\n",
        "\n",
        "testset = my_transform.testset\n",
        "testloader = my_transform.testloader\n",
        "\n",
        "classes = ('plane', 'car', 'bird', 'cat',\n",
        "           'deer', 'dog', 'frog', 'horse', 'ship', 'truck')"
      ],
      "execution_count": 3,
      "outputs": [
        {
          "output_type": "stream",
          "text": [
            "Files already downloaded and verified\n",
            "Files already downloaded and verified\n"
          ],
          "name": "stdout"
        }
      ]
    },
    {
      "cell_type": "code",
      "metadata": {
        "id": "daA7bADhpoCo",
        "colab_type": "code",
        "outputId": "8b4ca75e-62cd-4bd7-edf5-7589f9eb326e",
        "colab": {
          "base_uri": "https://localhost:8080/",
          "height": 303
        }
      },
      "source": [
        "import matplotlib.pyplot as plt\n",
        "import numpy as np\n",
        "\n",
        "# functions to show an image\n",
        "\n",
        "\n",
        "def imshow(img):\n",
        "    img = img / 2 + 0.5     # unnormalize\n",
        "    npimg = img.numpy()\n",
        "    plt.imshow(np.transpose(npimg, (1, 2, 0)))\n",
        "\n",
        "\n",
        "# get some random training images\n",
        "dataiter = iter(trainloader)\n",
        "images, labels = dataiter.next()\n",
        "\n",
        "# show images\n",
        "imshow(torchvision.utils.make_grid(images))\n",
        "# print labels\n",
        "print(' '.join('%5s' % classes[labels[j]] for j in range(4)))"
      ],
      "execution_count": 6,
      "outputs": [
        {
          "output_type": "stream",
          "text": [
            "Clipping input data to the valid range for imshow with RGB data ([0..1] for floats or [0..255] for integers).\n"
          ],
          "name": "stderr"
        },
        {
          "output_type": "stream",
          "text": [
            "  dog   car  deer  ship\n"
          ],
          "name": "stdout"
        },
        {
          "output_type": "display_data",
          "data": {
            "image/png": "[encoded data removed]",
            "text/plain": [
              "<Figure size 432x288 with 1 Axes>"
            ]
          },
          "metadata": {
            "tags": []
          }
        }
      ]
    },
    {
      "cell_type": "code",
      "metadata": {
        "colab_type": "code",
        "id": "xdydjYTZFyi3",
        "outputId": "d0b33a7c-3c00-4a73-fd56-ec35036fca9c",
        "colab": {
          "base_uri": "https://localhost:8080/",
          "height": 1000
        }
      },
      "source": [
        "#!pip install torchsummary\n",
        "from torchsummary import summary\n",
        "#import resnet\n",
        "from QuizDNN import QModel\n",
        "use_cuda = torch.cuda.is_available()\n",
        "device = torch.device(\"cuda\" if use_cuda else \"cpu\")\n",
        "net = QModel().to(device)\n",
        "summary(net, input_size=(3, 32, 32))\n"
      ],
      "execution_count": 8,
      "outputs": [
        {
          "output_type": "stream",
          "text": [
            "torch.Size([2, 32, 32, 32])\n",
            "torch.Size([2, 32, 16, 16])\n",
            "torch.Size([2, 64, 16, 16])\n",
            "torch.Size([2, 64, 8, 8])\n",
            "torch.Size([2, 128, 8, 8])\n",
            "----------------------------------------------------------------\n",
            "        Layer (type)               Output Shape         Param #\n",
            "================================================================\n",
            "            Conv2d-1           [-1, 32, 32, 32]              96\n",
            "       BatchNorm2d-2           [-1, 32, 32, 32]              64\n",
            "              ReLU-3           [-1, 32, 32, 32]               0\n",
            "           Dropout-4           [-1, 32, 32, 32]               0\n",
            "            Conv2d-5           [-1, 32, 32, 32]           9,216\n",
            "       BatchNorm2d-6           [-1, 32, 32, 32]              64\n",
            "              ReLU-7           [-1, 32, 32, 32]               0\n",
            "           Dropout-8           [-1, 32, 32, 32]               0\n",
            "            Conv2d-9           [-1, 32, 32, 32]           9,216\n",
            "      BatchNorm2d-10           [-1, 32, 32, 32]              64\n",
            "             ReLU-11           [-1, 32, 32, 32]               0\n",
            "          Dropout-12           [-1, 32, 32, 32]               0\n",
            "        MaxPool2d-13           [-1, 32, 16, 16]               0\n",
            "           Conv2d-14           [-1, 64, 16, 16]           2,048\n",
            "      BatchNorm2d-15           [-1, 64, 16, 16]             128\n",
            "             ReLU-16           [-1, 64, 16, 16]               0\n",
            "          Dropout-17           [-1, 64, 16, 16]               0\n",
            "           Conv2d-18           [-1, 64, 16, 16]          36,864\n",
            "      BatchNorm2d-19           [-1, 64, 16, 16]             128\n",
            "             ReLU-20           [-1, 64, 16, 16]               0\n",
            "          Dropout-21           [-1, 64, 16, 16]               0\n",
            "           Conv2d-22           [-1, 64, 16, 16]          36,864\n",
            "      BatchNorm2d-23           [-1, 64, 16, 16]             128\n",
            "             ReLU-24           [-1, 64, 16, 16]               0\n",
            "          Dropout-25           [-1, 64, 16, 16]               0\n",
            "           Conv2d-26           [-1, 64, 16, 16]          36,864\n",
            "      BatchNorm2d-27           [-1, 64, 16, 16]             128\n",
            "             ReLU-28           [-1, 64, 16, 16]               0\n",
            "          Dropout-29           [-1, 64, 16, 16]               0\n",
            "        MaxPool2d-30             [-1, 64, 8, 8]               0\n",
            "           Conv2d-31            [-1, 128, 8, 8]           8,192\n",
            "      BatchNorm2d-32            [-1, 128, 8, 8]             256\n",
            "             ReLU-33            [-1, 128, 8, 8]               0\n",
            "          Dropout-34            [-1, 128, 8, 8]               0\n",
            "           Conv2d-35            [-1, 128, 8, 8]         147,456\n",
            "      BatchNorm2d-36            [-1, 128, 8, 8]             256\n",
            "             ReLU-37            [-1, 128, 8, 8]               0\n",
            "          Dropout-38            [-1, 128, 8, 8]               0\n",
            "           Conv2d-39            [-1, 128, 8, 8]         147,456\n",
            "      BatchNorm2d-40            [-1, 128, 8, 8]             256\n",
            "             ReLU-41            [-1, 128, 8, 8]               0\n",
            "          Dropout-42            [-1, 128, 8, 8]               0\n",
            "           Conv2d-43            [-1, 128, 8, 8]         147,456\n",
            "      BatchNorm2d-44            [-1, 128, 8, 8]             256\n",
            "             ReLU-45            [-1, 128, 8, 8]               0\n",
            "          Dropout-46            [-1, 128, 8, 8]               0\n",
            "AdaptiveAvgPool2d-47            [-1, 128, 1, 1]               0\n",
            "           Conv2d-48             [-1, 10, 1, 1]           1,280\n",
            "================================================================\n",
            "Total params: 584,736\n",
            "Trainable params: 584,736\n",
            "Non-trainable params: 0\n",
            "----------------------------------------------------------------\n",
            "Input size (MB): 0.01\n",
            "Forward/backward pass size (MB): 6.09\n",
            "Params size (MB): 2.23\n",
            "Estimated Total Size (MB): 8.34\n",
            "----------------------------------------------------------------\n"
          ],
          "name": "stdout"
        }
      ]
    },
    {
      "cell_type": "code",
      "metadata": {
        "id": "M4xBbDROpoCv",
        "colab_type": "code",
        "colab": {}
      },
      "source": [
        "import torch.optim as optim\n",
        "import torch.nn as nn\n",
        "learning_rate = 0.1\n",
        "criterion = nn.CrossEntropyLoss()\n",
        "optimizer = optim.SGD(net.parameters(), lr=learning_rate, momentum=0.9)"
      ],
      "execution_count": 0,
      "outputs": []
    },
    {
      "cell_type": "code",
      "metadata": {
        "id": "6x_39MWgNCpM",
        "colab_type": "code",
        "colab": {}
      },
      "source": [
        "from tqdm import tqdm\n",
        "import train_acc_loss as tr \n",
        "import test_acc_loss as ts\n"
      ],
      "execution_count": 0,
      "outputs": []
    },
    {
      "cell_type": "code",
      "metadata": {
        "id": "nQXQ9zaWNaES",
        "colab_type": "code",
        "outputId": "a84c770a-0e0f-47a6-c3f9-bbc4b668c236",
        "colab": {
          "base_uri": "https://localhost:8080/",
          "height": 1000
        }
      },
      "source": [
        "test_acc = []\n",
        "train_acc = []\n",
        "for epoch in range(1, 10):\n",
        "        learning_rate = my_transform.adjust_learning_rate(learning_rate, epoch)\n",
        "        epoch_train_acc,epoch_train_loss = tr.train(net, device, trainloader, optimizer, criterion, epoch)        \n",
        "        epoch_test_acc,epoch_test_loss = ts.test(net, device, testloader,epoch,criterion )\n",
        "\n",
        "        print('\\nEpoch: {:.0f} Train set: Average loss: {:.4f}, Accuracy: {:.3f}%'.format(epoch, epoch_train_loss, epoch_train_acc))\n",
        "        print('Epoch: {:.0f} Test set: Average loss: {:.4f}, Accuracy: {:.3f}%'.format(epoch, epoch_test_loss, epoch_test_acc))"
      ],
      "execution_count": 11,
      "outputs": [
        {
          "output_type": "stream",
          "text": [
            "  1%|          | 1/196 [00:00<01:26,  2.25it/s]"
          ],
          "name": "stderr"
        },
        {
          "output_type": "stream",
          "text": [
            "torch.Size([256, 32, 32, 32])\n",
            "torch.Size([256, 32, 16, 16])\n",
            "torch.Size([256, 64, 16, 16])\n",
            "torch.Size([256, 64, 8, 8])\n",
            "torch.Size([256, 128, 8, 8])\n",
            "torch.Size([256, 32, 32, 32])\n",
            "torch.Size([256, 32, 16, 16])\n",
            "torch.Size([256, 64, 16, 16])\n",
            "torch.Size([256, 64, 8, 8])\n",
            "torch.Size([256, 128, 8, 8])\n",
            "torch.Size([256, 32, 32, 32])\n",
            "torch.Size([256, 32, 16, 16])\n",
            "torch.Size([256, 64, 16, 16])\n",
            "torch.Size([256, 64, 8, 8])"
          ],
          "name": "stdout"
        },
        {
          "output_type": "stream",
          "text": [
            "\r  2%|▏         | 3/196 [00:00<01:04,  2.99it/s]"
          ],
          "name": "stderr"
        },
        {
          "output_type": "stream",
          "text": [
            "\n",
            "torch.Size([256, 128, 8, 8])\n",
            "torch.Size([256, 32, 32, 32])\n",
            "torch.Size([256, 32, 16, 16])\n",
            "torch.Size([256, 64, 16, 16])\n",
            "torch.Size([256, 64, 8, 8])\n",
            "torch.Size([256, 128, 8, 8])\n",
            "torch.Size([256, 32, 32, 32])\n",
            "torch.Size([256, 32, 16, 16])\n",
            "torch.Size([256, 64, 16, 16])\n",
            "torch.Size([256, 64, 8, 8])\n",
            "torch.Size([256, 128, 8, 8])\n"
          ],
          "name": "stdout"
        },
        {
          "output_type": "stream",
          "text": [
            "  4%|▎         | 7/196 [00:00<00:39,  4.85it/s]"
          ],
          "name": "stderr"
        },
        {
          "output_type": "stream",
          "text": [
            "torch.Size([256, 32, 32, 32])\n",
            "torch.Size([256, 32, 16, 16])\n",
            "torch.Size([256, 64, 16, 16])\n",
            "torch.Size([256, 64, 8, 8])\n",
            "torch.Size([256, 128, 8, 8])\n",
            "torch.Size([256, 32, 32, 32])\n",
            "torch.Size([256, 32, 16, 16])\n",
            "torch.Size([256, 64, 16, 16])\n",
            "torch.Size([256, 64, 8, 8])\n",
            "torch.Size([256, 128, 8, 8])\n",
            "torch.Size([256, 32, 32, 32])\n",
            "torch.Size([256, 32, 16, 16])\n",
            "torch.Size([256, 64, 16, 16])\n",
            "torch.Size([256, 64, 8, 8])\n",
            "torch.Size([256, 128, 8, 8])\n"
          ],
          "name": "stdout"
        },
        {
          "output_type": "stream",
          "text": [
            "\r  5%|▍         | 9/196 [00:01<00:31,  5.99it/s]"
          ],
          "name": "stderr"
        },
        {
          "output_type": "stream",
          "text": [
            "torch.Size([256, 32, 32, 32])\n",
            "torch.Size([256, 32, 16, 16])\n",
            "torch.Size([256, 64, 16, 16])\n",
            "torch.Size([256, 64, 8, 8])\n",
            "torch.Size([256, 128, 8, 8])\n",
            "torch.Size([256, 32, 32, 32])\n",
            "torch.Size([256, 32, 16, 16])\n",
            "torch.Size([256, 64, 16, 16])\n",
            "torch.Size([256, 64, 8, 8])\n",
            "torch.Size([256, 128, 8, 8])\n",
            "torch.Size([256, 32, 32, 32])\n",
            "torch.Size([256, 32, 16, 16])\n",
            "torch.Size([256, 64, 16, 16])\n",
            "torch.Size([256, 64, 8, 8])\n",
            "torch.Size([256, 128, 8, 8])\n"
          ],
          "name": "stdout"
        },
        {
          "output_type": "stream",
          "text": [
            "  7%|▋         | 13/196 [00:01<00:21,  8.45it/s]"
          ],
          "name": "stderr"
        },
        {
          "output_type": "stream",
          "text": [
            "torch.Size([256, 32, 32, 32])\n",
            "torch.Size([256, 32, 16, 16])\n",
            "torch.Size([256, 64, 16, 16])\n",
            "torch.Size([256, 64, 8, 8])\n",
            "torch.Size([256, 128, 8, 8])\n",
            "torch.Size([256, 32, 32, 32])\n",
            "torch.Size([256, 32, 16, 16])\n",
            "torch.Size([256, 64, 16, 16])\n",
            "torch.Size([256, 64, 8, 8])\n",
            "torch.Size([256, 128, 8, 8])\n",
            "torch.Size([256, 32, 32, 32])\n",
            "torch.Size([256, 32, 16, 16])\n",
            "torch.Size([256, 64, 16, 16])\n",
            "torch.Size([256, 64, 8, 8])\n",
            "torch.Size([256, 128, 8, 8])\n"
          ],
          "name": "stdout"
        },
        {
          "output_type": "stream",
          "text": [
            "\r  8%|▊         | 15/196 [00:01<00:19,  9.49it/s]"
          ],
          "name": "stderr"
        },
        {
          "output_type": "stream",
          "text": [
            "torch.Size([256, 32, 32, 32])\n",
            "torch.Size([256, 32, 16, 16])\n",
            "torch.Size([256, 64, 16, 16])\n",
            "torch.Size([256, 64, 8, 8])\n",
            "torch.Size([256, 128, 8, 8])\n",
            "torch.Size([256, 32, 32, 32])\n",
            "torch.Size([256, 32, 16, 16])\n",
            "torch.Size([256, 64, 16, 16])\n",
            "torch.Size([256, 64, 8, 8])\n",
            "torch.Size([256, 128, 8, 8])\n",
            "torch.Size([256, 32, 32, 32])\n",
            "torch.Size([256, 32, 16, 16])\n",
            "torch.Size([256, 64, 16, 16])\n",
            "torch.Size([256, 64, 8, 8])\n",
            "torch.Size([256, 128, 8, 8])\n"
          ],
          "name": "stdout"
        },
        {
          "output_type": "stream",
          "text": [
            " 10%|▉         | 19/196 [00:01<00:15, 11.20it/s]"
          ],
          "name": "stderr"
        },
        {
          "output_type": "stream",
          "text": [
            "torch.Size([256, 32, 32, 32])\n",
            "torch.Size([256, 32, 16, 16])\n",
            "torch.Size([256, 64, 16, 16])\n",
            "torch.Size([256, 64, 8, 8])\n",
            "torch.Size([256, 128, 8, 8])\n",
            "torch.Size([256, 32, 32, 32])\n",
            "torch.Size([256, 32, 16, 16])\n",
            "torch.Size([256, 64, 16, 16])\n",
            "torch.Size([256, 64, 8, 8])\n",
            "torch.Size([256, 128, 8, 8])\n",
            "torch.Size([256, 32, 32, 32])\n",
            "torch.Size([256, 32, 16, 16])\n",
            "torch.Size([256, 64, 16, 16])\n",
            "torch.Size([256, 64, 8, 8])\n",
            "torch.Size([256, 128, 8, 8])\n"
          ],
          "name": "stdout"
        },
        {
          "output_type": "stream",
          "text": [
            "\r 11%|█         | 21/196 [00:01<00:14, 11.95it/s]"
          ],
          "name": "stderr"
        },
        {
          "output_type": "stream",
          "text": [
            "torch.Size([256, 32, 32, 32])\n",
            "torch.Size([256, 32, 16, 16])\n",
            "torch.Size([256, 64, 16, 16])\n",
            "torch.Size([256, 64, 8, 8])\n",
            "torch.Size([256, 128, 8, 8])\n",
            "torch.Size([256, 32, 32, 32])\n",
            "torch.Size([256, 32, 16, 16])\n",
            "torch.Size([256, 64, 16, 16])\n",
            "torch.Size([256, 64, 8, 8])\n",
            "torch.Size([256, 128, 8, 8])\n",
            "torch.Size([256, 32, 32, 32])\n",
            "torch.Size([256, 32, 16, 16])\n",
            "torch.Size([256, 64, 16, 16])\n",
            "torch.Size([256, 64, 8, 8])\n",
            "torch.Size([256, 128, 8, 8])\n"
          ],
          "name": "stdout"
        },
        {
          "output_type": "stream",
          "text": [
            " 13%|█▎        | 25/196 [00:02<00:13, 12.60it/s]"
          ],
          "name": "stderr"
        },
        {
          "output_type": "stream",
          "text": [
            "torch.Size([256, 32, 32, 32])\n",
            "torch.Size([256, 32, 16, 16])\n",
            "torch.Size([256, 64, 16, 16])\n",
            "torch.Size([256, 64, 8, 8])\n",
            "torch.Size([256, 128, 8, 8])\n",
            "torch.Size([256, 32, 32, 32])\n",
            "torch.Size([256, 32, 16, 16])\n",
            "torch.Size([256, 64, 16, 16])\n",
            "torch.Size([256, 64, 8, 8])\n",
            "torch.Size([256, 128, 8, 8])\n",
            "torch.Size([256, 32, 32, 32])\n",
            "torch.Size([256, 32, 16, 16])\n",
            "torch.Size([256, 64, 16, 16])\n",
            "torch.Size([256, 64, 8, 8])\n",
            "torch.Size([256, 128, 8, 8])\n"
          ],
          "name": "stdout"
        },
        {
          "output_type": "stream",
          "text": [
            "\r 14%|█▍        | 27/196 [00:02<00:13, 12.97it/s]"
          ],
          "name": "stderr"
        },
        {
          "output_type": "stream",
          "text": [
            "torch.Size([256, 32, 32, 32])\n",
            "torch.Size([256, 32, 16, 16])\n",
            "torch.Size([256, 64, 16, 16])\n",
            "torch.Size([256, 64, 8, 8])\n",
            "torch.Size([256, 128, 8, 8])\n",
            "torch.Size([256, 32, 32, 32])\n",
            "torch.Size([256, 32, 16, 16])\n",
            "torch.Size([256, 64, 16, 16])\n",
            "torch.Size([256, 64, 8, 8])\n",
            "torch.Size([256, 128, 8, 8])\n",
            "torch.Size([256, 32, 32, 32])\n",
            "torch.Size([256, 32, 16, 16])\n",
            "torch.Size([256, 64, 16, 16])\n",
            "torch.Size([256, 64, 8, 8])\n",
            "torch.Size([256, 128, 8, 8])\n"
          ],
          "name": "stdout"
        },
        {
          "output_type": "stream",
          "text": [
            " 16%|█▌        | 31/196 [00:02<00:12, 13.30it/s]"
          ],
          "name": "stderr"
        },
        {
          "output_type": "stream",
          "text": [
            "torch.Size([256, 32, 32, 32])\n",
            "torch.Size([256, 32, 16, 16])\n",
            "torch.Size([256, 64, 16, 16])\n",
            "torch.Size([256, 64, 8, 8])\n",
            "torch.Size([256, 128, 8, 8])\n",
            "torch.Size([256, 32, 32, 32])\n",
            "torch.Size([256, 32, 16, 16])\n",
            "torch.Size([256, 64, 16, 16])\n",
            "torch.Size([256, 64, 8, 8])\n",
            "torch.Size([256, 128, 8, 8])\n",
            "torch.Size([256, 32, 32, 32])\n",
            "torch.Size([256, 32, 16, 16])\n",
            "torch.Size([256, 64, 16, 16])\n",
            "torch.Size([256, 64, 8, 8])\n",
            "torch.Size([256, 128, 8, 8])\n"
          ],
          "name": "stdout"
        },
        {
          "output_type": "stream",
          "text": [
            "\r 17%|█▋        | 33/196 [00:02<00:12, 13.53it/s]"
          ],
          "name": "stderr"
        },
        {
          "output_type": "stream",
          "text": [
            "torch.Size([256, 32, 32, 32])\n",
            "torch.Size([256, 32, 16, 16])\n",
            "torch.Size([256, 64, 16, 16])\n",
            "torch.Size([256, 64, 8, 8])\n",
            "torch.Size([256, 128, 8, 8])\n",
            "torch.Size([256, 32, 32, 32])\n",
            "torch.Size([256, 32, 16, 16])\n",
            "torch.Size([256, 64, 16, 16])\n",
            "torch.Size([256, 64, 8, 8])\n",
            "torch.Size([256, 128, 8, 8])\n",
            "torch.Size([256, 32, 32, 32])\n",
            "torch.Size([256, 32, 16, 16])\n",
            "torch.Size([256, 64, 16, 16])\n",
            "torch.Size([256, 64, 8, 8])\n",
            "torch.Size([256, 128, 8, 8])\n"
          ],
          "name": "stdout"
        },
        {
          "output_type": "stream",
          "text": [
            " 19%|█▉        | 37/196 [00:03<00:12, 13.16it/s]"
          ],
          "name": "stderr"
        },
        {
          "output_type": "stream",
          "text": [
            "torch.Size([256, 32, 32, 32])\n",
            "torch.Size([256, 32, 16, 16])\n",
            "torch.Size([256, 64, 16, 16])\n",
            "torch.Size([256, 64, 8, 8])\n",
            "torch.Size([256, 128, 8, 8])\n",
            "torch.Size([256, 32, 32, 32])\n",
            "torch.Size([256, 32, 16, 16])\n",
            "torch.Size([256, 64, 16, 16])\n",
            "torch.Size([256, 64, 8, 8])\n",
            "torch.Size([256, 128, 8, 8])\n",
            "torch.Size([256, 32, 32, 32])\n",
            "torch.Size([256, 32, 16, 16])\n",
            "torch.Size([256, 64, 16, 16])\n",
            "torch.Size([256, 64, 8, 8])\n",
            "torch.Size([256, 128, 8, 8])\n"
          ],
          "name": "stdout"
        },
        {
          "output_type": "stream",
          "text": [
            "\r 20%|█▉        | 39/196 [00:03<00:12, 12.90it/s]"
          ],
          "name": "stderr"
        },
        {
          "output_type": "stream",
          "text": [
            "torch.Size([256, 32, 32, 32])\n",
            "torch.Size([256, 32, 16, 16])\n",
            "torch.Size([256, 64, 16, 16])\n",
            "torch.Size([256, 64, 8, 8])\n",
            "torch.Size([256, 128, 8, 8])\n",
            "torch.Size([256, 32, 32, 32])\n",
            "torch.Size([256, 32, 16, 16])\n",
            "torch.Size([256, 64, 16, 16])\n",
            "torch.Size([256, 64, 8, 8])\n",
            "torch.Size([256, 128, 8, 8])\n",
            "torch.Size([256, 32, 32, 32])\n",
            "torch.Size([256, 32, 16, 16])\n",
            "torch.Size([256, 64, 16, 16])\n",
            "torch.Size([256, 64, 8, 8])\n",
            "torch.Size([256, 128, 8, 8])\n"
          ],
          "name": "stdout"
        },
        {
          "output_type": "stream",
          "text": [
            " 22%|██▏       | 43/196 [00:03<00:11, 12.92it/s]"
          ],
          "name": "stderr"
        },
        {
          "output_type": "stream",
          "text": [
            "torch.Size([256, 32, 32, 32])\n",
            "torch.Size([256, 32, 16, 16])\n",
            "torch.Size([256, 64, 16, 16])\n",
            "torch.Size([256, 64, 8, 8])\n",
            "torch.Size([256, 128, 8, 8])\n",
            "torch.Size([256, 32, 32, 32])\n",
            "torch.Size([256, 32, 16, 16])\n",
            "torch.Size([256, 64, 16, 16])\n",
            "torch.Size([256, 64, 8, 8])\n",
            "torch.Size([256, 128, 8, 8])\n",
            "torch.Size([256, 32, 32, 32])\n",
            "torch.Size([256, 32, 16, 16])\n",
            "torch.Size([256, 64, 16, 16])\n",
            "torch.Size([256, 64, 8, 8])\n",
            "torch.Size([256, 128, 8, 8])\n"
          ],
          "name": "stdout"
        },
        {
          "output_type": "stream",
          "text": [
            "\r 23%|██▎       | 45/196 [00:03<00:11, 12.81it/s]"
          ],
          "name": "stderr"
        },
        {
          "output_type": "stream",
          "text": [
            "torch.Size([256, 32, 32, 32])\n",
            "torch.Size([256, 32, 16, 16])\n",
            "torch.Size([256, 64, 16, 16])\n",
            "torch.Size([256, 64, 8, 8])\n",
            "torch.Size([256, 128, 8, 8])\n",
            "torch.Size([256, 32, 32, 32])\n",
            "torch.Size([256, 32, 16, 16])\n",
            "torch.Size([256, 64, 16, 16])\n",
            "torch.Size([256, 64, 8, 8])\n",
            "torch.Size([256, 128, 8, 8])\n",
            "torch.Size([256, 32, 32, 32])\n",
            "torch.Size([256, 32, 16, 16])\n",
            "torch.Size([256, 64, 16, 16])\n",
            "torch.Size([256, 64, 8, 8])\n",
            "torch.Size([256, 128, 8, 8])\n"
          ],
          "name": "stdout"
        },
        {
          "output_type": "stream",
          "text": [
            " 25%|██▌       | 49/196 [00:04<00:11, 12.80it/s]"
          ],
          "name": "stderr"
        },
        {
          "output_type": "stream",
          "text": [
            "torch.Size([256, 32, 32, 32])\n",
            "torch.Size([256, 32, 16, 16])\n",
            "torch.Size([256, 64, 16, 16])\n",
            "torch.Size([256, 64, 8, 8])\n",
            "torch.Size([256, 128, 8, 8])\n",
            "torch.Size([256, 32, 32, 32])\n",
            "torch.Size([256, 32, 16, 16])\n",
            "torch.Size([256, 64, 16, 16])\n",
            "torch.Size([256, 64, 8, 8])\n",
            "torch.Size([256, 128, 8, 8])\n",
            "torch.Size([256, 32, 32, 32])\n",
            "torch.Size([256, 32, 16, 16])\n",
            "torch.Size([256, 64, 16, 16])\n",
            "torch.Size([256, 64, 8, 8])\n",
            "torch.Size([256, 128, 8, 8])\n"
          ],
          "name": "stdout"
        },
        {
          "output_type": "stream",
          "text": [
            "\r 26%|██▌       | 51/196 [00:04<00:11, 12.84it/s]"
          ],
          "name": "stderr"
        },
        {
          "output_type": "stream",
          "text": [
            "torch.Size([256, 32, 32, 32])\n",
            "torch.Size([256, 32, 16, 16])\n",
            "torch.Size([256, 64, 16, 16])\n",
            "torch.Size([256, 64, 8, 8])\n",
            "torch.Size([256, 128, 8, 8])\n",
            "torch.Size([256, 32, 32, 32])\n",
            "torch.Size([256, 32, 16, 16])\n",
            "torch.Size([256, 64, 16, 16])\n",
            "torch.Size([256, 64, 8, 8])\n",
            "torch.Size([256, 128, 8, 8])\n",
            "torch.Size([256, 32, 32, 32])\n",
            "torch.Size([256, 32, 16, 16])\n",
            "torch.Size([256, 64, 16, 16])\n",
            "torch.Size([256, 64, 8, 8])\n",
            "torch.Size([256, 128, 8, 8])\n"
          ],
          "name": "stdout"
        },
        {
          "output_type": "stream",
          "text": [
            " 28%|██▊       | 55/196 [00:04<00:10, 12.99it/s]"
          ],
          "name": "stderr"
        },
        {
          "output_type": "stream",
          "text": [
            "torch.Size([256, 32, 32, 32])\n",
            "torch.Size([256, 32, 16, 16])\n",
            "torch.Size([256, 64, 16, 16])\n",
            "torch.Size([256, 64, 8, 8])\n",
            "torch.Size([256, 128, 8, 8])\n",
            "torch.Size([256, 32, 32, 32])\n",
            "torch.Size([256, 32, 16, 16])\n",
            "torch.Size([256, 64, 16, 16])\n",
            "torch.Size([256, 64, 8, 8])\n",
            "torch.Size([256, 128, 8, 8])\n",
            "torch.Size([256, 32, 32, 32])\n",
            "torch.Size([256, 32, 16, 16])\n",
            "torch.Size([256, 64, 16, 16])\n",
            "torch.Size([256, 64, 8, 8])\n",
            "torch.Size([256, 128, 8, 8])\n"
          ],
          "name": "stdout"
        },
        {
          "output_type": "stream",
          "text": [
            "\r 29%|██▉       | 57/196 [00:04<00:10, 12.99it/s]"
          ],
          "name": "stderr"
        },
        {
          "output_type": "stream",
          "text": [
            "torch.Size([256, 32, 32, 32])\n",
            "torch.Size([256, 32, 16, 16])\n",
            "torch.Size([256, 64, 16, 16])\n",
            "torch.Size([256, 64, 8, 8])\n",
            "torch.Size([256, 128, 8, 8])\n",
            "torch.Size([256, 32, 32, 32])\n",
            "torch.Size([256, 32, 16, 16])\n",
            "torch.Size([256, 64, 16, 16])\n",
            "torch.Size([256, 64, 8, 8])\n",
            "torch.Size([256, 128, 8, 8])\n",
            "torch.Size([256, 32, 32, 32])\n",
            "torch.Size([256, 32, 16, 16])\n",
            "torch.Size([256, 64, 16, 16])\n",
            "torch.Size([256, 64, 8, 8])\n",
            "torch.Size([256, 128, 8, 8])\n"
          ],
          "name": "stdout"
        },
        {
          "output_type": "stream",
          "text": [
            " 31%|███       | 61/196 [00:04<00:10, 13.30it/s]"
          ],
          "name": "stderr"
        },
        {
          "output_type": "stream",
          "text": [
            "torch.Size([256, 32, 32, 32])\n",
            "torch.Size([256, 32, 16, 16])\n",
            "torch.Size([256, 64, 16, 16])\n",
            "torch.Size([256, 64, 8, 8])\n",
            "torch.Size([256, 128, 8, 8])\n",
            "torch.Size([256, 32, 32, 32])\n",
            "torch.Size([256, 32, 16, 16])\n",
            "torch.Size([256, 64, 16, 16])\n",
            "torch.Size([256, 64, 8, 8])\n",
            "torch.Size([256, 128, 8, 8])\n",
            "torch.Size([256, 32, 32, 32])\n",
            "torch.Size([256, 32, 16, 16])\n",
            "torch.Size([256, 64, 16, 16])\n",
            "torch.Size([256, 64, 8, 8])\n",
            "torch.Size([256, 128, 8, 8])\n"
          ],
          "name": "stdout"
        },
        {
          "output_type": "stream",
          "text": [
            "\r 32%|███▏      | 63/196 [00:05<00:10, 13.22it/s]"
          ],
          "name": "stderr"
        },
        {
          "output_type": "stream",
          "text": [
            "torch.Size([256, 32, 32, 32])\n",
            "torch.Size([256, 32, 16, 16])\n",
            "torch.Size([256, 64, 16, 16])\n",
            "torch.Size([256, 64, 8, 8])\n",
            "torch.Size([256, 128, 8, 8])\n",
            "torch.Size([256, 32, 32, 32])\n",
            "torch.Size([256, 32, 16, 16])\n",
            "torch.Size([256, 64, 16, 16])\n",
            "torch.Size([256, 64, 8, 8])\n",
            "torch.Size([256, 128, 8, 8])\n",
            "torch.Size([256, 32, 32, 32])\n",
            "torch.Size([256, 32, 16, 16])\n",
            "torch.Size([256, 64, 16, 16])\n",
            "torch.Size([256, 64, 8, 8])\n",
            "torch.Size([256, 128, 8, 8])\n"
          ],
          "name": "stdout"
        },
        {
          "output_type": "stream",
          "text": [
            " 34%|███▍      | 67/196 [00:05<00:09, 13.58it/s]"
          ],
          "name": "stderr"
        },
        {
          "output_type": "stream",
          "text": [
            "torch.Size([256, 32, 32, 32])\n",
            "torch.Size([256, 32, 16, 16])\n",
            "torch.Size([256, 64, 16, 16])\n",
            "torch.Size([256, 64, 8, 8])\n",
            "torch.Size([256, 128, 8, 8])\n",
            "torch.Size([256, 32, 32, 32])\n",
            "torch.Size([256, 32, 16, 16])\n",
            "torch.Size([256, 64, 16, 16])\n",
            "torch.Size([256, 64, 8, 8])\n",
            "torch.Size([256, 128, 8, 8])\n",
            "torch.Size([256, 32, 32, 32])\n",
            "torch.Size([256, 32, 16, 16])\n",
            "torch.Size([256, 64, 16, 16])\n",
            "torch.Size([256, 64, 8, 8])\n",
            "torch.Size([256, 128, 8, 8])\n"
          ],
          "name": "stdout"
        },
        {
          "output_type": "stream",
          "text": [
            "\r 35%|███▌      | 69/196 [00:05<00:09, 13.47it/s]"
          ],
          "name": "stderr"
        },
        {
          "output_type": "stream",
          "text": [
            "torch.Size([256, 32, 32, 32])\n",
            "torch.Size([256, 32, 16, 16])\n",
            "torch.Size([256, 64, 16, 16])\n",
            "torch.Size([256, 64, 8, 8])\n",
            "torch.Size([256, 128, 8, 8])\n",
            "torch.Size([256, 32, 32, 32])\n",
            "torch.Size([256, 32, 16, 16])\n",
            "torch.Size([256, 64, 16, 16])\n",
            "torch.Size([256, 64, 8, 8])\n",
            "torch.Size([256, 128, 8, 8])\n",
            "torch.Size([256, 32, 32, 32])\n",
            "torch.Size([256, 32, 16, 16])\n",
            "torch.Size([256, 64, 16, 16])\n",
            "torch.Size([256, 64, 8, 8])\n",
            "torch.Size([256, 128, 8, 8])\n"
          ],
          "name": "stdout"
        },
        {
          "output_type": "stream",
          "text": [
            " 37%|███▋      | 73/196 [00:05<00:09, 13.40it/s]"
          ],
          "name": "stderr"
        },
        {
          "output_type": "stream",
          "text": [
            "torch.Size([256, 32, 32, 32])\n",
            "torch.Size([256, 32, 16, 16])\n",
            "torch.Size([256, 64, 16, 16])\n",
            "torch.Size([256, 64, 8, 8])\n",
            "torch.Size([256, 128, 8, 8])\n",
            "torch.Size([256, 32, 32, 32])\n",
            "torch.Size([256, 32, 16, 16])\n",
            "torch.Size([256, 64, 16, 16])\n",
            "torch.Size([256, 64, 8, 8])\n",
            "torch.Size([256, 128, 8, 8])\n",
            "torch.Size([256, 32, 32, 32])\n",
            "torch.Size([256, 32, 16, 16])\n",
            "torch.Size([256, 64, 16, 16])\n",
            "torch.Size([256, 64, 8, 8])\n",
            "torch.Size([256, 128, 8, 8])\n"
          ],
          "name": "stdout"
        },
        {
          "output_type": "stream",
          "text": [
            "\r 38%|███▊      | 75/196 [00:06<00:09, 13.28it/s]"
          ],
          "name": "stderr"
        },
        {
          "output_type": "stream",
          "text": [
            "torch.Size([256, 32, 32, 32])\n",
            "torch.Size([256, 32, 16, 16])\n",
            "torch.Size([256, 64, 16, 16])\n",
            "torch.Size([256, 64, 8, 8])\n",
            "torch.Size([256, 128, 8, 8])\n",
            "torch.Size([256, 32, 32, 32])\n",
            "torch.Size([256, 32, 16, 16])\n",
            "torch.Size([256, 64, 16, 16])\n",
            "torch.Size([256, 64, 8, 8])\n",
            "torch.Size([256, 128, 8, 8])\n",
            "torch.Size([256, 32, 32, 32])\n",
            "torch.Size([256, 32, 16, 16])\n",
            "torch.Size([256, 64, 16, 16])\n",
            "torch.Size([256, 64, 8, 8])\n",
            "torch.Size([256, 128, 8, 8])\n"
          ],
          "name": "stdout"
        },
        {
          "output_type": "stream",
          "text": [
            " 40%|████      | 79/196 [00:06<00:08, 13.49it/s]"
          ],
          "name": "stderr"
        },
        {
          "output_type": "stream",
          "text": [
            "torch.Size([256, 32, 32, 32])\n",
            "torch.Size([256, 32, 16, 16])\n",
            "torch.Size([256, 64, 16, 16])\n",
            "torch.Size([256, 64, 8, 8])\n",
            "torch.Size([256, 128, 8, 8])\n",
            "torch.Size([256, 32, 32, 32])\n",
            "torch.Size([256, 32, 16, 16])\n",
            "torch.Size([256, 64, 16, 16])\n",
            "torch.Size([256, 64, 8, 8])\n",
            "torch.Size([256, 128, 8, 8])\n",
            "torch.Size([256, 32, 32, 32])\n",
            "torch.Size([256, 32, 16, 16])\n",
            "torch.Size([256, 64, 16, 16])\n",
            "torch.Size([256, 64, 8, 8])\n",
            "torch.Size([256, 128, 8, 8])\n"
          ],
          "name": "stdout"
        },
        {
          "output_type": "stream",
          "text": [
            "\r 41%|████▏     | 81/196 [00:06<00:08, 13.36it/s]"
          ],
          "name": "stderr"
        },
        {
          "output_type": "stream",
          "text": [
            "torch.Size([256, 32, 32, 32])\n",
            "torch.Size([256, 32, 16, 16])\n",
            "torch.Size([256, 64, 16, 16])\n",
            "torch.Size([256, 64, 8, 8])\n",
            "torch.Size([256, 128, 8, 8])\n",
            "torch.Size([256, 32, 32, 32])\n",
            "torch.Size([256, 32, 16, 16])\n",
            "torch.Size([256, 64, 16, 16])\n",
            "torch.Size([256, 64, 8, 8])\n",
            "torch.Size([256, 128, 8, 8])\n",
            "torch.Size([256, 32, 32, 32])\n",
            "torch.Size([256, 32, 16, 16])\n",
            "torch.Size([256, 64, 16, 16])\n",
            "torch.Size([256, 64, 8, 8])\n",
            "torch.Size([256, 128, 8, 8])\n"
          ],
          "name": "stdout"
        },
        {
          "output_type": "stream",
          "text": [
            " 43%|████▎     | 85/196 [00:06<00:08, 13.27it/s]"
          ],
          "name": "stderr"
        },
        {
          "output_type": "stream",
          "text": [
            "torch.Size([256, 32, 32, 32])\n",
            "torch.Size([256, 32, 16, 16])\n",
            "torch.Size([256, 64, 16, 16])\n",
            "torch.Size([256, 64, 8, 8])\n",
            "torch.Size([256, 128, 8, 8])\n",
            "torch.Size([256, 32, 32, 32])\n",
            "torch.Size([256, 32, 16, 16])\n",
            "torch.Size([256, 64, 16, 16])\n",
            "torch.Size([256, 64, 8, 8])\n",
            "torch.Size([256, 128, 8, 8])\n",
            "torch.Size([256, 32, 32, 32])\n",
            "torch.Size([256, 32, 16, 16])\n",
            "torch.Size([256, 64, 16, 16])\n",
            "torch.Size([256, 64, 8, 8])\n",
            "torch.Size([256, 128, 8, 8])\n"
          ],
          "name": "stdout"
        },
        {
          "output_type": "stream",
          "text": [
            "\r 44%|████▍     | 87/196 [00:06<00:08, 13.49it/s]"
          ],
          "name": "stderr"
        },
        {
          "output_type": "stream",
          "text": [
            "torch.Size([256, 32, 32, 32])\n",
            "torch.Size([256, 32, 16, 16])\n",
            "torch.Size([256, 64, 16, 16])\n",
            "torch.Size([256, 64, 8, 8])\n",
            "torch.Size([256, 128, 8, 8])\n",
            "torch.Size([256, 32, 32, 32])\n",
            "torch.Size([256, 32, 16, 16])\n",
            "torch.Size([256, 64, 16, 16])\n",
            "torch.Size([256, 64, 8, 8])\n",
            "torch.Size([256, 128, 8, 8])\n",
            "torch.Size([256, 32, 32, 32])\n",
            "torch.Size([256, 32, 16, 16])\n",
            "torch.Size([256, 64, 16, 16])\n",
            "torch.Size([256, 64, 8, 8])\n",
            "torch.Size([256, 128, 8, 8])\n"
          ],
          "name": "stdout"
        },
        {
          "output_type": "stream",
          "text": [
            " 46%|████▋     | 91/196 [00:07<00:07, 13.22it/s]"
          ],
          "name": "stderr"
        },
        {
          "output_type": "stream",
          "text": [
            "torch.Size([256, 32, 32, 32])\n",
            "torch.Size([256, 32, 16, 16])\n",
            "torch.Size([256, 64, 16, 16])\n",
            "torch.Size([256, 64, 8, 8])\n",
            "torch.Size([256, 128, 8, 8])\n",
            "torch.Size([256, 32, 32, 32])\n",
            "torch.Size([256, 32, 16, 16])\n",
            "torch.Size([256, 64, 16, 16])\n",
            "torch.Size([256, 64, 8, 8])\n",
            "torch.Size([256, 128, 8, 8])\n",
            "torch.Size([256, 32, 32, 32])\n",
            "torch.Size([256, 32, 16, 16])\n",
            "torch.Size([256, 64, 16, 16])\n",
            "torch.Size([256, 64, 8, 8])\n",
            "torch.Size([256, 128, 8, 8])\n"
          ],
          "name": "stdout"
        },
        {
          "output_type": "stream",
          "text": [
            "\r 47%|████▋     | 93/196 [00:07<00:07, 13.47it/s]"
          ],
          "name": "stderr"
        },
        {
          "output_type": "stream",
          "text": [
            "torch.Size([256, 32, 32, 32])\n",
            "torch.Size([256, 32, 16, 16])\n",
            "torch.Size([256, 64, 16, 16])\n",
            "torch.Size([256, 64, 8, 8])\n",
            "torch.Size([256, 128, 8, 8])\n",
            "torch.Size([256, 32, 32, 32])\n",
            "torch.Size([256, 32, 16, 16])\n",
            "torch.Size([256, 64, 16, 16])\n",
            "torch.Size([256, 64, 8, 8])\n",
            "torch.Size([256, 128, 8, 8])\n",
            "torch.Size([256, 32, 32, 32])\n",
            "torch.Size([256, 32, 16, 16])\n",
            "torch.Size([256, 64, 16, 16])\n",
            "torch.Size([256, 64, 8, 8])\n",
            "torch.Size([256, 128, 8, 8])\n"
          ],
          "name": "stdout"
        },
        {
          "output_type": "stream",
          "text": [
            " 49%|████▉     | 97/196 [00:07<00:07, 13.12it/s]"
          ],
          "name": "stderr"
        },
        {
          "output_type": "stream",
          "text": [
            "torch.Size([256, 32, 32, 32])\n",
            "torch.Size([256, 32, 16, 16])\n",
            "torch.Size([256, 64, 16, 16])\n",
            "torch.Size([256, 64, 8, 8])\n",
            "torch.Size([256, 128, 8, 8])\n",
            "torch.Size([256, 32, 32, 32])\n",
            "torch.Size([256, 32, 16, 16])\n",
            "torch.Size([256, 64, 16, 16])\n",
            "torch.Size([256, 64, 8, 8])\n",
            "torch.Size([256, 128, 8, 8])\n",
            "torch.Size([256, 32, 32, 32])\n",
            "torch.Size([256, 32, 16, 16])\n",
            "torch.Size([256, 64, 16, 16])\n",
            "torch.Size([256, 64, 8, 8])\n",
            "torch.Size([256, 128, 8, 8])\n"
          ],
          "name": "stdout"
        },
        {
          "output_type": "stream",
          "text": [
            "\r 51%|█████     | 99/196 [00:07<00:07, 13.21it/s]"
          ],
          "name": "stderr"
        },
        {
          "output_type": "stream",
          "text": [
            "torch.Size([256, 32, 32, 32])\n",
            "torch.Size([256, 32, 16, 16])\n",
            "torch.Size([256, 64, 16, 16])\n",
            "torch.Size([256, 64, 8, 8])\n",
            "torch.Size([256, 128, 8, 8])\n",
            "torch.Size([256, 32, 32, 32])\n",
            "torch.Size([256, 32, 16, 16])\n",
            "torch.Size([256, 64, 16, 16])\n",
            "torch.Size([256, 64, 8, 8])\n",
            "torch.Size([256, 128, 8, 8])\n",
            "torch.Size([256, 32, 32, 32])\n",
            "torch.Size([256, 32, 16, 16])\n",
            "torch.Size([256, 64, 16, 16])\n",
            "torch.Size([256, 64, 8, 8])\n",
            "torch.Size([256, 128, 8, 8])\n"
          ],
          "name": "stdout"
        },
        {
          "output_type": "stream",
          "text": [
            " 53%|█████▎    | 103/196 [00:08<00:06, 13.36it/s]"
          ],
          "name": "stderr"
        },
        {
          "output_type": "stream",
          "text": [
            "torch.Size([256, 32, 32, 32])\n",
            "torch.Size([256, 32, 16, 16])\n",
            "torch.Size([256, 64, 16, 16])\n",
            "torch.Size([256, 64, 8, 8])\n",
            "torch.Size([256, 128, 8, 8])\n",
            "torch.Size([256, 32, 32, 32])\n",
            "torch.Size([256, 32, 16, 16])\n",
            "torch.Size([256, 64, 16, 16])\n",
            "torch.Size([256, 64, 8, 8])\n",
            "torch.Size([256, 128, 8, 8])\n",
            "torch.Size([256, 32, 32, 32])\n",
            "torch.Size([256, 32, 16, 16])\n",
            "torch.Size([256, 64, 16, 16])\n",
            "torch.Size([256, 64, 8, 8])\n",
            "torch.Size([256, 128, 8, 8])\n"
          ],
          "name": "stdout"
        },
        {
          "output_type": "stream",
          "text": [
            "\r 54%|█████▎    | 105/196 [00:08<00:06, 13.25it/s]"
          ],
          "name": "stderr"
        },
        {
          "output_type": "stream",
          "text": [
            "torch.Size([256, 32, 32, 32])\n",
            "torch.Size([256, 32, 16, 16])\n",
            "torch.Size([256, 64, 16, 16])\n",
            "torch.Size([256, 64, 8, 8])\n",
            "torch.Size([256, 128, 8, 8])\n",
            "torch.Size([256, 32, 32, 32])\n",
            "torch.Size([256, 32, 16, 16])\n",
            "torch.Size([256, 64, 16, 16])\n",
            "torch.Size([256, 64, 8, 8])\n",
            "torch.Size([256, 128, 8, 8])\n",
            "torch.Size([256, 32, 32, 32])\n",
            "torch.Size([256, 32, 16, 16])\n",
            "torch.Size([256, 64, 16, 16])\n",
            "torch.Size([256, 64, 8, 8])\n",
            "torch.Size([256, 128, 8, 8])\n"
          ],
          "name": "stdout"
        },
        {
          "output_type": "stream",
          "text": [
            " 56%|█████▌    | 109/196 [00:08<00:06, 13.05it/s]"
          ],
          "name": "stderr"
        },
        {
          "output_type": "stream",
          "text": [
            "torch.Size([256, 32, 32, 32])\n",
            "torch.Size([256, 32, 16, 16])\n",
            "torch.Size([256, 64, 16, 16])\n",
            "torch.Size([256, 64, 8, 8])\n",
            "torch.Size([256, 128, 8, 8])\n",
            "torch.Size([256, 32, 32, 32])\n",
            "torch.Size([256, 32, 16, 16])\n",
            "torch.Size([256, 64, 16, 16])\n",
            "torch.Size([256, 64, 8, 8])\n",
            "torch.Size([256, 128, 8, 8])\n",
            "torch.Size([256, 32, 32, 32])\n",
            "torch.Size([256, 32, 16, 16])\n",
            "torch.Size([256, 64, 16, 16])\n",
            "torch.Size([256, 64, 8, 8])\n",
            "torch.Size([256, 128, 8, 8])\n"
          ],
          "name": "stdout"
        },
        {
          "output_type": "stream",
          "text": [
            "\r 57%|█████▋    | 111/196 [00:08<00:06, 13.49it/s]"
          ],
          "name": "stderr"
        },
        {
          "output_type": "stream",
          "text": [
            "torch.Size([256, 32, 32, 32])\n",
            "torch.Size([256, 32, 16, 16])\n",
            "torch.Size([256, 64, 16, 16])\n",
            "torch.Size([256, 64, 8, 8])\n",
            "torch.Size([256, 128, 8, 8])\n",
            "torch.Size([256, 32, 32, 32])\n",
            "torch.Size([256, 32, 16, 16])\n",
            "torch.Size([256, 64, 16, 16])\n",
            "torch.Size([256, 64, 8, 8])\n",
            "torch.Size([256, 128, 8, 8])\n",
            "torch.Size([256, 32, 32, 32])\n",
            "torch.Size([256, 32, 16, 16])\n",
            "torch.Size([256, 64, 16, 16])\n",
            "torch.Size([256, 64, 8, 8])\n",
            "torch.Size([256, 128, 8, 8])\n"
          ],
          "name": "stdout"
        },
        {
          "output_type": "stream",
          "text": [
            " 59%|█████▊    | 115/196 [00:09<00:06, 13.30it/s]"
          ],
          "name": "stderr"
        },
        {
          "output_type": "stream",
          "text": [
            "torch.Size([256, 32, 32, 32])\n",
            "torch.Size([256, 32, 16, 16])\n",
            "torch.Size([256, 64, 16, 16])\n",
            "torch.Size([256, 64, 8, 8])\n",
            "torch.Size([256, 128, 8, 8])\n",
            "torch.Size([256, 32, 32, 32])\n",
            "torch.Size([256, 32, 16, 16])\n",
            "torch.Size([256, 64, 16, 16])\n",
            "torch.Size([256, 64, 8, 8])\n",
            "torch.Size([256, 128, 8, 8])\n",
            "torch.Size([256, 32, 32, 32])\n",
            "torch.Size([256, 32, 16, 16])\n",
            "torch.Size([256, 64, 16, 16])\n",
            "torch.Size([256, 64, 8, 8])\n",
            "torch.Size([256, 128, 8, 8])\n"
          ],
          "name": "stdout"
        },
        {
          "output_type": "stream",
          "text": [
            "\r 60%|█████▉    | 117/196 [00:09<00:05, 13.21it/s]"
          ],
          "name": "stderr"
        },
        {
          "output_type": "stream",
          "text": [
            "torch.Size([256, 32, 32, 32])\n",
            "torch.Size([256, 32, 16, 16])\n",
            "torch.Size([256, 64, 16, 16])\n",
            "torch.Size([256, 64, 8, 8])\n",
            "torch.Size([256, 128, 8, 8])\n",
            "torch.Size([256, 32, 32, 32])\n",
            "torch.Size([256, 32, 16, 16])\n",
            "torch.Size([256, 64, 16, 16])\n",
            "torch.Size([256, 64, 8, 8])\n",
            "torch.Size([256, 128, 8, 8])\n",
            "torch.Size([256, 32, 32, 32])\n",
            "torch.Size([256, 32, 16, 16])\n",
            "torch.Size([256, 64, 16, 16])\n",
            "torch.Size([256, 64, 8, 8])\n",
            "torch.Size([256, 128, 8, 8])\n"
          ],
          "name": "stdout"
        },
        {
          "output_type": "stream",
          "text": [
            " 62%|██████▏   | 121/196 [00:09<00:05, 13.07it/s]"
          ],
          "name": "stderr"
        },
        {
          "output_type": "stream",
          "text": [
            "torch.Size([256, 32, 32, 32])\n",
            "torch.Size([256, 32, 16, 16])\n",
            "torch.Size([256, 64, 16, 16])\n",
            "torch.Size([256, 64, 8, 8])\n",
            "torch.Size([256, 128, 8, 8])\n",
            "torch.Size([256, 32, 32, 32])\n",
            "torch.Size([256, 32, 16, 16])\n",
            "torch.Size([256, 64, 16, 16])\n",
            "torch.Size([256, 64, 8, 8])\n",
            "torch.Size([256, 128, 8, 8])\n",
            "torch.Size([256, 32, 32, 32])\n",
            "torch.Size([256, 32, 16, 16])\n",
            "torch.Size([256, 64, 16, 16])\n",
            "torch.Size([256, 64, 8, 8])\n",
            "torch.Size([256, 128, 8, 8])\n"
          ],
          "name": "stdout"
        },
        {
          "output_type": "stream",
          "text": [
            "\r 63%|██████▎   | 123/196 [00:09<00:05, 13.30it/s]"
          ],
          "name": "stderr"
        },
        {
          "output_type": "stream",
          "text": [
            "torch.Size([256, 32, 32, 32])\n",
            "torch.Size([256, 32, 16, 16])\n",
            "torch.Size([256, 64, 16, 16])\n",
            "torch.Size([256, 64, 8, 8])\n",
            "torch.Size([256, 128, 8, 8])\n",
            "torch.Size([256, 32, 32, 32])\n",
            "torch.Size([256, 32, 16, 16])\n",
            "torch.Size([256, 64, 16, 16])\n",
            "torch.Size([256, 64, 8, 8])\n",
            "torch.Size([256, 128, 8, 8])\n",
            "torch.Size([256, 32, 32, 32])\n",
            "torch.Size([256, 32, 16, 16])\n",
            "torch.Size([256, 64, 16, 16])\n",
            "torch.Size([256, 64, 8, 8])\n",
            "torch.Size([256, 128, 8, 8])\n"
          ],
          "name": "stdout"
        },
        {
          "output_type": "stream",
          "text": [
            " 65%|██████▍   | 127/196 [00:09<00:05, 13.46it/s]"
          ],
          "name": "stderr"
        },
        {
          "output_type": "stream",
          "text": [
            "torch.Size([256, 32, 32, 32])\n",
            "torch.Size([256, 32, 16, 16])\n",
            "torch.Size([256, 64, 16, 16])\n",
            "torch.Size([256, 64, 8, 8])\n",
            "torch.Size([256, 128, 8, 8])\n",
            "torch.Size([256, 32, 32, 32])\n",
            "torch.Size([256, 32, 16, 16])\n",
            "torch.Size([256, 64, 16, 16])\n",
            "torch.Size([256, 64, 8, 8])\n",
            "torch.Size([256, 128, 8, 8])\n",
            "torch.Size([256, 32, 32, 32])\n",
            "torch.Size([256, 32, 16, 16])\n",
            "torch.Size([256, 64, 16, 16])\n",
            "torch.Size([256, 64, 8, 8])\n",
            "torch.Size([256, 128, 8, 8])\n"
          ],
          "name": "stdout"
        },
        {
          "output_type": "stream",
          "text": [
            "\r 66%|██████▌   | 129/196 [00:10<00:04, 13.52it/s]"
          ],
          "name": "stderr"
        },
        {
          "output_type": "stream",
          "text": [
            "torch.Size([256, 32, 32, 32])\n",
            "torch.Size([256, 32, 16, 16])\n",
            "torch.Size([256, 64, 16, 16])\n",
            "torch.Size([256, 64, 8, 8])\n",
            "torch.Size([256, 128, 8, 8])\n",
            "torch.Size([256, 32, 32, 32])\n",
            "torch.Size([256, 32, 16, 16])\n",
            "torch.Size([256, 64, 16, 16])\n",
            "torch.Size([256, 64, 8, 8])\n",
            "torch.Size([256, 128, 8, 8])\n",
            "torch.Size([256, 32, 32, 32])\n",
            "torch.Size([256, 32, 16, 16])\n",
            "torch.Size([256, 64, 16, 16])\n",
            "torch.Size([256, 64, 8, 8])\n",
            "torch.Size([256, 128, 8, 8])\n"
          ],
          "name": "stdout"
        },
        {
          "output_type": "stream",
          "text": [
            " 68%|██████▊   | 133/196 [00:10<00:04, 13.54it/s]"
          ],
          "name": "stderr"
        },
        {
          "output_type": "stream",
          "text": [
            "torch.Size([256, 32, 32, 32])\n",
            "torch.Size([256, 32, 16, 16])\n",
            "torch.Size([256, 64, 16, 16])\n",
            "torch.Size([256, 64, 8, 8])\n",
            "torch.Size([256, 128, 8, 8])\n",
            "torch.Size([256, 32, 32, 32])\n",
            "torch.Size([256, 32, 16, 16])\n",
            "torch.Size([256, 64, 16, 16])\n",
            "torch.Size([256, 64, 8, 8])\n",
            "torch.Size([256, 128, 8, 8])\n",
            "torch.Size([256, 32, 32, 32])\n",
            "torch.Size([256, 32, 16, 16])\n",
            "torch.Size([256, 64, 16, 16])\n",
            "torch.Size([256, 64, 8, 8])\n",
            "torch.Size([256, 128, 8, 8])\n"
          ],
          "name": "stdout"
        },
        {
          "output_type": "stream",
          "text": [
            "\r 69%|██████▉   | 135/196 [00:10<00:04, 13.11it/s]"
          ],
          "name": "stderr"
        },
        {
          "output_type": "stream",
          "text": [
            "torch.Size([256, 32, 32, 32])\n",
            "torch.Size([256, 32, 16, 16])\n",
            "torch.Size([256, 64, 16, 16])\n",
            "torch.Size([256, 64, 8, 8])\n",
            "torch.Size([256, 128, 8, 8])\n",
            "torch.Size([256, 32, 32, 32])\n",
            "torch.Size([256, 32, 16, 16])\n",
            "torch.Size([256, 64, 16, 16])\n",
            "torch.Size([256, 64, 8, 8])\n",
            "torch.Size([256, 128, 8, 8])\n",
            "torch.Size([256, 32, 32, 32])\n",
            "torch.Size([256, 32, 16, 16])\n",
            "torch.Size([256, 64, 16, 16])\n",
            "torch.Size([256, 64, 8, 8])\n",
            "torch.Size([256, 128, 8, 8])\n"
          ],
          "name": "stdout"
        },
        {
          "output_type": "stream",
          "text": [
            " 71%|███████   | 139/196 [00:10<00:04, 13.21it/s]"
          ],
          "name": "stderr"
        },
        {
          "output_type": "stream",
          "text": [
            "torch.Size([256, 32, 32, 32])\n",
            "torch.Size([256, 32, 16, 16])\n",
            "torch.Size([256, 64, 16, 16])\n",
            "torch.Size([256, 64, 8, 8])\n",
            "torch.Size([256, 128, 8, 8])\n",
            "torch.Size([256, 32, 32, 32])\n",
            "torch.Size([256, 32, 16, 16])\n",
            "torch.Size([256, 64, 16, 16])\n",
            "torch.Size([256, 64, 8, 8])\n",
            "torch.Size([256, 128, 8, 8])\n",
            "torch.Size([256, 32, 32, 32])\n",
            "torch.Size([256, 32, 16, 16])\n",
            "torch.Size([256, 64, 16, 16])\n",
            "torch.Size([256, 64, 8, 8])\n",
            "torch.Size([256, 128, 8, 8])\n"
          ],
          "name": "stdout"
        },
        {
          "output_type": "stream",
          "text": [
            "\r 72%|███████▏  | 141/196 [00:11<00:04, 13.23it/s]"
          ],
          "name": "stderr"
        },
        {
          "output_type": "stream",
          "text": [
            "torch.Size([256, 32, 32, 32])\n",
            "torch.Size([256, 32, 16, 16])\n",
            "torch.Size([256, 64, 16, 16])\n",
            "torch.Size([256, 64, 8, 8])\n",
            "torch.Size([256, 128, 8, 8])\n",
            "torch.Size([256, 32, 32, 32])\n",
            "torch.Size([256, 32, 16, 16])\n",
            "torch.Size([256, 64, 16, 16])\n",
            "torch.Size([256, 64, 8, 8])\n",
            "torch.Size([256, 128, 8, 8])\n",
            "torch.Size([256, 32, 32, 32])\n",
            "torch.Size([256, 32, 16, 16])\n",
            "torch.Size([256, 64, 16, 16])\n",
            "torch.Size([256, 64, 8, 8])\n",
            "torch.Size([256, 128, 8, 8])\n"
          ],
          "name": "stdout"
        },
        {
          "output_type": "stream",
          "text": [
            " 74%|███████▍  | 145/196 [00:11<00:03, 13.12it/s]"
          ],
          "name": "stderr"
        },
        {
          "output_type": "stream",
          "text": [
            "torch.Size([256, 32, 32, 32])\n",
            "torch.Size([256, 32, 16, 16])\n",
            "torch.Size([256, 64, 16, 16])\n",
            "torch.Size([256, 64, 8, 8])\n",
            "torch.Size([256, 128, 8, 8])\n",
            "torch.Size([256, 32, 32, 32])\n",
            "torch.Size([256, 32, 16, 16])\n",
            "torch.Size([256, 64, 16, 16])\n",
            "torch.Size([256, 64, 8, 8])\n",
            "torch.Size([256, 128, 8, 8])\n",
            "torch.Size([256, 32, 32, 32])\n",
            "torch.Size([256, 32, 16, 16])\n",
            "torch.Size([256, 64, 16, 16])\n",
            "torch.Size([256, 64, 8, 8])\n",
            "torch.Size([256, 128, 8, 8])\n"
          ],
          "name": "stdout"
        },
        {
          "output_type": "stream",
          "text": [
            "\r 75%|███████▌  | 147/196 [00:11<00:03, 13.04it/s]"
          ],
          "name": "stderr"
        },
        {
          "output_type": "stream",
          "text": [
            "torch.Size([256, 32, 32, 32])\n",
            "torch.Size([256, 32, 16, 16])\n",
            "torch.Size([256, 64, 16, 16])\n",
            "torch.Size([256, 64, 8, 8])\n",
            "torch.Size([256, 128, 8, 8])\n",
            "torch.Size([256, 32, 32, 32])\n",
            "torch.Size([256, 32, 16, 16])\n",
            "torch.Size([256, 64, 16, 16])\n",
            "torch.Size([256, 64, 8, 8])\n",
            "torch.Size([256, 128, 8, 8])\n",
            "torch.Size([256, 32, 32, 32])\n",
            "torch.Size([256, 32, 16, 16])\n",
            "torch.Size([256, 64, 16, 16])\n",
            "torch.Size([256, 64, 8, 8])\n",
            "torch.Size([256, 128, 8, 8])\n"
          ],
          "name": "stdout"
        },
        {
          "output_type": "stream",
          "text": [
            " 77%|███████▋  | 151/196 [00:11<00:03, 13.54it/s]"
          ],
          "name": "stderr"
        },
        {
          "output_type": "stream",
          "text": [
            "torch.Size([256, 32, 32, 32])\n",
            "torch.Size([256, 32, 16, 16])\n",
            "torch.Size([256, 64, 16, 16])\n",
            "torch.Size([256, 64, 8, 8])\n",
            "torch.Size([256, 128, 8, 8])\n",
            "torch.Size([256, 32, 32, 32])\n",
            "torch.Size([256, 32, 16, 16])\n",
            "torch.Size([256, 64, 16, 16])\n",
            "torch.Size([256, 64, 8, 8])\n",
            "torch.Size([256, 128, 8, 8])\n",
            "torch.Size([256, 32, 32, 32])\n",
            "torch.Size([256, 32, 16, 16])\n",
            "torch.Size([256, 64, 16, 16])\n",
            "torch.Size([256, 64, 8, 8])\n",
            "torch.Size([256, 128, 8, 8])\n"
          ],
          "name": "stdout"
        },
        {
          "output_type": "stream",
          "text": [
            "\r 78%|███████▊  | 153/196 [00:11<00:03, 13.67it/s]"
          ],
          "name": "stderr"
        },
        {
          "output_type": "stream",
          "text": [
            "torch.Size([256, 32, 32, 32])\n",
            "torch.Size([256, 32, 16, 16])\n",
            "torch.Size([256, 64, 16, 16])\n",
            "torch.Size([256, 64, 8, 8])\n",
            "torch.Size([256, 128, 8, 8])\n",
            "torch.Size([256, 32, 32, 32])\n",
            "torch.Size([256, 32, 16, 16])\n",
            "torch.Size([256, 64, 16, 16])\n",
            "torch.Size([256, 64, 8, 8])\n",
            "torch.Size([256, 128, 8, 8])\n",
            "torch.Size([256, 32, 32, 32])\n",
            "torch.Size([256, 32, 16, 16])\n",
            "torch.Size([256, 64, 16, 16])\n",
            "torch.Size([256, 64, 8, 8])\n",
            "torch.Size([256, 128, 8, 8])\n"
          ],
          "name": "stdout"
        },
        {
          "output_type": "stream",
          "text": [
            " 80%|████████  | 157/196 [00:12<00:02, 13.77it/s]"
          ],
          "name": "stderr"
        },
        {
          "output_type": "stream",
          "text": [
            "torch.Size([256, 32, 32, 32])\n",
            "torch.Size([256, 32, 16, 16])\n",
            "torch.Size([256, 64, 16, 16])\n",
            "torch.Size([256, 64, 8, 8])\n",
            "torch.Size([256, 128, 8, 8])\n",
            "torch.Size([256, 32, 32, 32])\n",
            "torch.Size([256, 32, 16, 16])\n",
            "torch.Size([256, 64, 16, 16])\n",
            "torch.Size([256, 64, 8, 8])\n",
            "torch.Size([256, 128, 8, 8])\n",
            "torch.Size([256, 32, 32, 32])\n",
            "torch.Size([256, 32, 16, 16])\n",
            "torch.Size([256, 64, 16, 16])\n",
            "torch.Size([256, 64, 8, 8])\n",
            "torch.Size([256, 128, 8, 8])\n"
          ],
          "name": "stdout"
        },
        {
          "output_type": "stream",
          "text": [
            "\r 81%|████████  | 159/196 [00:12<00:02, 13.72it/s]"
          ],
          "name": "stderr"
        },
        {
          "output_type": "stream",
          "text": [
            "torch.Size([256, 32, 32, 32])\n",
            "torch.Size([256, 32, 16, 16])\n",
            "torch.Size([256, 64, 16, 16])\n",
            "torch.Size([256, 64, 8, 8])\n",
            "torch.Size([256, 128, 8, 8])\n",
            "torch.Size([256, 32, 32, 32])\n",
            "torch.Size([256, 32, 16, 16])\n",
            "torch.Size([256, 64, 16, 16])\n",
            "torch.Size([256, 64, 8, 8])\n",
            "torch.Size([256, 128, 8, 8])\n",
            "torch.Size([256, 32, 32, 32])\n",
            "torch.Size([256, 32, 16, 16])\n",
            "torch.Size([256, 64, 16, 16])\n",
            "torch.Size([256, 64, 8, 8])\n",
            "torch.Size([256, 128, 8, 8])\n"
          ],
          "name": "stdout"
        },
        {
          "output_type": "stream",
          "text": [
            " 83%|████████▎ | 163/196 [00:12<00:02, 13.47it/s]"
          ],
          "name": "stderr"
        },
        {
          "output_type": "stream",
          "text": [
            "torch.Size([256, 32, 32, 32])\n",
            "torch.Size([256, 32, 16, 16])\n",
            "torch.Size([256, 64, 16, 16])\n",
            "torch.Size([256, 64, 8, 8])\n",
            "torch.Size([256, 128, 8, 8])\n",
            "torch.Size([256, 32, 32, 32])\n",
            "torch.Size([256, 32, 16, 16])\n",
            "torch.Size([256, 64, 16, 16])\n",
            "torch.Size([256, 64, 8, 8])\n",
            "torch.Size([256, 128, 8, 8])\n",
            "torch.Size([256, 32, 32, 32])\n",
            "torch.Size([256, 32, 16, 16])\n",
            "torch.Size([256, 64, 16, 16])\n",
            "torch.Size([256, 64, 8, 8])\n",
            "torch.Size([256, 128, 8, 8])\n"
          ],
          "name": "stdout"
        },
        {
          "output_type": "stream",
          "text": [
            "\r 84%|████████▍ | 165/196 [00:12<00:02, 13.13it/s]"
          ],
          "name": "stderr"
        },
        {
          "output_type": "stream",
          "text": [
            "torch.Size([256, 32, 32, 32])\n",
            "torch.Size([256, 32, 16, 16])\n",
            "torch.Size([256, 64, 16, 16])\n",
            "torch.Size([256, 64, 8, 8])\n",
            "torch.Size([256, 128, 8, 8])\n",
            "torch.Size([256, 32, 32, 32])\n",
            "torch.Size([256, 32, 16, 16])\n",
            "torch.Size([256, 64, 16, 16])\n",
            "torch.Size([256, 64, 8, 8])\n",
            "torch.Size([256, 128, 8, 8])\n",
            "torch.Size([256, 32, 32, 32])\n",
            "torch.Size([256, 32, 16, 16])\n",
            "torch.Size([256, 64, 16, 16])\n",
            "torch.Size([256, 64, 8, 8])\n",
            "torch.Size([256, 128, 8, 8])\n"
          ],
          "name": "stdout"
        },
        {
          "output_type": "stream",
          "text": [
            " 86%|████████▌ | 169/196 [00:13<00:02, 13.40it/s]"
          ],
          "name": "stderr"
        },
        {
          "output_type": "stream",
          "text": [
            "torch.Size([256, 32, 32, 32])\n",
            "torch.Size([256, 32, 16, 16])\n",
            "torch.Size([256, 64, 16, 16])\n",
            "torch.Size([256, 64, 8, 8])\n",
            "torch.Size([256, 128, 8, 8])\n",
            "torch.Size([256, 32, 32, 32])\n",
            "torch.Size([256, 32, 16, 16])\n",
            "torch.Size([256, 64, 16, 16])\n",
            "torch.Size([256, 64, 8, 8])\n",
            "torch.Size([256, 128, 8, 8])\n",
            "torch.Size([256, 32, 32, 32])\n",
            "torch.Size([256, 32, 16, 16])\n",
            "torch.Size([256, 64, 16, 16])\n",
            "torch.Size([256, 64, 8, 8])\n",
            "torch.Size([256, 128, 8, 8])\n"
          ],
          "name": "stdout"
        },
        {
          "output_type": "stream",
          "text": [
            "\r 87%|████████▋ | 171/196 [00:13<00:01, 13.59it/s]"
          ],
          "name": "stderr"
        },
        {
          "output_type": "stream",
          "text": [
            "torch.Size([256, 32, 32, 32])\n",
            "torch.Size([256, 32, 16, 16])\n",
            "torch.Size([256, 64, 16, 16])\n",
            "torch.Size([256, 64, 8, 8])\n",
            "torch.Size([256, 128, 8, 8])\n",
            "torch.Size([256, 32, 32, 32])\n",
            "torch.Size([256, 32, 16, 16])\n",
            "torch.Size([256, 64, 16, 16])\n",
            "torch.Size([256, 64, 8, 8])\n",
            "torch.Size([256, 128, 8, 8])\n",
            "torch.Size([256, 32, 32, 32])\n",
            "torch.Size([256, 32, 16, 16])\n",
            "torch.Size([256, 64, 16, 16])\n",
            "torch.Size([256, 64, 8, 8])\n",
            "torch.Size([256, 128, 8, 8])\n"
          ],
          "name": "stdout"
        },
        {
          "output_type": "stream",
          "text": [
            " 89%|████████▉ | 175/196 [00:13<00:01, 13.68it/s]"
          ],
          "name": "stderr"
        },
        {
          "output_type": "stream",
          "text": [
            "torch.Size([256, 32, 32, 32])\n",
            "torch.Size([256, 32, 16, 16])\n",
            "torch.Size([256, 64, 16, 16])\n",
            "torch.Size([256, 64, 8, 8])\n",
            "torch.Size([256, 128, 8, 8])\n",
            "torch.Size([256, 32, 32, 32])\n",
            "torch.Size([256, 32, 16, 16])\n",
            "torch.Size([256, 64, 16, 16])\n",
            "torch.Size([256, 64, 8, 8])\n",
            "torch.Size([256, 128, 8, 8])\n",
            "torch.Size([256, 32, 32, 32])\n",
            "torch.Size([256, 32, 16, 16])\n",
            "torch.Size([256, 64, 16, 16])\n",
            "torch.Size([256, 64, 8, 8])\n",
            "torch.Size([256, 128, 8, 8])\n"
          ],
          "name": "stdout"
        },
        {
          "output_type": "stream",
          "text": [
            "\r 90%|█████████ | 177/196 [00:13<00:01, 13.70it/s]"
          ],
          "name": "stderr"
        },
        {
          "output_type": "stream",
          "text": [
            "torch.Size([256, 32, 32, 32])\n",
            "torch.Size([256, 32, 16, 16])\n",
            "torch.Size([256, 64, 16, 16])\n",
            "torch.Size([256, 64, 8, 8])\n",
            "torch.Size([256, 128, 8, 8])\n",
            "torch.Size([256, 32, 32, 32])\n",
            "torch.Size([256, 32, 16, 16])\n",
            "torch.Size([256, 64, 16, 16])\n",
            "torch.Size([256, 64, 8, 8])\n",
            "torch.Size([256, 128, 8, 8])\n",
            "torch.Size([256, 32, 32, 32])\n",
            "torch.Size([256, 32, 16, 16])\n",
            "torch.Size([256, 64, 16, 16])\n",
            "torch.Size([256, 64, 8, 8])\n",
            "torch.Size([256, 128, 8, 8])\n"
          ],
          "name": "stdout"
        },
        {
          "output_type": "stream",
          "text": [
            " 92%|█████████▏| 181/196 [00:13<00:01, 13.41it/s]"
          ],
          "name": "stderr"
        },
        {
          "output_type": "stream",
          "text": [
            "torch.Size([256, 32, 32, 32])\n",
            "torch.Size([256, 32, 16, 16])\n",
            "torch.Size([256, 64, 16, 16])\n",
            "torch.Size([256, 64, 8, 8])\n",
            "torch.Size([256, 128, 8, 8])\n",
            "torch.Size([256, 32, 32, 32])\n",
            "torch.Size([256, 32, 16, 16])\n",
            "torch.Size([256, 64, 16, 16])\n",
            "torch.Size([256, 64, 8, 8])\n",
            "torch.Size([256, 128, 8, 8])\n",
            "torch.Size([256, 32, 32, 32])\n",
            "torch.Size([256, 32, 16, 16])\n",
            "torch.Size([256, 64, 16, 16])\n",
            "torch.Size([256, 64, 8, 8])\n",
            "torch.Size([256, 128, 8, 8])\n"
          ],
          "name": "stdout"
        },
        {
          "output_type": "stream",
          "text": [
            "\r 93%|█████████▎| 183/196 [00:14<00:01, 12.93it/s]"
          ],
          "name": "stderr"
        },
        {
          "output_type": "stream",
          "text": [
            "torch.Size([256, 32, 32, 32])\n",
            "torch.Size([256, 32, 16, 16])\n",
            "torch.Size([256, 64, 16, 16])\n",
            "torch.Size([256, 64, 8, 8])\n",
            "torch.Size([256, 128, 8, 8])\n",
            "torch.Size([256, 32, 32, 32])\n",
            "torch.Size([256, 32, 16, 16])\n",
            "torch.Size([256, 64, 16, 16])\n",
            "torch.Size([256, 64, 8, 8])\n",
            "torch.Size([256, 128, 8, 8])\n",
            "torch.Size([256, 32, 32, 32])\n",
            "torch.Size([256, 32, 16, 16])\n",
            "torch.Size([256, 64, 16, 16])\n",
            "torch.Size([256, 64, 8, 8])\n",
            "torch.Size([256, 128, 8, 8])\n"
          ],
          "name": "stdout"
        },
        {
          "output_type": "stream",
          "text": [
            " 95%|█████████▌| 187/196 [00:14<00:00, 13.55it/s]"
          ],
          "name": "stderr"
        },
        {
          "output_type": "stream",
          "text": [
            "torch.Size([256, 32, 32, 32])\n",
            "torch.Size([256, 32, 16, 16])\n",
            "torch.Size([256, 64, 16, 16])\n",
            "torch.Size([256, 64, 8, 8])\n",
            "torch.Size([256, 128, 8, 8])\n",
            "torch.Size([256, 32, 32, 32])\n",
            "torch.Size([256, 32, 16, 16])\n",
            "torch.Size([256, 64, 16, 16])\n",
            "torch.Size([256, 64, 8, 8])\n",
            "torch.Size([256, 128, 8, 8])\n",
            "torch.Size([256, 32, 32, 32])\n",
            "torch.Size([256, 32, 16, 16])\n",
            "torch.Size([256, 64, 16, 16])\n",
            "torch.Size([256, 64, 8, 8])\n",
            "torch.Size([256, 128, 8, 8])\n"
          ],
          "name": "stdout"
        },
        {
          "output_type": "stream",
          "text": [
            " 97%|█████████▋| 191/196 [00:14<00:00, 13.96it/s]"
          ],
          "name": "stderr"
        },
        {
          "output_type": "stream",
          "text": [
            "torch.Size([256, 32, 32, 32])\n",
            "torch.Size([256, 32, 16, 16])\n",
            "torch.Size([256, 64, 16, 16])\n",
            "torch.Size([256, 64, 8, 8])\n",
            "torch.Size([256, 128, 8, 8])\n",
            "torch.Size([256, 32, 32, 32])\n",
            "torch.Size([256, 32, 16, 16])\n",
            "torch.Size([256, 64, 16, 16])\n",
            "torch.Size([256, 64, 8, 8])\n",
            "torch.Size([256, 128, 8, 8])\n",
            "torch.Size([256, 32, 32, 32])\n",
            "torch.Size([256, 32, 16, 16])\n",
            "torch.Size([256, 64, 16, 16])\n",
            "torch.Size([256, 64, 8, 8])\n",
            "torch.Size([256, 128, 8, 8])\n"
          ],
          "name": "stdout"
        },
        {
          "output_type": "stream",
          "text": [
            "\r 98%|█████████▊| 193/196 [00:14<00:00, 14.20it/s]"
          ],
          "name": "stderr"
        },
        {
          "output_type": "stream",
          "text": [
            "torch.Size([256, 32, 32, 32])\n",
            "torch.Size([256, 32, 16, 16])\n",
            "torch.Size([256, 64, 16, 16])\n",
            "torch.Size([256, 64, 8, 8])\n",
            "torch.Size([256, 128, 8, 8])\n",
            "torch.Size([256, 32, 32, 32])\n",
            "torch.Size([256, 32, 16, 16])\n",
            "torch.Size([256, 64, 16, 16])\n",
            "torch.Size([256, 64, 8, 8])\n",
            "torch.Size([256, 128, 8, 8])\n",
            "torch.Size([256, 32, 32, 32])\n",
            "torch.Size([256, 32, 16, 16])\n",
            "torch.Size([256, 64, 16, 16])\n",
            "torch.Size([256, 64, 8, 8])\n",
            "torch.Size([256, 128, 8, 8])\n"
          ],
          "name": "stdout"
        },
        {
          "output_type": "stream",
          "text": [
            "100%|██████████| 196/196 [00:15<00:00, 13.01it/s]"
          ],
          "name": "stderr"
        },
        {
          "output_type": "stream",
          "text": [
            "torch.Size([256, 32, 32, 32])\n",
            "torch.Size([256, 32, 16, 16])\n",
            "torch.Size([256, 64, 16, 16])\n",
            "torch.Size([256, 64, 8, 8])\n",
            "torch.Size([256, 128, 8, 8])\n",
            "torch.Size([80, 32, 32, 32])\n",
            "torch.Size([80, 32, 16, 16])\n",
            "torch.Size([80, 64, 16, 16])\n",
            "torch.Size([80, 64, 8, 8])\n",
            "torch.Size([80, 128, 8, 8])\n"
          ],
          "name": "stdout"
        },
        {
          "output_type": "stream",
          "text": [
            "\n"
          ],
          "name": "stderr"
        },
        {
          "output_type": "stream",
          "text": [
            "torch.Size([256, 32, 32, 32])\n",
            "torch.Size([256, 32, 16, 16])\n",
            "torch.Size([256, 64, 16, 16])\n",
            "torch.Size([256, 64, 8, 8])\n",
            "torch.Size([256, 128, 8, 8])\n",
            "torch.Size([256, 32, 32, 32])\n",
            "torch.Size([256, 32, 16, 16])\n",
            "torch.Size([256, 64, 16, 16])\n",
            "torch.Size([256, 64, 8, 8])\n",
            "torch.Size([256, 128, 8, 8])\n",
            "torch.Size([256, 32, 32, 32])\n",
            "torch.Size([256, 32, 16, 16])\n",
            "torch.Size([256, 64, 16, 16])\n",
            "torch.Size([256, 64, 8, 8])\n",
            "torch.Size([256, 128, 8, 8])\n",
            "torch.Size([256, 32, 32, 32])\n",
            "torch.Size([256, 32, 16, 16])\n",
            "torch.Size([256, 64, 16, 16])\n",
            "torch.Size([256, 64, 8, 8])\n",
            "torch.Size([256, 128, 8, 8])\n",
            "torch.Size([256, 32, 32, 32])\n",
            "torch.Size([256, 32, 16, 16])\n",
            "torch.Size([256, 64, 16, 16])\n",
            "torch.Size([256, 64, 8, 8])\n",
            "torch.Size([256, 128, 8, 8])\n",
            "torch.Size([256, 32, 32, 32])\n",
            "torch.Size([256, 32, 16, 16])\n",
            "torch.Size([256, 64, 16, 16])\n",
            "torch.Size([256, 64, 8, 8])\n",
            "torch.Size([256, 128, 8, 8])\n",
            "torch.Size([256, 32, 32, 32])\n",
            "torch.Size([256, 32, 16, 16])\n",
            "torch.Size([256, 64, 16, 16])\n",
            "torch.Size([256, 64, 8, 8])\n",
            "torch.Size([256, 128, 8, 8])\n",
            "torch.Size([256, 32, 32, 32])\n",
            "torch.Size([256, 32, 16, 16])\n",
            "torch.Size([256, 64, 16, 16])\n",
            "torch.Size([256, 64, 8, 8])\n",
            "torch.Size([256, 128, 8, 8])\n",
            "torch.Size([256, 32, 32, 32])\n",
            "torch.Size([256, 32, 16, 16])\n",
            "torch.Size([256, 64, 16, 16])\n",
            "torch.Size([256, 64, 8, 8])\n",
            "torch.Size([256, 128, 8, 8])\n",
            "torch.Size([256, 32, 32, 32])\n",
            "torch.Size([256, 32, 16, 16])\n",
            "torch.Size([256, 64, 16, 16])\n",
            "torch.Size([256, 64, 8, 8])\n",
            "torch.Size([256, 128, 8, 8])\n",
            "torch.Size([256, 32, 32, 32])\n",
            "torch.Size([256, 32, 16, 16])\n",
            "torch.Size([256, 64, 16, 16])\n",
            "torch.Size([256, 64, 8, 8])\n",
            "torch.Size([256, 128, 8, 8])\n",
            "torch.Size([256, 32, 32, 32])\n",
            "torch.Size([256, 32, 16, 16])\n",
            "torch.Size([256, 64, 16, 16])\n",
            "torch.Size([256, 64, 8, 8])\n",
            "torch.Size([256, 128, 8, 8])\n",
            "torch.Size([256, 32, 32, 32])\n",
            "torch.Size([256, 32, 16, 16])\n",
            "torch.Size([256, 64, 16, 16])\n",
            "torch.Size([256, 64, 8, 8])\n",
            "torch.Size([256, 128, 8, 8])\n",
            "torch.Size([256, 32, 32, 32])\n",
            "torch.Size([256, 32, 16, 16])\n",
            "torch.Size([256, 64, 16, 16])\n",
            "torch.Size([256, 64, 8, 8])\n",
            "torch.Size([256, 128, 8, 8])\n",
            "torch.Size([256, 32, 32, 32])\n",
            "torch.Size([256, 32, 16, 16])\n",
            "torch.Size([256, 64, 16, 16])\n",
            "torch.Size([256, 64, 8, 8])\n",
            "torch.Size([256, 128, 8, 8])\n",
            "torch.Size([256, 32, 32, 32])\n",
            "torch.Size([256, 32, 16, 16])\n",
            "torch.Size([256, 64, 16, 16])\n",
            "torch.Size([256, 64, 8, 8])\n",
            "torch.Size([256, 128, 8, 8])\n",
            "torch.Size([256, 32, 32, 32])\n",
            "torch.Size([256, 32, 16, 16])\n",
            "torch.Size([256, 64, 16, 16])\n",
            "torch.Size([256, 64, 8, 8])\n",
            "torch.Size([256, 128, 8, 8])\n",
            "torch.Size([256, 32, 32, 32])\n",
            "torch.Size([256, 32, 16, 16])\n",
            "torch.Size([256, 64, 16, 16])\n",
            "torch.Size([256, 64, 8, 8])\n",
            "torch.Size([256, 128, 8, 8])\n",
            "torch.Size([256, 32, 32, 32])\n",
            "torch.Size([256, 32, 16, 16])\n",
            "torch.Size([256, 64, 16, 16])\n",
            "torch.Size([256, 64, 8, 8])\n",
            "torch.Size([256, 128, 8, 8])\n",
            "torch.Size([256, 32, 32, 32])\n",
            "torch.Size([256, 32, 16, 16])\n",
            "torch.Size([256, 64, 16, 16])\n",
            "torch.Size([256, 64, 8, 8])\n",
            "torch.Size([256, 128, 8, 8])\n",
            "torch.Size([256, 32, 32, 32])\n",
            "torch.Size([256, 32, 16, 16])\n",
            "torch.Size([256, 64, 16, 16])\n",
            "torch.Size([256, 64, 8, 8])\n",
            "torch.Size([256, 128, 8, 8])\n",
            "torch.Size([256, 32, 32, 32])\n",
            "torch.Size([256, 32, 16, 16])\n",
            "torch.Size([256, 64, 16, 16])\n",
            "torch.Size([256, 64, 8, 8])\n",
            "torch.Size([256, 128, 8, 8])\n",
            "torch.Size([256, 32, 32, 32])\n",
            "torch.Size([256, 32, 16, 16])\n",
            "torch.Size([256, 64, 16, 16])\n",
            "torch.Size([256, 64, 8, 8])\n",
            "torch.Size([256, 128, 8, 8])\n",
            "torch.Size([256, 32, 32, 32])\n",
            "torch.Size([256, 32, 16, 16])\n",
            "torch.Size([256, 64, 16, 16])\n",
            "torch.Size([256, 64, 8, 8])\n",
            "torch.Size([256, 128, 8, 8])\n",
            "torch.Size([256, 32, 32, 32])\n",
            "torch.Size([256, 32, 16, 16])\n",
            "torch.Size([256, 64, 16, 16])\n",
            "torch.Size([256, 64, 8, 8])\n",
            "torch.Size([256, 128, 8, 8])\n",
            "torch.Size([256, 32, 32, 32])\n",
            "torch.Size([256, 32, 16, 16])\n",
            "torch.Size([256, 64, 16, 16])\n",
            "torch.Size([256, 64, 8, 8])\n",
            "torch.Size([256, 128, 8, 8])\n",
            "torch.Size([256, 32, 32, 32])\n",
            "torch.Size([256, 32, 16, 16])\n",
            "torch.Size([256, 64, 16, 16])\n",
            "torch.Size([256, 64, 8, 8])\n",
            "torch.Size([256, 128, 8, 8])\n",
            "torch.Size([256, 32, 32, 32])\n",
            "torch.Size([256, 32, 16, 16])\n",
            "torch.Size([256, 64, 16, 16])\n",
            "torch.Size([256, 64, 8, 8])\n",
            "torch.Size([256, 128, 8, 8])\n",
            "torch.Size([256, 32, 32, 32])\n",
            "torch.Size([256, 32, 16, 16])\n",
            "torch.Size([256, 64, 16, 16])\n",
            "torch.Size([256, 64, 8, 8])\n",
            "torch.Size([256, 128, 8, 8])\n",
            "torch.Size([256, 32, 32, 32])\n",
            "torch.Size([256, 32, 16, 16])\n",
            "torch.Size([256, 64, 16, 16])\n",
            "torch.Size([256, 64, 8, 8])\n",
            "torch.Size([256, 128, 8, 8])\n",
            "torch.Size([256, 32, 32, 32])\n",
            "torch.Size([256, 32, 16, 16])\n",
            "torch.Size([256, 64, 16, 16])\n",
            "torch.Size([256, 64, 8, 8])\n",
            "torch.Size([256, 128, 8, 8])\n",
            "torch.Size([256, 32, 32, 32])\n",
            "torch.Size([256, 32, 16, 16])\n",
            "torch.Size([256, 64, 16, 16])\n",
            "torch.Size([256, 64, 8, 8])\n",
            "torch.Size([256, 128, 8, 8])\n",
            "torch.Size([256, 32, 32, 32])\n",
            "torch.Size([256, 32, 16, 16])\n",
            "torch.Size([256, 64, 16, 16])\n",
            "torch.Size([256, 64, 8, 8])\n",
            "torch.Size([256, 128, 8, 8])\n"
          ],
          "name": "stdout"
        },
        {
          "output_type": "stream",
          "text": [
            "\r  0%|          | 0/196 [00:00<?, ?it/s]"
          ],
          "name": "stderr"
        },
        {
          "output_type": "stream",
          "text": [
            "torch.Size([256, 32, 32, 32])\n",
            "torch.Size([256, 32, 16, 16])\n",
            "torch.Size([256, 64, 16, 16])\n",
            "torch.Size([256, 64, 8, 8])\n",
            "torch.Size([256, 128, 8, 8])\n",
            "torch.Size([256, 32, 32, 32])\n",
            "torch.Size([256, 32, 16, 16])\n",
            "torch.Size([256, 64, 16, 16])\n",
            "torch.Size([256, 64, 8, 8])\n",
            "torch.Size([256, 128, 8, 8])\n",
            "torch.Size([256, 32, 32, 32])\n",
            "torch.Size([256, 32, 16, 16])\n",
            "torch.Size([256, 64, 16, 16])\n",
            "torch.Size([256, 64, 8, 8])\n",
            "torch.Size([256, 128, 8, 8])\n",
            "torch.Size([256, 32, 32, 32])\n",
            "torch.Size([256, 32, 16, 16])\n",
            "torch.Size([256, 64, 16, 16])\n",
            "torch.Size([256, 64, 8, 8])\n",
            "torch.Size([256, 128, 8, 8])\n",
            "torch.Size([256, 32, 32, 32])\n",
            "torch.Size([256, 32, 16, 16])\n",
            "torch.Size([256, 64, 16, 16])\n",
            "torch.Size([256, 64, 8, 8])\n",
            "torch.Size([256, 128, 8, 8])\n",
            "torch.Size([256, 32, 32, 32])\n",
            "torch.Size([256, 32, 16, 16])\n",
            "torch.Size([256, 64, 16, 16])\n",
            "torch.Size([256, 64, 8, 8])\n",
            "torch.Size([256, 128, 8, 8])\n",
            "torch.Size([16, 32, 32, 32])\n",
            "torch.Size([16, 32, 16, 16])\n",
            "torch.Size([16, 64, 16, 16])\n",
            "torch.Size([16, 64, 8, 8])\n",
            "torch.Size([16, 128, 8, 8])\n",
            "\n",
            "Epoch: 1 Train set: Average loss: 0.0061, Accuracy: 41.792%\n",
            "Epoch: 1 Test set: Average loss: 0.0068, Accuracy: 39.250%\n"
          ],
          "name": "stdout"
        },
        {
          "output_type": "stream",
          "text": [
            "\r  1%|          | 1/196 [00:00<01:21,  2.41it/s]"
          ],
          "name": "stderr"
        },
        {
          "output_type": "stream",
          "text": [
            "torch.Size([256, 32, 32, 32])\n",
            "torch.Size([256, 32, 16, 16])\n",
            "torch.Size([256, 64, 16, 16])\n",
            "torch.Size([256, 64, 8, 8])\n",
            "torch.Size([256, 128, 8, 8])\n",
            "torch.Size([256, 32, 32, 32])\n",
            "torch.Size([256, 32, 16, 16])\n",
            "torch.Size([256, 64, 16, 16])\n",
            "torch.Size([256, 64, 8, 8])\n",
            "torch.Size([256, 128, 8, 8])\n",
            "torch.Size([256, 32, 32, 32])\n",
            "torch.Size([256, 32, 16, 16])\n",
            "torch.Size([256, 64, 16, 16])\n",
            "torch.Size([256, 64, 8, 8])\n",
            "torch.Size([256, 128, 8, 8])\n"
          ],
          "name": "stdout"
        },
        {
          "output_type": "stream",
          "text": [
            "  3%|▎         | 5/196 [00:00<00:47,  4.03it/s]"
          ],
          "name": "stderr"
        },
        {
          "output_type": "stream",
          "text": [
            "torch.Size([256, 32, 32, 32])\n",
            "torch.Size([256, 32, 16, 16])\n",
            "torch.Size([256, 64, 16, 16])\n",
            "torch.Size([256, 64, 8, 8])\n",
            "torch.Size([256, 128, 8, 8])\n",
            "torch.Size([256, 32, 32, 32])\n",
            "torch.Size([256, 32, 16, 16])\n",
            "torch.Size([256, 64, 16, 16])\n",
            "torch.Size([256, 64, 8, 8])\n",
            "torch.Size([256, 128, 8, 8])\n",
            "torch.Size([256, 32, 32, 32])\n",
            "torch.Size([256, 32, 16, 16])\n",
            "torch.Size([256, 64, 16, 16])\n",
            "torch.Size([256, 64, 8, 8])\n",
            "torch.Size([256, 128, 8, 8])\n"
          ],
          "name": "stdout"
        },
        {
          "output_type": "stream",
          "text": [
            "\r  4%|▎         | 7/196 [00:00<00:37,  5.04it/s]"
          ],
          "name": "stderr"
        },
        {
          "output_type": "stream",
          "text": [
            "torch.Size([256, 32, 32, 32])\n",
            "torch.Size([256, 32, 16, 16])\n",
            "torch.Size([256, 64, 16, 16])\n",
            "torch.Size([256, 64, 8, 8])\n",
            "torch.Size([256, 128, 8, 8])\n",
            "torch.Size([256, 32, 32, 32])\n",
            "torch.Size([256, 32, 16, 16])\n",
            "torch.Size([256, 64, 16, 16])\n",
            "torch.Size([256, 64, 8, 8])\n",
            "torch.Size([256, 128, 8, 8])\n",
            "torch.Size([256, 32, 32, 32])\n",
            "torch.Size([256, 32, 16, 16])\n",
            "torch.Size([256, 64, 16, 16])\n",
            "torch.Size([256, 64, 8, 8])\n",
            "torch.Size([256, 128, 8, 8])\n"
          ],
          "name": "stdout"
        },
        {
          "output_type": "stream",
          "text": [
            "  6%|▌         | 11/196 [00:01<00:25,  7.34it/s]"
          ],
          "name": "stderr"
        },
        {
          "output_type": "stream",
          "text": [
            "torch.Size([256, 32, 32, 32])\n",
            "torch.Size([256, 32, 16, 16])\n",
            "torch.Size([256, 64, 16, 16])\n",
            "torch.Size([256, 64, 8, 8])\n",
            "torch.Size([256, 128, 8, 8])\n",
            "torch.Size([256, 32, 32, 32])\n",
            "torch.Size([256, 32, 16, 16])\n",
            "torch.Size([256, 64, 16, 16])\n",
            "torch.Size([256, 64, 8, 8])\n",
            "torch.Size([256, 128, 8, 8])\n",
            "torch.Size([256, 32, 32, 32])\n",
            "torch.Size([256, 32, 16, 16])\n",
            "torch.Size([256, 64, 16, 16])\n",
            "torch.Size([256, 64, 8, 8])\n",
            "torch.Size([256, 128, 8, 8])\n"
          ],
          "name": "stdout"
        },
        {
          "output_type": "stream",
          "text": [
            "\r  7%|▋         | 13/196 [00:01<00:21,  8.62it/s]"
          ],
          "name": "stderr"
        },
        {
          "output_type": "stream",
          "text": [
            "torch.Size([256, 32, 32, 32])\n",
            "torch.Size([256, 32, 16, 16])\n",
            "torch.Size([256, 64, 16, 16])\n",
            "torch.Size([256, 64, 8, 8])\n",
            "torch.Size([256, 128, 8, 8])\n",
            "torch.Size([256, 32, 32, 32])\n",
            "torch.Size([256, 32, 16, 16])\n",
            "torch.Size([256, 64, 16, 16])\n",
            "torch.Size([256, 64, 8, 8])\n",
            "torch.Size([256, 128, 8, 8])\n",
            "torch.Size([256, 32, 32, 32])\n",
            "torch.Size([256, 32, 16, 16])\n",
            "torch.Size([256, 64, 16, 16])\n",
            "torch.Size([256, 64, 8, 8])\n",
            "torch.Size([256, 128, 8, 8])\n"
          ],
          "name": "stdout"
        },
        {
          "output_type": "stream",
          "text": [
            "  9%|▊         | 17/196 [00:01<00:17, 10.15it/s]"
          ],
          "name": "stderr"
        },
        {
          "output_type": "stream",
          "text": [
            "torch.Size([256, 32, 32, 32])\n",
            "torch.Size([256, 32, 16, 16])\n",
            "torch.Size([256, 64, 16, 16])\n",
            "torch.Size([256, 64, 8, 8])\n",
            "torch.Size([256, 128, 8, 8])\n",
            "torch.Size([256, 32, 32, 32])\n",
            "torch.Size([256, 32, 16, 16])\n",
            "torch.Size([256, 64, 16, 16])\n",
            "torch.Size([256, 64, 8, 8])\n",
            "torch.Size([256, 128, 8, 8])\n",
            "torch.Size([256, 32, 32, 32])\n",
            "torch.Size([256, 32, 16, 16])\n",
            "torch.Size([256, 64, 16, 16])\n",
            "torch.Size([256, 64, 8, 8])\n",
            "torch.Size([256, 128, 8, 8])\n"
          ],
          "name": "stdout"
        },
        {
          "output_type": "stream",
          "text": [
            "\r 10%|▉         | 19/196 [00:01<00:15, 11.15it/s]"
          ],
          "name": "stderr"
        },
        {
          "output_type": "stream",
          "text": [
            "torch.Size([256, 32, 32, 32])\n",
            "torch.Size([256, 32, 16, 16])\n",
            "torch.Size([256, 64, 16, 16])\n",
            "torch.Size([256, 64, 8, 8])\n",
            "torch.Size([256, 128, 8, 8])\n",
            "torch.Size([256, 32, 32, 32])\n",
            "torch.Size([256, 32, 16, 16])\n",
            "torch.Size([256, 64, 16, 16])\n",
            "torch.Size([256, 64, 8, 8])\n",
            "torch.Size([256, 128, 8, 8])\n",
            "torch.Size([256, 32, 32, 32])\n",
            "torch.Size([256, 32, 16, 16])\n",
            "torch.Size([256, 64, 16, 16])\n",
            "torch.Size([256, 64, 8, 8])\n",
            "torch.Size([256, 128, 8, 8])\n"
          ],
          "name": "stdout"
        },
        {
          "output_type": "stream",
          "text": [
            " 12%|█▏        | 23/196 [00:02<00:14, 12.29it/s]"
          ],
          "name": "stderr"
        },
        {
          "output_type": "stream",
          "text": [
            "torch.Size([256, 32, 32, 32])\n",
            "torch.Size([256, 32, 16, 16])\n",
            "torch.Size([256, 64, 16, 16])\n",
            "torch.Size([256, 64, 8, 8])\n",
            "torch.Size([256, 128, 8, 8])\n",
            "torch.Size([256, 32, 32, 32])\n",
            "torch.Size([256, 32, 16, 16])\n",
            "torch.Size([256, 64, 16, 16])\n",
            "torch.Size([256, 64, 8, 8])\n",
            "torch.Size([256, 128, 8, 8])\n",
            "torch.Size([256, 32, 32, 32])\n",
            "torch.Size([256, 32, 16, 16])\n",
            "torch.Size([256, 64, 16, 16])\n",
            "torch.Size([256, 64, 8, 8])\n",
            "torch.Size([256, 128, 8, 8])\n"
          ],
          "name": "stdout"
        },
        {
          "output_type": "stream",
          "text": [
            "\r 13%|█▎        | 25/196 [00:02<00:13, 12.41it/s]"
          ],
          "name": "stderr"
        },
        {
          "output_type": "stream",
          "text": [
            "torch.Size([256, 32, 32, 32])\n",
            "torch.Size([256, 32, 16, 16])\n",
            "torch.Size([256, 64, 16, 16])\n",
            "torch.Size([256, 64, 8, 8])\n",
            "torch.Size([256, 128, 8, 8])\n",
            "torch.Size([256, 32, 32, 32])\n",
            "torch.Size([256, 32, 16, 16])\n",
            "torch.Size([256, 64, 16, 16])\n",
            "torch.Size([256, 64, 8, 8])\n",
            "torch.Size([256, 128, 8, 8])\n",
            "torch.Size([256, 32, 32, 32])\n",
            "torch.Size([256, 32, 16, 16])\n",
            "torch.Size([256, 64, 16, 16])\n",
            "torch.Size([256, 64, 8, 8])\n",
            "torch.Size([256, 128, 8, 8])\n"
          ],
          "name": "stdout"
        },
        {
          "output_type": "stream",
          "text": [
            " 15%|█▍        | 29/196 [00:02<00:13, 12.72it/s]"
          ],
          "name": "stderr"
        },
        {
          "output_type": "stream",
          "text": [
            "torch.Size([256, 32, 32, 32])\n",
            "torch.Size([256, 32, 16, 16])\n",
            "torch.Size([256, 64, 16, 16])\n",
            "torch.Size([256, 64, 8, 8])\n",
            "torch.Size([256, 128, 8, 8])\n",
            "torch.Size([256, 32, 32, 32])\n",
            "torch.Size([256, 32, 16, 16])\n",
            "torch.Size([256, 64, 16, 16])\n",
            "torch.Size([256, 64, 8, 8])\n",
            "torch.Size([256, 128, 8, 8])\n",
            "torch.Size([256, 32, 32, 32])\n",
            "torch.Size([256, 32, 16, 16])\n",
            "torch.Size([256, 64, 16, 16])\n",
            "torch.Size([256, 64, 8, 8])\n",
            "torch.Size([256, 128, 8, 8])\n"
          ],
          "name": "stdout"
        },
        {
          "output_type": "stream",
          "text": [
            "\r 16%|█▌        | 31/196 [00:02<00:12, 12.92it/s]"
          ],
          "name": "stderr"
        },
        {
          "output_type": "stream",
          "text": [
            "torch.Size([256, 32, 32, 32])\n",
            "torch.Size([256, 32, 16, 16])\n",
            "torch.Size([256, 64, 16, 16])\n",
            "torch.Size([256, 64, 8, 8])\n",
            "torch.Size([256, 128, 8, 8])\n",
            "torch.Size([256, 32, 32, 32])\n",
            "torch.Size([256, 32, 16, 16])\n",
            "torch.Size([256, 64, 16, 16])\n",
            "torch.Size([256, 64, 8, 8])\n",
            "torch.Size([256, 128, 8, 8])\n",
            "torch.Size([256, 32, 32, 32])\n",
            "torch.Size([256, 32, 16, 16])\n",
            "torch.Size([256, 64, 16, 16])\n",
            "torch.Size([256, 64, 8, 8])\n",
            "torch.Size([256, 128, 8, 8])\n"
          ],
          "name": "stdout"
        },
        {
          "output_type": "stream",
          "text": [
            " 18%|█▊        | 35/196 [00:03<00:11, 13.59it/s]"
          ],
          "name": "stderr"
        },
        {
          "output_type": "stream",
          "text": [
            "torch.Size([256, 32, 32, 32])\n",
            "torch.Size([256, 32, 16, 16])\n",
            "torch.Size([256, 64, 16, 16])\n",
            "torch.Size([256, 64, 8, 8])\n",
            "torch.Size([256, 128, 8, 8])\n",
            "torch.Size([256, 32, 32, 32])\n",
            "torch.Size([256, 32, 16, 16])\n",
            "torch.Size([256, 64, 16, 16])\n",
            "torch.Size([256, 64, 8, 8])\n",
            "torch.Size([256, 128, 8, 8])\n",
            "torch.Size([256, 32, 32, 32])\n",
            "torch.Size([256, 32, 16, 16])\n",
            "torch.Size([256, 64, 16, 16])\n",
            "torch.Size([256, 64, 8, 8])\n",
            "torch.Size([256, 128, 8, 8])\n"
          ],
          "name": "stdout"
        },
        {
          "output_type": "stream",
          "text": [
            "\r 19%|█▉        | 37/196 [00:03<00:11, 13.53it/s]"
          ],
          "name": "stderr"
        },
        {
          "output_type": "stream",
          "text": [
            "torch.Size([256, 32, 32, 32])\n",
            "torch.Size([256, 32, 16, 16])\n",
            "torch.Size([256, 64, 16, 16])\n",
            "torch.Size([256, 64, 8, 8])\n",
            "torch.Size([256, 128, 8, 8])\n",
            "torch.Size([256, 32, 32, 32])\n",
            "torch.Size([256, 32, 16, 16])\n",
            "torch.Size([256, 64, 16, 16])\n",
            "torch.Size([256, 64, 8, 8])\n",
            "torch.Size([256, 128, 8, 8])\n",
            "torch.Size([256, 32, 32, 32])\n",
            "torch.Size([256, 32, 16, 16])\n",
            "torch.Size([256, 64, 16, 16])\n",
            "torch.Size([256, 64, 8, 8])\n",
            "torch.Size([256, 128, 8, 8])\n"
          ],
          "name": "stdout"
        },
        {
          "output_type": "stream",
          "text": [
            " 21%|██        | 41/196 [00:03<00:11, 13.78it/s]"
          ],
          "name": "stderr"
        },
        {
          "output_type": "stream",
          "text": [
            "torch.Size([256, 32, 32, 32])\n",
            "torch.Size([256, 32, 16, 16])\n",
            "torch.Size([256, 64, 16, 16])\n",
            "torch.Size([256, 64, 8, 8])\n",
            "torch.Size([256, 128, 8, 8])\n",
            "torch.Size([256, 32, 32, 32])\n",
            "torch.Size([256, 32, 16, 16])\n",
            "torch.Size([256, 64, 16, 16])\n",
            "torch.Size([256, 64, 8, 8])\n",
            "torch.Size([256, 128, 8, 8])\n",
            "torch.Size([256, 32, 32, 32])\n",
            "torch.Size([256, 32, 16, 16])\n",
            "torch.Size([256, 64, 16, 16])\n",
            "torch.Size([256, 64, 8, 8])\n",
            "torch.Size([256, 128, 8, 8])\n"
          ],
          "name": "stdout"
        },
        {
          "output_type": "stream",
          "text": [
            "\r 22%|██▏       | 43/196 [00:03<00:11, 13.85it/s]"
          ],
          "name": "stderr"
        },
        {
          "output_type": "stream",
          "text": [
            "torch.Size([256, 32, 32, 32])\n",
            "torch.Size([256, 32, 16, 16])\n",
            "torch.Size([256, 64, 16, 16])\n",
            "torch.Size([256, 64, 8, 8])\n",
            "torch.Size([256, 128, 8, 8])\n",
            "torch.Size([256, 32, 32, 32])\n",
            "torch.Size([256, 32, 16, 16])\n",
            "torch.Size([256, 64, 16, 16])\n",
            "torch.Size([256, 64, 8, 8])\n",
            "torch.Size([256, 128, 8, 8])\n",
            "torch.Size([256, 32, 32, 32])\n",
            "torch.Size([256, 32, 16, 16])\n",
            "torch.Size([256, 64, 16, 16])\n",
            "torch.Size([256, 64, 8, 8])\n",
            "torch.Size([256, 128, 8, 8])\n"
          ],
          "name": "stdout"
        },
        {
          "output_type": "stream",
          "text": [
            " 24%|██▍       | 47/196 [00:03<00:11, 13.48it/s]"
          ],
          "name": "stderr"
        },
        {
          "output_type": "stream",
          "text": [
            "torch.Size([256, 32, 32, 32])\n",
            "torch.Size([256, 32, 16, 16])\n",
            "torch.Size([256, 64, 16, 16])\n",
            "torch.Size([256, 64, 8, 8])\n",
            "torch.Size([256, 128, 8, 8])\n",
            "torch.Size([256, 32, 32, 32])\n",
            "torch.Size([256, 32, 16, 16])\n",
            "torch.Size([256, 64, 16, 16])\n",
            "torch.Size([256, 64, 8, 8])\n",
            "torch.Size([256, 128, 8, 8])\n",
            "torch.Size([256, 32, 32, 32])\n",
            "torch.Size([256, 32, 16, 16])\n",
            "torch.Size([256, 64, 16, 16])\n",
            "torch.Size([256, 64, 8, 8])\n",
            "torch.Size([256, 128, 8, 8])\n"
          ],
          "name": "stdout"
        },
        {
          "output_type": "stream",
          "text": [
            "\r 25%|██▌       | 49/196 [00:04<00:11, 13.33it/s]"
          ],
          "name": "stderr"
        },
        {
          "output_type": "stream",
          "text": [
            "torch.Size([256, 32, 32, 32])\n",
            "torch.Size([256, 32, 16, 16])\n",
            "torch.Size([256, 64, 16, 16])\n",
            "torch.Size([256, 64, 8, 8])\n",
            "torch.Size([256, 128, 8, 8])\n",
            "torch.Size([256, 32, 32, 32])\n",
            "torch.Size([256, 32, 16, 16])\n",
            "torch.Size([256, 64, 16, 16])\n",
            "torch.Size([256, 64, 8, 8])\n",
            "torch.Size([256, 128, 8, 8])\n",
            "torch.Size([256, 32, 32, 32])\n",
            "torch.Size([256, 32, 16, 16])\n",
            "torch.Size([256, 64, 16, 16])\n",
            "torch.Size([256, 64, 8, 8])\n",
            "torch.Size([256, 128, 8, 8])\n"
          ],
          "name": "stdout"
        },
        {
          "output_type": "stream",
          "text": [
            " 27%|██▋       | 53/196 [00:04<00:10, 13.52it/s]"
          ],
          "name": "stderr"
        },
        {
          "output_type": "stream",
          "text": [
            "torch.Size([256, 32, 32, 32])\n",
            "torch.Size([256, 32, 16, 16])\n",
            "torch.Size([256, 64, 16, 16])\n",
            "torch.Size([256, 64, 8, 8])\n",
            "torch.Size([256, 128, 8, 8])\n",
            "torch.Size([256, 32, 32, 32])\n",
            "torch.Size([256, 32, 16, 16])\n",
            "torch.Size([256, 64, 16, 16])\n",
            "torch.Size([256, 64, 8, 8])\n",
            "torch.Size([256, 128, 8, 8])\n",
            "torch.Size([256, 32, 32, 32])\n",
            "torch.Size([256, 32, 16, 16])\n",
            "torch.Size([256, 64, 16, 16])\n",
            "torch.Size([256, 64, 8, 8])\n",
            "torch.Size([256, 128, 8, 8])\n"
          ],
          "name": "stdout"
        },
        {
          "output_type": "stream",
          "text": [
            "\r 28%|██▊       | 55/196 [00:04<00:10, 13.50it/s]"
          ],
          "name": "stderr"
        },
        {
          "output_type": "stream",
          "text": [
            "torch.Size([256, 32, 32, 32])\n",
            "torch.Size([256, 32, 16, 16])\n",
            "torch.Size([256, 64, 16, 16])\n",
            "torch.Size([256, 64, 8, 8])\n",
            "torch.Size([256, 128, 8, 8])\n",
            "torch.Size([256, 32, 32, 32])\n",
            "torch.Size([256, 32, 16, 16])\n",
            "torch.Size([256, 64, 16, 16])\n",
            "torch.Size([256, 64, 8, 8])\n",
            "torch.Size([256, 128, 8, 8])\n",
            "torch.Size([256, 32, 32, 32])\n",
            "torch.Size([256, 32, 16, 16])\n",
            "torch.Size([256, 64, 16, 16])\n",
            "torch.Size([256, 64, 8, 8])\n",
            "torch.Size([256, 128, 8, 8])\n"
          ],
          "name": "stdout"
        },
        {
          "output_type": "stream",
          "text": [
            " 30%|███       | 59/196 [00:04<00:09, 13.71it/s]"
          ],
          "name": "stderr"
        },
        {
          "output_type": "stream",
          "text": [
            "torch.Size([256, 32, 32, 32])\n",
            "torch.Size([256, 32, 16, 16])\n",
            "torch.Size([256, 64, 16, 16])\n",
            "torch.Size([256, 64, 8, 8])\n",
            "torch.Size([256, 128, 8, 8])\n",
            "torch.Size([256, 32, 32, 32])\n",
            "torch.Size([256, 32, 16, 16])\n",
            "torch.Size([256, 64, 16, 16])\n",
            "torch.Size([256, 64, 8, 8])\n",
            "torch.Size([256, 128, 8, 8])\n",
            "torch.Size([256, 32, 32, 32])\n",
            "torch.Size([256, 32, 16, 16])\n",
            "torch.Size([256, 64, 16, 16])\n",
            "torch.Size([256, 64, 8, 8])\n",
            "torch.Size([256, 128, 8, 8])\n"
          ],
          "name": "stdout"
        },
        {
          "output_type": "stream",
          "text": [
            "\r 31%|███       | 61/196 [00:04<00:09, 13.61it/s]"
          ],
          "name": "stderr"
        },
        {
          "output_type": "stream",
          "text": [
            "torch.Size([256, 32, 32, 32])\n",
            "torch.Size([256, 32, 16, 16])\n",
            "torch.Size([256, 64, 16, 16])\n",
            "torch.Size([256, 64, 8, 8])\n",
            "torch.Size([256, 128, 8, 8])\n",
            "torch.Size([256, 32, 32, 32])\n",
            "torch.Size([256, 32, 16, 16])\n",
            "torch.Size([256, 64, 16, 16])\n",
            "torch.Size([256, 64, 8, 8])\n",
            "torch.Size([256, 128, 8, 8])\n",
            "torch.Size([256, 32, 32, 32])\n",
            "torch.Size([256, 32, 16, 16])\n",
            "torch.Size([256, 64, 16, 16])\n",
            "torch.Size([256, 64, 8, 8])\n",
            "torch.Size([256, 128, 8, 8])\n"
          ],
          "name": "stdout"
        },
        {
          "output_type": "stream",
          "text": [
            " 33%|███▎      | 65/196 [00:05<00:09, 13.78it/s]"
          ],
          "name": "stderr"
        },
        {
          "output_type": "stream",
          "text": [
            "torch.Size([256, 32, 32, 32])\n",
            "torch.Size([256, 32, 16, 16])\n",
            "torch.Size([256, 64, 16, 16])\n",
            "torch.Size([256, 64, 8, 8])\n",
            "torch.Size([256, 128, 8, 8])\n",
            "torch.Size([256, 32, 32, 32])\n",
            "torch.Size([256, 32, 16, 16])\n",
            "torch.Size([256, 64, 16, 16])\n",
            "torch.Size([256, 64, 8, 8])\n",
            "torch.Size([256, 128, 8, 8])\n",
            "torch.Size([256, 32, 32, 32])\n",
            "torch.Size([256, 32, 16, 16])\n",
            "torch.Size([256, 64, 16, 16])\n",
            "torch.Size([256, 64, 8, 8])\n",
            "torch.Size([256, 128, 8, 8])\n"
          ],
          "name": "stdout"
        },
        {
          "output_type": "stream",
          "text": [
            "\r 34%|███▍      | 67/196 [00:05<00:09, 13.89it/s]"
          ],
          "name": "stderr"
        },
        {
          "output_type": "stream",
          "text": [
            "torch.Size([256, 32, 32, 32])\n",
            "torch.Size([256, 32, 16, 16])\n",
            "torch.Size([256, 64, 16, 16])\n",
            "torch.Size([256, 64, 8, 8])\n",
            "torch.Size([256, 128, 8, 8])\n",
            "torch.Size([256, 32, 32, 32])\n",
            "torch.Size([256, 32, 16, 16])\n",
            "torch.Size([256, 64, 16, 16])\n",
            "torch.Size([256, 64, 8, 8])\n",
            "torch.Size([256, 128, 8, 8])\n",
            "torch.Size([256, 32, 32, 32])\n",
            "torch.Size([256, 32, 16, 16])\n",
            "torch.Size([256, 64, 16, 16])\n",
            "torch.Size([256, 64, 8, 8])\n",
            "torch.Size([256, 128, 8, 8])\n"
          ],
          "name": "stdout"
        },
        {
          "output_type": "stream",
          "text": [
            " 36%|███▌      | 71/196 [00:05<00:09, 13.33it/s]"
          ],
          "name": "stderr"
        },
        {
          "output_type": "stream",
          "text": [
            "torch.Size([256, 32, 32, 32])\n",
            "torch.Size([256, 32, 16, 16])\n",
            "torch.Size([256, 64, 16, 16])\n",
            "torch.Size([256, 64, 8, 8])\n",
            "torch.Size([256, 128, 8, 8])\n",
            "torch.Size([256, 32, 32, 32])\n",
            "torch.Size([256, 32, 16, 16])\n",
            "torch.Size([256, 64, 16, 16])\n",
            "torch.Size([256, 64, 8, 8])\n",
            "torch.Size([256, 128, 8, 8])\n",
            "torch.Size([256, 32, 32, 32])\n",
            "torch.Size([256, 32, 16, 16])\n",
            "torch.Size([256, 64, 16, 16])\n",
            "torch.Size([256, 64, 8, 8])\n",
            "torch.Size([256, 128, 8, 8])\n"
          ],
          "name": "stdout"
        },
        {
          "output_type": "stream",
          "text": [
            "\r 37%|███▋      | 73/196 [00:05<00:09, 13.34it/s]"
          ],
          "name": "stderr"
        },
        {
          "output_type": "stream",
          "text": [
            "torch.Size([256, 32, 32, 32])\n",
            "torch.Size([256, 32, 16, 16])\n",
            "torch.Size([256, 64, 16, 16])\n",
            "torch.Size([256, 64, 8, 8])\n",
            "torch.Size([256, 128, 8, 8])\n",
            "torch.Size([256, 32, 32, 32])\n",
            "torch.Size([256, 32, 16, 16])\n",
            "torch.Size([256, 64, 16, 16])\n",
            "torch.Size([256, 64, 8, 8])\n",
            "torch.Size([256, 128, 8, 8])\n",
            "torch.Size([256, 32, 32, 32])\n",
            "torch.Size([256, 32, 16, 16])\n",
            "torch.Size([256, 64, 16, 16])\n",
            "torch.Size([256, 64, 8, 8])\n",
            "torch.Size([256, 128, 8, 8])\n"
          ],
          "name": "stdout"
        },
        {
          "output_type": "stream",
          "text": [
            " 39%|███▉      | 77/196 [00:06<00:08, 13.74it/s]"
          ],
          "name": "stderr"
        },
        {
          "output_type": "stream",
          "text": [
            "torch.Size([256, 32, 32, 32])\n",
            "torch.Size([256, 32, 16, 16])\n",
            "torch.Size([256, 64, 16, 16])\n",
            "torch.Size([256, 64, 8, 8])\n",
            "torch.Size([256, 128, 8, 8])\n",
            "torch.Size([256, 32, 32, 32])\n",
            "torch.Size([256, 32, 16, 16])\n",
            "torch.Size([256, 64, 16, 16])\n",
            "torch.Size([256, 64, 8, 8])\n",
            "torch.Size([256, 128, 8, 8])\n",
            "torch.Size([256, 32, 32, 32])\n",
            "torch.Size([256, 32, 16, 16])\n",
            "torch.Size([256, 64, 16, 16])\n",
            "torch.Size([256, 64, 8, 8])\n",
            "torch.Size([256, 128, 8, 8])\n"
          ],
          "name": "stdout"
        },
        {
          "output_type": "stream",
          "text": [
            "\r 40%|████      | 79/196 [00:06<00:08, 13.33it/s]"
          ],
          "name": "stderr"
        },
        {
          "output_type": "stream",
          "text": [
            "torch.Size([256, 32, 32, 32])\n",
            "torch.Size([256, 32, 16, 16])\n",
            "torch.Size([256, 64, 16, 16])\n",
            "torch.Size([256, 64, 8, 8])\n",
            "torch.Size([256, 128, 8, 8])\n",
            "torch.Size([256, 32, 32, 32])\n",
            "torch.Size([256, 32, 16, 16])\n",
            "torch.Size([256, 64, 16, 16])\n",
            "torch.Size([256, 64, 8, 8])\n",
            "torch.Size([256, 128, 8, 8])\n",
            "torch.Size([256, 32, 32, 32])\n",
            "torch.Size([256, 32, 16, 16])\n",
            "torch.Size([256, 64, 16, 16])\n",
            "torch.Size([256, 64, 8, 8])\n",
            "torch.Size([256, 128, 8, 8])\n"
          ],
          "name": "stdout"
        },
        {
          "output_type": "stream",
          "text": [
            " 42%|████▏     | 83/196 [00:06<00:08, 12.77it/s]"
          ],
          "name": "stderr"
        },
        {
          "output_type": "stream",
          "text": [
            "torch.Size([256, 32, 32, 32])\n",
            "torch.Size([256, 32, 16, 16])\n",
            "torch.Size([256, 64, 16, 16])\n",
            "torch.Size([256, 64, 8, 8])\n",
            "torch.Size([256, 128, 8, 8])\n",
            "torch.Size([256, 32, 32, 32])\n",
            "torch.Size([256, 32, 16, 16])\n",
            "torch.Size([256, 64, 16, 16])\n",
            "torch.Size([256, 64, 8, 8])\n",
            "torch.Size([256, 128, 8, 8])\n",
            "torch.Size([256, 32, 32, 32])\n",
            "torch.Size([256, 32, 16, 16])\n",
            "torch.Size([256, 64, 16, 16])\n",
            "torch.Size([256, 64, 8, 8])\n",
            "torch.Size([256, 128, 8, 8])\n"
          ],
          "name": "stdout"
        },
        {
          "output_type": "stream",
          "text": [
            "\r 43%|████▎     | 85/196 [00:06<00:08, 13.15it/s]"
          ],
          "name": "stderr"
        },
        {
          "output_type": "stream",
          "text": [
            "torch.Size([256, 32, 32, 32])\n",
            "torch.Size([256, 32, 16, 16])\n",
            "torch.Size([256, 64, 16, 16])\n",
            "torch.Size([256, 64, 8, 8])\n",
            "torch.Size([256, 128, 8, 8])\n",
            "torch.Size([256, 32, 32, 32])\n",
            "torch.Size([256, 32, 16, 16])\n",
            "torch.Size([256, 64, 16, 16])\n",
            "torch.Size([256, 64, 8, 8])\n",
            "torch.Size([256, 128, 8, 8])\n",
            "torch.Size([256, 32, 32, 32])\n",
            "torch.Size([256, 32, 16, 16])\n",
            "torch.Size([256, 64, 16, 16])\n",
            "torch.Size([256, 64, 8, 8])\n",
            "torch.Size([256, 128, 8, 8])\n"
          ],
          "name": "stdout"
        },
        {
          "output_type": "stream",
          "text": [
            " 45%|████▌     | 89/196 [00:07<00:08, 12.98it/s]"
          ],
          "name": "stderr"
        },
        {
          "output_type": "stream",
          "text": [
            "torch.Size([256, 32, 32, 32])\n",
            "torch.Size([256, 32, 16, 16])\n",
            "torch.Size([256, 64, 16, 16])\n",
            "torch.Size([256, 64, 8, 8])\n",
            "torch.Size([256, 128, 8, 8])\n",
            "torch.Size([256, 32, 32, 32])\n",
            "torch.Size([256, 32, 16, 16])\n",
            "torch.Size([256, 64, 16, 16])\n",
            "torch.Size([256, 64, 8, 8])\n",
            "torch.Size([256, 128, 8, 8])\n",
            "torch.Size([256, 32, 32, 32])\n",
            "torch.Size([256, 32, 16, 16])\n",
            "torch.Size([256, 64, 16, 16])\n",
            "torch.Size([256, 64, 8, 8])\n",
            "torch.Size([256, 128, 8, 8])\n"
          ],
          "name": "stdout"
        },
        {
          "output_type": "stream",
          "text": [
            "\r 46%|████▋     | 91/196 [00:07<00:08, 13.04it/s]"
          ],
          "name": "stderr"
        },
        {
          "output_type": "stream",
          "text": [
            "torch.Size([256, 32, 32, 32])\n",
            "torch.Size([256, 32, 16, 16])\n",
            "torch.Size([256, 64, 16, 16])\n",
            "torch.Size([256, 64, 8, 8])\n",
            "torch.Size([256, 128, 8, 8])\n",
            "torch.Size([256, 32, 32, 32])\n",
            "torch.Size([256, 32, 16, 16])\n",
            "torch.Size([256, 64, 16, 16])\n",
            "torch.Size([256, 64, 8, 8])\n",
            "torch.Size([256, 128, 8, 8])\n",
            "torch.Size([256, 32, 32, 32])\n",
            "torch.Size([256, 32, 16, 16])\n",
            "torch.Size([256, 64, 16, 16])\n",
            "torch.Size([256, 64, 8, 8])\n",
            "torch.Size([256, 128, 8, 8])\n"
          ],
          "name": "stdout"
        },
        {
          "output_type": "stream",
          "text": [
            " 48%|████▊     | 95/196 [00:07<00:07, 13.65it/s]"
          ],
          "name": "stderr"
        },
        {
          "output_type": "stream",
          "text": [
            "torch.Size([256, 32, 32, 32])\n",
            "torch.Size([256, 32, 16, 16])\n",
            "torch.Size([256, 64, 16, 16])\n",
            "torch.Size([256, 64, 8, 8])\n",
            "torch.Size([256, 128, 8, 8])\n",
            "torch.Size([256, 32, 32, 32])\n",
            "torch.Size([256, 32, 16, 16])\n",
            "torch.Size([256, 64, 16, 16])\n",
            "torch.Size([256, 64, 8, 8])\n",
            "torch.Size([256, 128, 8, 8])\n",
            "torch.Size([256, 32, 32, 32])\n",
            "torch.Size([256, 32, 16, 16])\n",
            "torch.Size([256, 64, 16, 16])\n",
            "torch.Size([256, 64, 8, 8])\n",
            "torch.Size([256, 128, 8, 8])\n"
          ],
          "name": "stdout"
        },
        {
          "output_type": "stream",
          "text": [
            "\r 49%|████▉     | 97/196 [00:07<00:07, 13.81it/s]"
          ],
          "name": "stderr"
        },
        {
          "output_type": "stream",
          "text": [
            "torch.Size([256, 32, 32, 32])\n",
            "torch.Size([256, 32, 16, 16])\n",
            "torch.Size([256, 64, 16, 16])\n",
            "torch.Size([256, 64, 8, 8])\n",
            "torch.Size([256, 128, 8, 8])\n",
            "torch.Size([256, 32, 32, 32])\n",
            "torch.Size([256, 32, 16, 16])\n",
            "torch.Size([256, 64, 16, 16])\n",
            "torch.Size([256, 64, 8, 8])\n",
            "torch.Size([256, 128, 8, 8])\n",
            "torch.Size([256, 32, 32, 32])\n",
            "torch.Size([256, 32, 16, 16])\n",
            "torch.Size([256, 64, 16, 16])\n",
            "torch.Size([256, 64, 8, 8])\n",
            "torch.Size([256, 128, 8, 8])\n"
          ],
          "name": "stdout"
        },
        {
          "output_type": "stream",
          "text": [
            " 52%|█████▏    | 101/196 [00:07<00:06, 13.84it/s]"
          ],
          "name": "stderr"
        },
        {
          "output_type": "stream",
          "text": [
            "torch.Size([256, 32, 32, 32])\n",
            "torch.Size([256, 32, 16, 16])\n",
            "torch.Size([256, 64, 16, 16])\n",
            "torch.Size([256, 64, 8, 8])\n",
            "torch.Size([256, 128, 8, 8])\n",
            "torch.Size([256, 32, 32, 32])\n",
            "torch.Size([256, 32, 16, 16])\n",
            "torch.Size([256, 64, 16, 16])\n",
            "torch.Size([256, 64, 8, 8])\n",
            "torch.Size([256, 128, 8, 8])\n",
            "torch.Size([256, 32, 32, 32])\n",
            "torch.Size([256, 32, 16, 16])\n",
            "torch.Size([256, 64, 16, 16])\n",
            "torch.Size([256, 64, 8, 8])\n",
            "torch.Size([256, 128, 8, 8])\n"
          ],
          "name": "stdout"
        },
        {
          "output_type": "stream",
          "text": [
            "\r 53%|█████▎    | 103/196 [00:08<00:06, 13.71it/s]"
          ],
          "name": "stderr"
        },
        {
          "output_type": "stream",
          "text": [
            "torch.Size([256, 32, 32, 32])\n",
            "torch.Size([256, 32, 16, 16])\n",
            "torch.Size([256, 64, 16, 16])\n",
            "torch.Size([256, 64, 8, 8])\n",
            "torch.Size([256, 128, 8, 8])\n",
            "torch.Size([256, 32, 32, 32])\n",
            "torch.Size([256, 32, 16, 16])\n",
            "torch.Size([256, 64, 16, 16])\n",
            "torch.Size([256, 64, 8, 8])\n",
            "torch.Size([256, 128, 8, 8])\n",
            "torch.Size([256, 32, 32, 32])\n",
            "torch.Size([256, 32, 16, 16])\n",
            "torch.Size([256, 64, 16, 16])\n",
            "torch.Size([256, 64, 8, 8])\n",
            "torch.Size([256, 128, 8, 8])\n"
          ],
          "name": "stdout"
        },
        {
          "output_type": "stream",
          "text": [
            " 55%|█████▍    | 107/196 [00:08<00:06, 13.50it/s]"
          ],
          "name": "stderr"
        },
        {
          "output_type": "stream",
          "text": [
            "torch.Size([256, 32, 32, 32])\n",
            "torch.Size([256, 32, 16, 16])\n",
            "torch.Size([256, 64, 16, 16])\n",
            "torch.Size([256, 64, 8, 8])\n",
            "torch.Size([256, 128, 8, 8])\n",
            "torch.Size([256, 32, 32, 32])\n",
            "torch.Size([256, 32, 16, 16])\n",
            "torch.Size([256, 64, 16, 16])\n",
            "torch.Size([256, 64, 8, 8])\n",
            "torch.Size([256, 128, 8, 8])\n",
            "torch.Size([256, 32, 32, 32])\n",
            "torch.Size([256, 32, 16, 16])\n",
            "torch.Size([256, 64, 16, 16])\n",
            "torch.Size([256, 64, 8, 8])\n",
            "torch.Size([256, 128, 8, 8])\n"
          ],
          "name": "stdout"
        },
        {
          "output_type": "stream",
          "text": [
            "\r 56%|█████▌    | 109/196 [00:08<00:06, 13.72it/s]"
          ],
          "name": "stderr"
        },
        {
          "output_type": "stream",
          "text": [
            "torch.Size([256, 32, 32, 32])\n",
            "torch.Size([256, 32, 16, 16])\n",
            "torch.Size([256, 64, 16, 16])\n",
            "torch.Size([256, 64, 8, 8])\n",
            "torch.Size([256, 128, 8, 8])\n",
            "torch.Size([256, 32, 32, 32])\n",
            "torch.Size([256, 32, 16, 16])\n",
            "torch.Size([256, 64, 16, 16])\n",
            "torch.Size([256, 64, 8, 8])\n",
            "torch.Size([256, 128, 8, 8])\n",
            "torch.Size([256, 32, 32, 32])\n",
            "torch.Size([256, 32, 16, 16])\n",
            "torch.Size([256, 64, 16, 16])\n",
            "torch.Size([256, 64, 8, 8])\n",
            "torch.Size([256, 128, 8, 8])\n"
          ],
          "name": "stdout"
        },
        {
          "output_type": "stream",
          "text": [
            " 58%|█████▊    | 113/196 [00:08<00:06, 13.74it/s]"
          ],
          "name": "stderr"
        },
        {
          "output_type": "stream",
          "text": [
            "torch.Size([256, 32, 32, 32])\n",
            "torch.Size([256, 32, 16, 16])\n",
            "torch.Size([256, 64, 16, 16])\n",
            "torch.Size([256, 64, 8, 8])\n",
            "torch.Size([256, 128, 8, 8])\n",
            "torch.Size([256, 32, 32, 32])\n",
            "torch.Size([256, 32, 16, 16])\n",
            "torch.Size([256, 64, 16, 16])\n",
            "torch.Size([256, 64, 8, 8])\n",
            "torch.Size([256, 128, 8, 8])\n",
            "torch.Size([256, 32, 32, 32])\n",
            "torch.Size([256, 32, 16, 16])\n",
            "torch.Size([256, 64, 16, 16])\n",
            "torch.Size([256, 64, 8, 8])\n",
            "torch.Size([256, 128, 8, 8])\n"
          ],
          "name": "stdout"
        },
        {
          "output_type": "stream",
          "text": [
            "\r 59%|█████▊    | 115/196 [00:08<00:05, 13.53it/s]"
          ],
          "name": "stderr"
        },
        {
          "output_type": "stream",
          "text": [
            "torch.Size([256, 32, 32, 32])\n",
            "torch.Size([256, 32, 16, 16])\n",
            "torch.Size([256, 64, 16, 16])\n",
            "torch.Size([256, 64, 8, 8])\n",
            "torch.Size([256, 128, 8, 8])\n",
            "torch.Size([256, 32, 32, 32])\n",
            "torch.Size([256, 32, 16, 16])\n",
            "torch.Size([256, 64, 16, 16])\n",
            "torch.Size([256, 64, 8, 8])\n",
            "torch.Size([256, 128, 8, 8])\n",
            "torch.Size([256, 32, 32, 32])\n",
            "torch.Size([256, 32, 16, 16])\n",
            "torch.Size([256, 64, 16, 16])\n",
            "torch.Size([256, 64, 8, 8])\n",
            "torch.Size([256, 128, 8, 8])\n"
          ],
          "name": "stdout"
        },
        {
          "output_type": "stream",
          "text": [
            " 61%|██████    | 119/196 [00:09<00:05, 13.92it/s]"
          ],
          "name": "stderr"
        },
        {
          "output_type": "stream",
          "text": [
            "torch.Size([256, 32, 32, 32])\n",
            "torch.Size([256, 32, 16, 16])\n",
            "torch.Size([256, 64, 16, 16])\n",
            "torch.Size([256, 64, 8, 8])\n",
            "torch.Size([256, 128, 8, 8])\n",
            "torch.Size([256, 32, 32, 32])\n",
            "torch.Size([256, 32, 16, 16])\n",
            "torch.Size([256, 64, 16, 16])\n",
            "torch.Size([256, 64, 8, 8])\n",
            "torch.Size([256, 128, 8, 8])\n",
            "torch.Size([256, 32, 32, 32])\n",
            "torch.Size([256, 32, 16, 16])\n",
            "torch.Size([256, 64, 16, 16])\n",
            "torch.Size([256, 64, 8, 8])\n",
            "torch.Size([256, 128, 8, 8])\n"
          ],
          "name": "stdout"
        },
        {
          "output_type": "stream",
          "text": [
            "\r 62%|██████▏   | 121/196 [00:09<00:05, 13.95it/s]"
          ],
          "name": "stderr"
        },
        {
          "output_type": "stream",
          "text": [
            "torch.Size([256, 32, 32, 32])\n",
            "torch.Size([256, 32, 16, 16])\n",
            "torch.Size([256, 64, 16, 16])\n",
            "torch.Size([256, 64, 8, 8])\n",
            "torch.Size([256, 128, 8, 8])\n",
            "torch.Size([256, 32, 32, 32])\n",
            "torch.Size([256, 32, 16, 16])\n",
            "torch.Size([256, 64, 16, 16])\n",
            "torch.Size([256, 64, 8, 8])\n",
            "torch.Size([256, 128, 8, 8])\n",
            "torch.Size([256, 32, 32, 32])\n",
            "torch.Size([256, 32, 16, 16])\n",
            "torch.Size([256, 64, 16, 16])\n",
            "torch.Size([256, 64, 8, 8])\n",
            "torch.Size([256, 128, 8, 8])\n"
          ],
          "name": "stdout"
        },
        {
          "output_type": "stream",
          "text": [
            " 64%|██████▍   | 125/196 [00:09<00:05, 13.52it/s]"
          ],
          "name": "stderr"
        },
        {
          "output_type": "stream",
          "text": [
            "torch.Size([256, 32, 32, 32])\n",
            "torch.Size([256, 32, 16, 16])\n",
            "torch.Size([256, 64, 16, 16])\n",
            "torch.Size([256, 64, 8, 8])\n",
            "torch.Size([256, 128, 8, 8])\n",
            "torch.Size([256, 32, 32, 32])\n",
            "torch.Size([256, 32, 16, 16])\n",
            "torch.Size([256, 64, 16, 16])\n",
            "torch.Size([256, 64, 8, 8])\n",
            "torch.Size([256, 128, 8, 8])\n",
            "torch.Size([256, 32, 32, 32])\n",
            "torch.Size([256, 32, 16, 16])\n",
            "torch.Size([256, 64, 16, 16])\n",
            "torch.Size([256, 64, 8, 8])\n",
            "torch.Size([256, 128, 8, 8])\n"
          ],
          "name": "stdout"
        },
        {
          "output_type": "stream",
          "text": [
            "\r 65%|██████▍   | 127/196 [00:09<00:05, 13.73it/s]"
          ],
          "name": "stderr"
        },
        {
          "output_type": "stream",
          "text": [
            "torch.Size([256, 32, 32, 32])\n",
            "torch.Size([256, 32, 16, 16])\n",
            "torch.Size([256, 64, 16, 16])\n",
            "torch.Size([256, 64, 8, 8])\n",
            "torch.Size([256, 128, 8, 8])\n",
            "torch.Size([256, 32, 32, 32])\n",
            "torch.Size([256, 32, 16, 16])\n",
            "torch.Size([256, 64, 16, 16])\n",
            "torch.Size([256, 64, 8, 8])\n",
            "torch.Size([256, 128, 8, 8])\n",
            "torch.Size([256, 32, 32, 32])\n",
            "torch.Size([256, 32, 16, 16])\n",
            "torch.Size([256, 64, 16, 16])\n",
            "torch.Size([256, 64, 8, 8])\n",
            "torch.Size([256, 128, 8, 8])\n"
          ],
          "name": "stdout"
        },
        {
          "output_type": "stream",
          "text": [
            " 67%|██████▋   | 131/196 [00:10<00:04, 13.07it/s]"
          ],
          "name": "stderr"
        },
        {
          "output_type": "stream",
          "text": [
            "torch.Size([256, 32, 32, 32])\n",
            "torch.Size([256, 32, 16, 16])\n",
            "torch.Size([256, 64, 16, 16])\n",
            "torch.Size([256, 64, 8, 8])\n",
            "torch.Size([256, 128, 8, 8])\n",
            "torch.Size([256, 32, 32, 32])\n",
            "torch.Size([256, 32, 16, 16])\n",
            "torch.Size([256, 64, 16, 16])\n",
            "torch.Size([256, 64, 8, 8])\n",
            "torch.Size([256, 128, 8, 8])\n",
            "torch.Size([256, 32, 32, 32])\n",
            "torch.Size([256, 32, 16, 16])\n",
            "torch.Size([256, 64, 16, 16])\n",
            "torch.Size([256, 64, 8, 8])\n",
            "torch.Size([256, 128, 8, 8])\n"
          ],
          "name": "stdout"
        },
        {
          "output_type": "stream",
          "text": [
            " 69%|██████▉   | 135/196 [00:10<00:04, 13.53it/s]"
          ],
          "name": "stderr"
        },
        {
          "output_type": "stream",
          "text": [
            "torch.Size([256, 32, 32, 32])\n",
            "torch.Size([256, 32, 16, 16])\n",
            "torch.Size([256, 64, 16, 16])\n",
            "torch.Size([256, 64, 8, 8])\n",
            "torch.Size([256, 128, 8, 8])\n",
            "torch.Size([256, 32, 32, 32])\n",
            "torch.Size([256, 32, 16, 16])\n",
            "torch.Size([256, 64, 16, 16])\n",
            "torch.Size([256, 64, 8, 8])\n",
            "torch.Size([256, 128, 8, 8])\n",
            "torch.Size([256, 32, 32, 32])\n",
            "torch.Size([256, 32, 16, 16])\n",
            "torch.Size([256, 64, 16, 16])\n",
            "torch.Size([256, 64, 8, 8])\n",
            "torch.Size([256, 128, 8, 8])\n"
          ],
          "name": "stdout"
        },
        {
          "output_type": "stream",
          "text": [
            "\r 70%|██████▉   | 137/196 [00:10<00:04, 13.62it/s]"
          ],
          "name": "stderr"
        },
        {
          "output_type": "stream",
          "text": [
            "torch.Size([256, 32, 32, 32])\n",
            "torch.Size([256, 32, 16, 16])\n",
            "torch.Size([256, 64, 16, 16])\n",
            "torch.Size([256, 64, 8, 8])\n",
            "torch.Size([256, 128, 8, 8])\n",
            "torch.Size([256, 32, 32, 32])\n",
            "torch.Size([256, 32, 16, 16])\n",
            "torch.Size([256, 64, 16, 16])\n",
            "torch.Size([256, 64, 8, 8])\n",
            "torch.Size([256, 128, 8, 8])\n",
            "torch.Size([256, 32, 32, 32])\n",
            "torch.Size([256, 32, 16, 16])\n",
            "torch.Size([256, 64, 16, 16])\n",
            "torch.Size([256, 64, 8, 8])\n",
            "torch.Size([256, 128, 8, 8])\n"
          ],
          "name": "stdout"
        },
        {
          "output_type": "stream",
          "text": [
            "\r 71%|███████   | 139/196 [00:10<00:04, 13.36it/s]"
          ],
          "name": "stderr"
        },
        {
          "output_type": "stream",
          "text": [
            "torch.Size([256, 32, 32, 32])\n",
            "torch.Size([256, 32, 16, 16])\n",
            "torch.Size([256, 64, 16, 16])\n",
            "torch.Size([256, 64, 8, 8])\n",
            "torch.Size([256, 128, 8, 8])\n",
            "torch.Size([256, 32, 32, 32])\n",
            "torch.Size([256, 32, 16, 16])\n",
            "torch.Size([256, 64, 16, 16])\n",
            "torch.Size([256, 64, 8, 8])\n",
            "torch.Size([256, 128, 8, 8])\n",
            "torch.Size([256, 32, 32, 32])\n",
            "torch.Size([256, 32, 16, 16])\n",
            "torch.Size([256, 64, 16, 16])\n",
            "torch.Size([256, 64, 8, 8])\n",
            "torch.Size([256, 128, 8, 8])\n"
          ],
          "name": "stdout"
        },
        {
          "output_type": "stream",
          "text": [
            " 73%|███████▎  | 143/196 [00:11<00:03, 13.67it/s]"
          ],
          "name": "stderr"
        },
        {
          "output_type": "stream",
          "text": [
            "torch.Size([256, 32, 32, 32])\n",
            "torch.Size([256, 32, 16, 16])\n",
            "torch.Size([256, 64, 16, 16])\n",
            "torch.Size([256, 64, 8, 8])\n",
            "torch.Size([256, 128, 8, 8])\n",
            "torch.Size([256, 32, 32, 32])\n",
            "torch.Size([256, 32, 16, 16])\n",
            "torch.Size([256, 64, 16, 16])\n",
            "torch.Size([256, 64, 8, 8])\n",
            "torch.Size([256, 128, 8, 8])\n",
            "torch.Size([256, 32, 32, 32])\n",
            "torch.Size([256, 32, 16, 16])\n",
            "torch.Size([256, 64, 16, 16])\n",
            "torch.Size([256, 64, 8, 8])\n",
            "torch.Size([256, 128, 8, 8])\n"
          ],
          "name": "stdout"
        },
        {
          "output_type": "stream",
          "text": [
            "\r 74%|███████▍  | 145/196 [00:11<00:03, 13.81it/s]"
          ],
          "name": "stderr"
        },
        {
          "output_type": "stream",
          "text": [
            "torch.Size([256, 32, 32, 32])\n",
            "torch.Size([256, 32, 16, 16])\n",
            "torch.Size([256, 64, 16, 16])\n",
            "torch.Size([256, 64, 8, 8])\n",
            "torch.Size([256, 128, 8, 8])\n",
            "torch.Size([256, 32, 32, 32])\n",
            "torch.Size([256, 32, 16, 16])\n",
            "torch.Size([256, 64, 16, 16])\n",
            "torch.Size([256, 64, 8, 8])\n",
            "torch.Size([256, 128, 8, 8])\n",
            "torch.Size([256, 32, 32, 32])\n",
            "torch.Size([256, 32, 16, 16])\n",
            "torch.Size([256, 64, 16, 16])\n",
            "torch.Size([256, 64, 8, 8])\n",
            "torch.Size([256, 128, 8, 8])\n"
          ],
          "name": "stdout"
        },
        {
          "output_type": "stream",
          "text": [
            " 76%|███████▌  | 149/196 [00:11<00:03, 13.70it/s]"
          ],
          "name": "stderr"
        },
        {
          "output_type": "stream",
          "text": [
            "torch.Size([256, 32, 32, 32])\n",
            "torch.Size([256, 32, 16, 16])\n",
            "torch.Size([256, 64, 16, 16])\n",
            "torch.Size([256, 64, 8, 8])\n",
            "torch.Size([256, 128, 8, 8])\n",
            "torch.Size([256, 32, 32, 32])\n",
            "torch.Size([256, 32, 16, 16])\n",
            "torch.Size([256, 64, 16, 16])\n",
            "torch.Size([256, 64, 8, 8])\n",
            "torch.Size([256, 128, 8, 8])\n",
            "torch.Size([256, 32, 32, 32])\n",
            "torch.Size([256, 32, 16, 16])\n",
            "torch.Size([256, 64, 16, 16])\n",
            "torch.Size([256, 64, 8, 8])\n",
            "torch.Size([256, 128, 8, 8])\n"
          ],
          "name": "stdout"
        },
        {
          "output_type": "stream",
          "text": [
            "\r 77%|███████▋  | 151/196 [00:11<00:03, 13.55it/s]"
          ],
          "name": "stderr"
        },
        {
          "output_type": "stream",
          "text": [
            "torch.Size([256, 32, 32, 32])\n",
            "torch.Size([256, 32, 16, 16])\n",
            "torch.Size([256, 64, 16, 16])\n",
            "torch.Size([256, 64, 8, 8])\n",
            "torch.Size([256, 128, 8, 8])\n",
            "torch.Size([256, 32, 32, 32])\n",
            "torch.Size([256, 32, 16, 16])\n",
            "torch.Size([256, 64, 16, 16])\n",
            "torch.Size([256, 64, 8, 8])\n",
            "torch.Size([256, 128, 8, 8])\n",
            "torch.Size([256, 32, 32, 32])\n",
            "torch.Size([256, 32, 16, 16])\n",
            "torch.Size([256, 64, 16, 16])\n",
            "torch.Size([256, 64, 8, 8])\n",
            "torch.Size([256, 128, 8, 8])\n"
          ],
          "name": "stdout"
        },
        {
          "output_type": "stream",
          "text": [
            " 79%|███████▉  | 155/196 [00:11<00:03, 13.62it/s]"
          ],
          "name": "stderr"
        },
        {
          "output_type": "stream",
          "text": [
            "torch.Size([256, 32, 32, 32])\n",
            "torch.Size([256, 32, 16, 16])\n",
            "torch.Size([256, 64, 16, 16])\n",
            "torch.Size([256, 64, 8, 8])\n",
            "torch.Size([256, 128, 8, 8])\n",
            "torch.Size([256, 32, 32, 32])\n",
            "torch.Size([256, 32, 16, 16])\n",
            "torch.Size([256, 64, 16, 16])\n",
            "torch.Size([256, 64, 8, 8])\n",
            "torch.Size([256, 128, 8, 8])\n",
            "torch.Size([256, 32, 32, 32])\n",
            "torch.Size([256, 32, 16, 16])\n",
            "torch.Size([256, 64, 16, 16])\n",
            "torch.Size([256, 64, 8, 8])\n",
            "torch.Size([256, 128, 8, 8])\n"
          ],
          "name": "stdout"
        },
        {
          "output_type": "stream",
          "text": [
            "\r 80%|████████  | 157/196 [00:12<00:02, 13.31it/s]"
          ],
          "name": "stderr"
        },
        {
          "output_type": "stream",
          "text": [
            "torch.Size([256, 32, 32, 32])\n",
            "torch.Size([256, 32, 16, 16])\n",
            "torch.Size([256, 64, 16, 16])\n",
            "torch.Size([256, 64, 8, 8])\n",
            "torch.Size([256, 128, 8, 8])\n",
            "torch.Size([256, 32, 32, 32])\n",
            "torch.Size([256, 32, 16, 16])\n",
            "torch.Size([256, 64, 16, 16])\n",
            "torch.Size([256, 64, 8, 8])\n",
            "torch.Size([256, 128, 8, 8])\n",
            "torch.Size([256, 32, 32, 32])\n",
            "torch.Size([256, 32, 16, 16])\n",
            "torch.Size([256, 64, 16, 16])\n",
            "torch.Size([256, 64, 8, 8])\n",
            "torch.Size([256, 128, 8, 8])\n"
          ],
          "name": "stdout"
        },
        {
          "output_type": "stream",
          "text": [
            " 82%|████████▏ | 161/196 [00:12<00:02, 13.71it/s]"
          ],
          "name": "stderr"
        },
        {
          "output_type": "stream",
          "text": [
            "torch.Size([256, 32, 32, 32])\n",
            "torch.Size([256, 32, 16, 16])\n",
            "torch.Size([256, 64, 16, 16])\n",
            "torch.Size([256, 64, 8, 8])\n",
            "torch.Size([256, 128, 8, 8])\n",
            "torch.Size([256, 32, 32, 32])\n",
            "torch.Size([256, 32, 16, 16])\n",
            "torch.Size([256, 64, 16, 16])\n",
            "torch.Size([256, 64, 8, 8])\n",
            "torch.Size([256, 128, 8, 8])\n",
            "torch.Size([256, 32, 32, 32])\n",
            "torch.Size([256, 32, 16, 16])\n",
            "torch.Size([256, 64, 16, 16])\n",
            "torch.Size([256, 64, 8, 8])\n",
            "torch.Size([256, 128, 8, 8])\n"
          ],
          "name": "stdout"
        },
        {
          "output_type": "stream",
          "text": [
            "\r 83%|████████▎ | 163/196 [00:12<00:02, 13.68it/s]"
          ],
          "name": "stderr"
        },
        {
          "output_type": "stream",
          "text": [
            "torch.Size([256, 32, 32, 32])\n",
            "torch.Size([256, 32, 16, 16])\n",
            "torch.Size([256, 64, 16, 16])\n",
            "torch.Size([256, 64, 8, 8])\n",
            "torch.Size([256, 128, 8, 8])\n",
            "torch.Size([256, 32, 32, 32])\n",
            "torch.Size([256, 32, 16, 16])\n",
            "torch.Size([256, 64, 16, 16])\n",
            "torch.Size([256, 64, 8, 8])\n",
            "torch.Size([256, 128, 8, 8])\n",
            "torch.Size([256, 32, 32, 32])\n",
            "torch.Size([256, 32, 16, 16])\n",
            "torch.Size([256, 64, 16, 16])\n",
            "torch.Size([256, 64, 8, 8])\n",
            "torch.Size([256, 128, 8, 8])\n"
          ],
          "name": "stdout"
        },
        {
          "output_type": "stream",
          "text": [
            " 85%|████████▌ | 167/196 [00:12<00:02, 13.88it/s]"
          ],
          "name": "stderr"
        },
        {
          "output_type": "stream",
          "text": [
            "torch.Size([256, 32, 32, 32])\n",
            "torch.Size([256, 32, 16, 16])\n",
            "torch.Size([256, 64, 16, 16])\n",
            "torch.Size([256, 64, 8, 8])\n",
            "torch.Size([256, 128, 8, 8])\n",
            "torch.Size([256, 32, 32, 32])\n",
            "torch.Size([256, 32, 16, 16])\n",
            "torch.Size([256, 64, 16, 16])\n",
            "torch.Size([256, 64, 8, 8])\n",
            "torch.Size([256, 128, 8, 8])\n",
            "torch.Size([256, 32, 32, 32])\n",
            "torch.Size([256, 32, 16, 16])\n",
            "torch.Size([256, 64, 16, 16])\n",
            "torch.Size([256, 64, 8, 8])\n",
            "torch.Size([256, 128, 8, 8])\n"
          ],
          "name": "stdout"
        },
        {
          "output_type": "stream",
          "text": [
            "\r 86%|████████▌ | 169/196 [00:12<00:01, 13.96it/s]"
          ],
          "name": "stderr"
        },
        {
          "output_type": "stream",
          "text": [
            "torch.Size([256, 32, 32, 32])\n",
            "torch.Size([256, 32, 16, 16])\n",
            "torch.Size([256, 64, 16, 16])\n",
            "torch.Size([256, 64, 8, 8])\n",
            "torch.Size([256, 128, 8, 8])\n",
            "torch.Size([256, 32, 32, 32])\n",
            "torch.Size([256, 32, 16, 16])\n",
            "torch.Size([256, 64, 16, 16])\n",
            "torch.Size([256, 64, 8, 8])\n",
            "torch.Size([256, 128, 8, 8])\n",
            "torch.Size([256, 32, 32, 32])\n",
            "torch.Size([256, 32, 16, 16])\n",
            "torch.Size([256, 64, 16, 16])\n",
            "torch.Size([256, 64, 8, 8])\n",
            "torch.Size([256, 128, 8, 8])\n"
          ],
          "name": "stdout"
        },
        {
          "output_type": "stream",
          "text": [
            " 88%|████████▊ | 173/196 [00:13<00:01, 13.77it/s]"
          ],
          "name": "stderr"
        },
        {
          "output_type": "stream",
          "text": [
            "torch.Size([256, 32, 32, 32])\n",
            "torch.Size([256, 32, 16, 16])\n",
            "torch.Size([256, 64, 16, 16])\n",
            "torch.Size([256, 64, 8, 8])\n",
            "torch.Size([256, 128, 8, 8])\n",
            "torch.Size([256, 32, 32, 32])\n",
            "torch.Size([256, 32, 16, 16])\n",
            "torch.Size([256, 64, 16, 16])\n",
            "torch.Size([256, 64, 8, 8])\n",
            "torch.Size([256, 128, 8, 8])\n",
            "torch.Size([256, 32, 32, 32])\n",
            "torch.Size([256, 32, 16, 16])\n",
            "torch.Size([256, 64, 16, 16])\n",
            "torch.Size([256, 64, 8, 8])\n",
            "torch.Size([256, 128, 8, 8])\n"
          ],
          "name": "stdout"
        },
        {
          "output_type": "stream",
          "text": [
            "\r 89%|████████▉ | 175/196 [00:13<00:01, 13.84it/s]"
          ],
          "name": "stderr"
        },
        {
          "output_type": "stream",
          "text": [
            "torch.Size([256, 32, 32, 32])\n",
            "torch.Size([256, 32, 16, 16])\n",
            "torch.Size([256, 64, 16, 16])\n",
            "torch.Size([256, 64, 8, 8])\n",
            "torch.Size([256, 128, 8, 8])\n",
            "torch.Size([256, 32, 32, 32])\n",
            "torch.Size([256, 32, 16, 16])\n",
            "torch.Size([256, 64, 16, 16])\n",
            "torch.Size([256, 64, 8, 8])\n",
            "torch.Size([256, 128, 8, 8])\n",
            "torch.Size([256, 32, 32, 32])\n",
            "torch.Size([256, 32, 16, 16])\n",
            "torch.Size([256, 64, 16, 16])\n",
            "torch.Size([256, 64, 8, 8])\n",
            "torch.Size([256, 128, 8, 8])\n"
          ],
          "name": "stdout"
        },
        {
          "output_type": "stream",
          "text": [
            " 91%|█████████▏| 179/196 [00:13<00:01, 13.52it/s]"
          ],
          "name": "stderr"
        },
        {
          "output_type": "stream",
          "text": [
            "torch.Size([256, 32, 32, 32])\n",
            "torch.Size([256, 32, 16, 16])\n",
            "torch.Size([256, 64, 16, 16])\n",
            "torch.Size([256, 64, 8, 8])\n",
            "torch.Size([256, 128, 8, 8])\n",
            "torch.Size([256, 32, 32, 32])\n",
            "torch.Size([256, 32, 16, 16])\n",
            "torch.Size([256, 64, 16, 16])\n",
            "torch.Size([256, 64, 8, 8])\n",
            "torch.Size([256, 128, 8, 8])\n",
            "torch.Size([256, 32, 32, 32])\n",
            "torch.Size([256, 32, 16, 16])\n",
            "torch.Size([256, 64, 16, 16])\n",
            "torch.Size([256, 64, 8, 8])\n",
            "torch.Size([256, 128, 8, 8])\n"
          ],
          "name": "stdout"
        },
        {
          "output_type": "stream",
          "text": [
            "\r 92%|█████████▏| 181/196 [00:13<00:01, 13.51it/s]"
          ],
          "name": "stderr"
        },
        {
          "output_type": "stream",
          "text": [
            "torch.Size([256, 32, 32, 32])\n",
            "torch.Size([256, 32, 16, 16])\n",
            "torch.Size([256, 64, 16, 16])\n",
            "torch.Size([256, 64, 8, 8])\n",
            "torch.Size([256, 128, 8, 8])\n",
            "torch.Size([256, 32, 32, 32])\n",
            "torch.Size([256, 32, 16, 16])\n",
            "torch.Size([256, 64, 16, 16])\n",
            "torch.Size([256, 64, 8, 8])\n",
            "torch.Size([256, 128, 8, 8])\n",
            "torch.Size([256, 32, 32, 32])\n",
            "torch.Size([256, 32, 16, 16])\n",
            "torch.Size([256, 64, 16, 16])\n",
            "torch.Size([256, 64, 8, 8])\n",
            "torch.Size([256, 128, 8, 8])\n"
          ],
          "name": "stdout"
        },
        {
          "output_type": "stream",
          "text": [
            " 94%|█████████▍| 185/196 [00:14<00:00, 13.62it/s]"
          ],
          "name": "stderr"
        },
        {
          "output_type": "stream",
          "text": [
            "torch.Size([256, 32, 32, 32])\n",
            "torch.Size([256, 32, 16, 16])\n",
            "torch.Size([256, 64, 16, 16])\n",
            "torch.Size([256, 64, 8, 8])\n",
            "torch.Size([256, 128, 8, 8])\n",
            "torch.Size([256, 32, 32, 32])\n",
            "torch.Size([256, 32, 16, 16])\n",
            "torch.Size([256, 64, 16, 16])\n",
            "torch.Size([256, 64, 8, 8])\n",
            "torch.Size([256, 128, 8, 8])\n",
            "torch.Size([256, 32, 32, 32])\n",
            "torch.Size([256, 32, 16, 16])\n",
            "torch.Size([256, 64, 16, 16])\n",
            "torch.Size([256, 64, 8, 8])\n",
            "torch.Size([256, 128, 8, 8])\n"
          ],
          "name": "stdout"
        },
        {
          "output_type": "stream",
          "text": [
            "\r 95%|█████████▌| 187/196 [00:14<00:00, 13.57it/s]"
          ],
          "name": "stderr"
        },
        {
          "output_type": "stream",
          "text": [
            "torch.Size([256, 32, 32, 32])\n",
            "torch.Size([256, 32, 16, 16])\n",
            "torch.Size([256, 64, 16, 16])\n",
            "torch.Size([256, 64, 8, 8])\n",
            "torch.Size([256, 128, 8, 8])\n",
            "torch.Size([256, 32, 32, 32])\n",
            "torch.Size([256, 32, 16, 16])\n",
            "torch.Size([256, 64, 16, 16])\n",
            "torch.Size([256, 64, 8, 8])\n",
            "torch.Size([256, 128, 8, 8])\n",
            "torch.Size([256, 32, 32, 32])\n",
            "torch.Size([256, 32, 16, 16])\n",
            "torch.Size([256, 64, 16, 16])\n",
            "torch.Size([256, 64, 8, 8])\n",
            "torch.Size([256, 128, 8, 8])\n"
          ],
          "name": "stdout"
        },
        {
          "output_type": "stream",
          "text": [
            " 97%|█████████▋| 191/196 [00:14<00:00, 13.75it/s]"
          ],
          "name": "stderr"
        },
        {
          "output_type": "stream",
          "text": [
            "torch.Size([256, 32, 32, 32])\n",
            "torch.Size([256, 32, 16, 16])\n",
            "torch.Size([256, 64, 16, 16])\n",
            "torch.Size([256, 64, 8, 8])\n",
            "torch.Size([256, 128, 8, 8])\n",
            "torch.Size([256, 32, 32, 32])\n",
            "torch.Size([256, 32, 16, 16])\n",
            "torch.Size([256, 64, 16, 16])\n",
            "torch.Size([256, 64, 8, 8])\n",
            "torch.Size([256, 128, 8, 8])\n",
            "torch.Size([256, 32, 32, 32])\n",
            "torch.Size([256, 32, 16, 16])\n",
            "torch.Size([256, 64, 16, 16])\n",
            "torch.Size([256, 64, 8, 8])\n",
            "torch.Size([256, 128, 8, 8])\n"
          ],
          "name": "stdout"
        },
        {
          "output_type": "stream",
          "text": [
            " 99%|█████████▉| 195/196 [00:14<00:00, 14.19it/s]"
          ],
          "name": "stderr"
        },
        {
          "output_type": "stream",
          "text": [
            "torch.Size([256, 32, 32, 32])\n",
            "torch.Size([256, 32, 16, 16])\n",
            "torch.Size([256, 64, 16, 16])\n",
            "torch.Size([256, 64, 8, 8])\n",
            "torch.Size([256, 128, 8, 8])\n",
            "torch.Size([256, 32, 32, 32])\n",
            "torch.Size([256, 32, 16, 16])\n",
            "torch.Size([256, 64, 16, 16])\n",
            "torch.Size([256, 64, 8, 8])\n",
            "torch.Size([256, 128, 8, 8])\n",
            "torch.Size([256, 32, 32, 32])\n",
            "torch.Size([256, 32, 16, 16])\n",
            "torch.Size([256, 64, 16, 16])\n",
            "torch.Size([256, 64, 8, 8])\n",
            "torch.Size([256, 128, 8, 8])\n",
            "torch.Size([80, 32, 32, 32])\n"
          ],
          "name": "stdout"
        },
        {
          "output_type": "stream",
          "text": [
            "\r100%|██████████| 196/196 [00:14<00:00, 13.16it/s]"
          ],
          "name": "stderr"
        },
        {
          "output_type": "stream",
          "text": [
            "torch.Size([80, 32, 16, 16])\n",
            "torch.Size([80, 64, 16, 16])\n",
            "torch.Size([80, 64, 8, 8])\n",
            "torch.Size([80, 128, 8, 8])\n"
          ],
          "name": "stdout"
        },
        {
          "output_type": "stream",
          "text": [
            "\n"
          ],
          "name": "stderr"
        },
        {
          "output_type": "stream",
          "text": [
            "torch.Size([256, 32, 32, 32])\n",
            "torch.Size([256, 32, 16, 16])\n",
            "torch.Size([256, 64, 16, 16])\n",
            "torch.Size([256, 64, 8, 8])\n",
            "torch.Size([256, 128, 8, 8])\n",
            "torch.Size([256, 32, 32, 32])\n",
            "torch.Size([256, 32, 16, 16])\n",
            "torch.Size([256, 64, 16, 16])\n",
            "torch.Size([256, 64, 8, 8])\n",
            "torch.Size([256, 128, 8, 8])\n",
            "torch.Size([256, 32, 32, 32])\n",
            "torch.Size([256, 32, 16, 16])\n",
            "torch.Size([256, 64, 16, 16])\n",
            "torch.Size([256, 64, 8, 8])\n",
            "torch.Size([256, 128, 8, 8])\n",
            "torch.Size([256, 32, 32, 32])\n",
            "torch.Size([256, 32, 16, 16])\n",
            "torch.Size([256, 64, 16, 16])\n",
            "torch.Size([256, 64, 8, 8])\n",
            "torch.Size([256, 128, 8, 8])\n",
            "torch.Size([256, 32, 32, 32])\n",
            "torch.Size([256, 32, 16, 16])\n",
            "torch.Size([256, 64, 16, 16])\n",
            "torch.Size([256, 64, 8, 8])\n",
            "torch.Size([256, 128, 8, 8])\n",
            "torch.Size([256, 32, 32, 32])\n",
            "torch.Size([256, 32, 16, 16])\n",
            "torch.Size([256, 64, 16, 16])\n",
            "torch.Size([256, 64, 8, 8])\n",
            "torch.Size([256, 128, 8, 8])\n",
            "torch.Size([256, 32, 32, 32])\n",
            "torch.Size([256, 32, 16, 16])\n",
            "torch.Size([256, 64, 16, 16])\n",
            "torch.Size([256, 64, 8, 8])\n",
            "torch.Size([256, 128, 8, 8])\n",
            "torch.Size([256, 32, 32, 32])\n",
            "torch.Size([256, 32, 16, 16])\n",
            "torch.Size([256, 64, 16, 16])\n",
            "torch.Size([256, 64, 8, 8])\n",
            "torch.Size([256, 128, 8, 8])\n",
            "torch.Size([256, 32, 32, 32])\n",
            "torch.Size([256, 32, 16, 16])\n",
            "torch.Size([256, 64, 16, 16])\n",
            "torch.Size([256, 64, 8, 8])\n",
            "torch.Size([256, 128, 8, 8])\n",
            "torch.Size([256, 32, 32, 32])\n",
            "torch.Size([256, 32, 16, 16])\n",
            "torch.Size([256, 64, 16, 16])\n",
            "torch.Size([256, 64, 8, 8])\n",
            "torch.Size([256, 128, 8, 8])\n",
            "torch.Size([256, 32, 32, 32])\n",
            "torch.Size([256, 32, 16, 16])\n",
            "torch.Size([256, 64, 16, 16])\n",
            "torch.Size([256, 64, 8, 8])\n",
            "torch.Size([256, 128, 8, 8])\n",
            "torch.Size([256, 32, 32, 32])\n",
            "torch.Size([256, 32, 16, 16])\n",
            "torch.Size([256, 64, 16, 16])\n",
            "torch.Size([256, 64, 8, 8])\n",
            "torch.Size([256, 128, 8, 8])\n",
            "torch.Size([256, 32, 32, 32])\n",
            "torch.Size([256, 32, 16, 16])\n",
            "torch.Size([256, 64, 16, 16])\n",
            "torch.Size([256, 64, 8, 8])\n",
            "torch.Size([256, 128, 8, 8])\n",
            "torch.Size([256, 32, 32, 32])\n",
            "torch.Size([256, 32, 16, 16])\n",
            "torch.Size([256, 64, 16, 16])\n",
            "torch.Size([256, 64, 8, 8])\n",
            "torch.Size([256, 128, 8, 8])\n",
            "torch.Size([256, 32, 32, 32])\n",
            "torch.Size([256, 32, 16, 16])\n",
            "torch.Size([256, 64, 16, 16])\n",
            "torch.Size([256, 64, 8, 8])\n",
            "torch.Size([256, 128, 8, 8])\n",
            "torch.Size([256, 32, 32, 32])\n",
            "torch.Size([256, 32, 16, 16])\n",
            "torch.Size([256, 64, 16, 16])\n",
            "torch.Size([256, 64, 8, 8])\n",
            "torch.Size([256, 128, 8, 8])\n",
            "torch.Size([256, 32, 32, 32])\n",
            "torch.Size([256, 32, 16, 16])\n",
            "torch.Size([256, 64, 16, 16])\n",
            "torch.Size([256, 64, 8, 8])\n",
            "torch.Size([256, 128, 8, 8])\n",
            "torch.Size([256, 32, 32, 32])\n",
            "torch.Size([256, 32, 16, 16])\n",
            "torch.Size([256, 64, 16, 16])\n",
            "torch.Size([256, 64, 8, 8])\n",
            "torch.Size([256, 128, 8, 8])\n",
            "torch.Size([256, 32, 32, 32])\n",
            "torch.Size([256, 32, 16, 16])\n",
            "torch.Size([256, 64, 16, 16])\n",
            "torch.Size([256, 64, 8, 8])\n",
            "torch.Size([256, 128, 8, 8])\n",
            "torch.Size([256, 32, 32, 32])\n",
            "torch.Size([256, 32, 16, 16])\n",
            "torch.Size([256, 64, 16, 16])\n",
            "torch.Size([256, 64, 8, 8])\n",
            "torch.Size([256, 128, 8, 8])\n",
            "torch.Size([256, 32, 32, 32])\n",
            "torch.Size([256, 32, 16, 16])\n",
            "torch.Size([256, 64, 16, 16])\n",
            "torch.Size([256, 64, 8, 8])\n",
            "torch.Size([256, 128, 8, 8])\n",
            "torch.Size([256, 32, 32, 32])\n",
            "torch.Size([256, 32, 16, 16])\n",
            "torch.Size([256, 64, 16, 16])\n",
            "torch.Size([256, 64, 8, 8])\n",
            "torch.Size([256, 128, 8, 8])\n",
            "torch.Size([256, 32, 32, 32])\n",
            "torch.Size([256, 32, 16, 16])\n",
            "torch.Size([256, 64, 16, 16])\n",
            "torch.Size([256, 64, 8, 8])\n",
            "torch.Size([256, 128, 8, 8])\n",
            "torch.Size([256, 32, 32, 32])\n",
            "torch.Size([256, 32, 16, 16])\n",
            "torch.Size([256, 64, 16, 16])\n",
            "torch.Size([256, 64, 8, 8])\n",
            "torch.Size([256, 128, 8, 8])\n",
            "torch.Size([256, 32, 32, 32])\n",
            "torch.Size([256, 32, 16, 16])\n",
            "torch.Size([256, 64, 16, 16])\n",
            "torch.Size([256, 64, 8, 8])\n",
            "torch.Size([256, 128, 8, 8])\n",
            "torch.Size([256, 32, 32, 32])\n",
            "torch.Size([256, 32, 16, 16])\n",
            "torch.Size([256, 64, 16, 16])\n",
            "torch.Size([256, 64, 8, 8])\n",
            "torch.Size([256, 128, 8, 8])\n",
            "torch.Size([256, 32, 32, 32])\n",
            "torch.Size([256, 32, 16, 16])\n",
            "torch.Size([256, 64, 16, 16])\n",
            "torch.Size([256, 64, 8, 8])\n",
            "torch.Size([256, 128, 8, 8])\n",
            "torch.Size([256, 32, 32, 32])\n",
            "torch.Size([256, 32, 16, 16])\n",
            "torch.Size([256, 64, 16, 16])\n",
            "torch.Size([256, 64, 8, 8])\n",
            "torch.Size([256, 128, 8, 8])\n",
            "torch.Size([256, 32, 32, 32])\n",
            "torch.Size([256, 32, 16, 16])\n",
            "torch.Size([256, 64, 16, 16])\n",
            "torch.Size([256, 64, 8, 8])\n",
            "torch.Size([256, 128, 8, 8])\n",
            "torch.Size([256, 32, 32, 32])\n",
            "torch.Size([256, 32, 16, 16])\n",
            "torch.Size([256, 64, 16, 16])\n",
            "torch.Size([256, 64, 8, 8])\n",
            "torch.Size([256, 128, 8, 8])\n",
            "torch.Size([256, 32, 32, 32])\n",
            "torch.Size([256, 32, 16, 16])\n",
            "torch.Size([256, 64, 16, 16])\n",
            "torch.Size([256, 64, 8, 8])\n",
            "torch.Size([256, 128, 8, 8])\n",
            "torch.Size([256, 32, 32, 32])\n",
            "torch.Size([256, 32, 16, 16])\n",
            "torch.Size([256, 64, 16, 16])\n",
            "torch.Size([256, 64, 8, 8])\n",
            "torch.Size([256, 128, 8, 8])\n",
            "torch.Size([256, 32, 32, 32])\n",
            "torch.Size([256, 32, 16, 16])\n",
            "torch.Size([256, 64, 16, 16])\n",
            "torch.Size([256, 64, 8, 8])\n",
            "torch.Size([256, 128, 8, 8])\n",
            "torch.Size([256, 32, 32, 32])\n",
            "torch.Size([256, 32, 16, 16])\n"
          ],
          "name": "stdout"
        },
        {
          "output_type": "stream",
          "text": [
            "\r  0%|          | 0/196 [00:00<?, ?it/s]"
          ],
          "name": "stderr"
        },
        {
          "output_type": "stream",
          "text": [
            "torch.Size([256, 64, 16, 16])\n",
            "torch.Size([256, 64, 8, 8])\n",
            "torch.Size([256, 128, 8, 8])\n",
            "torch.Size([256, 32, 32, 32])\n",
            "torch.Size([256, 32, 16, 16])\n",
            "torch.Size([256, 64, 16, 16])\n",
            "torch.Size([256, 64, 8, 8])\n",
            "torch.Size([256, 128, 8, 8])\n",
            "torch.Size([256, 32, 32, 32])\n",
            "torch.Size([256, 32, 16, 16])\n",
            "torch.Size([256, 64, 16, 16])\n",
            "torch.Size([256, 64, 8, 8])\n",
            "torch.Size([256, 128, 8, 8])\n",
            "torch.Size([256, 32, 32, 32])\n",
            "torch.Size([256, 32, 16, 16])\n",
            "torch.Size([256, 64, 16, 16])\n",
            "torch.Size([256, 64, 8, 8])\n",
            "torch.Size([256, 128, 8, 8])\n",
            "torch.Size([256, 32, 32, 32])\n",
            "torch.Size([256, 32, 16, 16])\n",
            "torch.Size([256, 64, 16, 16])\n",
            "torch.Size([256, 64, 8, 8])\n",
            "torch.Size([256, 128, 8, 8])\n",
            "torch.Size([256, 32, 32, 32])\n",
            "torch.Size([256, 32, 16, 16])\n",
            "torch.Size([256, 64, 16, 16])\n",
            "torch.Size([256, 64, 8, 8])\n",
            "torch.Size([256, 128, 8, 8])\n",
            "torch.Size([16, 32, 32, 32])\n",
            "torch.Size([16, 32, 16, 16])\n",
            "torch.Size([16, 64, 16, 16])\n",
            "torch.Size([16, 64, 8, 8])\n",
            "torch.Size([16, 128, 8, 8])\n",
            "\n",
            "Epoch: 2 Train set: Average loss: 0.0045, Accuracy: 58.304%\n",
            "Epoch: 2 Test set: Average loss: 0.0050, Accuracy: 56.550%\n"
          ],
          "name": "stdout"
        },
        {
          "output_type": "stream",
          "text": [
            "\r  1%|          | 1/196 [00:00<00:54,  3.60it/s]"
          ],
          "name": "stderr"
        },
        {
          "output_type": "stream",
          "text": [
            "torch.Size([256, 32, 32, 32])\n",
            "torch.Size([256, 32, 16, 16])\n",
            "torch.Size([256, 64, 16, 16])\n",
            "torch.Size([256, 64, 8, 8])\n",
            "torch.Size([256, 128, 8, 8])\n"
          ],
          "name": "stdout"
        },
        {
          "output_type": "stream",
          "text": [
            "\r  1%|          | 2/196 [00:00<00:50,  3.86it/s]"
          ],
          "name": "stderr"
        },
        {
          "output_type": "stream",
          "text": [
            "torch.Size([256, 32, 32, 32])\n",
            "torch.Size([256, 32, 16, 16])\n",
            "torch.Size([256, 64, 16, 16])\n",
            "torch.Size([256, 64, 8, 8])\n",
            "torch.Size([256, 128, 8, 8])\n",
            "torch.Size([256, 32, 32, 32])\n",
            "torch.Size([256, 32, 16, 16])\n",
            "torch.Size([256, 64, 16, 16])\n",
            "torch.Size([256, 64, 8, 8])\n",
            "torch.Size([256, 128, 8, 8])\n",
            "torch.Size([256, 32, 32, 32])\n",
            "torch.Size([256, 32, 16, 16])\n",
            "torch.Size([256, 64, 16, 16])\n",
            "torch.Size([256, 64, 8, 8])\n",
            "torch.Size([256, 128, 8, 8])\n"
          ],
          "name": "stdout"
        },
        {
          "output_type": "stream",
          "text": [
            "  3%|▎         | 6/196 [00:00<00:31,  5.95it/s]"
          ],
          "name": "stderr"
        },
        {
          "output_type": "stream",
          "text": [
            "torch.Size([256, 32, 32, 32])\n",
            "torch.Size([256, 32, 16, 16])\n",
            "torch.Size([256, 64, 16, 16])\n",
            "torch.Size([256, 64, 8, 8])\n",
            "torch.Size([256, 128, 8, 8])\n",
            "torch.Size([256, 32, 32, 32])\n",
            "torch.Size([256, 32, 16, 16])\n",
            "torch.Size([256, 64, 16, 16])\n",
            "torch.Size([256, 64, 8, 8])\n",
            "torch.Size([256, 128, 8, 8])\n",
            "torch.Size([256, 32, 32, 32])\n",
            "torch.Size([256, 32, 16, 16])\n",
            "torch.Size([256, 64, 16, 16])\n",
            "torch.Size([256, 64, 8, 8])\n",
            "torch.Size([256, 128, 8, 8])\n"
          ],
          "name": "stdout"
        },
        {
          "output_type": "stream",
          "text": [
            "\r  4%|▍         | 8/196 [00:00<00:26,  7.18it/s]"
          ],
          "name": "stderr"
        },
        {
          "output_type": "stream",
          "text": [
            "torch.Size([256, 32, 32, 32])\n",
            "torch.Size([256, 32, 16, 16])\n",
            "torch.Size([256, 64, 16, 16])\n",
            "torch.Size([256, 64, 8, 8])\n",
            "torch.Size([256, 128, 8, 8])\n",
            "torch.Size([256, 32, 32, 32])\n",
            "torch.Size([256, 32, 16, 16])\n",
            "torch.Size([256, 64, 16, 16])\n",
            "torch.Size([256, 64, 8, 8])\n",
            "torch.Size([256, 128, 8, 8])\n",
            "torch.Size([256, 32, 32, 32])\n",
            "torch.Size([256, 32, 16, 16])\n",
            "torch.Size([256, 64, 16, 16])\n",
            "torch.Size([256, 64, 8, 8])\n",
            "torch.Size([256, 128, 8, 8])\n"
          ],
          "name": "stdout"
        },
        {
          "output_type": "stream",
          "text": [
            "  6%|▌         | 12/196 [00:01<00:19,  9.58it/s]"
          ],
          "name": "stderr"
        },
        {
          "output_type": "stream",
          "text": [
            "torch.Size([256, 32, 32, 32])\n",
            "torch.Size([256, 32, 16, 16])\n",
            "torch.Size([256, 64, 16, 16])\n",
            "torch.Size([256, 64, 8, 8])\n",
            "torch.Size([256, 128, 8, 8])\n",
            "torch.Size([256, 32, 32, 32])\n",
            "torch.Size([256, 32, 16, 16])\n",
            "torch.Size([256, 64, 16, 16])\n",
            "torch.Size([256, 64, 8, 8])\n",
            "torch.Size([256, 128, 8, 8])\n",
            "torch.Size([256, 32, 32, 32])\n",
            "torch.Size([256, 32, 16, 16])\n",
            "torch.Size([256, 64, 16, 16])\n",
            "torch.Size([256, 64, 8, 8])\n",
            "torch.Size([256, 128, 8, 8])\n"
          ],
          "name": "stdout"
        },
        {
          "output_type": "stream",
          "text": [
            "\r  7%|▋         | 14/196 [00:01<00:17, 10.57it/s]"
          ],
          "name": "stderr"
        },
        {
          "output_type": "stream",
          "text": [
            "torch.Size([256, 32, 32, 32])\n",
            "torch.Size([256, 32, 16, 16])\n",
            "torch.Size([256, 64, 16, 16])\n",
            "torch.Size([256, 64, 8, 8])\n",
            "torch.Size([256, 128, 8, 8])\n",
            "torch.Size([256, 32, 32, 32])\n",
            "torch.Size([256, 32, 16, 16])\n",
            "torch.Size([256, 64, 16, 16])\n",
            "torch.Size([256, 64, 8, 8])\n",
            "torch.Size([256, 128, 8, 8])\n",
            "torch.Size([256, 32, 32, 32])\n",
            "torch.Size([256, 32, 16, 16])\n",
            "torch.Size([256, 64, 16, 16])\n",
            "torch.Size([256, 64, 8, 8])\n",
            "torch.Size([256, 128, 8, 8])\n"
          ],
          "name": "stdout"
        },
        {
          "output_type": "stream",
          "text": [
            "  9%|▉         | 18/196 [00:01<00:15, 11.38it/s]"
          ],
          "name": "stderr"
        },
        {
          "output_type": "stream",
          "text": [
            "torch.Size([256, 32, 32, 32])\n",
            "torch.Size([256, 32, 16, 16])\n",
            "torch.Size([256, 64, 16, 16])\n",
            "torch.Size([256, 64, 8, 8])\n",
            "torch.Size([256, 128, 8, 8])\n",
            "torch.Size([256, 32, 32, 32])\n",
            "torch.Size([256, 32, 16, 16])\n",
            "torch.Size([256, 64, 16, 16])\n",
            "torch.Size([256, 64, 8, 8])\n",
            "torch.Size([256, 128, 8, 8])\n",
            "torch.Size([256, 32, 32, 32])\n",
            "torch.Size([256, 32, 16, 16])\n",
            "torch.Size([256, 64, 16, 16])\n",
            "torch.Size([256, 64, 8, 8])\n",
            "torch.Size([256, 128, 8, 8])\n"
          ],
          "name": "stdout"
        },
        {
          "output_type": "stream",
          "text": [
            "\r 10%|█         | 20/196 [00:01<00:14, 12.14it/s]"
          ],
          "name": "stderr"
        },
        {
          "output_type": "stream",
          "text": [
            "torch.Size([256, 32, 32, 32])\n",
            "torch.Size([256, 32, 16, 16])\n",
            "torch.Size([256, 64, 16, 16])\n",
            "torch.Size([256, 64, 8, 8])\n",
            "torch.Size([256, 128, 8, 8])\n",
            "torch.Size([256, 32, 32, 32])\n",
            "torch.Size([256, 32, 16, 16])\n",
            "torch.Size([256, 64, 16, 16])\n",
            "torch.Size([256, 64, 8, 8])\n",
            "torch.Size([256, 128, 8, 8])\n",
            "torch.Size([256, 32, 32, 32])\n",
            "torch.Size([256, 32, 16, 16])\n",
            "torch.Size([256, 64, 16, 16])\n",
            "torch.Size([256, 64, 8, 8])\n",
            "torch.Size([256, 128, 8, 8])\n"
          ],
          "name": "stdout"
        },
        {
          "output_type": "stream",
          "text": [
            " 12%|█▏        | 24/196 [00:02<00:13, 12.85it/s]"
          ],
          "name": "stderr"
        },
        {
          "output_type": "stream",
          "text": [
            "torch.Size([256, 32, 32, 32])\n",
            "torch.Size([256, 32, 16, 16])\n",
            "torch.Size([256, 64, 16, 16])\n",
            "torch.Size([256, 64, 8, 8])\n",
            "torch.Size([256, 128, 8, 8])\n",
            "torch.Size([256, 32, 32, 32])\n",
            "torch.Size([256, 32, 16, 16])\n",
            "torch.Size([256, 64, 16, 16])\n",
            "torch.Size([256, 64, 8, 8])\n",
            "torch.Size([256, 128, 8, 8])\n",
            "torch.Size([256, 32, 32, 32])\n",
            "torch.Size([256, 32, 16, 16])\n",
            "torch.Size([256, 64, 16, 16])\n",
            "torch.Size([256, 64, 8, 8])\n",
            "torch.Size([256, 128, 8, 8])\n"
          ],
          "name": "stdout"
        },
        {
          "output_type": "stream",
          "text": [
            "\r 13%|█▎        | 26/196 [00:02<00:12, 13.19it/s]"
          ],
          "name": "stderr"
        },
        {
          "output_type": "stream",
          "text": [
            "torch.Size([256, 32, 32, 32])\n",
            "torch.Size([256, 32, 16, 16])\n",
            "torch.Size([256, 64, 16, 16])\n",
            "torch.Size([256, 64, 8, 8])\n",
            "torch.Size([256, 128, 8, 8])\n",
            "torch.Size([256, 32, 32, 32])\n",
            "torch.Size([256, 32, 16, 16])\n",
            "torch.Size([256, 64, 16, 16])\n",
            "torch.Size([256, 64, 8, 8])\n",
            "torch.Size([256, 128, 8, 8])\n",
            "torch.Size([256, 32, 32, 32])\n",
            "torch.Size([256, 32, 16, 16])\n",
            "torch.Size([256, 64, 16, 16])\n",
            "torch.Size([256, 64, 8, 8])\n",
            "torch.Size([256, 128, 8, 8])\n"
          ],
          "name": "stdout"
        },
        {
          "output_type": "stream",
          "text": [
            " 15%|█▌        | 30/196 [00:02<00:12, 13.41it/s]"
          ],
          "name": "stderr"
        },
        {
          "output_type": "stream",
          "text": [
            "torch.Size([256, 32, 32, 32])\n",
            "torch.Size([256, 32, 16, 16])\n",
            "torch.Size([256, 64, 16, 16])\n",
            "torch.Size([256, 64, 8, 8])\n",
            "torch.Size([256, 128, 8, 8])\n",
            "torch.Size([256, 32, 32, 32])\n",
            "torch.Size([256, 32, 16, 16])\n",
            "torch.Size([256, 64, 16, 16])\n",
            "torch.Size([256, 64, 8, 8])\n",
            "torch.Size([256, 128, 8, 8])\n",
            "torch.Size([256, 32, 32, 32])\n",
            "torch.Size([256, 32, 16, 16])\n",
            "torch.Size([256, 64, 16, 16])\n",
            "torch.Size([256, 64, 8, 8])\n",
            "torch.Size([256, 128, 8, 8])\n"
          ],
          "name": "stdout"
        },
        {
          "output_type": "stream",
          "text": [
            "\r 16%|█▋        | 32/196 [00:02<00:12, 13.65it/s]"
          ],
          "name": "stderr"
        },
        {
          "output_type": "stream",
          "text": [
            "torch.Size([256, 32, 32, 32])\n",
            "torch.Size([256, 32, 16, 16])\n",
            "torch.Size([256, 64, 16, 16])\n",
            "torch.Size([256, 64, 8, 8])\n",
            "torch.Size([256, 128, 8, 8])\n",
            "torch.Size([256, 32, 32, 32])\n",
            "torch.Size([256, 32, 16, 16])\n",
            "torch.Size([256, 64, 16, 16])\n",
            "torch.Size([256, 64, 8, 8])\n",
            "torch.Size([256, 128, 8, 8])\n",
            "torch.Size([256, 32, 32, 32])\n",
            "torch.Size([256, 32, 16, 16])\n",
            "torch.Size([256, 64, 16, 16])\n",
            "torch.Size([256, 64, 8, 8])\n",
            "torch.Size([256, 128, 8, 8])\n"
          ],
          "name": "stdout"
        },
        {
          "output_type": "stream",
          "text": [
            " 18%|█▊        | 36/196 [00:03<00:12, 13.16it/s]"
          ],
          "name": "stderr"
        },
        {
          "output_type": "stream",
          "text": [
            "torch.Size([256, 32, 32, 32])\n",
            "torch.Size([256, 32, 16, 16])\n",
            "torch.Size([256, 64, 16, 16])\n",
            "torch.Size([256, 64, 8, 8])\n",
            "torch.Size([256, 128, 8, 8])\n",
            "torch.Size([256, 32, 32, 32])\n",
            "torch.Size([256, 32, 16, 16])\n",
            "torch.Size([256, 64, 16, 16])\n",
            "torch.Size([256, 64, 8, 8])\n",
            "torch.Size([256, 128, 8, 8])\n",
            "torch.Size([256, 32, 32, 32])\n",
            "torch.Size([256, 32, 16, 16])\n",
            "torch.Size([256, 64, 16, 16])\n",
            "torch.Size([256, 64, 8, 8])\n",
            "torch.Size([256, 128, 8, 8])\n"
          ],
          "name": "stdout"
        },
        {
          "output_type": "stream",
          "text": [
            "\r 19%|█▉        | 38/196 [00:03<00:11, 13.44it/s]"
          ],
          "name": "stderr"
        },
        {
          "output_type": "stream",
          "text": [
            "torch.Size([256, 32, 32, 32])\n",
            "torch.Size([256, 32, 16, 16])\n",
            "torch.Size([256, 64, 16, 16])\n",
            "torch.Size([256, 64, 8, 8])\n",
            "torch.Size([256, 128, 8, 8])\n",
            "torch.Size([256, 32, 32, 32])\n",
            "torch.Size([256, 32, 16, 16])\n",
            "torch.Size([256, 64, 16, 16])\n",
            "torch.Size([256, 64, 8, 8])\n",
            "torch.Size([256, 128, 8, 8])\n",
            "torch.Size([256, 32, 32, 32])\n",
            "torch.Size([256, 32, 16, 16])\n",
            "torch.Size([256, 64, 16, 16])\n",
            "torch.Size([256, 64, 8, 8])\n",
            "torch.Size([256, 128, 8, 8])\n"
          ],
          "name": "stdout"
        },
        {
          "output_type": "stream",
          "text": [
            " 21%|██▏       | 42/196 [00:03<00:11, 13.75it/s]"
          ],
          "name": "stderr"
        },
        {
          "output_type": "stream",
          "text": [
            "torch.Size([256, 32, 32, 32])\n",
            "torch.Size([256, 32, 16, 16])\n",
            "torch.Size([256, 64, 16, 16])\n",
            "torch.Size([256, 64, 8, 8])\n",
            "torch.Size([256, 128, 8, 8])\n",
            "torch.Size([256, 32, 32, 32])\n",
            "torch.Size([256, 32, 16, 16])\n",
            "torch.Size([256, 64, 16, 16])\n",
            "torch.Size([256, 64, 8, 8])\n",
            "torch.Size([256, 128, 8, 8])\n",
            "torch.Size([256, 32, 32, 32])\n",
            "torch.Size([256, 32, 16, 16])\n",
            "torch.Size([256, 64, 16, 16])\n",
            "torch.Size([256, 64, 8, 8])\n",
            "torch.Size([256, 128, 8, 8])\n"
          ],
          "name": "stdout"
        },
        {
          "output_type": "stream",
          "text": [
            "\r 22%|██▏       | 44/196 [00:03<00:10, 13.85it/s]"
          ],
          "name": "stderr"
        },
        {
          "output_type": "stream",
          "text": [
            "torch.Size([256, 32, 32, 32])\n",
            "torch.Size([256, 32, 16, 16])\n",
            "torch.Size([256, 64, 16, 16])\n",
            "torch.Size([256, 64, 8, 8])\n",
            "torch.Size([256, 128, 8, 8])\n",
            "torch.Size([256, 32, 32, 32])\n",
            "torch.Size([256, 32, 16, 16])\n",
            "torch.Size([256, 64, 16, 16])\n",
            "torch.Size([256, 64, 8, 8])\n",
            "torch.Size([256, 128, 8, 8])\n",
            "torch.Size([256, 32, 32, 32])\n",
            "torch.Size([256, 32, 16, 16])\n",
            "torch.Size([256, 64, 16, 16])\n",
            "torch.Size([256, 64, 8, 8])\n",
            "torch.Size([256, 128, 8, 8])\n"
          ],
          "name": "stdout"
        },
        {
          "output_type": "stream",
          "text": [
            " 24%|██▍       | 48/196 [00:03<00:10, 13.81it/s]"
          ],
          "name": "stderr"
        },
        {
          "output_type": "stream",
          "text": [
            "torch.Size([256, 32, 32, 32])\n",
            "torch.Size([256, 32, 16, 16])\n",
            "torch.Size([256, 64, 16, 16])\n",
            "torch.Size([256, 64, 8, 8])\n",
            "torch.Size([256, 128, 8, 8])\n",
            "torch.Size([256, 32, 32, 32])\n",
            "torch.Size([256, 32, 16, 16])\n",
            "torch.Size([256, 64, 16, 16])\n",
            "torch.Size([256, 64, 8, 8])\n",
            "torch.Size([256, 128, 8, 8])\n",
            "torch.Size([256, 32, 32, 32])\n",
            "torch.Size([256, 32, 16, 16])\n",
            "torch.Size([256, 64, 16, 16])\n",
            "torch.Size([256, 64, 8, 8])\n",
            "torch.Size([256, 128, 8, 8])\n"
          ],
          "name": "stdout"
        },
        {
          "output_type": "stream",
          "text": [
            "\r 26%|██▌       | 50/196 [00:04<00:10, 13.60it/s]"
          ],
          "name": "stderr"
        },
        {
          "output_type": "stream",
          "text": [
            "torch.Size([256, 32, 32, 32])\n",
            "torch.Size([256, 32, 16, 16])\n",
            "torch.Size([256, 64, 16, 16])\n",
            "torch.Size([256, 64, 8, 8])\n",
            "torch.Size([256, 128, 8, 8])\n",
            "torch.Size([256, 32, 32, 32])\n",
            "torch.Size([256, 32, 16, 16])\n",
            "torch.Size([256, 64, 16, 16])\n",
            "torch.Size([256, 64, 8, 8])\n",
            "torch.Size([256, 128, 8, 8])\n",
            "torch.Size([256, 32, 32, 32])\n",
            "torch.Size([256, 32, 16, 16])\n",
            "torch.Size([256, 64, 16, 16])\n",
            "torch.Size([256, 64, 8, 8])\n",
            "torch.Size([256, 128, 8, 8])\n"
          ],
          "name": "stdout"
        },
        {
          "output_type": "stream",
          "text": [
            " 28%|██▊       | 54/196 [00:04<00:10, 13.53it/s]"
          ],
          "name": "stderr"
        },
        {
          "output_type": "stream",
          "text": [
            "torch.Size([256, 32, 32, 32])\n",
            "torch.Size([256, 32, 16, 16])\n",
            "torch.Size([256, 64, 16, 16])\n",
            "torch.Size([256, 64, 8, 8])\n",
            "torch.Size([256, 128, 8, 8])\n",
            "torch.Size([256, 32, 32, 32])\n",
            "torch.Size([256, 32, 16, 16])\n",
            "torch.Size([256, 64, 16, 16])\n",
            "torch.Size([256, 64, 8, 8])\n",
            "torch.Size([256, 128, 8, 8])\n",
            "torch.Size([256, 32, 32, 32])\n",
            "torch.Size([256, 32, 16, 16])\n",
            "torch.Size([256, 64, 16, 16])\n",
            "torch.Size([256, 64, 8, 8])\n",
            "torch.Size([256, 128, 8, 8])\n"
          ],
          "name": "stdout"
        },
        {
          "output_type": "stream",
          "text": [
            "\r 29%|██▊       | 56/196 [00:04<00:10, 13.70it/s]"
          ],
          "name": "stderr"
        },
        {
          "output_type": "stream",
          "text": [
            "torch.Size([256, 32, 32, 32])\n",
            "torch.Size([256, 32, 16, 16])\n",
            "torch.Size([256, 64, 16, 16])\n",
            "torch.Size([256, 64, 8, 8])\n",
            "torch.Size([256, 128, 8, 8])\n",
            "torch.Size([256, 32, 32, 32])\n",
            "torch.Size([256, 32, 16, 16])\n",
            "torch.Size([256, 64, 16, 16])\n",
            "torch.Size([256, 64, 8, 8])\n",
            "torch.Size([256, 128, 8, 8])\n",
            "torch.Size([256, 32, 32, 32])\n",
            "torch.Size([256, 32, 16, 16])\n",
            "torch.Size([256, 64, 16, 16])\n",
            "torch.Size([256, 64, 8, 8])\n",
            "torch.Size([256, 128, 8, 8])\n"
          ],
          "name": "stdout"
        },
        {
          "output_type": "stream",
          "text": [
            " 31%|███       | 60/196 [00:04<00:10, 13.27it/s]"
          ],
          "name": "stderr"
        },
        {
          "output_type": "stream",
          "text": [
            "torch.Size([256, 32, 32, 32])\n",
            "torch.Size([256, 32, 16, 16])\n",
            "torch.Size([256, 64, 16, 16])\n",
            "torch.Size([256, 64, 8, 8])\n",
            "torch.Size([256, 128, 8, 8])\n",
            "torch.Size([256, 32, 32, 32])\n",
            "torch.Size([256, 32, 16, 16])\n",
            "torch.Size([256, 64, 16, 16])\n",
            "torch.Size([256, 64, 8, 8])\n",
            "torch.Size([256, 128, 8, 8])\n",
            "torch.Size([256, 32, 32, 32])\n",
            "torch.Size([256, 32, 16, 16])\n",
            "torch.Size([256, 64, 16, 16])\n",
            "torch.Size([256, 64, 8, 8])\n",
            "torch.Size([256, 128, 8, 8])\n"
          ],
          "name": "stdout"
        },
        {
          "output_type": "stream",
          "text": [
            "\r 32%|███▏      | 62/196 [00:04<00:09, 13.46it/s]"
          ],
          "name": "stderr"
        },
        {
          "output_type": "stream",
          "text": [
            "torch.Size([256, 32, 32, 32])\n",
            "torch.Size([256, 32, 16, 16])\n",
            "torch.Size([256, 64, 16, 16])\n",
            "torch.Size([256, 64, 8, 8])\n",
            "torch.Size([256, 128, 8, 8])\n",
            "torch.Size([256, 32, 32, 32])\n",
            "torch.Size([256, 32, 16, 16])\n",
            "torch.Size([256, 64, 16, 16])\n",
            "torch.Size([256, 64, 8, 8])\n",
            "torch.Size([256, 128, 8, 8])\n",
            "torch.Size([256, 32, 32, 32])\n",
            "torch.Size([256, 32, 16, 16])\n",
            "torch.Size([256, 64, 16, 16])\n",
            "torch.Size([256, 64, 8, 8])\n",
            "torch.Size([256, 128, 8, 8])\n"
          ],
          "name": "stdout"
        },
        {
          "output_type": "stream",
          "text": [
            " 34%|███▎      | 66/196 [00:05<00:09, 13.54it/s]"
          ],
          "name": "stderr"
        },
        {
          "output_type": "stream",
          "text": [
            "torch.Size([256, 32, 32, 32])\n",
            "torch.Size([256, 32, 16, 16])\n",
            "torch.Size([256, 64, 16, 16])\n",
            "torch.Size([256, 64, 8, 8])\n",
            "torch.Size([256, 128, 8, 8])\n",
            "torch.Size([256, 32, 32, 32])\n",
            "torch.Size([256, 32, 16, 16])\n",
            "torch.Size([256, 64, 16, 16])\n",
            "torch.Size([256, 64, 8, 8])\n",
            "torch.Size([256, 128, 8, 8])\n",
            "torch.Size([256, 32, 32, 32])\n",
            "torch.Size([256, 32, 16, 16])\n",
            "torch.Size([256, 64, 16, 16])\n",
            "torch.Size([256, 64, 8, 8])\n",
            "torch.Size([256, 128, 8, 8])\n"
          ],
          "name": "stdout"
        },
        {
          "output_type": "stream",
          "text": [
            "\r 35%|███▍      | 68/196 [00:05<00:09, 13.78it/s]"
          ],
          "name": "stderr"
        },
        {
          "output_type": "stream",
          "text": [
            "torch.Size([256, 32, 32, 32])\n",
            "torch.Size([256, 32, 16, 16])\n",
            "torch.Size([256, 64, 16, 16])\n",
            "torch.Size([256, 64, 8, 8])\n",
            "torch.Size([256, 128, 8, 8])\n",
            "torch.Size([256, 32, 32, 32])\n",
            "torch.Size([256, 32, 16, 16])\n",
            "torch.Size([256, 64, 16, 16])\n",
            "torch.Size([256, 64, 8, 8])\n",
            "torch.Size([256, 128, 8, 8])\n",
            "torch.Size([256, 32, 32, 32])\n",
            "torch.Size([256, 32, 16, 16])\n",
            "torch.Size([256, 64, 16, 16])\n",
            "torch.Size([256, 64, 8, 8])\n",
            "torch.Size([256, 128, 8, 8])\n"
          ],
          "name": "stdout"
        },
        {
          "output_type": "stream",
          "text": [
            " 37%|███▋      | 72/196 [00:05<00:09, 13.73it/s]"
          ],
          "name": "stderr"
        },
        {
          "output_type": "stream",
          "text": [
            "torch.Size([256, 32, 32, 32])\n",
            "torch.Size([256, 32, 16, 16])\n",
            "torch.Size([256, 64, 16, 16])\n",
            "torch.Size([256, 64, 8, 8])\n",
            "torch.Size([256, 128, 8, 8])\n",
            "torch.Size([256, 32, 32, 32])\n",
            "torch.Size([256, 32, 16, 16])\n",
            "torch.Size([256, 64, 16, 16])\n",
            "torch.Size([256, 64, 8, 8])\n",
            "torch.Size([256, 128, 8, 8])\n",
            "torch.Size([256, 32, 32, 32])\n",
            "torch.Size([256, 32, 16, 16])\n",
            "torch.Size([256, 64, 16, 16])\n",
            "torch.Size([256, 64, 8, 8])\n",
            "torch.Size([256, 128, 8, 8])\n"
          ],
          "name": "stdout"
        },
        {
          "output_type": "stream",
          "text": [
            "\r 38%|███▊      | 74/196 [00:05<00:09, 13.56it/s]"
          ],
          "name": "stderr"
        },
        {
          "output_type": "stream",
          "text": [
            "torch.Size([256, 32, 32, 32])\n",
            "torch.Size([256, 32, 16, 16])\n",
            "torch.Size([256, 64, 16, 16])\n",
            "torch.Size([256, 64, 8, 8])\n",
            "torch.Size([256, 128, 8, 8])\n",
            "torch.Size([256, 32, 32, 32])\n",
            "torch.Size([256, 32, 16, 16])\n",
            "torch.Size([256, 64, 16, 16])\n",
            "torch.Size([256, 64, 8, 8])\n",
            "torch.Size([256, 128, 8, 8])\n",
            "torch.Size([256, 32, 32, 32])\n",
            "torch.Size([256, 32, 16, 16])\n",
            "torch.Size([256, 64, 16, 16])\n",
            "torch.Size([256, 64, 8, 8])\n",
            "torch.Size([256, 128, 8, 8])\n"
          ],
          "name": "stdout"
        },
        {
          "output_type": "stream",
          "text": [
            " 40%|███▉      | 78/196 [00:06<00:08, 13.72it/s]"
          ],
          "name": "stderr"
        },
        {
          "output_type": "stream",
          "text": [
            "torch.Size([256, 32, 32, 32])\n",
            "torch.Size([256, 32, 16, 16])\n",
            "torch.Size([256, 64, 16, 16])\n",
            "torch.Size([256, 64, 8, 8])\n",
            "torch.Size([256, 128, 8, 8])\n",
            "torch.Size([256, 32, 32, 32])\n",
            "torch.Size([256, 32, 16, 16])\n",
            "torch.Size([256, 64, 16, 16])\n",
            "torch.Size([256, 64, 8, 8])\n",
            "torch.Size([256, 128, 8, 8])\n",
            "torch.Size([256, 32, 32, 32])\n",
            "torch.Size([256, 32, 16, 16])\n",
            "torch.Size([256, 64, 16, 16])\n",
            "torch.Size([256, 64, 8, 8])\n",
            "torch.Size([256, 128, 8, 8])\n"
          ],
          "name": "stdout"
        },
        {
          "output_type": "stream",
          "text": [
            "\r 41%|████      | 80/196 [00:06<00:08, 13.53it/s]"
          ],
          "name": "stderr"
        },
        {
          "output_type": "stream",
          "text": [
            "torch.Size([256, 32, 32, 32])\n",
            "torch.Size([256, 32, 16, 16])\n",
            "torch.Size([256, 64, 16, 16])\n",
            "torch.Size([256, 64, 8, 8])\n",
            "torch.Size([256, 128, 8, 8])\n",
            "torch.Size([256, 32, 32, 32])\n",
            "torch.Size([256, 32, 16, 16])\n",
            "torch.Size([256, 64, 16, 16])\n",
            "torch.Size([256, 64, 8, 8])\n",
            "torch.Size([256, 128, 8, 8])\n",
            "torch.Size([256, 32, 32, 32])\n",
            "torch.Size([256, 32, 16, 16])\n",
            "torch.Size([256, 64, 16, 16])\n",
            "torch.Size([256, 64, 8, 8])\n",
            "torch.Size([256, 128, 8, 8])\n"
          ],
          "name": "stdout"
        },
        {
          "output_type": "stream",
          "text": [
            " 43%|████▎     | 84/196 [00:06<00:08, 13.66it/s]"
          ],
          "name": "stderr"
        },
        {
          "output_type": "stream",
          "text": [
            "torch.Size([256, 32, 32, 32])\n",
            "torch.Size([256, 32, 16, 16])\n",
            "torch.Size([256, 64, 16, 16])\n",
            "torch.Size([256, 64, 8, 8])\n",
            "torch.Size([256, 128, 8, 8])\n",
            "torch.Size([256, 32, 32, 32])\n",
            "torch.Size([256, 32, 16, 16])\n",
            "torch.Size([256, 64, 16, 16])\n",
            "torch.Size([256, 64, 8, 8])\n",
            "torch.Size([256, 128, 8, 8])\n",
            "torch.Size([256, 32, 32, 32])\n",
            "torch.Size([256, 32, 16, 16])\n",
            "torch.Size([256, 64, 16, 16])\n",
            "torch.Size([256, 64, 8, 8])\n",
            "torch.Size([256, 128, 8, 8])\n"
          ],
          "name": "stdout"
        },
        {
          "output_type": "stream",
          "text": [
            "\r 44%|████▍     | 86/196 [00:06<00:07, 13.85it/s]"
          ],
          "name": "stderr"
        },
        {
          "output_type": "stream",
          "text": [
            "torch.Size([256, 32, 32, 32])\n",
            "torch.Size([256, 32, 16, 16])\n",
            "torch.Size([256, 64, 16, 16])\n",
            "torch.Size([256, 64, 8, 8])\n",
            "torch.Size([256, 128, 8, 8])\n",
            "torch.Size([256, 32, 32, 32])\n",
            "torch.Size([256, 32, 16, 16])\n",
            "torch.Size([256, 64, 16, 16])\n",
            "torch.Size([256, 64, 8, 8])\n",
            "torch.Size([256, 128, 8, 8])\n",
            "torch.Size([256, 32, 32, 32])\n",
            "torch.Size([256, 32, 16, 16])\n",
            "torch.Size([256, 64, 16, 16])\n",
            "torch.Size([256, 64, 8, 8])\n",
            "torch.Size([256, 128, 8, 8])\n"
          ],
          "name": "stdout"
        },
        {
          "output_type": "stream",
          "text": [
            " 46%|████▌     | 90/196 [00:07<00:08, 13.16it/s]"
          ],
          "name": "stderr"
        },
        {
          "output_type": "stream",
          "text": [
            "torch.Size([256, 32, 32, 32])\n",
            "torch.Size([256, 32, 16, 16])\n",
            "torch.Size([256, 64, 16, 16])\n",
            "torch.Size([256, 64, 8, 8])\n",
            "torch.Size([256, 128, 8, 8])\n",
            "torch.Size([256, 32, 32, 32])\n",
            "torch.Size([256, 32, 16, 16])\n",
            "torch.Size([256, 64, 16, 16])\n",
            "torch.Size([256, 64, 8, 8])\n",
            "torch.Size([256, 128, 8, 8])\n",
            "torch.Size([256, 32, 32, 32])\n",
            "torch.Size([256, 32, 16, 16])\n",
            "torch.Size([256, 64, 16, 16])\n",
            "torch.Size([256, 64, 8, 8])\n",
            "torch.Size([256, 128, 8, 8])\n"
          ],
          "name": "stdout"
        },
        {
          "output_type": "stream",
          "text": [
            " 48%|████▊     | 94/196 [00:07<00:07, 13.78it/s]"
          ],
          "name": "stderr"
        },
        {
          "output_type": "stream",
          "text": [
            "torch.Size([256, 32, 32, 32])\n",
            "torch.Size([256, 32, 16, 16])\n",
            "torch.Size([256, 64, 16, 16])\n",
            "torch.Size([256, 64, 8, 8])\n",
            "torch.Size([256, 128, 8, 8])\n",
            "torch.Size([256, 32, 32, 32])\n",
            "torch.Size([256, 32, 16, 16])\n",
            "torch.Size([256, 64, 16, 16])\n",
            "torch.Size([256, 64, 8, 8])\n",
            "torch.Size([256, 128, 8, 8])\n",
            "torch.Size([256, 32, 32, 32])\n",
            "torch.Size([256, 32, 16, 16])\n",
            "torch.Size([256, 64, 16, 16])\n",
            "torch.Size([256, 64, 8, 8])\n",
            "torch.Size([256, 128, 8, 8])\n"
          ],
          "name": "stdout"
        },
        {
          "output_type": "stream",
          "text": [
            "\r 49%|████▉     | 96/196 [00:07<00:07, 13.53it/s]"
          ],
          "name": "stderr"
        },
        {
          "output_type": "stream",
          "text": [
            "torch.Size([256, 32, 32, 32])\n",
            "torch.Size([256, 32, 16, 16])\n",
            "torch.Size([256, 64, 16, 16])\n",
            "torch.Size([256, 64, 8, 8])\n",
            "torch.Size([256, 128, 8, 8])\n",
            "torch.Size([256, 32, 32, 32])\n",
            "torch.Size([256, 32, 16, 16])\n",
            "torch.Size([256, 64, 16, 16])\n",
            "torch.Size([256, 64, 8, 8])\n",
            "torch.Size([256, 128, 8, 8])\n",
            "torch.Size([256, 32, 32, 32])\n",
            "torch.Size([256, 32, 16, 16])\n",
            "torch.Size([256, 64, 16, 16])\n",
            "torch.Size([256, 64, 8, 8])\n",
            "torch.Size([256, 128, 8, 8])\n"
          ],
          "name": "stdout"
        },
        {
          "output_type": "stream",
          "text": [
            "\r 50%|█████     | 98/196 [00:07<00:07, 13.46it/s]"
          ],
          "name": "stderr"
        },
        {
          "output_type": "stream",
          "text": [
            "torch.Size([256, 32, 32, 32])\n",
            "torch.Size([256, 32, 16, 16])\n",
            "torch.Size([256, 64, 16, 16])\n",
            "torch.Size([256, 64, 8, 8])\n",
            "torch.Size([256, 128, 8, 8])\n",
            "torch.Size([256, 32, 32, 32])\n",
            "torch.Size([256, 32, 16, 16])\n",
            "torch.Size([256, 64, 16, 16])\n",
            "torch.Size([256, 64, 8, 8])\n",
            "torch.Size([256, 128, 8, 8])\n",
            "torch.Size([256, 32, 32, 32])\n",
            "torch.Size([256, 32, 16, 16])\n",
            "torch.Size([256, 64, 16, 16])\n",
            "torch.Size([256, 64, 8, 8])\n",
            "torch.Size([256, 128, 8, 8])\n"
          ],
          "name": "stdout"
        },
        {
          "output_type": "stream",
          "text": [
            " 52%|█████▏    | 102/196 [00:07<00:07, 13.39it/s]"
          ],
          "name": "stderr"
        },
        {
          "output_type": "stream",
          "text": [
            "torch.Size([256, 32, 32, 32])\n",
            "torch.Size([256, 32, 16, 16])\n",
            "torch.Size([256, 64, 16, 16])\n",
            "torch.Size([256, 64, 8, 8])\n",
            "torch.Size([256, 128, 8, 8])\n",
            "torch.Size([256, 32, 32, 32])\n",
            "torch.Size([256, 32, 16, 16])\n",
            "torch.Size([256, 64, 16, 16])\n",
            "torch.Size([256, 64, 8, 8])\n",
            "torch.Size([256, 128, 8, 8])\n",
            "torch.Size([256, 32, 32, 32])\n",
            "torch.Size([256, 32, 16, 16])\n",
            "torch.Size([256, 64, 16, 16])\n",
            "torch.Size([256, 64, 8, 8])\n",
            "torch.Size([256, 128, 8, 8])\n"
          ],
          "name": "stdout"
        },
        {
          "output_type": "stream",
          "text": [
            "\r 53%|█████▎    | 104/196 [00:08<00:06, 13.24it/s]"
          ],
          "name": "stderr"
        },
        {
          "output_type": "stream",
          "text": [
            "torch.Size([256, 32, 32, 32])\n",
            "torch.Size([256, 32, 16, 16])\n",
            "torch.Size([256, 64, 16, 16])\n",
            "torch.Size([256, 64, 8, 8])\n",
            "torch.Size([256, 128, 8, 8])\n",
            "torch.Size([256, 32, 32, 32])\n",
            "torch.Size([256, 32, 16, 16])\n",
            "torch.Size([256, 64, 16, 16])\n",
            "torch.Size([256, 64, 8, 8])\n",
            "torch.Size([256, 128, 8, 8])\n",
            "torch.Size([256, 32, 32, 32])\n",
            "torch.Size([256, 32, 16, 16])\n",
            "torch.Size([256, 64, 16, 16])\n",
            "torch.Size([256, 64, 8, 8])\n",
            "torch.Size([256, 128, 8, 8])\n"
          ],
          "name": "stdout"
        },
        {
          "output_type": "stream",
          "text": [
            " 55%|█████▌    | 108/196 [00:08<00:06, 13.35it/s]"
          ],
          "name": "stderr"
        },
        {
          "output_type": "stream",
          "text": [
            "torch.Size([256, 32, 32, 32])\n",
            "torch.Size([256, 32, 16, 16])\n",
            "torch.Size([256, 64, 16, 16])\n",
            "torch.Size([256, 64, 8, 8])\n",
            "torch.Size([256, 128, 8, 8])\n",
            "torch.Size([256, 32, 32, 32])\n",
            "torch.Size([256, 32, 16, 16])\n",
            "torch.Size([256, 64, 16, 16])\n",
            "torch.Size([256, 64, 8, 8])\n",
            "torch.Size([256, 128, 8, 8])\n",
            "torch.Size([256, 32, 32, 32])\n",
            "torch.Size([256, 32, 16, 16])\n",
            "torch.Size([256, 64, 16, 16])\n",
            "torch.Size([256, 64, 8, 8])\n",
            "torch.Size([256, 128, 8, 8])\n"
          ],
          "name": "stdout"
        },
        {
          "output_type": "stream",
          "text": [
            "\r 56%|█████▌    | 110/196 [00:08<00:06, 13.66it/s]"
          ],
          "name": "stderr"
        },
        {
          "output_type": "stream",
          "text": [
            "torch.Size([256, 32, 32, 32])\n",
            "torch.Size([256, 32, 16, 16])\n",
            "torch.Size([256, 64, 16, 16])\n",
            "torch.Size([256, 64, 8, 8])\n",
            "torch.Size([256, 128, 8, 8])\n",
            "torch.Size([256, 32, 32, 32])\n",
            "torch.Size([256, 32, 16, 16])\n",
            "torch.Size([256, 64, 16, 16])\n",
            "torch.Size([256, 64, 8, 8])\n",
            "torch.Size([256, 128, 8, 8])\n",
            "torch.Size([256, 32, 32, 32])\n",
            "torch.Size([256, 32, 16, 16])\n",
            "torch.Size([256, 64, 16, 16])\n",
            "torch.Size([256, 64, 8, 8])\n",
            "torch.Size([256, 128, 8, 8])\n"
          ],
          "name": "stdout"
        },
        {
          "output_type": "stream",
          "text": [
            " 58%|█████▊    | 114/196 [00:08<00:06, 13.53it/s]"
          ],
          "name": "stderr"
        },
        {
          "output_type": "stream",
          "text": [
            "torch.Size([256, 32, 32, 32])\n",
            "torch.Size([256, 32, 16, 16])\n",
            "torch.Size([256, 64, 16, 16])\n",
            "torch.Size([256, 64, 8, 8])\n",
            "torch.Size([256, 128, 8, 8])\n",
            "torch.Size([256, 32, 32, 32])\n",
            "torch.Size([256, 32, 16, 16])\n",
            "torch.Size([256, 64, 16, 16])\n",
            "torch.Size([256, 64, 8, 8])\n",
            "torch.Size([256, 128, 8, 8])\n",
            "torch.Size([256, 32, 32, 32])\n",
            "torch.Size([256, 32, 16, 16])\n",
            "torch.Size([256, 64, 16, 16])\n",
            "torch.Size([256, 64, 8, 8])\n",
            "torch.Size([256, 128, 8, 8])\n"
          ],
          "name": "stdout"
        },
        {
          "output_type": "stream",
          "text": [
            "\r 59%|█████▉    | 116/196 [00:08<00:05, 13.79it/s]"
          ],
          "name": "stderr"
        },
        {
          "output_type": "stream",
          "text": [
            "torch.Size([256, 32, 32, 32])\n",
            "torch.Size([256, 32, 16, 16])\n",
            "torch.Size([256, 64, 16, 16])\n",
            "torch.Size([256, 64, 8, 8])\n",
            "torch.Size([256, 128, 8, 8])\n",
            "torch.Size([256, 32, 32, 32])\n",
            "torch.Size([256, 32, 16, 16])\n",
            "torch.Size([256, 64, 16, 16])\n",
            "torch.Size([256, 64, 8, 8])\n",
            "torch.Size([256, 128, 8, 8])\n",
            "torch.Size([256, 32, 32, 32])\n",
            "torch.Size([256, 32, 16, 16])\n",
            "torch.Size([256, 64, 16, 16])\n",
            "torch.Size([256, 64, 8, 8])\n",
            "torch.Size([256, 128, 8, 8])\n"
          ],
          "name": "stdout"
        },
        {
          "output_type": "stream",
          "text": [
            " 61%|██████    | 120/196 [00:09<00:05, 13.51it/s]"
          ],
          "name": "stderr"
        },
        {
          "output_type": "stream",
          "text": [
            "torch.Size([256, 32, 32, 32])\n",
            "torch.Size([256, 32, 16, 16])\n",
            "torch.Size([256, 64, 16, 16])\n",
            "torch.Size([256, 64, 8, 8])\n",
            "torch.Size([256, 128, 8, 8])\n",
            "torch.Size([256, 32, 32, 32])\n",
            "torch.Size([256, 32, 16, 16])\n",
            "torch.Size([256, 64, 16, 16])\n",
            "torch.Size([256, 64, 8, 8])\n",
            "torch.Size([256, 128, 8, 8])\n",
            "torch.Size([256, 32, 32, 32])\n",
            "torch.Size([256, 32, 16, 16])\n",
            "torch.Size([256, 64, 16, 16])\n",
            "torch.Size([256, 64, 8, 8])\n",
            "torch.Size([256, 128, 8, 8])\n"
          ],
          "name": "stdout"
        },
        {
          "output_type": "stream",
          "text": [
            "\r 62%|██████▏   | 122/196 [00:09<00:05, 13.32it/s]"
          ],
          "name": "stderr"
        },
        {
          "output_type": "stream",
          "text": [
            "torch.Size([256, 32, 32, 32])\n",
            "torch.Size([256, 32, 16, 16])\n",
            "torch.Size([256, 64, 16, 16])\n",
            "torch.Size([256, 64, 8, 8])\n",
            "torch.Size([256, 128, 8, 8])\n",
            "torch.Size([256, 32, 32, 32])\n",
            "torch.Size([256, 32, 16, 16])\n",
            "torch.Size([256, 64, 16, 16])\n",
            "torch.Size([256, 64, 8, 8])\n",
            "torch.Size([256, 128, 8, 8])\n",
            "torch.Size([256, 32, 32, 32])\n",
            "torch.Size([256, 32, 16, 16])\n",
            "torch.Size([256, 64, 16, 16])\n",
            "torch.Size([256, 64, 8, 8])\n",
            "torch.Size([256, 128, 8, 8])\n"
          ],
          "name": "stdout"
        },
        {
          "output_type": "stream",
          "text": [
            " 64%|██████▍   | 126/196 [00:09<00:05, 13.27it/s]"
          ],
          "name": "stderr"
        },
        {
          "output_type": "stream",
          "text": [
            "torch.Size([256, 32, 32, 32])\n",
            "torch.Size([256, 32, 16, 16])\n",
            "torch.Size([256, 64, 16, 16])\n",
            "torch.Size([256, 64, 8, 8])\n",
            "torch.Size([256, 128, 8, 8])\n",
            "torch.Size([256, 32, 32, 32])\n",
            "torch.Size([256, 32, 16, 16])\n",
            "torch.Size([256, 64, 16, 16])\n",
            "torch.Size([256, 64, 8, 8])\n",
            "torch.Size([256, 128, 8, 8])\n",
            "torch.Size([256, 32, 32, 32])\n",
            "torch.Size([256, 32, 16, 16])\n",
            "torch.Size([256, 64, 16, 16])\n",
            "torch.Size([256, 64, 8, 8])\n",
            "torch.Size([256, 128, 8, 8])\n"
          ],
          "name": "stdout"
        },
        {
          "output_type": "stream",
          "text": [
            "\r 65%|██████▌   | 128/196 [00:09<00:05, 13.05it/s]"
          ],
          "name": "stderr"
        },
        {
          "output_type": "stream",
          "text": [
            "torch.Size([256, 32, 32, 32])\n",
            "torch.Size([256, 32, 16, 16])\n",
            "torch.Size([256, 64, 16, 16])\n",
            "torch.Size([256, 64, 8, 8])\n",
            "torch.Size([256, 128, 8, 8])\n",
            "torch.Size([256, 32, 32, 32])\n",
            "torch.Size([256, 32, 16, 16])\n",
            "torch.Size([256, 64, 16, 16])\n",
            "torch.Size([256, 64, 8, 8])\n",
            "torch.Size([256, 128, 8, 8])\n",
            "torch.Size([256, 32, 32, 32])\n",
            "torch.Size([256, 32, 16, 16])\n",
            "torch.Size([256, 64, 16, 16])\n",
            "torch.Size([256, 64, 8, 8])\n",
            "torch.Size([256, 128, 8, 8])\n"
          ],
          "name": "stdout"
        },
        {
          "output_type": "stream",
          "text": [
            " 67%|██████▋   | 132/196 [00:10<00:04, 13.66it/s]"
          ],
          "name": "stderr"
        },
        {
          "output_type": "stream",
          "text": [
            "torch.Size([256, 32, 32, 32])\n",
            "torch.Size([256, 32, 16, 16])\n",
            "torch.Size([256, 64, 16, 16])\n",
            "torch.Size([256, 64, 8, 8])\n",
            "torch.Size([256, 128, 8, 8])\n",
            "torch.Size([256, 32, 32, 32])\n",
            "torch.Size([256, 32, 16, 16])\n",
            "torch.Size([256, 64, 16, 16])\n",
            "torch.Size([256, 64, 8, 8])\n",
            "torch.Size([256, 128, 8, 8])\n",
            "torch.Size([256, 32, 32, 32])\n",
            "torch.Size([256, 32, 16, 16])\n",
            "torch.Size([256, 64, 16, 16])\n",
            "torch.Size([256, 64, 8, 8])\n",
            "torch.Size([256, 128, 8, 8])\n"
          ],
          "name": "stdout"
        },
        {
          "output_type": "stream",
          "text": [
            "\r 68%|██████▊   | 134/196 [00:10<00:04, 13.83it/s]"
          ],
          "name": "stderr"
        },
        {
          "output_type": "stream",
          "text": [
            "torch.Size([256, 32, 32, 32])\n",
            "torch.Size([256, 32, 16, 16])\n",
            "torch.Size([256, 64, 16, 16])\n",
            "torch.Size([256, 64, 8, 8])\n",
            "torch.Size([256, 128, 8, 8])\n",
            "torch.Size([256, 32, 32, 32])\n",
            "torch.Size([256, 32, 16, 16])\n",
            "torch.Size([256, 64, 16, 16])\n",
            "torch.Size([256, 64, 8, 8])\n",
            "torch.Size([256, 128, 8, 8])\n",
            "torch.Size([256, 32, 32, 32])\n",
            "torch.Size([256, 32, 16, 16])\n",
            "torch.Size([256, 64, 16, 16])\n",
            "torch.Size([256, 64, 8, 8])\n",
            "torch.Size([256, 128, 8, 8])\n"
          ],
          "name": "stdout"
        },
        {
          "output_type": "stream",
          "text": [
            " 70%|███████   | 138/196 [00:10<00:04, 13.49it/s]"
          ],
          "name": "stderr"
        },
        {
          "output_type": "stream",
          "text": [
            "torch.Size([256, 32, 32, 32])\n",
            "torch.Size([256, 32, 16, 16])\n",
            "torch.Size([256, 64, 16, 16])\n",
            "torch.Size([256, 64, 8, 8])\n",
            "torch.Size([256, 128, 8, 8])\n",
            "torch.Size([256, 32, 32, 32])\n",
            "torch.Size([256, 32, 16, 16])\n",
            "torch.Size([256, 64, 16, 16])\n",
            "torch.Size([256, 64, 8, 8])\n",
            "torch.Size([256, 128, 8, 8])\n",
            "torch.Size([256, 32, 32, 32])\n",
            "torch.Size([256, 32, 16, 16])\n",
            "torch.Size([256, 64, 16, 16])\n",
            "torch.Size([256, 64, 8, 8])\n",
            "torch.Size([256, 128, 8, 8])\n"
          ],
          "name": "stdout"
        },
        {
          "output_type": "stream",
          "text": [
            "\r 71%|███████▏  | 140/196 [00:10<00:04, 13.55it/s]"
          ],
          "name": "stderr"
        },
        {
          "output_type": "stream",
          "text": [
            "torch.Size([256, 32, 32, 32])\n",
            "torch.Size([256, 32, 16, 16])\n",
            "torch.Size([256, 64, 16, 16])\n",
            "torch.Size([256, 64, 8, 8])\n",
            "torch.Size([256, 128, 8, 8])\n",
            "torch.Size([256, 32, 32, 32])\n",
            "torch.Size([256, 32, 16, 16])\n",
            "torch.Size([256, 64, 16, 16])\n",
            "torch.Size([256, 64, 8, 8])\n",
            "torch.Size([256, 128, 8, 8])\n",
            "torch.Size([256, 32, 32, 32])\n",
            "torch.Size([256, 32, 16, 16])\n",
            "torch.Size([256, 64, 16, 16])\n",
            "torch.Size([256, 64, 8, 8])\n",
            "torch.Size([256, 128, 8, 8])\n"
          ],
          "name": "stdout"
        },
        {
          "output_type": "stream",
          "text": [
            " 73%|███████▎  | 144/196 [00:10<00:03, 13.84it/s]"
          ],
          "name": "stderr"
        },
        {
          "output_type": "stream",
          "text": [
            "torch.Size([256, 32, 32, 32])\n",
            "torch.Size([256, 32, 16, 16])\n",
            "torch.Size([256, 64, 16, 16])\n",
            "torch.Size([256, 64, 8, 8])\n",
            "torch.Size([256, 128, 8, 8])\n",
            "torch.Size([256, 32, 32, 32])\n",
            "torch.Size([256, 32, 16, 16])\n",
            "torch.Size([256, 64, 16, 16])\n",
            "torch.Size([256, 64, 8, 8])\n",
            "torch.Size([256, 128, 8, 8])\n",
            "torch.Size([256, 32, 32, 32])\n",
            "torch.Size([256, 32, 16, 16])\n",
            "torch.Size([256, 64, 16, 16])\n",
            "torch.Size([256, 64, 8, 8])\n",
            "torch.Size([256, 128, 8, 8])\n"
          ],
          "name": "stdout"
        },
        {
          "output_type": "stream",
          "text": [
            "\r 74%|███████▍  | 146/196 [00:11<00:03, 13.61it/s]"
          ],
          "name": "stderr"
        },
        {
          "output_type": "stream",
          "text": [
            "torch.Size([256, 32, 32, 32])\n",
            "torch.Size([256, 32, 16, 16])\n",
            "torch.Size([256, 64, 16, 16])\n",
            "torch.Size([256, 64, 8, 8])\n",
            "torch.Size([256, 128, 8, 8])\n",
            "torch.Size([256, 32, 32, 32])\n",
            "torch.Size([256, 32, 16, 16])\n",
            "torch.Size([256, 64, 16, 16])\n",
            "torch.Size([256, 64, 8, 8])\n",
            "torch.Size([256, 128, 8, 8])\n",
            "torch.Size([256, 32, 32, 32])\n",
            "torch.Size([256, 32, 16, 16])\n",
            "torch.Size([256, 64, 16, 16])\n",
            "torch.Size([256, 64, 8, 8])\n",
            "torch.Size([256, 128, 8, 8])\n"
          ],
          "name": "stdout"
        },
        {
          "output_type": "stream",
          "text": [
            " 77%|███████▋  | 150/196 [00:11<00:03, 13.59it/s]"
          ],
          "name": "stderr"
        },
        {
          "output_type": "stream",
          "text": [
            "torch.Size([256, 32, 32, 32])\n",
            "torch.Size([256, 32, 16, 16])\n",
            "torch.Size([256, 64, 16, 16])\n",
            "torch.Size([256, 64, 8, 8])\n",
            "torch.Size([256, 128, 8, 8])\n",
            "torch.Size([256, 32, 32, 32])\n",
            "torch.Size([256, 32, 16, 16])\n",
            "torch.Size([256, 64, 16, 16])\n",
            "torch.Size([256, 64, 8, 8])\n",
            "torch.Size([256, 128, 8, 8])\n",
            "torch.Size([256, 32, 32, 32])\n",
            "torch.Size([256, 32, 16, 16])\n",
            "torch.Size([256, 64, 16, 16])\n",
            "torch.Size([256, 64, 8, 8])\n",
            "torch.Size([256, 128, 8, 8])\n"
          ],
          "name": "stdout"
        },
        {
          "output_type": "stream",
          "text": [
            "\r 78%|███████▊  | 152/196 [00:11<00:03, 13.75it/s]"
          ],
          "name": "stderr"
        },
        {
          "output_type": "stream",
          "text": [
            "torch.Size([256, 32, 32, 32])\n",
            "torch.Size([256, 32, 16, 16])\n",
            "torch.Size([256, 64, 16, 16])\n",
            "torch.Size([256, 64, 8, 8])\n",
            "torch.Size([256, 128, 8, 8])\n",
            "torch.Size([256, 32, 32, 32])\n",
            "torch.Size([256, 32, 16, 16])\n",
            "torch.Size([256, 64, 16, 16])\n",
            "torch.Size([256, 64, 8, 8])\n",
            "torch.Size([256, 128, 8, 8])\n",
            "torch.Size([256, 32, 32, 32])\n",
            "torch.Size([256, 32, 16, 16])\n",
            "torch.Size([256, 64, 16, 16])\n",
            "torch.Size([256, 64, 8, 8])\n",
            "torch.Size([256, 128, 8, 8])\n"
          ],
          "name": "stdout"
        },
        {
          "output_type": "stream",
          "text": [
            " 80%|███████▉  | 156/196 [00:11<00:02, 13.92it/s]"
          ],
          "name": "stderr"
        },
        {
          "output_type": "stream",
          "text": [
            "torch.Size([256, 32, 32, 32])\n",
            "torch.Size([256, 32, 16, 16])\n",
            "torch.Size([256, 64, 16, 16])\n",
            "torch.Size([256, 64, 8, 8])\n",
            "torch.Size([256, 128, 8, 8])\n",
            "torch.Size([256, 32, 32, 32])\n",
            "torch.Size([256, 32, 16, 16])\n",
            "torch.Size([256, 64, 16, 16])\n",
            "torch.Size([256, 64, 8, 8])\n",
            "torch.Size([256, 128, 8, 8])\n",
            "torch.Size([256, 32, 32, 32])\n",
            "torch.Size([256, 32, 16, 16])\n",
            "torch.Size([256, 64, 16, 16])\n",
            "torch.Size([256, 64, 8, 8])\n",
            "torch.Size([256, 128, 8, 8])\n"
          ],
          "name": "stdout"
        },
        {
          "output_type": "stream",
          "text": [
            "\r 81%|████████  | 158/196 [00:12<00:02, 13.85it/s]"
          ],
          "name": "stderr"
        },
        {
          "output_type": "stream",
          "text": [
            "torch.Size([256, 32, 32, 32])\n",
            "torch.Size([256, 32, 16, 16])\n",
            "torch.Size([256, 64, 16, 16])\n",
            "torch.Size([256, 64, 8, 8])\n",
            "torch.Size([256, 128, 8, 8])\n",
            "torch.Size([256, 32, 32, 32])\n",
            "torch.Size([256, 32, 16, 16])\n",
            "torch.Size([256, 64, 16, 16])\n",
            "torch.Size([256, 64, 8, 8])\n",
            "torch.Size([256, 128, 8, 8])\n",
            "torch.Size([256, 32, 32, 32])\n",
            "torch.Size([256, 32, 16, 16])\n",
            "torch.Size([256, 64, 16, 16])\n",
            "torch.Size([256, 64, 8, 8])\n",
            "torch.Size([256, 128, 8, 8])\n"
          ],
          "name": "stdout"
        },
        {
          "output_type": "stream",
          "text": [
            " 83%|████████▎ | 162/196 [00:12<00:02, 13.87it/s]"
          ],
          "name": "stderr"
        },
        {
          "output_type": "stream",
          "text": [
            "torch.Size([256, 32, 32, 32])\n",
            "torch.Size([256, 32, 16, 16])\n",
            "torch.Size([256, 64, 16, 16])\n",
            "torch.Size([256, 64, 8, 8])\n",
            "torch.Size([256, 128, 8, 8])\n",
            "torch.Size([256, 32, 32, 32])\n",
            "torch.Size([256, 32, 16, 16])\n",
            "torch.Size([256, 64, 16, 16])\n",
            "torch.Size([256, 64, 8, 8])\n",
            "torch.Size([256, 128, 8, 8])\n",
            "torch.Size([256, 32, 32, 32])\n",
            "torch.Size([256, 32, 16, 16])\n",
            "torch.Size([256, 64, 16, 16])\n",
            "torch.Size([256, 64, 8, 8])\n",
            "torch.Size([256, 128, 8, 8])\n"
          ],
          "name": "stdout"
        },
        {
          "output_type": "stream",
          "text": [
            "\r 84%|████████▎ | 164/196 [00:12<00:02, 13.65it/s]"
          ],
          "name": "stderr"
        },
        {
          "output_type": "stream",
          "text": [
            "torch.Size([256, 32, 32, 32])\n",
            "torch.Size([256, 32, 16, 16])\n",
            "torch.Size([256, 64, 16, 16])\n",
            "torch.Size([256, 64, 8, 8])\n",
            "torch.Size([256, 128, 8, 8])\n",
            "torch.Size([256, 32, 32, 32])\n",
            "torch.Size([256, 32, 16, 16])\n",
            "torch.Size([256, 64, 16, 16])\n",
            "torch.Size([256, 64, 8, 8])\n",
            "torch.Size([256, 128, 8, 8])\n",
            "torch.Size([256, 32, 32, 32])\n",
            "torch.Size([256, 32, 16, 16])\n",
            "torch.Size([256, 64, 16, 16])\n",
            "torch.Size([256, 64, 8, 8])\n",
            "torch.Size([256, 128, 8, 8])\n"
          ],
          "name": "stdout"
        },
        {
          "output_type": "stream",
          "text": [
            " 86%|████████▌ | 168/196 [00:12<00:02, 13.79it/s]"
          ],
          "name": "stderr"
        },
        {
          "output_type": "stream",
          "text": [
            "torch.Size([256, 32, 32, 32])\n",
            "torch.Size([256, 32, 16, 16])\n",
            "torch.Size([256, 64, 16, 16])\n",
            "torch.Size([256, 64, 8, 8])\n",
            "torch.Size([256, 128, 8, 8])\n",
            "torch.Size([256, 32, 32, 32])\n",
            "torch.Size([256, 32, 16, 16])\n",
            "torch.Size([256, 64, 16, 16])\n",
            "torch.Size([256, 64, 8, 8])\n",
            "torch.Size([256, 128, 8, 8])\n",
            "torch.Size([256, 32, 32, 32])\n",
            "torch.Size([256, 32, 16, 16])\n",
            "torch.Size([256, 64, 16, 16])\n",
            "torch.Size([256, 64, 8, 8])\n",
            "torch.Size([256, 128, 8, 8])\n"
          ],
          "name": "stdout"
        },
        {
          "output_type": "stream",
          "text": [
            "\r 87%|████████▋ | 170/196 [00:12<00:01, 13.60it/s]"
          ],
          "name": "stderr"
        },
        {
          "output_type": "stream",
          "text": [
            "torch.Size([256, 32, 32, 32])\n",
            "torch.Size([256, 32, 16, 16])\n",
            "torch.Size([256, 64, 16, 16])\n",
            "torch.Size([256, 64, 8, 8])\n",
            "torch.Size([256, 128, 8, 8])\n",
            "torch.Size([256, 32, 32, 32])\n",
            "torch.Size([256, 32, 16, 16])\n",
            "torch.Size([256, 64, 16, 16])\n",
            "torch.Size([256, 64, 8, 8])\n",
            "torch.Size([256, 128, 8, 8])\n",
            "torch.Size([256, 32, 32, 32])\n",
            "torch.Size([256, 32, 16, 16])\n",
            "torch.Size([256, 64, 16, 16])\n",
            "torch.Size([256, 64, 8, 8])\n",
            "torch.Size([256, 128, 8, 8])\n"
          ],
          "name": "stdout"
        },
        {
          "output_type": "stream",
          "text": [
            " 89%|████████▉ | 174/196 [00:13<00:01, 13.55it/s]"
          ],
          "name": "stderr"
        },
        {
          "output_type": "stream",
          "text": [
            "torch.Size([256, 32, 32, 32])\n",
            "torch.Size([256, 32, 16, 16])\n",
            "torch.Size([256, 64, 16, 16])\n",
            "torch.Size([256, 64, 8, 8])\n",
            "torch.Size([256, 128, 8, 8])\n",
            "torch.Size([256, 32, 32, 32])\n",
            "torch.Size([256, 32, 16, 16])\n",
            "torch.Size([256, 64, 16, 16])\n",
            "torch.Size([256, 64, 8, 8])\n",
            "torch.Size([256, 128, 8, 8])\n",
            "torch.Size([256, 32, 32, 32])\n",
            "torch.Size([256, 32, 16, 16])\n",
            "torch.Size([256, 64, 16, 16])\n",
            "torch.Size([256, 64, 8, 8])\n",
            "torch.Size([256, 128, 8, 8])\n"
          ],
          "name": "stdout"
        },
        {
          "output_type": "stream",
          "text": [
            "\r 90%|████████▉ | 176/196 [00:13<00:01, 13.44it/s]"
          ],
          "name": "stderr"
        },
        {
          "output_type": "stream",
          "text": [
            "torch.Size([256, 32, 32, 32])\n",
            "torch.Size([256, 32, 16, 16])\n",
            "torch.Size([256, 64, 16, 16])\n",
            "torch.Size([256, 64, 8, 8])\n",
            "torch.Size([256, 128, 8, 8])\n",
            "torch.Size([256, 32, 32, 32])\n",
            "torch.Size([256, 32, 16, 16])\n",
            "torch.Size([256, 64, 16, 16])\n",
            "torch.Size([256, 64, 8, 8])\n",
            "torch.Size([256, 128, 8, 8])\n",
            "torch.Size([256, 32, 32, 32])\n",
            "torch.Size([256, 32, 16, 16])\n",
            "torch.Size([256, 64, 16, 16])\n",
            "torch.Size([256, 64, 8, 8])\n",
            "torch.Size([256, 128, 8, 8])\n"
          ],
          "name": "stdout"
        },
        {
          "output_type": "stream",
          "text": [
            " 92%|█████████▏| 180/196 [00:13<00:01, 13.69it/s]"
          ],
          "name": "stderr"
        },
        {
          "output_type": "stream",
          "text": [
            "torch.Size([256, 32, 32, 32])\n",
            "torch.Size([256, 32, 16, 16])\n",
            "torch.Size([256, 64, 16, 16])\n",
            "torch.Size([256, 64, 8, 8])\n",
            "torch.Size([256, 128, 8, 8])\n",
            "torch.Size([256, 32, 32, 32])\n",
            "torch.Size([256, 32, 16, 16])\n",
            "torch.Size([256, 64, 16, 16])\n",
            "torch.Size([256, 64, 8, 8])\n",
            "torch.Size([256, 128, 8, 8])\n",
            "torch.Size([256, 32, 32, 32])\n",
            "torch.Size([256, 32, 16, 16])\n",
            "torch.Size([256, 64, 16, 16])\n",
            "torch.Size([256, 64, 8, 8])\n",
            "torch.Size([256, 128, 8, 8])\n"
          ],
          "name": "stdout"
        },
        {
          "output_type": "stream",
          "text": [
            "\r 93%|█████████▎| 182/196 [00:13<00:01, 13.69it/s]"
          ],
          "name": "stderr"
        },
        {
          "output_type": "stream",
          "text": [
            "torch.Size([256, 32, 32, 32])\n",
            "torch.Size([256, 32, 16, 16])\n",
            "torch.Size([256, 64, 16, 16])\n",
            "torch.Size([256, 64, 8, 8])\n",
            "torch.Size([256, 128, 8, 8])\n",
            "torch.Size([256, 32, 32, 32])\n",
            "torch.Size([256, 32, 16, 16])\n",
            "torch.Size([256, 64, 16, 16])\n",
            "torch.Size([256, 64, 8, 8])\n",
            "torch.Size([256, 128, 8, 8])\n",
            "torch.Size([256, 32, 32, 32])\n",
            "torch.Size([256, 32, 16, 16])\n",
            "torch.Size([256, 64, 16, 16])\n",
            "torch.Size([256, 64, 8, 8])\n",
            "torch.Size([256, 128, 8, 8])\n"
          ],
          "name": "stdout"
        },
        {
          "output_type": "stream",
          "text": [
            " 95%|█████████▍| 186/196 [00:14<00:00, 13.66it/s]"
          ],
          "name": "stderr"
        },
        {
          "output_type": "stream",
          "text": [
            "torch.Size([256, 32, 32, 32])\n",
            "torch.Size([256, 32, 16, 16])\n",
            "torch.Size([256, 64, 16, 16])\n",
            "torch.Size([256, 64, 8, 8])\n",
            "torch.Size([256, 128, 8, 8])\n",
            "torch.Size([256, 32, 32, 32])\n",
            "torch.Size([256, 32, 16, 16])\n",
            "torch.Size([256, 64, 16, 16])\n",
            "torch.Size([256, 64, 8, 8])\n",
            "torch.Size([256, 128, 8, 8])\n",
            "torch.Size([256, 32, 32, 32])\n",
            "torch.Size([256, 32, 16, 16])\n",
            "torch.Size([256, 64, 16, 16])\n",
            "torch.Size([256, 64, 8, 8])\n",
            "torch.Size([256, 128, 8, 8])\n"
          ],
          "name": "stdout"
        },
        {
          "output_type": "stream",
          "text": [
            "\r 96%|█████████▌| 188/196 [00:14<00:00, 12.94it/s]"
          ],
          "name": "stderr"
        },
        {
          "output_type": "stream",
          "text": [
            "torch.Size([256, 32, 32, 32])\n",
            "torch.Size([256, 32, 16, 16])\n",
            "torch.Size([256, 64, 16, 16])\n",
            "torch.Size([256, 64, 8, 8])\n",
            "torch.Size([256, 128, 8, 8])\n",
            "torch.Size([256, 32, 32, 32])\n",
            "torch.Size([256, 32, 16, 16])\n",
            "torch.Size([256, 64, 16, 16])\n",
            "torch.Size([256, 64, 8, 8])\n",
            "torch.Size([256, 128, 8, 8])\n",
            "torch.Size([256, 32, 32, 32])\n",
            "torch.Size([256, 32, 16, 16])\n",
            "torch.Size([256, 64, 16, 16])\n",
            "torch.Size([256, 64, 8, 8])\n",
            "torch.Size([256, 128, 8, 8])\n"
          ],
          "name": "stdout"
        },
        {
          "output_type": "stream",
          "text": [
            " 98%|█████████▊| 192/196 [00:14<00:00, 13.77it/s]"
          ],
          "name": "stderr"
        },
        {
          "output_type": "stream",
          "text": [
            "torch.Size([256, 32, 32, 32])\n",
            "torch.Size([256, 32, 16, 16])\n",
            "torch.Size([256, 64, 16, 16])\n",
            "torch.Size([256, 64, 8, 8])\n",
            "torch.Size([256, 128, 8, 8])\n",
            "torch.Size([256, 32, 32, 32])\n",
            "torch.Size([256, 32, 16, 16])\n",
            "torch.Size([256, 64, 16, 16])\n",
            "torch.Size([256, 64, 8, 8])\n",
            "torch.Size([256, 128, 8, 8])\n",
            "torch.Size([256, 32, 32, 32])\n",
            "torch.Size([256, 32, 16, 16])\n",
            "torch.Size([256, 64, 16, 16])\n",
            "torch.Size([256, 64, 8, 8])\n",
            "torch.Size([256, 128, 8, 8])\n"
          ],
          "name": "stdout"
        },
        {
          "output_type": "stream",
          "text": [
            "\r 99%|█████████▉| 194/196 [00:14<00:00, 14.02it/s]"
          ],
          "name": "stderr"
        },
        {
          "output_type": "stream",
          "text": [
            "torch.Size([256, 32, 32, 32])\n",
            "torch.Size([256, 32, 16, 16])\n",
            "torch.Size([256, 64, 16, 16])\n",
            "torch.Size([256, 64, 8, 8])\n",
            "torch.Size([256, 128, 8, 8])\n",
            "torch.Size([256, 32, 32, 32])\n",
            "torch.Size([256, 32, 16, 16])\n",
            "torch.Size([256, 64, 16, 16])\n",
            "torch.Size([256, 64, 8, 8])\n",
            "torch.Size([256, 128, 8, 8])\n",
            "torch.Size([80, 32, 32, 32])\n",
            "torch.Size([80, 32, 16, 16])\n",
            "torch.Size([80, 64, 16, 16])\n",
            "torch.Size([80, 64, 8, 8])\n",
            "torch.Size([80, 128, 8, 8])\n"
          ],
          "name": "stdout"
        },
        {
          "output_type": "stream",
          "text": [
            "\r100%|██████████| 196/196 [00:14<00:00, 13.24it/s]\n"
          ],
          "name": "stderr"
        },
        {
          "output_type": "stream",
          "text": [
            "torch.Size([256, 32, 32, 32])\n",
            "torch.Size([256, 32, 16, 16])\n",
            "torch.Size([256, 64, 16, 16])\n",
            "torch.Size([256, 64, 8, 8])\n",
            "torch.Size([256, 128, 8, 8])\n",
            "torch.Size([256, 32, 32, 32])\n",
            "torch.Size([256, 32, 16, 16])\n",
            "torch.Size([256, 64, 16, 16])\n",
            "torch.Size([256, 64, 8, 8])\n",
            "torch.Size([256, 128, 8, 8])\n",
            "torch.Size([256, 32, 32, 32])\n",
            "torch.Size([256, 32, 16, 16])\n",
            "torch.Size([256, 64, 16, 16])\n",
            "torch.Size([256, 64, 8, 8])\n",
            "torch.Size([256, 128, 8, 8])\n",
            "torch.Size([256, 32, 32, 32])\n",
            "torch.Size([256, 32, 16, 16])\n",
            "torch.Size([256, 64, 16, 16])\n",
            "torch.Size([256, 64, 8, 8])\n",
            "torch.Size([256, 128, 8, 8])\n",
            "torch.Size([256, 32, 32, 32])\n",
            "torch.Size([256, 32, 16, 16])\n",
            "torch.Size([256, 64, 16, 16])\n",
            "torch.Size([256, 64, 8, 8])\n",
            "torch.Size([256, 128, 8, 8])\n",
            "torch.Size([256, 32, 32, 32])\n",
            "torch.Size([256, 32, 16, 16])\n",
            "torch.Size([256, 64, 16, 16])\n",
            "torch.Size([256, 64, 8, 8])\n",
            "torch.Size([256, 128, 8, 8])\n",
            "torch.Size([256, 32, 32, 32])\n",
            "torch.Size([256, 32, 16, 16])\n",
            "torch.Size([256, 64, 16, 16])\n",
            "torch.Size([256, 64, 8, 8])\n",
            "torch.Size([256, 128, 8, 8])\n",
            "torch.Size([256, 32, 32, 32])\n",
            "torch.Size([256, 32, 16, 16])\n",
            "torch.Size([256, 64, 16, 16])\n",
            "torch.Size([256, 64, 8, 8])\n",
            "torch.Size([256, 128, 8, 8])\n",
            "torch.Size([256, 32, 32, 32])\n",
            "torch.Size([256, 32, 16, 16])\n",
            "torch.Size([256, 64, 16, 16])\n",
            "torch.Size([256, 64, 8, 8])\n",
            "torch.Size([256, 128, 8, 8])\n",
            "torch.Size([256, 32, 32, 32])\n",
            "torch.Size([256, 32, 16, 16])\n",
            "torch.Size([256, 64, 16, 16])\n",
            "torch.Size([256, 64, 8, 8])\n",
            "torch.Size([256, 128, 8, 8])\n",
            "torch.Size([256, 32, 32, 32])\n",
            "torch.Size([256, 32, 16, 16])\n",
            "torch.Size([256, 64, 16, 16])\n",
            "torch.Size([256, 64, 8, 8])\n",
            "torch.Size([256, 128, 8, 8])\n",
            "torch.Size([256, 32, 32, 32])\n",
            "torch.Size([256, 32, 16, 16])\n",
            "torch.Size([256, 64, 16, 16])\n",
            "torch.Size([256, 64, 8, 8])\n",
            "torch.Size([256, 128, 8, 8])\n",
            "torch.Size([256, 32, 32, 32])\n",
            "torch.Size([256, 32, 16, 16])\n",
            "torch.Size([256, 64, 16, 16])\n",
            "torch.Size([256, 64, 8, 8])\n",
            "torch.Size([256, 128, 8, 8])\n",
            "torch.Size([256, 32, 32, 32])\n",
            "torch.Size([256, 32, 16, 16])\n",
            "torch.Size([256, 64, 16, 16])\n",
            "torch.Size([256, 64, 8, 8])\n",
            "torch.Size([256, 128, 8, 8])\n",
            "torch.Size([256, 32, 32, 32])\n",
            "torch.Size([256, 32, 16, 16])\n",
            "torch.Size([256, 64, 16, 16])\n",
            "torch.Size([256, 64, 8, 8])\n",
            "torch.Size([256, 128, 8, 8])\n",
            "torch.Size([256, 32, 32, 32])\n",
            "torch.Size([256, 32, 16, 16])\n",
            "torch.Size([256, 64, 16, 16])\n",
            "torch.Size([256, 64, 8, 8])\n",
            "torch.Size([256, 128, 8, 8])\n",
            "torch.Size([256, 32, 32, 32])\n",
            "torch.Size([256, 32, 16, 16])\n",
            "torch.Size([256, 64, 16, 16])\n",
            "torch.Size([256, 64, 8, 8])\n",
            "torch.Size([256, 128, 8, 8])\n",
            "torch.Size([256, 32, 32, 32])\n",
            "torch.Size([256, 32, 16, 16])\n",
            "torch.Size([256, 64, 16, 16])\n",
            "torch.Size([256, 64, 8, 8])\n",
            "torch.Size([256, 128, 8, 8])\n",
            "torch.Size([256, 32, 32, 32])\n",
            "torch.Size([256, 32, 16, 16])\n",
            "torch.Size([256, 64, 16, 16])\n",
            "torch.Size([256, 64, 8, 8])\n",
            "torch.Size([256, 128, 8, 8])\n",
            "torch.Size([256, 32, 32, 32])\n",
            "torch.Size([256, 32, 16, 16])\n",
            "torch.Size([256, 64, 16, 16])\n",
            "torch.Size([256, 64, 8, 8])\n",
            "torch.Size([256, 128, 8, 8])\n",
            "torch.Size([256, 32, 32, 32])\n",
            "torch.Size([256, 32, 16, 16])\n",
            "torch.Size([256, 64, 16, 16])\n",
            "torch.Size([256, 64, 8, 8])\n",
            "torch.Size([256, 128, 8, 8])\n",
            "torch.Size([256, 32, 32, 32])\n",
            "torch.Size([256, 32, 16, 16])\n",
            "torch.Size([256, 64, 16, 16])\n",
            "torch.Size([256, 64, 8, 8])\n",
            "torch.Size([256, 128, 8, 8])\n",
            "torch.Size([256, 32, 32, 32])\n",
            "torch.Size([256, 32, 16, 16])\n",
            "torch.Size([256, 64, 16, 16])\n",
            "torch.Size([256, 64, 8, 8])\n",
            "torch.Size([256, 128, 8, 8])\n",
            "torch.Size([256, 32, 32, 32])\n",
            "torch.Size([256, 32, 16, 16])\n",
            "torch.Size([256, 64, 16, 16])\n",
            "torch.Size([256, 64, 8, 8])\n",
            "torch.Size([256, 128, 8, 8])\n",
            "torch.Size([256, 32, 32, 32])\n",
            "torch.Size([256, 32, 16, 16])\n",
            "torch.Size([256, 64, 16, 16])\n",
            "torch.Size([256, 64, 8, 8])\n",
            "torch.Size([256, 128, 8, 8])\n",
            "torch.Size([256, 32, 32, 32])\n",
            "torch.Size([256, 32, 16, 16])\n",
            "torch.Size([256, 64, 16, 16])\n",
            "torch.Size([256, 64, 8, 8])\n",
            "torch.Size([256, 128, 8, 8])\n",
            "torch.Size([256, 32, 32, 32])\n",
            "torch.Size([256, 32, 16, 16])\n",
            "torch.Size([256, 64, 16, 16])\n",
            "torch.Size([256, 64, 8, 8])\n",
            "torch.Size([256, 128, 8, 8])\n",
            "torch.Size([256, 32, 32, 32])\n",
            "torch.Size([256, 32, 16, 16])\n",
            "torch.Size([256, 64, 16, 16])\n",
            "torch.Size([256, 64, 8, 8])\n",
            "torch.Size([256, 128, 8, 8])\n",
            "torch.Size([256, 32, 32, 32])\n",
            "torch.Size([256, 32, 16, 16])\n",
            "torch.Size([256, 64, 16, 16])\n",
            "torch.Size([256, 64, 8, 8])\n",
            "torch.Size([256, 128, 8, 8])\n",
            "torch.Size([256, 32, 32, 32])\n",
            "torch.Size([256, 32, 16, 16])\n",
            "torch.Size([256, 64, 16, 16])\n",
            "torch.Size([256, 64, 8, 8])\n",
            "torch.Size([256, 128, 8, 8])\n",
            "torch.Size([256, 32, 32, 32])\n",
            "torch.Size([256, 32, 16, 16])\n",
            "torch.Size([256, 64, 16, 16])\n",
            "torch.Size([256, 64, 8, 8])\n",
            "torch.Size([256, 128, 8, 8])\n",
            "torch.Size([256, 32, 32, 32])\n",
            "torch.Size([256, 32, 16, 16])\n",
            "torch.Size([256, 64, 16, 16])\n",
            "torch.Size([256, 64, 8, 8])\n",
            "torch.Size([256, 128, 8, 8])\n",
            "torch.Size([256, 32, 32, 32])\n",
            "torch.Size([256, 32, 16, 16])\n",
            "torch.Size([256, 64, 16, 16])\n",
            "torch.Size([256, 64, 8, 8])\n",
            "torch.Size([256, 128, 8, 8])\n",
            "torch.Size([256, 32, 32, 32])\n",
            "torch.Size([256, 32, 16, 16])\n",
            "torch.Size([256, 64, 16, 16])\n",
            "torch.Size([256, 64, 8, 8])\n",
            "torch.Size([256, 128, 8, 8])\n",
            "torch.Size([256, 32, 32, 32])\n",
            "torch.Size([256, 32, 16, 16])\n",
            "torch.Size([256, 64, 16, 16])\n",
            "torch.Size([256, 64, 8, 8])\n",
            "torch.Size([256, 128, 8, 8])\n",
            "torch.Size([256, 32, 32, 32])\n",
            "torch.Size([256, 32, 16, 16])\n",
            "torch.Size([256, 64, 16, 16])\n",
            "torch.Size([256, 64, 8, 8])\n",
            "torch.Size([256, 128, 8, 8])\n"
          ],
          "name": "stdout"
        },
        {
          "output_type": "stream",
          "text": [
            "\r  0%|          | 0/196 [00:00<?, ?it/s]"
          ],
          "name": "stderr"
        },
        {
          "output_type": "stream",
          "text": [
            "torch.Size([256, 32, 32, 32])\n",
            "torch.Size([256, 32, 16, 16])\n",
            "torch.Size([256, 64, 16, 16])\n",
            "torch.Size([256, 64, 8, 8])\n",
            "torch.Size([256, 128, 8, 8])\n",
            "torch.Size([256, 32, 32, 32])\n",
            "torch.Size([256, 32, 16, 16])\n",
            "torch.Size([256, 64, 16, 16])\n",
            "torch.Size([256, 64, 8, 8])\n",
            "torch.Size([256, 128, 8, 8])\n",
            "torch.Size([256, 32, 32, 32])\n",
            "torch.Size([256, 32, 16, 16])\n",
            "torch.Size([256, 64, 16, 16])\n",
            "torch.Size([256, 64, 8, 8])\n",
            "torch.Size([256, 128, 8, 8])\n",
            "torch.Size([16, 32, 32, 32])\n",
            "torch.Size([16, 32, 16, 16])\n",
            "torch.Size([16, 64, 16, 16])\n",
            "torch.Size([16, 64, 8, 8])\n",
            "torch.Size([16, 128, 8, 8])\n",
            "\n",
            "Epoch: 3 Train set: Average loss: 0.0039, Accuracy: 64.310%\n",
            "Epoch: 3 Test set: Average loss: 0.0041, Accuracy: 62.740%\n"
          ],
          "name": "stdout"
        },
        {
          "output_type": "stream",
          "text": [
            "\r  1%|          | 1/196 [00:00<01:09,  2.82it/s]"
          ],
          "name": "stderr"
        },
        {
          "output_type": "stream",
          "text": [
            "torch.Size([256, 32, 32, 32])\n",
            "torch.Size([256, 32, 16, 16])\n",
            "torch.Size([256, 64, 16, 16])\n",
            "torch.Size([256, 64, 8, 8])\n",
            "torch.Size([256, 128, 8, 8])\n",
            "torch.Size([256, 32, 32, 32])\n",
            "torch.Size([256, 32, 16, 16])\n",
            "torch.Size([256, 64, 16, 16])\n",
            "torch.Size([256, 64, 8, 8])\n",
            "torch.Size([256, 128, 8, 8])\n",
            "torch.Size([256, 32, 32, 32])\n",
            "torch.Size([256, 32, 16, 16])\n",
            "torch.Size([256, 64, 16, 16])\n",
            "torch.Size([256, 64, 8, 8])\n",
            "torch.Size([256, 128, 8, 8])\n"
          ],
          "name": "stdout"
        },
        {
          "output_type": "stream",
          "text": [
            "  3%|▎         | 5/196 [00:00<00:40,  4.67it/s]"
          ],
          "name": "stderr"
        },
        {
          "output_type": "stream",
          "text": [
            "torch.Size([256, 32, 32, 32])\n",
            "torch.Size([256, 32, 16, 16])\n",
            "torch.Size([256, 64, 16, 16])\n",
            "torch.Size([256, 64, 8, 8])\n",
            "torch.Size([256, 128, 8, 8])\n",
            "torch.Size([256, 32, 32, 32])\n",
            "torch.Size([256, 32, 16, 16])\n",
            "torch.Size([256, 64, 16, 16])\n",
            "torch.Size([256, 64, 8, 8])\n",
            "torch.Size([256, 128, 8, 8])\n",
            "torch.Size([256, 32, 32, 32])\n",
            "torch.Size([256, 32, 16, 16])\n",
            "torch.Size([256, 64, 16, 16])\n",
            "torch.Size([256, 64, 8, 8])\n",
            "torch.Size([256, 128, 8, 8])\n"
          ],
          "name": "stdout"
        },
        {
          "output_type": "stream",
          "text": [
            "\r  4%|▎         | 7/196 [00:00<00:33,  5.69it/s]"
          ],
          "name": "stderr"
        },
        {
          "output_type": "stream",
          "text": [
            "torch.Size([256, 32, 32, 32])\n",
            "torch.Size([256, 32, 16, 16])\n",
            "torch.Size([256, 64, 16, 16])\n",
            "torch.Size([256, 64, 8, 8])\n",
            "torch.Size([256, 128, 8, 8])\n",
            "torch.Size([256, 32, 32, 32])\n",
            "torch.Size([256, 32, 16, 16])\n",
            "torch.Size([256, 64, 16, 16])\n",
            "torch.Size([256, 64, 8, 8])\n",
            "torch.Size([256, 128, 8, 8])\n",
            "torch.Size([256, 32, 32, 32])\n",
            "torch.Size([256, 32, 16, 16])\n",
            "torch.Size([256, 64, 16, 16])\n",
            "torch.Size([256, 64, 8, 8])\n",
            "torch.Size([256, 128, 8, 8])\n"
          ],
          "name": "stdout"
        },
        {
          "output_type": "stream",
          "text": [
            "  6%|▌         | 11/196 [00:01<00:23,  7.93it/s]"
          ],
          "name": "stderr"
        },
        {
          "output_type": "stream",
          "text": [
            "torch.Size([256, 32, 32, 32])\n",
            "torch.Size([256, 32, 16, 16])\n",
            "torch.Size([256, 64, 16, 16])\n",
            "torch.Size([256, 64, 8, 8])\n",
            "torch.Size([256, 128, 8, 8])\n",
            "torch.Size([256, 32, 32, 32])\n",
            "torch.Size([256, 32, 16, 16])\n",
            "torch.Size([256, 64, 16, 16])\n",
            "torch.Size([256, 64, 8, 8])\n",
            "torch.Size([256, 128, 8, 8])\n",
            "torch.Size([256, 32, 32, 32])\n",
            "torch.Size([256, 32, 16, 16])\n",
            "torch.Size([256, 64, 16, 16])\n",
            "torch.Size([256, 64, 8, 8])\n",
            "torch.Size([256, 128, 8, 8])\n"
          ],
          "name": "stdout"
        },
        {
          "output_type": "stream",
          "text": [
            "\r  7%|▋         | 13/196 [00:01<00:20,  9.01it/s]"
          ],
          "name": "stderr"
        },
        {
          "output_type": "stream",
          "text": [
            "torch.Size([256, 32, 32, 32])\n",
            "torch.Size([256, 32, 16, 16])\n",
            "torch.Size([256, 64, 16, 16])\n",
            "torch.Size([256, 64, 8, 8])\n",
            "torch.Size([256, 128, 8, 8])\n",
            "torch.Size([256, 32, 32, 32])\n",
            "torch.Size([256, 32, 16, 16])\n",
            "torch.Size([256, 64, 16, 16])\n",
            "torch.Size([256, 64, 8, 8])\n",
            "torch.Size([256, 128, 8, 8])\n",
            "torch.Size([256, 32, 32, 32])\n",
            "torch.Size([256, 32, 16, 16])\n",
            "torch.Size([256, 64, 16, 16])\n",
            "torch.Size([256, 64, 8, 8])\n",
            "torch.Size([256, 128, 8, 8])\n"
          ],
          "name": "stdout"
        },
        {
          "output_type": "stream",
          "text": [
            "  9%|▊         | 17/196 [00:01<00:17, 10.38it/s]"
          ],
          "name": "stderr"
        },
        {
          "output_type": "stream",
          "text": [
            "torch.Size([256, 32, 32, 32])\n",
            "torch.Size([256, 32, 16, 16])\n",
            "torch.Size([256, 64, 16, 16])\n",
            "torch.Size([256, 64, 8, 8])\n",
            "torch.Size([256, 128, 8, 8])\n",
            "torch.Size([256, 32, 32, 32])\n",
            "torch.Size([256, 32, 16, 16])\n",
            "torch.Size([256, 64, 16, 16])\n",
            "torch.Size([256, 64, 8, 8])\n",
            "torch.Size([256, 128, 8, 8])\n",
            "torch.Size([256, 32, 32, 32])\n",
            "torch.Size([256, 32, 16, 16])\n",
            "torch.Size([256, 64, 16, 16])\n",
            "torch.Size([256, 64, 8, 8])\n",
            "torch.Size([256, 128, 8, 8])\n"
          ],
          "name": "stdout"
        },
        {
          "output_type": "stream",
          "text": [
            "\r 10%|▉         | 19/196 [00:01<00:15, 11.20it/s]"
          ],
          "name": "stderr"
        },
        {
          "output_type": "stream",
          "text": [
            "torch.Size([256, 32, 32, 32])\n",
            "torch.Size([256, 32, 16, 16])\n",
            "torch.Size([256, 64, 16, 16])\n",
            "torch.Size([256, 64, 8, 8])\n",
            "torch.Size([256, 128, 8, 8])\n",
            "torch.Size([256, 32, 32, 32])\n",
            "torch.Size([256, 32, 16, 16])\n",
            "torch.Size([256, 64, 16, 16])\n",
            "torch.Size([256, 64, 8, 8])\n",
            "torch.Size([256, 128, 8, 8])\n",
            "torch.Size([256, 32, 32, 32])\n",
            "torch.Size([256, 32, 16, 16])\n",
            "torch.Size([256, 64, 16, 16])\n",
            "torch.Size([256, 64, 8, 8])\n",
            "torch.Size([256, 128, 8, 8])\n"
          ],
          "name": "stdout"
        },
        {
          "output_type": "stream",
          "text": [
            " 12%|█▏        | 23/196 [00:02<00:14, 12.18it/s]"
          ],
          "name": "stderr"
        },
        {
          "output_type": "stream",
          "text": [
            "torch.Size([256, 32, 32, 32])\n",
            "torch.Size([256, 32, 16, 16])\n",
            "torch.Size([256, 64, 16, 16])\n",
            "torch.Size([256, 64, 8, 8])\n",
            "torch.Size([256, 128, 8, 8])\n",
            "torch.Size([256, 32, 32, 32])\n",
            "torch.Size([256, 32, 16, 16])\n",
            "torch.Size([256, 64, 16, 16])\n",
            "torch.Size([256, 64, 8, 8])\n",
            "torch.Size([256, 128, 8, 8])\n",
            "torch.Size([256, 32, 32, 32])\n",
            "torch.Size([256, 32, 16, 16])\n",
            "torch.Size([256, 64, 16, 16])\n",
            "torch.Size([256, 64, 8, 8])\n",
            "torch.Size([256, 128, 8, 8])\n"
          ],
          "name": "stdout"
        },
        {
          "output_type": "stream",
          "text": [
            "\r 13%|█▎        | 25/196 [00:02<00:13, 12.83it/s]"
          ],
          "name": "stderr"
        },
        {
          "output_type": "stream",
          "text": [
            "torch.Size([256, 32, 32, 32])\n",
            "torch.Size([256, 32, 16, 16])\n",
            "torch.Size([256, 64, 16, 16])\n",
            "torch.Size([256, 64, 8, 8])\n",
            "torch.Size([256, 128, 8, 8])\n",
            "torch.Size([256, 32, 32, 32])\n",
            "torch.Size([256, 32, 16, 16])\n",
            "torch.Size([256, 64, 16, 16])\n",
            "torch.Size([256, 64, 8, 8])\n",
            "torch.Size([256, 128, 8, 8])\n",
            "torch.Size([256, 32, 32, 32])\n",
            "torch.Size([256, 32, 16, 16])\n",
            "torch.Size([256, 64, 16, 16])\n",
            "torch.Size([256, 64, 8, 8])\n",
            "torch.Size([256, 128, 8, 8])\n"
          ],
          "name": "stdout"
        },
        {
          "output_type": "stream",
          "text": [
            " 15%|█▍        | 29/196 [00:02<00:12, 13.46it/s]"
          ],
          "name": "stderr"
        },
        {
          "output_type": "stream",
          "text": [
            "torch.Size([256, 32, 32, 32])\n",
            "torch.Size([256, 32, 16, 16])\n",
            "torch.Size([256, 64, 16, 16])\n",
            "torch.Size([256, 64, 8, 8])\n",
            "torch.Size([256, 128, 8, 8])\n",
            "torch.Size([256, 32, 32, 32])\n",
            "torch.Size([256, 32, 16, 16])\n",
            "torch.Size([256, 64, 16, 16])\n",
            "torch.Size([256, 64, 8, 8])\n",
            "torch.Size([256, 128, 8, 8])\n",
            "torch.Size([256, 32, 32, 32])\n",
            "torch.Size([256, 32, 16, 16])\n",
            "torch.Size([256, 64, 16, 16])\n",
            "torch.Size([256, 64, 8, 8])\n",
            "torch.Size([256, 128, 8, 8])\n"
          ],
          "name": "stdout"
        },
        {
          "output_type": "stream",
          "text": [
            "\r 16%|█▌        | 31/196 [00:02<00:12, 13.44it/s]"
          ],
          "name": "stderr"
        },
        {
          "output_type": "stream",
          "text": [
            "torch.Size([256, 32, 32, 32])\n",
            "torch.Size([256, 32, 16, 16])\n",
            "torch.Size([256, 64, 16, 16])\n",
            "torch.Size([256, 64, 8, 8])\n",
            "torch.Size([256, 128, 8, 8])\n",
            "torch.Size([256, 32, 32, 32])\n",
            "torch.Size([256, 32, 16, 16])\n",
            "torch.Size([256, 64, 16, 16])\n",
            "torch.Size([256, 64, 8, 8])\n",
            "torch.Size([256, 128, 8, 8])\n",
            "torch.Size([256, 32, 32, 32])\n",
            "torch.Size([256, 32, 16, 16])\n",
            "torch.Size([256, 64, 16, 16])\n",
            "torch.Size([256, 64, 8, 8])\n",
            "torch.Size([256, 128, 8, 8])\n"
          ],
          "name": "stdout"
        },
        {
          "output_type": "stream",
          "text": [
            " 18%|█▊        | 35/196 [00:02<00:12, 13.27it/s]"
          ],
          "name": "stderr"
        },
        {
          "output_type": "stream",
          "text": [
            "torch.Size([256, 32, 32, 32])\n",
            "torch.Size([256, 32, 16, 16])\n",
            "torch.Size([256, 64, 16, 16])\n",
            "torch.Size([256, 64, 8, 8])\n",
            "torch.Size([256, 128, 8, 8])\n",
            "torch.Size([256, 32, 32, 32])\n",
            "torch.Size([256, 32, 16, 16])\n",
            "torch.Size([256, 64, 16, 16])\n",
            "torch.Size([256, 64, 8, 8])\n",
            "torch.Size([256, 128, 8, 8])\n",
            "torch.Size([256, 32, 32, 32])\n",
            "torch.Size([256, 32, 16, 16])\n",
            "torch.Size([256, 64, 16, 16])\n",
            "torch.Size([256, 64, 8, 8])\n",
            "torch.Size([256, 128, 8, 8])\n"
          ],
          "name": "stdout"
        },
        {
          "output_type": "stream",
          "text": [
            "\r 19%|█▉        | 37/196 [00:03<00:11, 13.48it/s]"
          ],
          "name": "stderr"
        },
        {
          "output_type": "stream",
          "text": [
            "torch.Size([256, 32, 32, 32])\n",
            "torch.Size([256, 32, 16, 16])\n",
            "torch.Size([256, 64, 16, 16])\n",
            "torch.Size([256, 64, 8, 8])\n",
            "torch.Size([256, 128, 8, 8])\n",
            "torch.Size([256, 32, 32, 32])\n",
            "torch.Size([256, 32, 16, 16])\n",
            "torch.Size([256, 64, 16, 16])\n",
            "torch.Size([256, 64, 8, 8])\n",
            "torch.Size([256, 128, 8, 8])\n",
            "torch.Size([256, 32, 32, 32])\n",
            "torch.Size([256, 32, 16, 16])\n",
            "torch.Size([256, 64, 16, 16])\n",
            "torch.Size([256, 64, 8, 8])\n",
            "torch.Size([256, 128, 8, 8])\n"
          ],
          "name": "stdout"
        },
        {
          "output_type": "stream",
          "text": [
            " 21%|██        | 41/196 [00:03<00:11, 13.51it/s]"
          ],
          "name": "stderr"
        },
        {
          "output_type": "stream",
          "text": [
            "torch.Size([256, 32, 32, 32])\n",
            "torch.Size([256, 32, 16, 16])\n",
            "torch.Size([256, 64, 16, 16])\n",
            "torch.Size([256, 64, 8, 8])\n",
            "torch.Size([256, 128, 8, 8])\n",
            "torch.Size([256, 32, 32, 32])\n",
            "torch.Size([256, 32, 16, 16])\n",
            "torch.Size([256, 64, 16, 16])\n",
            "torch.Size([256, 64, 8, 8])\n",
            "torch.Size([256, 128, 8, 8])\n",
            "torch.Size([256, 32, 32, 32])\n",
            "torch.Size([256, 32, 16, 16])\n",
            "torch.Size([256, 64, 16, 16])\n",
            "torch.Size([256, 64, 8, 8])\n",
            "torch.Size([256, 128, 8, 8])\n"
          ],
          "name": "stdout"
        },
        {
          "output_type": "stream",
          "text": [
            "\r 22%|██▏       | 43/196 [00:03<00:11, 13.48it/s]"
          ],
          "name": "stderr"
        },
        {
          "output_type": "stream",
          "text": [
            "torch.Size([256, 32, 32, 32])\n",
            "torch.Size([256, 32, 16, 16])\n",
            "torch.Size([256, 64, 16, 16])\n",
            "torch.Size([256, 64, 8, 8])\n",
            "torch.Size([256, 128, 8, 8])\n",
            "torch.Size([256, 32, 32, 32])\n",
            "torch.Size([256, 32, 16, 16])\n",
            "torch.Size([256, 64, 16, 16])\n",
            "torch.Size([256, 64, 8, 8])\n",
            "torch.Size([256, 128, 8, 8])\n",
            "torch.Size([256, 32, 32, 32])\n",
            "torch.Size([256, 32, 16, 16])\n",
            "torch.Size([256, 64, 16, 16])\n",
            "torch.Size([256, 64, 8, 8])\n",
            "torch.Size([256, 128, 8, 8])\n"
          ],
          "name": "stdout"
        },
        {
          "output_type": "stream",
          "text": [
            " 24%|██▍       | 47/196 [00:03<00:11, 13.44it/s]"
          ],
          "name": "stderr"
        },
        {
          "output_type": "stream",
          "text": [
            "torch.Size([256, 32, 32, 32])\n",
            "torch.Size([256, 32, 16, 16])\n",
            "torch.Size([256, 64, 16, 16])\n",
            "torch.Size([256, 64, 8, 8])\n",
            "torch.Size([256, 128, 8, 8])\n",
            "torch.Size([256, 32, 32, 32])\n",
            "torch.Size([256, 32, 16, 16])\n",
            "torch.Size([256, 64, 16, 16])\n",
            "torch.Size([256, 64, 8, 8])\n",
            "torch.Size([256, 128, 8, 8])\n",
            "torch.Size([256, 32, 32, 32])\n",
            "torch.Size([256, 32, 16, 16])\n",
            "torch.Size([256, 64, 16, 16])\n",
            "torch.Size([256, 64, 8, 8])\n",
            "torch.Size([256, 128, 8, 8])\n"
          ],
          "name": "stdout"
        },
        {
          "output_type": "stream",
          "text": [
            "\r 25%|██▌       | 49/196 [00:04<00:11, 13.06it/s]"
          ],
          "name": "stderr"
        },
        {
          "output_type": "stream",
          "text": [
            "torch.Size([256, 32, 32, 32])\n",
            "torch.Size([256, 32, 16, 16])\n",
            "torch.Size([256, 64, 16, 16])\n",
            "torch.Size([256, 64, 8, 8])\n",
            "torch.Size([256, 128, 8, 8])\n",
            "torch.Size([256, 32, 32, 32])\n",
            "torch.Size([256, 32, 16, 16])\n",
            "torch.Size([256, 64, 16, 16])\n",
            "torch.Size([256, 64, 8, 8])\n",
            "torch.Size([256, 128, 8, 8])\n",
            "torch.Size([256, 32, 32, 32])\n",
            "torch.Size([256, 32, 16, 16])\n",
            "torch.Size([256, 64, 16, 16])\n",
            "torch.Size([256, 64, 8, 8])\n",
            "torch.Size([256, 128, 8, 8])\n"
          ],
          "name": "stdout"
        },
        {
          "output_type": "stream",
          "text": [
            " 27%|██▋       | 53/196 [00:04<00:10, 13.28it/s]"
          ],
          "name": "stderr"
        },
        {
          "output_type": "stream",
          "text": [
            "torch.Size([256, 32, 32, 32])\n",
            "torch.Size([256, 32, 16, 16])\n",
            "torch.Size([256, 64, 16, 16])\n",
            "torch.Size([256, 64, 8, 8])\n",
            "torch.Size([256, 128, 8, 8])\n",
            "torch.Size([256, 32, 32, 32])\n",
            "torch.Size([256, 32, 16, 16])\n",
            "torch.Size([256, 64, 16, 16])\n",
            "torch.Size([256, 64, 8, 8])\n",
            "torch.Size([256, 128, 8, 8])\n",
            "torch.Size([256, 32, 32, 32])\n",
            "torch.Size([256, 32, 16, 16])\n",
            "torch.Size([256, 64, 16, 16])\n",
            "torch.Size([256, 64, 8, 8])\n",
            "torch.Size([256, 128, 8, 8])\n"
          ],
          "name": "stdout"
        },
        {
          "output_type": "stream",
          "text": [
            "\r 28%|██▊       | 55/196 [00:04<00:10, 13.53it/s]"
          ],
          "name": "stderr"
        },
        {
          "output_type": "stream",
          "text": [
            "torch.Size([256, 32, 32, 32])\n",
            "torch.Size([256, 32, 16, 16])\n",
            "torch.Size([256, 64, 16, 16])\n",
            "torch.Size([256, 64, 8, 8])\n",
            "torch.Size([256, 128, 8, 8])\n",
            "torch.Size([256, 32, 32, 32])\n",
            "torch.Size([256, 32, 16, 16])\n",
            "torch.Size([256, 64, 16, 16])\n",
            "torch.Size([256, 64, 8, 8])\n",
            "torch.Size([256, 128, 8, 8])\n",
            "torch.Size([256, 32, 32, 32])\n",
            "torch.Size([256, 32, 16, 16])\n",
            "torch.Size([256, 64, 16, 16])\n",
            "torch.Size([256, 64, 8, 8])\n",
            "torch.Size([256, 128, 8, 8])\n"
          ],
          "name": "stdout"
        },
        {
          "output_type": "stream",
          "text": [
            " 30%|███       | 59/196 [00:04<00:09, 13.87it/s]"
          ],
          "name": "stderr"
        },
        {
          "output_type": "stream",
          "text": [
            "torch.Size([256, 32, 32, 32])\n",
            "torch.Size([256, 32, 16, 16])\n",
            "torch.Size([256, 64, 16, 16])\n",
            "torch.Size([256, 64, 8, 8])\n",
            "torch.Size([256, 128, 8, 8])\n",
            "torch.Size([256, 32, 32, 32])\n",
            "torch.Size([256, 32, 16, 16])\n",
            "torch.Size([256, 64, 16, 16])\n",
            "torch.Size([256, 64, 8, 8])\n",
            "torch.Size([256, 128, 8, 8])\n",
            "torch.Size([256, 32, 32, 32])\n",
            "torch.Size([256, 32, 16, 16])\n",
            "torch.Size([256, 64, 16, 16])\n",
            "torch.Size([256, 64, 8, 8])\n",
            "torch.Size([256, 128, 8, 8])\n"
          ],
          "name": "stdout"
        },
        {
          "output_type": "stream",
          "text": [
            "\r 31%|███       | 61/196 [00:04<00:09, 13.65it/s]"
          ],
          "name": "stderr"
        },
        {
          "output_type": "stream",
          "text": [
            "torch.Size([256, 32, 32, 32])\n",
            "torch.Size([256, 32, 16, 16])\n",
            "torch.Size([256, 64, 16, 16])\n",
            "torch.Size([256, 64, 8, 8])\n",
            "torch.Size([256, 128, 8, 8])\n",
            "torch.Size([256, 32, 32, 32])\n",
            "torch.Size([256, 32, 16, 16])\n",
            "torch.Size([256, 64, 16, 16])\n",
            "torch.Size([256, 64, 8, 8])\n",
            "torch.Size([256, 128, 8, 8])\n",
            "torch.Size([256, 32, 32, 32])\n",
            "torch.Size([256, 32, 16, 16])\n",
            "torch.Size([256, 64, 16, 16])\n",
            "torch.Size([256, 64, 8, 8])\n",
            "torch.Size([256, 128, 8, 8])\n"
          ],
          "name": "stdout"
        },
        {
          "output_type": "stream",
          "text": [
            " 33%|███▎      | 65/196 [00:05<00:09, 13.56it/s]"
          ],
          "name": "stderr"
        },
        {
          "output_type": "stream",
          "text": [
            "torch.Size([256, 32, 32, 32])\n",
            "torch.Size([256, 32, 16, 16])\n",
            "torch.Size([256, 64, 16, 16])\n",
            "torch.Size([256, 64, 8, 8])\n",
            "torch.Size([256, 128, 8, 8])\n",
            "torch.Size([256, 32, 32, 32])\n",
            "torch.Size([256, 32, 16, 16])\n",
            "torch.Size([256, 64, 16, 16])\n",
            "torch.Size([256, 64, 8, 8])\n",
            "torch.Size([256, 128, 8, 8])\n",
            "torch.Size([256, 32, 32, 32])\n",
            "torch.Size([256, 32, 16, 16])\n",
            "torch.Size([256, 64, 16, 16])\n",
            "torch.Size([256, 64, 8, 8])\n",
            "torch.Size([256, 128, 8, 8])\n"
          ],
          "name": "stdout"
        },
        {
          "output_type": "stream",
          "text": [
            "\r 34%|███▍      | 67/196 [00:05<00:09, 13.35it/s]"
          ],
          "name": "stderr"
        },
        {
          "output_type": "stream",
          "text": [
            "torch.Size([256, 32, 32, 32])\n",
            "torch.Size([256, 32, 16, 16])\n",
            "torch.Size([256, 64, 16, 16])\n",
            "torch.Size([256, 64, 8, 8])\n",
            "torch.Size([256, 128, 8, 8])\n",
            "torch.Size([256, 32, 32, 32])\n",
            "torch.Size([256, 32, 16, 16])\n",
            "torch.Size([256, 64, 16, 16])\n",
            "torch.Size([256, 64, 8, 8])\n",
            "torch.Size([256, 128, 8, 8])\n",
            "torch.Size([256, 32, 32, 32])\n",
            "torch.Size([256, 32, 16, 16])\n",
            "torch.Size([256, 64, 16, 16])\n",
            "torch.Size([256, 64, 8, 8])\n",
            "torch.Size([256, 128, 8, 8])\n"
          ],
          "name": "stdout"
        },
        {
          "output_type": "stream",
          "text": [
            " 36%|███▌      | 71/196 [00:05<00:09, 13.46it/s]"
          ],
          "name": "stderr"
        },
        {
          "output_type": "stream",
          "text": [
            "torch.Size([256, 32, 32, 32])\n",
            "torch.Size([256, 32, 16, 16])\n",
            "torch.Size([256, 64, 16, 16])\n",
            "torch.Size([256, 64, 8, 8])\n",
            "torch.Size([256, 128, 8, 8])\n",
            "torch.Size([256, 32, 32, 32])\n",
            "torch.Size([256, 32, 16, 16])\n",
            "torch.Size([256, 64, 16, 16])\n",
            "torch.Size([256, 64, 8, 8])\n",
            "torch.Size([256, 128, 8, 8])\n",
            "torch.Size([256, 32, 32, 32])\n",
            "torch.Size([256, 32, 16, 16])\n",
            "torch.Size([256, 64, 16, 16])\n",
            "torch.Size([256, 64, 8, 8])\n",
            "torch.Size([256, 128, 8, 8])\n"
          ],
          "name": "stdout"
        },
        {
          "output_type": "stream",
          "text": [
            "\r 37%|███▋      | 73/196 [00:05<00:09, 13.63it/s]"
          ],
          "name": "stderr"
        },
        {
          "output_type": "stream",
          "text": [
            "torch.Size([256, 32, 32, 32])\n",
            "torch.Size([256, 32, 16, 16])\n",
            "torch.Size([256, 64, 16, 16])\n",
            "torch.Size([256, 64, 8, 8])\n",
            "torch.Size([256, 128, 8, 8])\n",
            "torch.Size([256, 32, 32, 32])\n",
            "torch.Size([256, 32, 16, 16])\n",
            "torch.Size([256, 64, 16, 16])\n",
            "torch.Size([256, 64, 8, 8])\n",
            "torch.Size([256, 128, 8, 8])\n",
            "torch.Size([256, 32, 32, 32])\n",
            "torch.Size([256, 32, 16, 16])\n",
            "torch.Size([256, 64, 16, 16])\n",
            "torch.Size([256, 64, 8, 8])\n",
            "torch.Size([256, 128, 8, 8])\n"
          ],
          "name": "stdout"
        },
        {
          "output_type": "stream",
          "text": [
            " 39%|███▉      | 77/196 [00:06<00:08, 13.53it/s]"
          ],
          "name": "stderr"
        },
        {
          "output_type": "stream",
          "text": [
            "torch.Size([256, 32, 32, 32])\n",
            "torch.Size([256, 32, 16, 16])\n",
            "torch.Size([256, 64, 16, 16])\n",
            "torch.Size([256, 64, 8, 8])\n",
            "torch.Size([256, 128, 8, 8])\n",
            "torch.Size([256, 32, 32, 32])\n",
            "torch.Size([256, 32, 16, 16])\n",
            "torch.Size([256, 64, 16, 16])\n",
            "torch.Size([256, 64, 8, 8])\n",
            "torch.Size([256, 128, 8, 8])\n",
            "torch.Size([256, 32, 32, 32])\n",
            "torch.Size([256, 32, 16, 16])\n",
            "torch.Size([256, 64, 16, 16])\n",
            "torch.Size([256, 64, 8, 8])\n",
            "torch.Size([256, 128, 8, 8])\n"
          ],
          "name": "stdout"
        },
        {
          "output_type": "stream",
          "text": [
            "\r 40%|████      | 79/196 [00:06<00:08, 13.37it/s]"
          ],
          "name": "stderr"
        },
        {
          "output_type": "stream",
          "text": [
            "torch.Size([256, 32, 32, 32])\n",
            "torch.Size([256, 32, 16, 16])\n",
            "torch.Size([256, 64, 16, 16])\n",
            "torch.Size([256, 64, 8, 8])\n",
            "torch.Size([256, 128, 8, 8])\n",
            "torch.Size([256, 32, 32, 32])\n",
            "torch.Size([256, 32, 16, 16])\n",
            "torch.Size([256, 64, 16, 16])\n",
            "torch.Size([256, 64, 8, 8])\n",
            "torch.Size([256, 128, 8, 8])\n",
            "torch.Size([256, 32, 32, 32])\n",
            "torch.Size([256, 32, 16, 16])\n",
            "torch.Size([256, 64, 16, 16])\n",
            "torch.Size([256, 64, 8, 8])\n",
            "torch.Size([256, 128, 8, 8])\n"
          ],
          "name": "stdout"
        },
        {
          "output_type": "stream",
          "text": [
            " 42%|████▏     | 83/196 [00:06<00:08, 13.39it/s]"
          ],
          "name": "stderr"
        },
        {
          "output_type": "stream",
          "text": [
            "torch.Size([256, 32, 32, 32])\n",
            "torch.Size([256, 32, 16, 16])\n",
            "torch.Size([256, 64, 16, 16])\n",
            "torch.Size([256, 64, 8, 8])\n",
            "torch.Size([256, 128, 8, 8])\n",
            "torch.Size([256, 32, 32, 32])\n",
            "torch.Size([256, 32, 16, 16])\n",
            "torch.Size([256, 64, 16, 16])\n",
            "torch.Size([256, 64, 8, 8])\n",
            "torch.Size([256, 128, 8, 8])\n",
            "torch.Size([256, 32, 32, 32])\n",
            "torch.Size([256, 32, 16, 16])\n",
            "torch.Size([256, 64, 16, 16])\n",
            "torch.Size([256, 64, 8, 8])\n",
            "torch.Size([256, 128, 8, 8])\n"
          ],
          "name": "stdout"
        },
        {
          "output_type": "stream",
          "text": [
            "\r 43%|████▎     | 85/196 [00:06<00:08, 13.39it/s]"
          ],
          "name": "stderr"
        },
        {
          "output_type": "stream",
          "text": [
            "torch.Size([256, 32, 32, 32])\n",
            "torch.Size([256, 32, 16, 16])\n",
            "torch.Size([256, 64, 16, 16])\n",
            "torch.Size([256, 64, 8, 8])\n",
            "torch.Size([256, 128, 8, 8])\n",
            "torch.Size([256, 32, 32, 32])\n",
            "torch.Size([256, 32, 16, 16])\n",
            "torch.Size([256, 64, 16, 16])\n",
            "torch.Size([256, 64, 8, 8])\n",
            "torch.Size([256, 128, 8, 8])\n",
            "torch.Size([256, 32, 32, 32])\n",
            "torch.Size([256, 32, 16, 16])\n",
            "torch.Size([256, 64, 16, 16])\n",
            "torch.Size([256, 64, 8, 8])\n",
            "torch.Size([256, 128, 8, 8])\n"
          ],
          "name": "stdout"
        },
        {
          "output_type": "stream",
          "text": [
            " 45%|████▌     | 89/196 [00:06<00:08, 13.24it/s]"
          ],
          "name": "stderr"
        },
        {
          "output_type": "stream",
          "text": [
            "torch.Size([256, 32, 32, 32])\n",
            "torch.Size([256, 32, 16, 16])\n",
            "torch.Size([256, 64, 16, 16])\n",
            "torch.Size([256, 64, 8, 8])\n",
            "torch.Size([256, 128, 8, 8])\n",
            "torch.Size([256, 32, 32, 32])\n",
            "torch.Size([256, 32, 16, 16])\n",
            "torch.Size([256, 64, 16, 16])\n",
            "torch.Size([256, 64, 8, 8])\n",
            "torch.Size([256, 128, 8, 8])\n",
            "torch.Size([256, 32, 32, 32])\n",
            "torch.Size([256, 32, 16, 16])\n",
            "torch.Size([256, 64, 16, 16])\n",
            "torch.Size([256, 64, 8, 8])\n",
            "torch.Size([256, 128, 8, 8])\n"
          ],
          "name": "stdout"
        },
        {
          "output_type": "stream",
          "text": [
            "\r 46%|████▋     | 91/196 [00:07<00:07, 13.53it/s]"
          ],
          "name": "stderr"
        },
        {
          "output_type": "stream",
          "text": [
            "torch.Size([256, 32, 32, 32])\n",
            "torch.Size([256, 32, 16, 16])\n",
            "torch.Size([256, 64, 16, 16])\n",
            "torch.Size([256, 64, 8, 8])\n",
            "torch.Size([256, 128, 8, 8])\n",
            "torch.Size([256, 32, 32, 32])\n",
            "torch.Size([256, 32, 16, 16])\n",
            "torch.Size([256, 64, 16, 16])\n",
            "torch.Size([256, 64, 8, 8])\n",
            "torch.Size([256, 128, 8, 8])\n",
            "torch.Size([256, 32, 32, 32])\n",
            "torch.Size([256, 32, 16, 16])\n",
            "torch.Size([256, 64, 16, 16])\n",
            "torch.Size([256, 64, 8, 8])\n",
            "torch.Size([256, 128, 8, 8])\n"
          ],
          "name": "stdout"
        },
        {
          "output_type": "stream",
          "text": [
            " 48%|████▊     | 95/196 [00:07<00:07, 13.18it/s]"
          ],
          "name": "stderr"
        },
        {
          "output_type": "stream",
          "text": [
            "torch.Size([256, 32, 32, 32])\n",
            "torch.Size([256, 32, 16, 16])\n",
            "torch.Size([256, 64, 16, 16])\n",
            "torch.Size([256, 64, 8, 8])\n",
            "torch.Size([256, 128, 8, 8])\n",
            "torch.Size([256, 32, 32, 32])\n",
            "torch.Size([256, 32, 16, 16])\n",
            "torch.Size([256, 64, 16, 16])\n",
            "torch.Size([256, 64, 8, 8])\n",
            "torch.Size([256, 128, 8, 8])\n",
            "torch.Size([256, 32, 32, 32])\n",
            "torch.Size([256, 32, 16, 16])\n",
            "torch.Size([256, 64, 16, 16])\n",
            "torch.Size([256, 64, 8, 8])\n",
            "torch.Size([256, 128, 8, 8])\n"
          ],
          "name": "stdout"
        },
        {
          "output_type": "stream",
          "text": [
            "\r 49%|████▉     | 97/196 [00:07<00:07, 13.05it/s]"
          ],
          "name": "stderr"
        },
        {
          "output_type": "stream",
          "text": [
            "torch.Size([256, 32, 32, 32])\n",
            "torch.Size([256, 32, 16, 16])\n",
            "torch.Size([256, 64, 16, 16])\n",
            "torch.Size([256, 64, 8, 8])\n",
            "torch.Size([256, 128, 8, 8])\n",
            "torch.Size([256, 32, 32, 32])\n",
            "torch.Size([256, 32, 16, 16])\n",
            "torch.Size([256, 64, 16, 16])\n",
            "torch.Size([256, 64, 8, 8])\n",
            "torch.Size([256, 128, 8, 8])\n",
            "torch.Size([256, 32, 32, 32])\n",
            "torch.Size([256, 32, 16, 16])\n",
            "torch.Size([256, 64, 16, 16])\n",
            "torch.Size([256, 64, 8, 8])\n",
            "torch.Size([256, 128, 8, 8])\n"
          ],
          "name": "stdout"
        },
        {
          "output_type": "stream",
          "text": [
            " 52%|█████▏    | 101/196 [00:07<00:07, 13.37it/s]"
          ],
          "name": "stderr"
        },
        {
          "output_type": "stream",
          "text": [
            "torch.Size([256, 32, 32, 32])\n",
            "torch.Size([256, 32, 16, 16])\n",
            "torch.Size([256, 64, 16, 16])\n",
            "torch.Size([256, 64, 8, 8])\n",
            "torch.Size([256, 128, 8, 8])\n",
            "torch.Size([256, 32, 32, 32])\n",
            "torch.Size([256, 32, 16, 16])\n",
            "torch.Size([256, 64, 16, 16])\n",
            "torch.Size([256, 64, 8, 8])\n",
            "torch.Size([256, 128, 8, 8])\n",
            "torch.Size([256, 32, 32, 32])\n",
            "torch.Size([256, 32, 16, 16])\n",
            "torch.Size([256, 64, 16, 16])\n",
            "torch.Size([256, 64, 8, 8])\n",
            "torch.Size([256, 128, 8, 8])\n"
          ],
          "name": "stdout"
        },
        {
          "output_type": "stream",
          "text": [
            "\r 53%|█████▎    | 103/196 [00:08<00:06, 13.64it/s]"
          ],
          "name": "stderr"
        },
        {
          "output_type": "stream",
          "text": [
            "torch.Size([256, 32, 32, 32])\n",
            "torch.Size([256, 32, 16, 16])\n",
            "torch.Size([256, 64, 16, 16])\n",
            "torch.Size([256, 64, 8, 8])\n",
            "torch.Size([256, 128, 8, 8])\n",
            "torch.Size([256, 32, 32, 32])\n",
            "torch.Size([256, 32, 16, 16])\n",
            "torch.Size([256, 64, 16, 16])\n",
            "torch.Size([256, 64, 8, 8])\n",
            "torch.Size([256, 128, 8, 8])\n",
            "torch.Size([256, 32, 32, 32])\n",
            "torch.Size([256, 32, 16, 16])\n",
            "torch.Size([256, 64, 16, 16])\n",
            "torch.Size([256, 64, 8, 8])\n",
            "torch.Size([256, 128, 8, 8])\n"
          ],
          "name": "stdout"
        },
        {
          "output_type": "stream",
          "text": [
            " 55%|█████▍    | 107/196 [00:08<00:06, 13.74it/s]"
          ],
          "name": "stderr"
        },
        {
          "output_type": "stream",
          "text": [
            "torch.Size([256, 32, 32, 32])\n",
            "torch.Size([256, 32, 16, 16])\n",
            "torch.Size([256, 64, 16, 16])\n",
            "torch.Size([256, 64, 8, 8])\n",
            "torch.Size([256, 128, 8, 8])\n",
            "torch.Size([256, 32, 32, 32])\n",
            "torch.Size([256, 32, 16, 16])\n",
            "torch.Size([256, 64, 16, 16])\n",
            "torch.Size([256, 64, 8, 8])\n",
            "torch.Size([256, 128, 8, 8])\n",
            "torch.Size([256, 32, 32, 32])\n",
            "torch.Size([256, 32, 16, 16])\n",
            "torch.Size([256, 64, 16, 16])\n",
            "torch.Size([256, 64, 8, 8])\n",
            "torch.Size([256, 128, 8, 8])\n"
          ],
          "name": "stdout"
        },
        {
          "output_type": "stream",
          "text": [
            "\r 56%|█████▌    | 109/196 [00:08<00:06, 13.62it/s]"
          ],
          "name": "stderr"
        },
        {
          "output_type": "stream",
          "text": [
            "torch.Size([256, 32, 32, 32])\n",
            "torch.Size([256, 32, 16, 16])\n",
            "torch.Size([256, 64, 16, 16])\n",
            "torch.Size([256, 64, 8, 8])\n",
            "torch.Size([256, 128, 8, 8])\n",
            "torch.Size([256, 32, 32, 32])\n",
            "torch.Size([256, 32, 16, 16])\n",
            "torch.Size([256, 64, 16, 16])\n",
            "torch.Size([256, 64, 8, 8])\n",
            "torch.Size([256, 128, 8, 8])\n",
            "torch.Size([256, 32, 32, 32])\n",
            "torch.Size([256, 32, 16, 16])\n",
            "torch.Size([256, 64, 16, 16])\n",
            "torch.Size([256, 64, 8, 8])\n",
            "torch.Size([256, 128, 8, 8])\n"
          ],
          "name": "stdout"
        },
        {
          "output_type": "stream",
          "text": [
            " 58%|█████▊    | 113/196 [00:08<00:06, 13.78it/s]"
          ],
          "name": "stderr"
        },
        {
          "output_type": "stream",
          "text": [
            "torch.Size([256, 32, 32, 32])\n",
            "torch.Size([256, 32, 16, 16])\n",
            "torch.Size([256, 64, 16, 16])\n",
            "torch.Size([256, 64, 8, 8])\n",
            "torch.Size([256, 128, 8, 8])\n",
            "torch.Size([256, 32, 32, 32])\n",
            "torch.Size([256, 32, 16, 16])\n",
            "torch.Size([256, 64, 16, 16])\n",
            "torch.Size([256, 64, 8, 8])\n",
            "torch.Size([256, 128, 8, 8])\n",
            "torch.Size([256, 32, 32, 32])\n",
            "torch.Size([256, 32, 16, 16])\n",
            "torch.Size([256, 64, 16, 16])\n",
            "torch.Size([256, 64, 8, 8])\n",
            "torch.Size([256, 128, 8, 8])\n"
          ],
          "name": "stdout"
        },
        {
          "output_type": "stream",
          "text": [
            "\r 59%|█████▊    | 115/196 [00:08<00:05, 13.90it/s]"
          ],
          "name": "stderr"
        },
        {
          "output_type": "stream",
          "text": [
            "torch.Size([256, 32, 32, 32])\n",
            "torch.Size([256, 32, 16, 16])\n",
            "torch.Size([256, 64, 16, 16])\n",
            "torch.Size([256, 64, 8, 8])\n",
            "torch.Size([256, 128, 8, 8])\n",
            "torch.Size([256, 32, 32, 32])\n",
            "torch.Size([256, 32, 16, 16])\n",
            "torch.Size([256, 64, 16, 16])\n",
            "torch.Size([256, 64, 8, 8])\n",
            "torch.Size([256, 128, 8, 8])\n",
            "torch.Size([256, 32, 32, 32])\n",
            "torch.Size([256, 32, 16, 16])\n",
            "torch.Size([256, 64, 16, 16])\n",
            "torch.Size([256, 64, 8, 8])\n",
            "torch.Size([256, 128, 8, 8])\n"
          ],
          "name": "stdout"
        },
        {
          "output_type": "stream",
          "text": [
            " 61%|██████    | 119/196 [00:09<00:05, 13.76it/s]"
          ],
          "name": "stderr"
        },
        {
          "output_type": "stream",
          "text": [
            "torch.Size([256, 32, 32, 32])\n",
            "torch.Size([256, 32, 16, 16])\n",
            "torch.Size([256, 64, 16, 16])\n",
            "torch.Size([256, 64, 8, 8])\n",
            "torch.Size([256, 128, 8, 8])\n",
            "torch.Size([256, 32, 32, 32])\n",
            "torch.Size([256, 32, 16, 16])\n",
            "torch.Size([256, 64, 16, 16])\n",
            "torch.Size([256, 64, 8, 8])\n",
            "torch.Size([256, 128, 8, 8])\n",
            "torch.Size([256, 32, 32, 32])\n",
            "torch.Size([256, 32, 16, 16])\n",
            "torch.Size([256, 64, 16, 16])\n",
            "torch.Size([256, 64, 8, 8])\n",
            "torch.Size([256, 128, 8, 8])\n"
          ],
          "name": "stdout"
        },
        {
          "output_type": "stream",
          "text": [
            "\r 62%|██████▏   | 121/196 [00:09<00:05, 13.52it/s]"
          ],
          "name": "stderr"
        },
        {
          "output_type": "stream",
          "text": [
            "torch.Size([256, 32, 32, 32])\n",
            "torch.Size([256, 32, 16, 16])\n",
            "torch.Size([256, 64, 16, 16])\n",
            "torch.Size([256, 64, 8, 8])\n",
            "torch.Size([256, 128, 8, 8])\n",
            "torch.Size([256, 32, 32, 32])\n",
            "torch.Size([256, 32, 16, 16])\n",
            "torch.Size([256, 64, 16, 16])\n",
            "torch.Size([256, 64, 8, 8])\n",
            "torch.Size([256, 128, 8, 8])\n",
            "torch.Size([256, 32, 32, 32])\n",
            "torch.Size([256, 32, 16, 16])\n",
            "torch.Size([256, 64, 16, 16])\n",
            "torch.Size([256, 64, 8, 8])\n",
            "torch.Size([256, 128, 8, 8])\n"
          ],
          "name": "stdout"
        },
        {
          "output_type": "stream",
          "text": [
            " 64%|██████▍   | 125/196 [00:09<00:05, 13.28it/s]"
          ],
          "name": "stderr"
        },
        {
          "output_type": "stream",
          "text": [
            "torch.Size([256, 32, 32, 32])\n",
            "torch.Size([256, 32, 16, 16])\n",
            "torch.Size([256, 64, 16, 16])\n",
            "torch.Size([256, 64, 8, 8])\n",
            "torch.Size([256, 128, 8, 8])\n",
            "torch.Size([256, 32, 32, 32])\n",
            "torch.Size([256, 32, 16, 16])\n",
            "torch.Size([256, 64, 16, 16])\n",
            "torch.Size([256, 64, 8, 8])\n",
            "torch.Size([256, 128, 8, 8])\n",
            "torch.Size([256, 32, 32, 32])\n",
            "torch.Size([256, 32, 16, 16])\n",
            "torch.Size([256, 64, 16, 16])\n",
            "torch.Size([256, 64, 8, 8])\n",
            "torch.Size([256, 128, 8, 8])\n"
          ],
          "name": "stdout"
        },
        {
          "output_type": "stream",
          "text": [
            "\r 65%|██████▍   | 127/196 [00:09<00:05, 13.50it/s]"
          ],
          "name": "stderr"
        },
        {
          "output_type": "stream",
          "text": [
            "torch.Size([256, 32, 32, 32])\n",
            "torch.Size([256, 32, 16, 16])\n",
            "torch.Size([256, 64, 16, 16])\n",
            "torch.Size([256, 64, 8, 8])\n",
            "torch.Size([256, 128, 8, 8])\n",
            "torch.Size([256, 32, 32, 32])\n",
            "torch.Size([256, 32, 16, 16])\n",
            "torch.Size([256, 64, 16, 16])\n",
            "torch.Size([256, 64, 8, 8])\n",
            "torch.Size([256, 128, 8, 8])\n",
            "torch.Size([256, 32, 32, 32])\n",
            "torch.Size([256, 32, 16, 16])\n",
            "torch.Size([256, 64, 16, 16])\n",
            "torch.Size([256, 64, 8, 8])\n",
            "torch.Size([256, 128, 8, 8])\n"
          ],
          "name": "stdout"
        },
        {
          "output_type": "stream",
          "text": [
            " 67%|██████▋   | 131/196 [00:10<00:04, 13.37it/s]"
          ],
          "name": "stderr"
        },
        {
          "output_type": "stream",
          "text": [
            "torch.Size([256, 32, 32, 32])\n",
            "torch.Size([256, 32, 16, 16])\n",
            "torch.Size([256, 64, 16, 16])\n",
            "torch.Size([256, 64, 8, 8])\n",
            "torch.Size([256, 128, 8, 8])\n",
            "torch.Size([256, 32, 32, 32])\n",
            "torch.Size([256, 32, 16, 16])\n",
            "torch.Size([256, 64, 16, 16])\n",
            "torch.Size([256, 64, 8, 8])\n",
            "torch.Size([256, 128, 8, 8])\n",
            "torch.Size([256, 32, 32, 32])\n",
            "torch.Size([256, 32, 16, 16])\n",
            "torch.Size([256, 64, 16, 16])\n",
            "torch.Size([256, 64, 8, 8])\n",
            "torch.Size([256, 128, 8, 8])\n"
          ],
          "name": "stdout"
        },
        {
          "output_type": "stream",
          "text": [
            "\r 68%|██████▊   | 133/196 [00:10<00:04, 13.60it/s]"
          ],
          "name": "stderr"
        },
        {
          "output_type": "stream",
          "text": [
            "torch.Size([256, 32, 32, 32])\n",
            "torch.Size([256, 32, 16, 16])\n",
            "torch.Size([256, 64, 16, 16])\n",
            "torch.Size([256, 64, 8, 8])\n",
            "torch.Size([256, 128, 8, 8])\n",
            "torch.Size([256, 32, 32, 32])\n",
            "torch.Size([256, 32, 16, 16])\n",
            "torch.Size([256, 64, 16, 16])\n",
            "torch.Size([256, 64, 8, 8])\n",
            "torch.Size([256, 128, 8, 8])\n",
            "torch.Size([256, 32, 32, 32])\n",
            "torch.Size([256, 32, 16, 16])\n",
            "torch.Size([256, 64, 16, 16])\n",
            "torch.Size([256, 64, 8, 8])\n",
            "torch.Size([256, 128, 8, 8])\n"
          ],
          "name": "stdout"
        },
        {
          "output_type": "stream",
          "text": [
            " 70%|██████▉   | 137/196 [00:10<00:04, 13.86it/s]"
          ],
          "name": "stderr"
        },
        {
          "output_type": "stream",
          "text": [
            "torch.Size([256, 32, 32, 32])\n",
            "torch.Size([256, 32, 16, 16])\n",
            "torch.Size([256, 64, 16, 16])\n",
            "torch.Size([256, 64, 8, 8])\n",
            "torch.Size([256, 128, 8, 8])\n",
            "torch.Size([256, 32, 32, 32])\n",
            "torch.Size([256, 32, 16, 16])\n",
            "torch.Size([256, 64, 16, 16])\n",
            "torch.Size([256, 64, 8, 8])\n",
            "torch.Size([256, 128, 8, 8])\n",
            "torch.Size([256, 32, 32, 32])\n",
            "torch.Size([256, 32, 16, 16])\n",
            "torch.Size([256, 64, 16, 16])\n",
            "torch.Size([256, 64, 8, 8])\n",
            "torch.Size([256, 128, 8, 8])\n"
          ],
          "name": "stdout"
        },
        {
          "output_type": "stream",
          "text": [
            "\r 71%|███████   | 139/196 [00:10<00:04, 13.78it/s]"
          ],
          "name": "stderr"
        },
        {
          "output_type": "stream",
          "text": [
            "torch.Size([256, 32, 32, 32])\n",
            "torch.Size([256, 32, 16, 16])\n",
            "torch.Size([256, 64, 16, 16])\n",
            "torch.Size([256, 64, 8, 8])\n",
            "torch.Size([256, 128, 8, 8])\n",
            "torch.Size([256, 32, 32, 32])\n",
            "torch.Size([256, 32, 16, 16])\n",
            "torch.Size([256, 64, 16, 16])\n",
            "torch.Size([256, 64, 8, 8])\n",
            "torch.Size([256, 128, 8, 8])\n",
            "torch.Size([256, 32, 32, 32])\n",
            "torch.Size([256, 32, 16, 16])\n",
            "torch.Size([256, 64, 16, 16])\n",
            "torch.Size([256, 64, 8, 8])\n",
            "torch.Size([256, 128, 8, 8])\n"
          ],
          "name": "stdout"
        },
        {
          "output_type": "stream",
          "text": [
            " 73%|███████▎  | 143/196 [00:10<00:03, 13.51it/s]"
          ],
          "name": "stderr"
        },
        {
          "output_type": "stream",
          "text": [
            "torch.Size([256, 32, 32, 32])\n",
            "torch.Size([256, 32, 16, 16])\n",
            "torch.Size([256, 64, 16, 16])\n",
            "torch.Size([256, 64, 8, 8])\n",
            "torch.Size([256, 128, 8, 8])\n",
            "torch.Size([256, 32, 32, 32])\n",
            "torch.Size([256, 32, 16, 16])\n",
            "torch.Size([256, 64, 16, 16])\n",
            "torch.Size([256, 64, 8, 8])\n",
            "torch.Size([256, 128, 8, 8])\n",
            "torch.Size([256, 32, 32, 32])\n",
            "torch.Size([256, 32, 16, 16])\n",
            "torch.Size([256, 64, 16, 16])\n",
            "torch.Size([256, 64, 8, 8])\n",
            "torch.Size([256, 128, 8, 8])\n"
          ],
          "name": "stdout"
        },
        {
          "output_type": "stream",
          "text": [
            "\r 74%|███████▍  | 145/196 [00:11<00:03, 13.24it/s]"
          ],
          "name": "stderr"
        },
        {
          "output_type": "stream",
          "text": [
            "torch.Size([256, 32, 32, 32])\n",
            "torch.Size([256, 32, 16, 16])\n",
            "torch.Size([256, 64, 16, 16])\n",
            "torch.Size([256, 64, 8, 8])\n",
            "torch.Size([256, 128, 8, 8])\n",
            "torch.Size([256, 32, 32, 32])\n",
            "torch.Size([256, 32, 16, 16])\n",
            "torch.Size([256, 64, 16, 16])\n",
            "torch.Size([256, 64, 8, 8])\n",
            "torch.Size([256, 128, 8, 8])\n",
            "torch.Size([256, 32, 32, 32])\n",
            "torch.Size([256, 32, 16, 16])\n",
            "torch.Size([256, 64, 16, 16])\n",
            "torch.Size([256, 64, 8, 8])\n",
            "torch.Size([256, 128, 8, 8])\n"
          ],
          "name": "stdout"
        },
        {
          "output_type": "stream",
          "text": [
            " 76%|███████▌  | 149/196 [00:11<00:03, 13.74it/s]"
          ],
          "name": "stderr"
        },
        {
          "output_type": "stream",
          "text": [
            "torch.Size([256, 32, 32, 32])\n",
            "torch.Size([256, 32, 16, 16])\n",
            "torch.Size([256, 64, 16, 16])\n",
            "torch.Size([256, 64, 8, 8])\n",
            "torch.Size([256, 128, 8, 8])\n",
            "torch.Size([256, 32, 32, 32])\n",
            "torch.Size([256, 32, 16, 16])\n",
            "torch.Size([256, 64, 16, 16])\n",
            "torch.Size([256, 64, 8, 8])\n",
            "torch.Size([256, 128, 8, 8])\n",
            "torch.Size([256, 32, 32, 32])\n",
            "torch.Size([256, 32, 16, 16])\n",
            "torch.Size([256, 64, 16, 16])\n",
            "torch.Size([256, 64, 8, 8])\n",
            "torch.Size([256, 128, 8, 8])\n"
          ],
          "name": "stdout"
        },
        {
          "output_type": "stream",
          "text": [
            "\r 77%|███████▋  | 151/196 [00:11<00:03, 13.55it/s]"
          ],
          "name": "stderr"
        },
        {
          "output_type": "stream",
          "text": [
            "torch.Size([256, 32, 32, 32])\n",
            "torch.Size([256, 32, 16, 16])\n",
            "torch.Size([256, 64, 16, 16])\n",
            "torch.Size([256, 64, 8, 8])\n",
            "torch.Size([256, 128, 8, 8])\n",
            "torch.Size([256, 32, 32, 32])\n",
            "torch.Size([256, 32, 16, 16])\n",
            "torch.Size([256, 64, 16, 16])\n",
            "torch.Size([256, 64, 8, 8])\n",
            "torch.Size([256, 128, 8, 8])\n",
            "torch.Size([256, 32, 32, 32])\n",
            "torch.Size([256, 32, 16, 16])\n",
            "torch.Size([256, 64, 16, 16])\n",
            "torch.Size([256, 64, 8, 8])\n",
            "torch.Size([256, 128, 8, 8])\n"
          ],
          "name": "stdout"
        },
        {
          "output_type": "stream",
          "text": [
            " 79%|███████▉  | 155/196 [00:11<00:02, 13.92it/s]"
          ],
          "name": "stderr"
        },
        {
          "output_type": "stream",
          "text": [
            "torch.Size([256, 32, 32, 32])\n",
            "torch.Size([256, 32, 16, 16])\n",
            "torch.Size([256, 64, 16, 16])\n",
            "torch.Size([256, 64, 8, 8])\n",
            "torch.Size([256, 128, 8, 8])\n",
            "torch.Size([256, 32, 32, 32])\n",
            "torch.Size([256, 32, 16, 16])\n",
            "torch.Size([256, 64, 16, 16])\n",
            "torch.Size([256, 64, 8, 8])\n",
            "torch.Size([256, 128, 8, 8])\n",
            "torch.Size([256, 32, 32, 32])\n",
            "torch.Size([256, 32, 16, 16])\n",
            "torch.Size([256, 64, 16, 16])\n",
            "torch.Size([256, 64, 8, 8])\n",
            "torch.Size([256, 128, 8, 8])\n"
          ],
          "name": "stdout"
        },
        {
          "output_type": "stream",
          "text": [
            "\r 80%|████████  | 157/196 [00:11<00:02, 13.41it/s]"
          ],
          "name": "stderr"
        },
        {
          "output_type": "stream",
          "text": [
            "torch.Size([256, 32, 32, 32])\n",
            "torch.Size([256, 32, 16, 16])\n",
            "torch.Size([256, 64, 16, 16])\n",
            "torch.Size([256, 64, 8, 8])\n",
            "torch.Size([256, 128, 8, 8])\n",
            "torch.Size([256, 32, 32, 32])\n",
            "torch.Size([256, 32, 16, 16])\n",
            "torch.Size([256, 64, 16, 16])\n",
            "torch.Size([256, 64, 8, 8])\n",
            "torch.Size([256, 128, 8, 8])\n",
            "torch.Size([256, 32, 32, 32])\n",
            "torch.Size([256, 32, 16, 16])\n",
            "torch.Size([256, 64, 16, 16])\n",
            "torch.Size([256, 64, 8, 8])\n",
            "torch.Size([256, 128, 8, 8])\n"
          ],
          "name": "stdout"
        },
        {
          "output_type": "stream",
          "text": [
            " 82%|████████▏ | 161/196 [00:12<00:02, 13.11it/s]"
          ],
          "name": "stderr"
        },
        {
          "output_type": "stream",
          "text": [
            "torch.Size([256, 32, 32, 32])\n",
            "torch.Size([256, 32, 16, 16])\n",
            "torch.Size([256, 64, 16, 16])\n",
            "torch.Size([256, 64, 8, 8])\n",
            "torch.Size([256, 128, 8, 8])\n",
            "torch.Size([256, 32, 32, 32])\n",
            "torch.Size([256, 32, 16, 16])\n",
            "torch.Size([256, 64, 16, 16])\n",
            "torch.Size([256, 64, 8, 8])\n",
            "torch.Size([256, 128, 8, 8])\n",
            "torch.Size([256, 32, 32, 32])\n",
            "torch.Size([256, 32, 16, 16])\n",
            "torch.Size([256, 64, 16, 16])\n",
            "torch.Size([256, 64, 8, 8])\n",
            "torch.Size([256, 128, 8, 8])\n"
          ],
          "name": "stdout"
        },
        {
          "output_type": "stream",
          "text": [
            "\r 83%|████████▎ | 163/196 [00:12<00:02, 12.99it/s]"
          ],
          "name": "stderr"
        },
        {
          "output_type": "stream",
          "text": [
            "torch.Size([256, 32, 32, 32])\n",
            "torch.Size([256, 32, 16, 16])\n",
            "torch.Size([256, 64, 16, 16])\n",
            "torch.Size([256, 64, 8, 8])\n",
            "torch.Size([256, 128, 8, 8])\n",
            "torch.Size([256, 32, 32, 32])\n",
            "torch.Size([256, 32, 16, 16])\n",
            "torch.Size([256, 64, 16, 16])\n",
            "torch.Size([256, 64, 8, 8])\n",
            "torch.Size([256, 128, 8, 8])\n",
            "torch.Size([256, 32, 32, 32])\n",
            "torch.Size([256, 32, 16, 16])\n",
            "torch.Size([256, 64, 16, 16])\n",
            "torch.Size([256, 64, 8, 8])\n",
            "torch.Size([256, 128, 8, 8])\n"
          ],
          "name": "stdout"
        },
        {
          "output_type": "stream",
          "text": [
            " 85%|████████▌ | 167/196 [00:12<00:02, 13.12it/s]"
          ],
          "name": "stderr"
        },
        {
          "output_type": "stream",
          "text": [
            "torch.Size([256, 32, 32, 32])\n",
            "torch.Size([256, 32, 16, 16])\n",
            "torch.Size([256, 64, 16, 16])\n",
            "torch.Size([256, 64, 8, 8])\n",
            "torch.Size([256, 128, 8, 8])\n",
            "torch.Size([256, 32, 32, 32])\n",
            "torch.Size([256, 32, 16, 16])\n",
            "torch.Size([256, 64, 16, 16])\n",
            "torch.Size([256, 64, 8, 8])\n",
            "torch.Size([256, 128, 8, 8])\n",
            "torch.Size([256, 32, 32, 32])\n",
            "torch.Size([256, 32, 16, 16])\n",
            "torch.Size([256, 64, 16, 16])\n",
            "torch.Size([256, 64, 8, 8])\n",
            "torch.Size([256, 128, 8, 8])\n"
          ],
          "name": "stdout"
        },
        {
          "output_type": "stream",
          "text": [
            "\r 86%|████████▌ | 169/196 [00:12<00:02, 13.46it/s]"
          ],
          "name": "stderr"
        },
        {
          "output_type": "stream",
          "text": [
            "torch.Size([256, 32, 32, 32])\n",
            "torch.Size([256, 32, 16, 16])\n",
            "torch.Size([256, 64, 16, 16])\n",
            "torch.Size([256, 64, 8, 8])\n",
            "torch.Size([256, 128, 8, 8])\n",
            "torch.Size([256, 32, 32, 32])\n",
            "torch.Size([256, 32, 16, 16])\n",
            "torch.Size([256, 64, 16, 16])\n",
            "torch.Size([256, 64, 8, 8])\n",
            "torch.Size([256, 128, 8, 8])\n",
            "torch.Size([256, 32, 32, 32])\n",
            "torch.Size([256, 32, 16, 16])\n",
            "torch.Size([256, 64, 16, 16])\n",
            "torch.Size([256, 64, 8, 8])\n",
            "torch.Size([256, 128, 8, 8])\n"
          ],
          "name": "stdout"
        },
        {
          "output_type": "stream",
          "text": [
            " 88%|████████▊ | 173/196 [00:13<00:01, 13.35it/s]"
          ],
          "name": "stderr"
        },
        {
          "output_type": "stream",
          "text": [
            "torch.Size([256, 32, 32, 32])\n",
            "torch.Size([256, 32, 16, 16])\n",
            "torch.Size([256, 64, 16, 16])\n",
            "torch.Size([256, 64, 8, 8])\n",
            "torch.Size([256, 128, 8, 8])\n",
            "torch.Size([256, 32, 32, 32])\n",
            "torch.Size([256, 32, 16, 16])\n",
            "torch.Size([256, 64, 16, 16])\n",
            "torch.Size([256, 64, 8, 8])\n",
            "torch.Size([256, 128, 8, 8])\n",
            "torch.Size([256, 32, 32, 32])\n",
            "torch.Size([256, 32, 16, 16])\n",
            "torch.Size([256, 64, 16, 16])\n",
            "torch.Size([256, 64, 8, 8])\n",
            "torch.Size([256, 128, 8, 8])\n"
          ],
          "name": "stdout"
        },
        {
          "output_type": "stream",
          "text": [
            "\r 89%|████████▉ | 175/196 [00:13<00:01, 13.38it/s]"
          ],
          "name": "stderr"
        },
        {
          "output_type": "stream",
          "text": [
            "torch.Size([256, 32, 32, 32])\n",
            "torch.Size([256, 32, 16, 16])\n",
            "torch.Size([256, 64, 16, 16])\n",
            "torch.Size([256, 64, 8, 8])\n",
            "torch.Size([256, 128, 8, 8])\n",
            "torch.Size([256, 32, 32, 32])\n",
            "torch.Size([256, 32, 16, 16])\n",
            "torch.Size([256, 64, 16, 16])\n",
            "torch.Size([256, 64, 8, 8])\n",
            "torch.Size([256, 128, 8, 8])\n",
            "torch.Size([256, 32, 32, 32])\n",
            "torch.Size([256, 32, 16, 16])\n",
            "torch.Size([256, 64, 16, 16])\n",
            "torch.Size([256, 64, 8, 8])\n",
            "torch.Size([256, 128, 8, 8])\n"
          ],
          "name": "stdout"
        },
        {
          "output_type": "stream",
          "text": [
            " 91%|█████████▏| 179/196 [00:13<00:01, 13.32it/s]"
          ],
          "name": "stderr"
        },
        {
          "output_type": "stream",
          "text": [
            "torch.Size([256, 32, 32, 32])\n",
            "torch.Size([256, 32, 16, 16])\n",
            "torch.Size([256, 64, 16, 16])\n",
            "torch.Size([256, 64, 8, 8])\n",
            "torch.Size([256, 128, 8, 8])\n",
            "torch.Size([256, 32, 32, 32])\n",
            "torch.Size([256, 32, 16, 16])\n",
            "torch.Size([256, 64, 16, 16])\n",
            "torch.Size([256, 64, 8, 8])\n",
            "torch.Size([256, 128, 8, 8])\n",
            "torch.Size([256, 32, 32, 32])\n",
            "torch.Size([256, 32, 16, 16])\n",
            "torch.Size([256, 64, 16, 16])\n",
            "torch.Size([256, 64, 8, 8])\n",
            "torch.Size([256, 128, 8, 8])\n"
          ],
          "name": "stdout"
        },
        {
          "output_type": "stream",
          "text": [
            "\r 92%|█████████▏| 181/196 [00:13<00:01, 13.37it/s]"
          ],
          "name": "stderr"
        },
        {
          "output_type": "stream",
          "text": [
            "torch.Size([256, 32, 32, 32])\n",
            "torch.Size([256, 32, 16, 16])\n",
            "torch.Size([256, 64, 16, 16])\n",
            "torch.Size([256, 64, 8, 8])\n",
            "torch.Size([256, 128, 8, 8])\n",
            "torch.Size([256, 32, 32, 32])\n",
            "torch.Size([256, 32, 16, 16])\n",
            "torch.Size([256, 64, 16, 16])\n",
            "torch.Size([256, 64, 8, 8])\n",
            "torch.Size([256, 128, 8, 8])\n",
            "torch.Size([256, 32, 32, 32])\n",
            "torch.Size([256, 32, 16, 16])\n",
            "torch.Size([256, 64, 16, 16])\n",
            "torch.Size([256, 64, 8, 8])\n",
            "torch.Size([256, 128, 8, 8])\n"
          ],
          "name": "stdout"
        },
        {
          "output_type": "stream",
          "text": [
            " 94%|█████████▍| 185/196 [00:14<00:00, 13.40it/s]"
          ],
          "name": "stderr"
        },
        {
          "output_type": "stream",
          "text": [
            "torch.Size([256, 32, 32, 32])\n",
            "torch.Size([256, 32, 16, 16])\n",
            "torch.Size([256, 64, 16, 16])\n",
            "torch.Size([256, 64, 8, 8])\n",
            "torch.Size([256, 128, 8, 8])\n",
            "torch.Size([256, 32, 32, 32])\n",
            "torch.Size([256, 32, 16, 16])\n",
            "torch.Size([256, 64, 16, 16])\n",
            "torch.Size([256, 64, 8, 8])\n",
            "torch.Size([256, 128, 8, 8])\n",
            "torch.Size([256, 32, 32, 32])\n",
            "torch.Size([256, 32, 16, 16])\n",
            "torch.Size([256, 64, 16, 16])\n",
            "torch.Size([256, 64, 8, 8])\n",
            "torch.Size([256, 128, 8, 8])\n"
          ],
          "name": "stdout"
        },
        {
          "output_type": "stream",
          "text": [
            "\r 95%|█████████▌| 187/196 [00:14<00:00, 13.51it/s]"
          ],
          "name": "stderr"
        },
        {
          "output_type": "stream",
          "text": [
            "torch.Size([256, 32, 32, 32])\n",
            "torch.Size([256, 32, 16, 16])\n",
            "torch.Size([256, 64, 16, 16])\n",
            "torch.Size([256, 64, 8, 8])\n",
            "torch.Size([256, 128, 8, 8])\n",
            "torch.Size([256, 32, 32, 32])\n",
            "torch.Size([256, 32, 16, 16])\n",
            "torch.Size([256, 64, 16, 16])\n",
            "torch.Size([256, 64, 8, 8])\n",
            "torch.Size([256, 128, 8, 8])\n",
            "torch.Size([256, 32, 32, 32])\n",
            "torch.Size([256, 32, 16, 16])\n",
            "torch.Size([256, 64, 16, 16])\n",
            "torch.Size([256, 64, 8, 8])\n",
            "torch.Size([256, 128, 8, 8])\n"
          ],
          "name": "stdout"
        },
        {
          "output_type": "stream",
          "text": [
            " 97%|█████████▋| 191/196 [00:14<00:00, 13.75it/s]"
          ],
          "name": "stderr"
        },
        {
          "output_type": "stream",
          "text": [
            "torch.Size([256, 32, 32, 32])\n",
            "torch.Size([256, 32, 16, 16])\n",
            "torch.Size([256, 64, 16, 16])\n",
            "torch.Size([256, 64, 8, 8])\n",
            "torch.Size([256, 128, 8, 8])\n",
            "torch.Size([256, 32, 32, 32])\n",
            "torch.Size([256, 32, 16, 16])\n",
            "torch.Size([256, 64, 16, 16])\n",
            "torch.Size([256, 64, 8, 8])\n",
            "torch.Size([256, 128, 8, 8])\n",
            "torch.Size([256, 32, 32, 32])\n",
            "torch.Size([256, 32, 16, 16])\n",
            "torch.Size([256, 64, 16, 16])\n",
            "torch.Size([256, 64, 8, 8])\n",
            "torch.Size([256, 128, 8, 8])\n"
          ],
          "name": "stdout"
        },
        {
          "output_type": "stream",
          "text": [
            "\r 98%|█████████▊| 193/196 [00:14<00:00, 13.92it/s]"
          ],
          "name": "stderr"
        },
        {
          "output_type": "stream",
          "text": [
            "torch.Size([256, 32, 32, 32])\n",
            "torch.Size([256, 32, 16, 16])\n",
            "torch.Size([256, 64, 16, 16])\n",
            "torch.Size([256, 64, 8, 8])\n",
            "torch.Size([256, 128, 8, 8])\n",
            "torch.Size([256, 32, 32, 32])\n",
            "torch.Size([256, 32, 16, 16])\n",
            "torch.Size([256, 64, 16, 16])\n",
            "torch.Size([256, 64, 8, 8])\n",
            "torch.Size([256, 128, 8, 8])\n",
            "torch.Size([256, 32, 32, 32])\n",
            "torch.Size([256, 32, 16, 16])\n",
            "torch.Size([256, 64, 16, 16])\n",
            "torch.Size([256, 64, 8, 8])\n",
            "torch.Size([256, 128, 8, 8])\n"
          ],
          "name": "stdout"
        },
        {
          "output_type": "stream",
          "text": [
            "100%|██████████| 196/196 [00:14<00:00, 13.17it/s]"
          ],
          "name": "stderr"
        },
        {
          "output_type": "stream",
          "text": [
            "torch.Size([80, 32, 32, 32])\n",
            "torch.Size([80, 32, 16, 16])\n",
            "torch.Size([80, 64, 16, 16])\n",
            "torch.Size([80, 64, 8, 8])\n",
            "torch.Size([80, 128, 8, 8])\n"
          ],
          "name": "stdout"
        },
        {
          "output_type": "stream",
          "text": [
            "\n"
          ],
          "name": "stderr"
        },
        {
          "output_type": "stream",
          "text": [
            "torch.Size([256, 32, 32, 32])\n",
            "torch.Size([256, 32, 16, 16])\n",
            "torch.Size([256, 64, 16, 16])\n",
            "torch.Size([256, 64, 8, 8])\n",
            "torch.Size([256, 128, 8, 8])\n",
            "torch.Size([256, 32, 32, 32])\n",
            "torch.Size([256, 32, 16, 16])\n",
            "torch.Size([256, 64, 16, 16])\n",
            "torch.Size([256, 64, 8, 8])\n",
            "torch.Size([256, 128, 8, 8])\n",
            "torch.Size([256, 32, 32, 32])\n",
            "torch.Size([256, 32, 16, 16])\n",
            "torch.Size([256, 64, 16, 16])\n",
            "torch.Size([256, 64, 8, 8])\n",
            "torch.Size([256, 128, 8, 8])\n",
            "torch.Size([256, 32, 32, 32])\n",
            "torch.Size([256, 32, 16, 16])\n",
            "torch.Size([256, 64, 16, 16])\n",
            "torch.Size([256, 64, 8, 8])\n",
            "torch.Size([256, 128, 8, 8])\n",
            "torch.Size([256, 32, 32, 32])\n",
            "torch.Size([256, 32, 16, 16])\n",
            "torch.Size([256, 64, 16, 16])\n",
            "torch.Size([256, 64, 8, 8])\n",
            "torch.Size([256, 128, 8, 8])\n",
            "torch.Size([256, 32, 32, 32])\n",
            "torch.Size([256, 32, 16, 16])\n",
            "torch.Size([256, 64, 16, 16])\n",
            "torch.Size([256, 64, 8, 8])\n",
            "torch.Size([256, 128, 8, 8])\n",
            "torch.Size([256, 32, 32, 32])\n",
            "torch.Size([256, 32, 16, 16])\n",
            "torch.Size([256, 64, 16, 16])\n",
            "torch.Size([256, 64, 8, 8])\n",
            "torch.Size([256, 128, 8, 8])\n",
            "torch.Size([256, 32, 32, 32])\n",
            "torch.Size([256, 32, 16, 16])\n",
            "torch.Size([256, 64, 16, 16])\n",
            "torch.Size([256, 64, 8, 8])\n",
            "torch.Size([256, 128, 8, 8])\n",
            "torch.Size([256, 32, 32, 32])\n",
            "torch.Size([256, 32, 16, 16])\n",
            "torch.Size([256, 64, 16, 16])\n",
            "torch.Size([256, 64, 8, 8])\n",
            "torch.Size([256, 128, 8, 8])\n",
            "torch.Size([256, 32, 32, 32])\n",
            "torch.Size([256, 32, 16, 16])\n",
            "torch.Size([256, 64, 16, 16])\n",
            "torch.Size([256, 64, 8, 8])\n",
            "torch.Size([256, 128, 8, 8])\n",
            "torch.Size([256, 32, 32, 32])\n",
            "torch.Size([256, 32, 16, 16])\n",
            "torch.Size([256, 64, 16, 16])\n",
            "torch.Size([256, 64, 8, 8])\n",
            "torch.Size([256, 128, 8, 8])\n",
            "torch.Size([256, 32, 32, 32])\n",
            "torch.Size([256, 32, 16, 16])\n",
            "torch.Size([256, 64, 16, 16])\n",
            "torch.Size([256, 64, 8, 8])\n",
            "torch.Size([256, 128, 8, 8])\n",
            "torch.Size([256, 32, 32, 32])\n",
            "torch.Size([256, 32, 16, 16])\n",
            "torch.Size([256, 64, 16, 16])\n",
            "torch.Size([256, 64, 8, 8])\n",
            "torch.Size([256, 128, 8, 8])\n",
            "torch.Size([256, 32, 32, 32])\n",
            "torch.Size([256, 32, 16, 16])\n",
            "torch.Size([256, 64, 16, 16])\n",
            "torch.Size([256, 64, 8, 8])\n",
            "torch.Size([256, 128, 8, 8])\n",
            "torch.Size([256, 32, 32, 32])\n",
            "torch.Size([256, 32, 16, 16])\n",
            "torch.Size([256, 64, 16, 16])\n",
            "torch.Size([256, 64, 8, 8])\n",
            "torch.Size([256, 128, 8, 8])\n",
            "torch.Size([256, 32, 32, 32])\n",
            "torch.Size([256, 32, 16, 16])\n",
            "torch.Size([256, 64, 16, 16])\n",
            "torch.Size([256, 64, 8, 8])\n",
            "torch.Size([256, 128, 8, 8])\n",
            "torch.Size([256, 32, 32, 32])\n",
            "torch.Size([256, 32, 16, 16])\n",
            "torch.Size([256, 64, 16, 16])\n",
            "torch.Size([256, 64, 8, 8])\n",
            "torch.Size([256, 128, 8, 8])\n",
            "torch.Size([256, 32, 32, 32])\n",
            "torch.Size([256, 32, 16, 16])\n",
            "torch.Size([256, 64, 16, 16])\n",
            "torch.Size([256, 64, 8, 8])\n",
            "torch.Size([256, 128, 8, 8])\n",
            "torch.Size([256, 32, 32, 32])\n",
            "torch.Size([256, 32, 16, 16])\n",
            "torch.Size([256, 64, 16, 16])\n",
            "torch.Size([256, 64, 8, 8])\n",
            "torch.Size([256, 128, 8, 8])\n",
            "torch.Size([256, 32, 32, 32])\n",
            "torch.Size([256, 32, 16, 16])\n",
            "torch.Size([256, 64, 16, 16])\n",
            "torch.Size([256, 64, 8, 8])\n",
            "torch.Size([256, 128, 8, 8])\n",
            "torch.Size([256, 32, 32, 32])\n",
            "torch.Size([256, 32, 16, 16])\n",
            "torch.Size([256, 64, 16, 16])\n",
            "torch.Size([256, 64, 8, 8])\n",
            "torch.Size([256, 128, 8, 8])\n",
            "torch.Size([256, 32, 32, 32])\n",
            "torch.Size([256, 32, 16, 16])\n",
            "torch.Size([256, 64, 16, 16])\n",
            "torch.Size([256, 64, 8, 8])\n",
            "torch.Size([256, 128, 8, 8])\n",
            "torch.Size([256, 32, 32, 32])\n",
            "torch.Size([256, 32, 16, 16])\n",
            "torch.Size([256, 64, 16, 16])\n",
            "torch.Size([256, 64, 8, 8])\n",
            "torch.Size([256, 128, 8, 8])\n",
            "torch.Size([256, 32, 32, 32])\n",
            "torch.Size([256, 32, 16, 16])\n",
            "torch.Size([256, 64, 16, 16])\n",
            "torch.Size([256, 64, 8, 8])\n",
            "torch.Size([256, 128, 8, 8])\n",
            "torch.Size([256, 32, 32, 32])\n",
            "torch.Size([256, 32, 16, 16])\n",
            "torch.Size([256, 64, 16, 16])\n",
            "torch.Size([256, 64, 8, 8])\n",
            "torch.Size([256, 128, 8, 8])\n",
            "torch.Size([256, 32, 32, 32])\n",
            "torch.Size([256, 32, 16, 16])\n",
            "torch.Size([256, 64, 16, 16])\n",
            "torch.Size([256, 64, 8, 8])\n",
            "torch.Size([256, 128, 8, 8])\n",
            "torch.Size([256, 32, 32, 32])\n",
            "torch.Size([256, 32, 16, 16])\n",
            "torch.Size([256, 64, 16, 16])\n",
            "torch.Size([256, 64, 8, 8])\n",
            "torch.Size([256, 128, 8, 8])\n",
            "torch.Size([256, 32, 32, 32])\n",
            "torch.Size([256, 32, 16, 16])\n",
            "torch.Size([256, 64, 16, 16])\n",
            "torch.Size([256, 64, 8, 8])\n",
            "torch.Size([256, 128, 8, 8])\n",
            "torch.Size([256, 32, 32, 32])\n",
            "torch.Size([256, 32, 16, 16])\n",
            "torch.Size([256, 64, 16, 16])\n",
            "torch.Size([256, 64, 8, 8])\n",
            "torch.Size([256, 128, 8, 8])\n",
            "torch.Size([256, 32, 32, 32])\n",
            "torch.Size([256, 32, 16, 16])\n",
            "torch.Size([256, 64, 16, 16])\n",
            "torch.Size([256, 64, 8, 8])\n",
            "torch.Size([256, 128, 8, 8])\n",
            "torch.Size([256, 32, 32, 32])\n",
            "torch.Size([256, 32, 16, 16])\n",
            "torch.Size([256, 64, 16, 16])\n",
            "torch.Size([256, 64, 8, 8])\n",
            "torch.Size([256, 128, 8, 8])\n",
            "torch.Size([256, 32, 32, 32])\n",
            "torch.Size([256, 32, 16, 16])\n",
            "torch.Size([256, 64, 16, 16])\n",
            "torch.Size([256, 64, 8, 8])\n",
            "torch.Size([256, 128, 8, 8])\n",
            "torch.Size([256, 32, 32, 32])\n",
            "torch.Size([256, 32, 16, 16])\n",
            "torch.Size([256, 64, 16, 16])\n",
            "torch.Size([256, 64, 8, 8])\n",
            "torch.Size([256, 128, 8, 8])\n",
            "torch.Size([256, 32, 32, 32])\n",
            "torch.Size([256, 32, 16, 16])\n",
            "torch.Size([256, 64, 16, 16])\n",
            "torch.Size([256, 64, 8, 8])\n",
            "torch.Size([256, 128, 8, 8])\n",
            "torch.Size([256, 32, 32, 32])\n",
            "torch.Size([256, 32, 16, 16])\n",
            "torch.Size([256, 64, 16, 16])\n",
            "torch.Size([256, 64, 8, 8])\n",
            "torch.Size([256, 128, 8, 8])\n",
            "torch.Size([256, 32, 32, 32])\n",
            "torch.Size([256, 32, 16, 16])\n",
            "torch.Size([256, 64, 16, 16])\n",
            "torch.Size([256, 64, 8, 8])\n",
            "torch.Size([256, 128, 8, 8])\n"
          ],
          "name": "stdout"
        },
        {
          "output_type": "stream",
          "text": [
            "\r  0%|          | 0/196 [00:00<?, ?it/s]"
          ],
          "name": "stderr"
        },
        {
          "output_type": "stream",
          "text": [
            "torch.Size([256, 32, 32, 32])\n",
            "torch.Size([256, 32, 16, 16])\n",
            "torch.Size([256, 64, 16, 16])\n",
            "torch.Size([256, 64, 8, 8])\n",
            "torch.Size([256, 128, 8, 8])\n",
            "torch.Size([256, 32, 32, 32])\n",
            "torch.Size([256, 32, 16, 16])\n",
            "torch.Size([256, 64, 16, 16])\n",
            "torch.Size([256, 64, 8, 8])\n",
            "torch.Size([256, 128, 8, 8])\n",
            "torch.Size([256, 32, 32, 32])\n",
            "torch.Size([256, 32, 16, 16])\n",
            "torch.Size([256, 64, 16, 16])\n",
            "torch.Size([256, 64, 8, 8])\n",
            "torch.Size([256, 128, 8, 8])\n",
            "torch.Size([16, 32, 32, 32])\n",
            "torch.Size([16, 32, 16, 16])\n",
            "torch.Size([16, 64, 16, 16])\n",
            "torch.Size([16, 64, 8, 8])\n",
            "torch.Size([16, 128, 8, 8])\n",
            "\n",
            "Epoch: 4 Train set: Average loss: 0.0034, Accuracy: 69.078%\n",
            "Epoch: 4 Test set: Average loss: 0.0049, Accuracy: 59.910%\n"
          ],
          "name": "stdout"
        },
        {
          "output_type": "stream",
          "text": [
            "\r  1%|          | 1/196 [00:00<01:15,  2.58it/s]"
          ],
          "name": "stderr"
        },
        {
          "output_type": "stream",
          "text": [
            "torch.Size([256, 32, 32, 32])\n",
            "torch.Size([256, 32, 16, 16])\n",
            "torch.Size([256, 64, 16, 16])\n",
            "torch.Size([256, 64, 8, 8])\n",
            "torch.Size([256, 128, 8, 8])\n",
            "torch.Size([256, 32, 32, 32])\n",
            "torch.Size([256, 32, 16, 16])\n",
            "torch.Size([256, 64, 16, 16])\n",
            "torch.Size([256, 64, 8, 8])\n",
            "torch.Size([256, 128, 8, 8])\n",
            "torch.Size([256, 32, 32, 32])\n",
            "torch.Size([256, 32, 16, 16])\n",
            "torch.Size([256, 64, 16, 16])\n",
            "torch.Size([256, 64, 8, 8])\n",
            "torch.Size([256, 128, 8, 8])\n"
          ],
          "name": "stdout"
        },
        {
          "output_type": "stream",
          "text": [
            "  3%|▎         | 5/196 [00:00<00:44,  4.30it/s]"
          ],
          "name": "stderr"
        },
        {
          "output_type": "stream",
          "text": [
            "torch.Size([256, 32, 32, 32])\n",
            "torch.Size([256, 32, 16, 16])\n",
            "torch.Size([256, 64, 16, 16])\n",
            "torch.Size([256, 64, 8, 8])\n",
            "torch.Size([256, 128, 8, 8])\n",
            "torch.Size([256, 32, 32, 32])\n",
            "torch.Size([256, 32, 16, 16])\n",
            "torch.Size([256, 64, 16, 16])\n",
            "torch.Size([256, 64, 8, 8])\n",
            "torch.Size([256, 128, 8, 8])\n",
            "torch.Size([256, 32, 32, 32])\n",
            "torch.Size([256, 32, 16, 16])\n",
            "torch.Size([256, 64, 16, 16])\n",
            "torch.Size([256, 64, 8, 8])\n",
            "torch.Size([256, 128, 8, 8])\n"
          ],
          "name": "stdout"
        },
        {
          "output_type": "stream",
          "text": [
            "\r  4%|▎         | 7/196 [00:00<00:35,  5.30it/s]"
          ],
          "name": "stderr"
        },
        {
          "output_type": "stream",
          "text": [
            "torch.Size([256, 32, 32, 32])\n",
            "torch.Size([256, 32, 16, 16])\n",
            "torch.Size([256, 64, 16, 16])\n",
            "torch.Size([256, 64, 8, 8])\n",
            "torch.Size([256, 128, 8, 8])\n",
            "torch.Size([256, 32, 32, 32])\n",
            "torch.Size([256, 32, 16, 16])\n",
            "torch.Size([256, 64, 16, 16])\n",
            "torch.Size([256, 64, 8, 8])\n",
            "torch.Size([256, 128, 8, 8])\n",
            "torch.Size([256, 32, 32, 32])\n",
            "torch.Size([256, 32, 16, 16])\n",
            "torch.Size([256, 64, 16, 16])\n",
            "torch.Size([256, 64, 8, 8])\n",
            "torch.Size([256, 128, 8, 8])\n"
          ],
          "name": "stdout"
        },
        {
          "output_type": "stream",
          "text": [
            "  6%|▌         | 11/196 [00:01<00:24,  7.56it/s]"
          ],
          "name": "stderr"
        },
        {
          "output_type": "stream",
          "text": [
            "torch.Size([256, 32, 32, 32])\n",
            "torch.Size([256, 32, 16, 16])\n",
            "torch.Size([256, 64, 16, 16])\n",
            "torch.Size([256, 64, 8, 8])\n",
            "torch.Size([256, 128, 8, 8])\n",
            "torch.Size([256, 32, 32, 32])\n",
            "torch.Size([256, 32, 16, 16])\n",
            "torch.Size([256, 64, 16, 16])\n",
            "torch.Size([256, 64, 8, 8])\n",
            "torch.Size([256, 128, 8, 8])\n",
            "torch.Size([256, 32, 32, 32])\n",
            "torch.Size([256, 32, 16, 16])\n",
            "torch.Size([256, 64, 16, 16])\n",
            "torch.Size([256, 64, 8, 8])\n",
            "torch.Size([256, 128, 8, 8])\n"
          ],
          "name": "stdout"
        },
        {
          "output_type": "stream",
          "text": [
            "\r  7%|▋         | 13/196 [00:01<00:21,  8.66it/s]"
          ],
          "name": "stderr"
        },
        {
          "output_type": "stream",
          "text": [
            "torch.Size([256, 32, 32, 32])\n",
            "torch.Size([256, 32, 16, 16])\n",
            "torch.Size([256, 64, 16, 16])\n",
            "torch.Size([256, 64, 8, 8])\n",
            "torch.Size([256, 128, 8, 8])\n",
            "torch.Size([256, 32, 32, 32])\n",
            "torch.Size([256, 32, 16, 16])\n",
            "torch.Size([256, 64, 16, 16])\n",
            "torch.Size([256, 64, 8, 8])\n",
            "torch.Size([256, 128, 8, 8])\n",
            "torch.Size([256, 32, 32, 32])\n",
            "torch.Size([256, 32, 16, 16])\n",
            "torch.Size([256, 64, 16, 16])\n",
            "torch.Size([256, 64, 8, 8])\n",
            "torch.Size([256, 128, 8, 8])\n"
          ],
          "name": "stdout"
        },
        {
          "output_type": "stream",
          "text": [
            "  9%|▊         | 17/196 [00:01<00:16, 10.66it/s]"
          ],
          "name": "stderr"
        },
        {
          "output_type": "stream",
          "text": [
            "torch.Size([256, 32, 32, 32])\n",
            "torch.Size([256, 32, 16, 16])\n",
            "torch.Size([256, 64, 16, 16])\n",
            "torch.Size([256, 64, 8, 8])\n",
            "torch.Size([256, 128, 8, 8])\n",
            "torch.Size([256, 32, 32, 32])\n",
            "torch.Size([256, 32, 16, 16])\n",
            "torch.Size([256, 64, 16, 16])\n",
            "torch.Size([256, 64, 8, 8])\n",
            "torch.Size([256, 128, 8, 8])\n",
            "torch.Size([256, 32, 32, 32])\n",
            "torch.Size([256, 32, 16, 16])\n",
            "torch.Size([256, 64, 16, 16])\n",
            "torch.Size([256, 64, 8, 8])\n",
            "torch.Size([256, 128, 8, 8])\n"
          ],
          "name": "stdout"
        },
        {
          "output_type": "stream",
          "text": [
            "\r 10%|▉         | 19/196 [00:01<00:15, 11.43it/s]"
          ],
          "name": "stderr"
        },
        {
          "output_type": "stream",
          "text": [
            "torch.Size([256, 32, 32, 32])\n",
            "torch.Size([256, 32, 16, 16])\n",
            "torch.Size([256, 64, 16, 16])\n",
            "torch.Size([256, 64, 8, 8])\n",
            "torch.Size([256, 128, 8, 8])\n",
            "torch.Size([256, 32, 32, 32])\n",
            "torch.Size([256, 32, 16, 16])\n",
            "torch.Size([256, 64, 16, 16])\n",
            "torch.Size([256, 64, 8, 8])\n",
            "torch.Size([256, 128, 8, 8])\n",
            "torch.Size([256, 32, 32, 32])\n",
            "torch.Size([256, 32, 16, 16])\n",
            "torch.Size([256, 64, 16, 16])\n",
            "torch.Size([256, 64, 8, 8])\n",
            "torch.Size([256, 128, 8, 8])\n"
          ],
          "name": "stdout"
        },
        {
          "output_type": "stream",
          "text": [
            " 12%|█▏        | 23/196 [00:02<00:13, 12.40it/s]"
          ],
          "name": "stderr"
        },
        {
          "output_type": "stream",
          "text": [
            "torch.Size([256, 32, 32, 32])\n",
            "torch.Size([256, 32, 16, 16])\n",
            "torch.Size([256, 64, 16, 16])\n",
            "torch.Size([256, 64, 8, 8])\n",
            "torch.Size([256, 128, 8, 8])\n",
            "torch.Size([256, 32, 32, 32])\n",
            "torch.Size([256, 32, 16, 16])\n",
            "torch.Size([256, 64, 16, 16])\n",
            "torch.Size([256, 64, 8, 8])\n",
            "torch.Size([256, 128, 8, 8])\n",
            "torch.Size([256, 32, 32, 32])\n",
            "torch.Size([256, 32, 16, 16])\n",
            "torch.Size([256, 64, 16, 16])\n",
            "torch.Size([256, 64, 8, 8])\n",
            "torch.Size([256, 128, 8, 8])\n"
          ],
          "name": "stdout"
        },
        {
          "output_type": "stream",
          "text": [
            "\r 13%|█▎        | 25/196 [00:02<00:13, 12.64it/s]"
          ],
          "name": "stderr"
        },
        {
          "output_type": "stream",
          "text": [
            "torch.Size([256, 32, 32, 32])\n",
            "torch.Size([256, 32, 16, 16])\n",
            "torch.Size([256, 64, 16, 16])\n",
            "torch.Size([256, 64, 8, 8])\n",
            "torch.Size([256, 128, 8, 8])\n",
            "torch.Size([256, 32, 32, 32])\n",
            "torch.Size([256, 32, 16, 16])\n",
            "torch.Size([256, 64, 16, 16])\n",
            "torch.Size([256, 64, 8, 8])\n",
            "torch.Size([256, 128, 8, 8])\n",
            "torch.Size([256, 32, 32, 32])\n",
            "torch.Size([256, 32, 16, 16])\n",
            "torch.Size([256, 64, 16, 16])\n",
            "torch.Size([256, 64, 8, 8])\n",
            "torch.Size([256, 128, 8, 8])\n"
          ],
          "name": "stdout"
        },
        {
          "output_type": "stream",
          "text": [
            " 15%|█▍        | 29/196 [00:02<00:12, 13.36it/s]"
          ],
          "name": "stderr"
        },
        {
          "output_type": "stream",
          "text": [
            "torch.Size([256, 32, 32, 32])\n",
            "torch.Size([256, 32, 16, 16])\n",
            "torch.Size([256, 64, 16, 16])\n",
            "torch.Size([256, 64, 8, 8])\n",
            "torch.Size([256, 128, 8, 8])\n",
            "torch.Size([256, 32, 32, 32])\n",
            "torch.Size([256, 32, 16, 16])\n",
            "torch.Size([256, 64, 16, 16])\n",
            "torch.Size([256, 64, 8, 8])\n",
            "torch.Size([256, 128, 8, 8])\n",
            "torch.Size([256, 32, 32, 32])\n",
            "torch.Size([256, 32, 16, 16])\n",
            "torch.Size([256, 64, 16, 16])\n",
            "torch.Size([256, 64, 8, 8])\n",
            "torch.Size([256, 128, 8, 8])\n"
          ],
          "name": "stdout"
        },
        {
          "output_type": "stream",
          "text": [
            "\r 16%|█▌        | 31/196 [00:02<00:12, 13.31it/s]"
          ],
          "name": "stderr"
        },
        {
          "output_type": "stream",
          "text": [
            "torch.Size([256, 32, 32, 32])\n",
            "torch.Size([256, 32, 16, 16])\n",
            "torch.Size([256, 64, 16, 16])\n",
            "torch.Size([256, 64, 8, 8])\n",
            "torch.Size([256, 128, 8, 8])\n",
            "torch.Size([256, 32, 32, 32])\n",
            "torch.Size([256, 32, 16, 16])\n",
            "torch.Size([256, 64, 16, 16])\n",
            "torch.Size([256, 64, 8, 8])\n",
            "torch.Size([256, 128, 8, 8])\n",
            "torch.Size([256, 32, 32, 32])\n",
            "torch.Size([256, 32, 16, 16])\n",
            "torch.Size([256, 64, 16, 16])\n",
            "torch.Size([256, 64, 8, 8])\n",
            "torch.Size([256, 128, 8, 8])\n"
          ],
          "name": "stdout"
        },
        {
          "output_type": "stream",
          "text": [
            " 18%|█▊        | 35/196 [00:02<00:12, 13.08it/s]"
          ],
          "name": "stderr"
        },
        {
          "output_type": "stream",
          "text": [
            "torch.Size([256, 32, 32, 32])\n",
            "torch.Size([256, 32, 16, 16])\n",
            "torch.Size([256, 64, 16, 16])\n",
            "torch.Size([256, 64, 8, 8])\n",
            "torch.Size([256, 128, 8, 8])\n",
            "torch.Size([256, 32, 32, 32])\n",
            "torch.Size([256, 32, 16, 16])\n",
            "torch.Size([256, 64, 16, 16])\n",
            "torch.Size([256, 64, 8, 8])\n",
            "torch.Size([256, 128, 8, 8])\n",
            "torch.Size([256, 32, 32, 32])\n",
            "torch.Size([256, 32, 16, 16])\n",
            "torch.Size([256, 64, 16, 16])\n",
            "torch.Size([256, 64, 8, 8])\n",
            "torch.Size([256, 128, 8, 8])\n"
          ],
          "name": "stdout"
        },
        {
          "output_type": "stream",
          "text": [
            "\r 19%|█▉        | 37/196 [00:03<00:12, 13.24it/s]"
          ],
          "name": "stderr"
        },
        {
          "output_type": "stream",
          "text": [
            "torch.Size([256, 32, 32, 32])\n",
            "torch.Size([256, 32, 16, 16])\n",
            "torch.Size([256, 64, 16, 16])\n",
            "torch.Size([256, 64, 8, 8])\n",
            "torch.Size([256, 128, 8, 8])\n",
            "torch.Size([256, 32, 32, 32])\n",
            "torch.Size([256, 32, 16, 16])\n",
            "torch.Size([256, 64, 16, 16])\n",
            "torch.Size([256, 64, 8, 8])\n",
            "torch.Size([256, 128, 8, 8])\n",
            "torch.Size([256, 32, 32, 32])\n",
            "torch.Size([256, 32, 16, 16])\n",
            "torch.Size([256, 64, 16, 16])\n",
            "torch.Size([256, 64, 8, 8])\n",
            "torch.Size([256, 128, 8, 8])\n"
          ],
          "name": "stdout"
        },
        {
          "output_type": "stream",
          "text": [
            " 21%|██        | 41/196 [00:03<00:11, 13.19it/s]"
          ],
          "name": "stderr"
        },
        {
          "output_type": "stream",
          "text": [
            "torch.Size([256, 32, 32, 32])\n",
            "torch.Size([256, 32, 16, 16])\n",
            "torch.Size([256, 64, 16, 16])\n",
            "torch.Size([256, 64, 8, 8])\n",
            "torch.Size([256, 128, 8, 8])\n",
            "torch.Size([256, 32, 32, 32])\n",
            "torch.Size([256, 32, 16, 16])\n",
            "torch.Size([256, 64, 16, 16])\n",
            "torch.Size([256, 64, 8, 8])\n",
            "torch.Size([256, 128, 8, 8])\n",
            "torch.Size([256, 32, 32, 32])\n",
            "torch.Size([256, 32, 16, 16])\n",
            "torch.Size([256, 64, 16, 16])\n",
            "torch.Size([256, 64, 8, 8])\n",
            "torch.Size([256, 128, 8, 8])\n"
          ],
          "name": "stdout"
        },
        {
          "output_type": "stream",
          "text": [
            "\r 22%|██▏       | 43/196 [00:03<00:11, 13.27it/s]"
          ],
          "name": "stderr"
        },
        {
          "output_type": "stream",
          "text": [
            "torch.Size([256, 32, 32, 32])\n",
            "torch.Size([256, 32, 16, 16])\n",
            "torch.Size([256, 64, 16, 16])\n",
            "torch.Size([256, 64, 8, 8])\n",
            "torch.Size([256, 128, 8, 8])\n",
            "torch.Size([256, 32, 32, 32])\n",
            "torch.Size([256, 32, 16, 16])\n",
            "torch.Size([256, 64, 16, 16])\n",
            "torch.Size([256, 64, 8, 8])\n",
            "torch.Size([256, 128, 8, 8])\n",
            "torch.Size([256, 32, 32, 32])\n",
            "torch.Size([256, 32, 16, 16])\n",
            "torch.Size([256, 64, 16, 16])\n",
            "torch.Size([256, 64, 8, 8])\n",
            "torch.Size([256, 128, 8, 8])\n"
          ],
          "name": "stdout"
        },
        {
          "output_type": "stream",
          "text": [
            " 24%|██▍       | 47/196 [00:03<00:11, 13.44it/s]"
          ],
          "name": "stderr"
        },
        {
          "output_type": "stream",
          "text": [
            "torch.Size([256, 32, 32, 32])\n",
            "torch.Size([256, 32, 16, 16])\n",
            "torch.Size([256, 64, 16, 16])\n",
            "torch.Size([256, 64, 8, 8])\n",
            "torch.Size([256, 128, 8, 8])\n",
            "torch.Size([256, 32, 32, 32])\n",
            "torch.Size([256, 32, 16, 16])\n",
            "torch.Size([256, 64, 16, 16])\n",
            "torch.Size([256, 64, 8, 8])\n",
            "torch.Size([256, 128, 8, 8])\n",
            "torch.Size([256, 32, 32, 32])\n",
            "torch.Size([256, 32, 16, 16])\n",
            "torch.Size([256, 64, 16, 16])\n",
            "torch.Size([256, 64, 8, 8])\n",
            "torch.Size([256, 128, 8, 8])\n"
          ],
          "name": "stdout"
        },
        {
          "output_type": "stream",
          "text": [
            "\r 25%|██▌       | 49/196 [00:04<00:10, 13.70it/s]"
          ],
          "name": "stderr"
        },
        {
          "output_type": "stream",
          "text": [
            "torch.Size([256, 32, 32, 32])\n",
            "torch.Size([256, 32, 16, 16])\n",
            "torch.Size([256, 64, 16, 16])\n",
            "torch.Size([256, 64, 8, 8])\n",
            "torch.Size([256, 128, 8, 8])\n",
            "torch.Size([256, 32, 32, 32])\n",
            "torch.Size([256, 32, 16, 16])\n",
            "torch.Size([256, 64, 16, 16])\n",
            "torch.Size([256, 64, 8, 8])\n",
            "torch.Size([256, 128, 8, 8])\n",
            "torch.Size([256, 32, 32, 32])\n",
            "torch.Size([256, 32, 16, 16])\n",
            "torch.Size([256, 64, 16, 16])\n",
            "torch.Size([256, 64, 8, 8])\n",
            "torch.Size([256, 128, 8, 8])\n"
          ],
          "name": "stdout"
        },
        {
          "output_type": "stream",
          "text": [
            " 27%|██▋       | 53/196 [00:04<00:10, 13.99it/s]"
          ],
          "name": "stderr"
        },
        {
          "output_type": "stream",
          "text": [
            "torch.Size([256, 32, 32, 32])\n",
            "torch.Size([256, 32, 16, 16])\n",
            "torch.Size([256, 64, 16, 16])\n",
            "torch.Size([256, 64, 8, 8])\n",
            "torch.Size([256, 128, 8, 8])\n",
            "torch.Size([256, 32, 32, 32])\n",
            "torch.Size([256, 32, 16, 16])\n",
            "torch.Size([256, 64, 16, 16])\n",
            "torch.Size([256, 64, 8, 8])\n",
            "torch.Size([256, 128, 8, 8])\n",
            "torch.Size([256, 32, 32, 32])\n",
            "torch.Size([256, 32, 16, 16])\n",
            "torch.Size([256, 64, 16, 16])\n",
            "torch.Size([256, 64, 8, 8])\n",
            "torch.Size([256, 128, 8, 8])\n"
          ],
          "name": "stdout"
        },
        {
          "output_type": "stream",
          "text": [
            "\r 28%|██▊       | 55/196 [00:04<00:10, 13.62it/s]"
          ],
          "name": "stderr"
        },
        {
          "output_type": "stream",
          "text": [
            "torch.Size([256, 32, 32, 32])\n",
            "torch.Size([256, 32, 16, 16])\n",
            "torch.Size([256, 64, 16, 16])\n",
            "torch.Size([256, 64, 8, 8])\n",
            "torch.Size([256, 128, 8, 8])\n",
            "torch.Size([256, 32, 32, 32])\n",
            "torch.Size([256, 32, 16, 16])\n",
            "torch.Size([256, 64, 16, 16])\n",
            "torch.Size([256, 64, 8, 8])\n",
            "torch.Size([256, 128, 8, 8])\n",
            "torch.Size([256, 32, 32, 32])\n",
            "torch.Size([256, 32, 16, 16])\n",
            "torch.Size([256, 64, 16, 16])\n",
            "torch.Size([256, 64, 8, 8])\n",
            "torch.Size([256, 128, 8, 8])\n"
          ],
          "name": "stdout"
        },
        {
          "output_type": "stream",
          "text": [
            " 30%|███       | 59/196 [00:04<00:10, 13.13it/s]"
          ],
          "name": "stderr"
        },
        {
          "output_type": "stream",
          "text": [
            "torch.Size([256, 32, 32, 32])\n",
            "torch.Size([256, 32, 16, 16])\n",
            "torch.Size([256, 64, 16, 16])\n",
            "torch.Size([256, 64, 8, 8])\n",
            "torch.Size([256, 128, 8, 8])\n",
            "torch.Size([256, 32, 32, 32])\n",
            "torch.Size([256, 32, 16, 16])\n",
            "torch.Size([256, 64, 16, 16])\n",
            "torch.Size([256, 64, 8, 8])\n",
            "torch.Size([256, 128, 8, 8])\n",
            "torch.Size([256, 32, 32, 32])\n",
            "torch.Size([256, 32, 16, 16])\n",
            "torch.Size([256, 64, 16, 16])\n",
            "torch.Size([256, 64, 8, 8])\n",
            "torch.Size([256, 128, 8, 8])\n"
          ],
          "name": "stdout"
        },
        {
          "output_type": "stream",
          "text": [
            "\r 31%|███       | 61/196 [00:04<00:09, 13.53it/s]"
          ],
          "name": "stderr"
        },
        {
          "output_type": "stream",
          "text": [
            "torch.Size([256, 32, 32, 32])\n",
            "torch.Size([256, 32, 16, 16])\n",
            "torch.Size([256, 64, 16, 16])\n",
            "torch.Size([256, 64, 8, 8])\n",
            "torch.Size([256, 128, 8, 8])\n",
            "torch.Size([256, 32, 32, 32])\n",
            "torch.Size([256, 32, 16, 16])\n",
            "torch.Size([256, 64, 16, 16])\n",
            "torch.Size([256, 64, 8, 8])\n",
            "torch.Size([256, 128, 8, 8])\n",
            "torch.Size([256, 32, 32, 32])\n",
            "torch.Size([256, 32, 16, 16])\n",
            "torch.Size([256, 64, 16, 16])\n",
            "torch.Size([256, 64, 8, 8])\n",
            "torch.Size([256, 128, 8, 8])\n"
          ],
          "name": "stdout"
        },
        {
          "output_type": "stream",
          "text": [
            " 33%|███▎      | 65/196 [00:05<00:09, 13.57it/s]"
          ],
          "name": "stderr"
        },
        {
          "output_type": "stream",
          "text": [
            "torch.Size([256, 32, 32, 32])\n",
            "torch.Size([256, 32, 16, 16])\n",
            "torch.Size([256, 64, 16, 16])\n",
            "torch.Size([256, 64, 8, 8])\n",
            "torch.Size([256, 128, 8, 8])\n",
            "torch.Size([256, 32, 32, 32])\n",
            "torch.Size([256, 32, 16, 16])\n",
            "torch.Size([256, 64, 16, 16])\n",
            "torch.Size([256, 64, 8, 8])\n",
            "torch.Size([256, 128, 8, 8])\n",
            "torch.Size([256, 32, 32, 32])\n",
            "torch.Size([256, 32, 16, 16])\n",
            "torch.Size([256, 64, 16, 16])\n",
            "torch.Size([256, 64, 8, 8])\n",
            "torch.Size([256, 128, 8, 8])\n"
          ],
          "name": "stdout"
        },
        {
          "output_type": "stream",
          "text": [
            "\r 34%|███▍      | 67/196 [00:05<00:09, 13.72it/s]"
          ],
          "name": "stderr"
        },
        {
          "output_type": "stream",
          "text": [
            "torch.Size([256, 32, 32, 32])\n",
            "torch.Size([256, 32, 16, 16])\n",
            "torch.Size([256, 64, 16, 16])\n",
            "torch.Size([256, 64, 8, 8])\n",
            "torch.Size([256, 128, 8, 8])\n",
            "torch.Size([256, 32, 32, 32])\n",
            "torch.Size([256, 32, 16, 16])\n",
            "torch.Size([256, 64, 16, 16])\n",
            "torch.Size([256, 64, 8, 8])\n",
            "torch.Size([256, 128, 8, 8])\n",
            "torch.Size([256, 32, 32, 32])\n",
            "torch.Size([256, 32, 16, 16])\n",
            "torch.Size([256, 64, 16, 16])\n",
            "torch.Size([256, 64, 8, 8])\n",
            "torch.Size([256, 128, 8, 8])\n"
          ],
          "name": "stdout"
        },
        {
          "output_type": "stream",
          "text": [
            " 36%|███▌      | 71/196 [00:05<00:09, 13.02it/s]"
          ],
          "name": "stderr"
        },
        {
          "output_type": "stream",
          "text": [
            "torch.Size([256, 32, 32, 32])\n",
            "torch.Size([256, 32, 16, 16])\n",
            "torch.Size([256, 64, 16, 16])\n",
            "torch.Size([256, 64, 8, 8])\n",
            "torch.Size([256, 128, 8, 8])\n",
            "torch.Size([256, 32, 32, 32])\n",
            "torch.Size([256, 32, 16, 16])\n",
            "torch.Size([256, 64, 16, 16])\n",
            "torch.Size([256, 64, 8, 8])\n",
            "torch.Size([256, 128, 8, 8])\n",
            "torch.Size([256, 32, 32, 32])\n",
            "torch.Size([256, 32, 16, 16])\n",
            "torch.Size([256, 64, 16, 16])\n",
            "torch.Size([256, 64, 8, 8])\n",
            "torch.Size([256, 128, 8, 8])\n"
          ],
          "name": "stdout"
        },
        {
          "output_type": "stream",
          "text": [
            "\r 37%|███▋      | 73/196 [00:05<00:09, 13.25it/s]"
          ],
          "name": "stderr"
        },
        {
          "output_type": "stream",
          "text": [
            "torch.Size([256, 32, 32, 32])\n",
            "torch.Size([256, 32, 16, 16])\n",
            "torch.Size([256, 64, 16, 16])\n",
            "torch.Size([256, 64, 8, 8])\n",
            "torch.Size([256, 128, 8, 8])\n",
            "torch.Size([256, 32, 32, 32])\n",
            "torch.Size([256, 32, 16, 16])\n",
            "torch.Size([256, 64, 16, 16])\n",
            "torch.Size([256, 64, 8, 8])\n",
            "torch.Size([256, 128, 8, 8])\n",
            "torch.Size([256, 32, 32, 32])\n",
            "torch.Size([256, 32, 16, 16])\n",
            "torch.Size([256, 64, 16, 16])\n",
            "torch.Size([256, 64, 8, 8])\n",
            "torch.Size([256, 128, 8, 8])\n"
          ],
          "name": "stdout"
        },
        {
          "output_type": "stream",
          "text": [
            " 39%|███▉      | 77/196 [00:06<00:09, 12.97it/s]"
          ],
          "name": "stderr"
        },
        {
          "output_type": "stream",
          "text": [
            "torch.Size([256, 32, 32, 32])\n",
            "torch.Size([256, 32, 16, 16])\n",
            "torch.Size([256, 64, 16, 16])\n",
            "torch.Size([256, 64, 8, 8])\n",
            "torch.Size([256, 128, 8, 8])\n",
            "torch.Size([256, 32, 32, 32])\n",
            "torch.Size([256, 32, 16, 16])\n",
            "torch.Size([256, 64, 16, 16])\n",
            "torch.Size([256, 64, 8, 8])\n",
            "torch.Size([256, 128, 8, 8])\n",
            "torch.Size([256, 32, 32, 32])\n",
            "torch.Size([256, 32, 16, 16])\n",
            "torch.Size([256, 64, 16, 16])\n",
            "torch.Size([256, 64, 8, 8])\n",
            "torch.Size([256, 128, 8, 8])\n"
          ],
          "name": "stdout"
        },
        {
          "output_type": "stream",
          "text": [
            "\r 40%|████      | 79/196 [00:06<00:08, 13.07it/s]"
          ],
          "name": "stderr"
        },
        {
          "output_type": "stream",
          "text": [
            "torch.Size([256, 32, 32, 32])\n",
            "torch.Size([256, 32, 16, 16])\n",
            "torch.Size([256, 64, 16, 16])\n",
            "torch.Size([256, 64, 8, 8])\n",
            "torch.Size([256, 128, 8, 8])\n",
            "torch.Size([256, 32, 32, 32])\n",
            "torch.Size([256, 32, 16, 16])\n",
            "torch.Size([256, 64, 16, 16])\n",
            "torch.Size([256, 64, 8, 8])\n",
            "torch.Size([256, 128, 8, 8])\n",
            "torch.Size([256, 32, 32, 32])\n",
            "torch.Size([256, 32, 16, 16])\n",
            "torch.Size([256, 64, 16, 16])\n",
            "torch.Size([256, 64, 8, 8])\n",
            "torch.Size([256, 128, 8, 8])\n"
          ],
          "name": "stdout"
        },
        {
          "output_type": "stream",
          "text": [
            " 42%|████▏     | 83/196 [00:06<00:08, 13.25it/s]"
          ],
          "name": "stderr"
        },
        {
          "output_type": "stream",
          "text": [
            "torch.Size([256, 32, 32, 32])\n",
            "torch.Size([256, 32, 16, 16])\n",
            "torch.Size([256, 64, 16, 16])\n",
            "torch.Size([256, 64, 8, 8])\n",
            "torch.Size([256, 128, 8, 8])\n",
            "torch.Size([256, 32, 32, 32])\n",
            "torch.Size([256, 32, 16, 16])\n",
            "torch.Size([256, 64, 16, 16])\n",
            "torch.Size([256, 64, 8, 8])\n",
            "torch.Size([256, 128, 8, 8])\n",
            "torch.Size([256, 32, 32, 32])\n",
            "torch.Size([256, 32, 16, 16])\n",
            "torch.Size([256, 64, 16, 16])\n",
            "torch.Size([256, 64, 8, 8])\n",
            "torch.Size([256, 128, 8, 8])\n"
          ],
          "name": "stdout"
        },
        {
          "output_type": "stream",
          "text": [
            "\r 43%|████▎     | 85/196 [00:06<00:08, 13.21it/s]"
          ],
          "name": "stderr"
        },
        {
          "output_type": "stream",
          "text": [
            "torch.Size([256, 32, 32, 32])\n",
            "torch.Size([256, 32, 16, 16])\n",
            "torch.Size([256, 64, 16, 16])\n",
            "torch.Size([256, 64, 8, 8])\n",
            "torch.Size([256, 128, 8, 8])\n",
            "torch.Size([256, 32, 32, 32])\n",
            "torch.Size([256, 32, 16, 16])\n",
            "torch.Size([256, 64, 16, 16])\n",
            "torch.Size([256, 64, 8, 8])\n",
            "torch.Size([256, 128, 8, 8])\n",
            "torch.Size([256, 32, 32, 32])\n",
            "torch.Size([256, 32, 16, 16])\n",
            "torch.Size([256, 64, 16, 16])\n",
            "torch.Size([256, 64, 8, 8])\n",
            "torch.Size([256, 128, 8, 8])\n"
          ],
          "name": "stdout"
        },
        {
          "output_type": "stream",
          "text": [
            " 45%|████▌     | 89/196 [00:07<00:07, 13.38it/s]"
          ],
          "name": "stderr"
        },
        {
          "output_type": "stream",
          "text": [
            "torch.Size([256, 32, 32, 32])\n",
            "torch.Size([256, 32, 16, 16])\n",
            "torch.Size([256, 64, 16, 16])\n",
            "torch.Size([256, 64, 8, 8])\n",
            "torch.Size([256, 128, 8, 8])\n",
            "torch.Size([256, 32, 32, 32])\n",
            "torch.Size([256, 32, 16, 16])\n",
            "torch.Size([256, 64, 16, 16])\n",
            "torch.Size([256, 64, 8, 8])\n",
            "torch.Size([256, 128, 8, 8])\n",
            "torch.Size([256, 32, 32, 32])\n",
            "torch.Size([256, 32, 16, 16])\n",
            "torch.Size([256, 64, 16, 16])\n",
            "torch.Size([256, 64, 8, 8])\n",
            "torch.Size([256, 128, 8, 8])\n"
          ],
          "name": "stdout"
        },
        {
          "output_type": "stream",
          "text": [
            "\r 46%|████▋     | 91/196 [00:07<00:07, 13.34it/s]"
          ],
          "name": "stderr"
        },
        {
          "output_type": "stream",
          "text": [
            "torch.Size([256, 32, 32, 32])\n",
            "torch.Size([256, 32, 16, 16])\n",
            "torch.Size([256, 64, 16, 16])\n",
            "torch.Size([256, 64, 8, 8])\n",
            "torch.Size([256, 128, 8, 8])\n",
            "torch.Size([256, 32, 32, 32])\n",
            "torch.Size([256, 32, 16, 16])\n",
            "torch.Size([256, 64, 16, 16])\n",
            "torch.Size([256, 64, 8, 8])\n",
            "torch.Size([256, 128, 8, 8])\n",
            "torch.Size([256, 32, 32, 32])\n",
            "torch.Size([256, 32, 16, 16])\n",
            "torch.Size([256, 64, 16, 16])\n",
            "torch.Size([256, 64, 8, 8])\n",
            "torch.Size([256, 128, 8, 8])\n"
          ],
          "name": "stdout"
        },
        {
          "output_type": "stream",
          "text": [
            " 48%|████▊     | 95/196 [00:07<00:07, 13.33it/s]"
          ],
          "name": "stderr"
        },
        {
          "output_type": "stream",
          "text": [
            "torch.Size([256, 32, 32, 32])\n",
            "torch.Size([256, 32, 16, 16])\n",
            "torch.Size([256, 64, 16, 16])\n",
            "torch.Size([256, 64, 8, 8])\n",
            "torch.Size([256, 128, 8, 8])\n",
            "torch.Size([256, 32, 32, 32])\n",
            "torch.Size([256, 32, 16, 16])\n",
            "torch.Size([256, 64, 16, 16])\n",
            "torch.Size([256, 64, 8, 8])\n",
            "torch.Size([256, 128, 8, 8])\n",
            "torch.Size([256, 32, 32, 32])\n",
            "torch.Size([256, 32, 16, 16])\n",
            "torch.Size([256, 64, 16, 16])\n",
            "torch.Size([256, 64, 8, 8])\n",
            "torch.Size([256, 128, 8, 8])\n"
          ],
          "name": "stdout"
        },
        {
          "output_type": "stream",
          "text": [
            "\r 49%|████▉     | 97/196 [00:07<00:07, 13.13it/s]"
          ],
          "name": "stderr"
        },
        {
          "output_type": "stream",
          "text": [
            "torch.Size([256, 32, 32, 32])\n",
            "torch.Size([256, 32, 16, 16])\n",
            "torch.Size([256, 64, 16, 16])\n",
            "torch.Size([256, 64, 8, 8])\n",
            "torch.Size([256, 128, 8, 8])\n",
            "torch.Size([256, 32, 32, 32])\n",
            "torch.Size([256, 32, 16, 16])\n",
            "torch.Size([256, 64, 16, 16])\n",
            "torch.Size([256, 64, 8, 8])\n",
            "torch.Size([256, 128, 8, 8])\n",
            "torch.Size([256, 32, 32, 32])\n",
            "torch.Size([256, 32, 16, 16])\n",
            "torch.Size([256, 64, 16, 16])\n",
            "torch.Size([256, 64, 8, 8])\n",
            "torch.Size([256, 128, 8, 8])\n"
          ],
          "name": "stdout"
        },
        {
          "output_type": "stream",
          "text": [
            " 52%|█████▏    | 101/196 [00:07<00:07, 13.21it/s]"
          ],
          "name": "stderr"
        },
        {
          "output_type": "stream",
          "text": [
            "torch.Size([256, 32, 32, 32])\n",
            "torch.Size([256, 32, 16, 16])\n",
            "torch.Size([256, 64, 16, 16])\n",
            "torch.Size([256, 64, 8, 8])\n",
            "torch.Size([256, 128, 8, 8])\n",
            "torch.Size([256, 32, 32, 32])\n",
            "torch.Size([256, 32, 16, 16])\n",
            "torch.Size([256, 64, 16, 16])\n",
            "torch.Size([256, 64, 8, 8])\n",
            "torch.Size([256, 128, 8, 8])\n",
            "torch.Size([256, 32, 32, 32])\n",
            "torch.Size([256, 32, 16, 16])\n",
            "torch.Size([256, 64, 16, 16])\n",
            "torch.Size([256, 64, 8, 8])\n",
            "torch.Size([256, 128, 8, 8])\n"
          ],
          "name": "stdout"
        },
        {
          "output_type": "stream",
          "text": [
            "\r 53%|█████▎    | 103/196 [00:08<00:07, 13.19it/s]"
          ],
          "name": "stderr"
        },
        {
          "output_type": "stream",
          "text": [
            "torch.Size([256, 32, 32, 32])\n",
            "torch.Size([256, 32, 16, 16])\n",
            "torch.Size([256, 64, 16, 16])\n",
            "torch.Size([256, 64, 8, 8])\n",
            "torch.Size([256, 128, 8, 8])\n",
            "torch.Size([256, 32, 32, 32])\n",
            "torch.Size([256, 32, 16, 16])\n",
            "torch.Size([256, 64, 16, 16])\n",
            "torch.Size([256, 64, 8, 8])\n",
            "torch.Size([256, 128, 8, 8])\n",
            "torch.Size([256, 32, 32, 32])\n",
            "torch.Size([256, 32, 16, 16])\n",
            "torch.Size([256, 64, 16, 16])\n",
            "torch.Size([256, 64, 8, 8])\n",
            "torch.Size([256, 128, 8, 8])\n"
          ],
          "name": "stdout"
        },
        {
          "output_type": "stream",
          "text": [
            " 55%|█████▍    | 107/196 [00:08<00:06, 13.45it/s]"
          ],
          "name": "stderr"
        },
        {
          "output_type": "stream",
          "text": [
            "torch.Size([256, 32, 32, 32])\n",
            "torch.Size([256, 32, 16, 16])\n",
            "torch.Size([256, 64, 16, 16])\n",
            "torch.Size([256, 64, 8, 8])\n",
            "torch.Size([256, 128, 8, 8])\n",
            "torch.Size([256, 32, 32, 32])\n",
            "torch.Size([256, 32, 16, 16])\n",
            "torch.Size([256, 64, 16, 16])\n",
            "torch.Size([256, 64, 8, 8])\n",
            "torch.Size([256, 128, 8, 8])\n",
            "torch.Size([256, 32, 32, 32])\n",
            "torch.Size([256, 32, 16, 16])\n",
            "torch.Size([256, 64, 16, 16])\n",
            "torch.Size([256, 64, 8, 8])\n",
            "torch.Size([256, 128, 8, 8])\n"
          ],
          "name": "stdout"
        },
        {
          "output_type": "stream",
          "text": [
            "\r 56%|█████▌    | 109/196 [00:08<00:06, 13.34it/s]"
          ],
          "name": "stderr"
        },
        {
          "output_type": "stream",
          "text": [
            "torch.Size([256, 32, 32, 32])\n",
            "torch.Size([256, 32, 16, 16])\n",
            "torch.Size([256, 64, 16, 16])\n",
            "torch.Size([256, 64, 8, 8])\n",
            "torch.Size([256, 128, 8, 8])\n",
            "torch.Size([256, 32, 32, 32])\n",
            "torch.Size([256, 32, 16, 16])\n",
            "torch.Size([256, 64, 16, 16])\n",
            "torch.Size([256, 64, 8, 8])\n",
            "torch.Size([256, 128, 8, 8])\n",
            "torch.Size([256, 32, 32, 32])\n",
            "torch.Size([256, 32, 16, 16])\n",
            "torch.Size([256, 64, 16, 16])\n",
            "torch.Size([256, 64, 8, 8])\n",
            "torch.Size([256, 128, 8, 8])\n"
          ],
          "name": "stdout"
        },
        {
          "output_type": "stream",
          "text": [
            " 58%|█████▊    | 113/196 [00:08<00:06, 13.33it/s]"
          ],
          "name": "stderr"
        },
        {
          "output_type": "stream",
          "text": [
            "torch.Size([256, 32, 32, 32])\n",
            "torch.Size([256, 32, 16, 16])\n",
            "torch.Size([256, 64, 16, 16])\n",
            "torch.Size([256, 64, 8, 8])\n",
            "torch.Size([256, 128, 8, 8])\n",
            "torch.Size([256, 32, 32, 32])\n",
            "torch.Size([256, 32, 16, 16])\n",
            "torch.Size([256, 64, 16, 16])\n",
            "torch.Size([256, 64, 8, 8])\n",
            "torch.Size([256, 128, 8, 8])\n",
            "torch.Size([256, 32, 32, 32])\n",
            "torch.Size([256, 32, 16, 16])\n",
            "torch.Size([256, 64, 16, 16])\n",
            "torch.Size([256, 64, 8, 8])\n",
            "torch.Size([256, 128, 8, 8])\n"
          ],
          "name": "stdout"
        },
        {
          "output_type": "stream",
          "text": [
            "\r 59%|█████▊    | 115/196 [00:08<00:06, 13.38it/s]"
          ],
          "name": "stderr"
        },
        {
          "output_type": "stream",
          "text": [
            "torch.Size([256, 32, 32, 32])\n",
            "torch.Size([256, 32, 16, 16])\n",
            "torch.Size([256, 64, 16, 16])\n",
            "torch.Size([256, 64, 8, 8])\n",
            "torch.Size([256, 128, 8, 8])\n",
            "torch.Size([256, 32, 32, 32])\n",
            "torch.Size([256, 32, 16, 16])\n",
            "torch.Size([256, 64, 16, 16])\n",
            "torch.Size([256, 64, 8, 8])\n",
            "torch.Size([256, 128, 8, 8])\n",
            "torch.Size([256, 32, 32, 32])\n",
            "torch.Size([256, 32, 16, 16])\n",
            "torch.Size([256, 64, 16, 16])\n",
            "torch.Size([256, 64, 8, 8])\n",
            "torch.Size([256, 128, 8, 8])\n"
          ],
          "name": "stdout"
        },
        {
          "output_type": "stream",
          "text": [
            " 61%|██████    | 119/196 [00:09<00:05, 13.42it/s]"
          ],
          "name": "stderr"
        },
        {
          "output_type": "stream",
          "text": [
            "torch.Size([256, 32, 32, 32])\n",
            "torch.Size([256, 32, 16, 16])\n",
            "torch.Size([256, 64, 16, 16])\n",
            "torch.Size([256, 64, 8, 8])\n",
            "torch.Size([256, 128, 8, 8])\n",
            "torch.Size([256, 32, 32, 32])\n",
            "torch.Size([256, 32, 16, 16])\n",
            "torch.Size([256, 64, 16, 16])\n",
            "torch.Size([256, 64, 8, 8])\n",
            "torch.Size([256, 128, 8, 8])\n",
            "torch.Size([256, 32, 32, 32])\n",
            "torch.Size([256, 32, 16, 16])\n",
            "torch.Size([256, 64, 16, 16])\n",
            "torch.Size([256, 64, 8, 8])\n",
            "torch.Size([256, 128, 8, 8])\n"
          ],
          "name": "stdout"
        },
        {
          "output_type": "stream",
          "text": [
            "\r 62%|██████▏   | 121/196 [00:09<00:05, 13.09it/s]"
          ],
          "name": "stderr"
        },
        {
          "output_type": "stream",
          "text": [
            "torch.Size([256, 32, 32, 32])\n",
            "torch.Size([256, 32, 16, 16])\n",
            "torch.Size([256, 64, 16, 16])\n",
            "torch.Size([256, 64, 8, 8])\n",
            "torch.Size([256, 128, 8, 8])\n",
            "torch.Size([256, 32, 32, 32])\n",
            "torch.Size([256, 32, 16, 16])\n",
            "torch.Size([256, 64, 16, 16])\n",
            "torch.Size([256, 64, 8, 8])\n",
            "torch.Size([256, 128, 8, 8])\n",
            "torch.Size([256, 32, 32, 32])\n",
            "torch.Size([256, 32, 16, 16])\n",
            "torch.Size([256, 64, 16, 16])\n",
            "torch.Size([256, 64, 8, 8])\n",
            "torch.Size([256, 128, 8, 8])\n"
          ],
          "name": "stdout"
        },
        {
          "output_type": "stream",
          "text": [
            " 64%|██████▍   | 125/196 [00:09<00:05, 13.71it/s]"
          ],
          "name": "stderr"
        },
        {
          "output_type": "stream",
          "text": [
            "torch.Size([256, 32, 32, 32])\n",
            "torch.Size([256, 32, 16, 16])\n",
            "torch.Size([256, 64, 16, 16])\n",
            "torch.Size([256, 64, 8, 8])\n",
            "torch.Size([256, 128, 8, 8])\n",
            "torch.Size([256, 32, 32, 32])\n",
            "torch.Size([256, 32, 16, 16])\n",
            "torch.Size([256, 64, 16, 16])\n",
            "torch.Size([256, 64, 8, 8])\n",
            "torch.Size([256, 128, 8, 8])\n",
            "torch.Size([256, 32, 32, 32])\n",
            "torch.Size([256, 32, 16, 16])\n",
            "torch.Size([256, 64, 16, 16])\n",
            "torch.Size([256, 64, 8, 8])\n",
            "torch.Size([256, 128, 8, 8])\n"
          ],
          "name": "stdout"
        },
        {
          "output_type": "stream",
          "text": [
            "\r 65%|██████▍   | 127/196 [00:09<00:05, 13.50it/s]"
          ],
          "name": "stderr"
        },
        {
          "output_type": "stream",
          "text": [
            "torch.Size([256, 32, 32, 32])\n",
            "torch.Size([256, 32, 16, 16])\n",
            "torch.Size([256, 64, 16, 16])\n",
            "torch.Size([256, 64, 8, 8])\n",
            "torch.Size([256, 128, 8, 8])\n",
            "torch.Size([256, 32, 32, 32])\n",
            "torch.Size([256, 32, 16, 16])\n",
            "torch.Size([256, 64, 16, 16])\n",
            "torch.Size([256, 64, 8, 8])\n",
            "torch.Size([256, 128, 8, 8])\n",
            "torch.Size([256, 32, 32, 32])\n",
            "torch.Size([256, 32, 16, 16])\n",
            "torch.Size([256, 64, 16, 16])\n",
            "torch.Size([256, 64, 8, 8])\n",
            "torch.Size([256, 128, 8, 8])\n"
          ],
          "name": "stdout"
        },
        {
          "output_type": "stream",
          "text": [
            " 67%|██████▋   | 131/196 [00:10<00:04, 13.44it/s]"
          ],
          "name": "stderr"
        },
        {
          "output_type": "stream",
          "text": [
            "torch.Size([256, 32, 32, 32])\n",
            "torch.Size([256, 32, 16, 16])\n",
            "torch.Size([256, 64, 16, 16])\n",
            "torch.Size([256, 64, 8, 8])\n",
            "torch.Size([256, 128, 8, 8])\n",
            "torch.Size([256, 32, 32, 32])\n",
            "torch.Size([256, 32, 16, 16])\n",
            "torch.Size([256, 64, 16, 16])\n",
            "torch.Size([256, 64, 8, 8])\n",
            "torch.Size([256, 128, 8, 8])\n",
            "torch.Size([256, 32, 32, 32])\n",
            "torch.Size([256, 32, 16, 16])\n",
            "torch.Size([256, 64, 16, 16])\n",
            "torch.Size([256, 64, 8, 8])\n",
            "torch.Size([256, 128, 8, 8])\n"
          ],
          "name": "stdout"
        },
        {
          "output_type": "stream",
          "text": [
            "\r 68%|██████▊   | 133/196 [00:10<00:04, 13.69it/s]"
          ],
          "name": "stderr"
        },
        {
          "output_type": "stream",
          "text": [
            "torch.Size([256, 32, 32, 32])\n",
            "torch.Size([256, 32, 16, 16])\n",
            "torch.Size([256, 64, 16, 16])\n",
            "torch.Size([256, 64, 8, 8])\n",
            "torch.Size([256, 128, 8, 8])\n",
            "torch.Size([256, 32, 32, 32])\n",
            "torch.Size([256, 32, 16, 16])\n",
            "torch.Size([256, 64, 16, 16])\n",
            "torch.Size([256, 64, 8, 8])\n",
            "torch.Size([256, 128, 8, 8])\n",
            "torch.Size([256, 32, 32, 32])\n",
            "torch.Size([256, 32, 16, 16])\n",
            "torch.Size([256, 64, 16, 16])\n",
            "torch.Size([256, 64, 8, 8])\n",
            "torch.Size([256, 128, 8, 8])\n"
          ],
          "name": "stdout"
        },
        {
          "output_type": "stream",
          "text": [
            " 70%|██████▉   | 137/196 [00:10<00:04, 12.95it/s]"
          ],
          "name": "stderr"
        },
        {
          "output_type": "stream",
          "text": [
            "torch.Size([256, 32, 32, 32])\n",
            "torch.Size([256, 32, 16, 16])\n",
            "torch.Size([256, 64, 16, 16])\n",
            "torch.Size([256, 64, 8, 8])\n",
            "torch.Size([256, 128, 8, 8])\n",
            "torch.Size([256, 32, 32, 32])\n",
            "torch.Size([256, 32, 16, 16])\n",
            "torch.Size([256, 64, 16, 16])\n",
            "torch.Size([256, 64, 8, 8])\n",
            "torch.Size([256, 128, 8, 8])\n",
            "torch.Size([256, 32, 32, 32])\n",
            "torch.Size([256, 32, 16, 16])\n",
            "torch.Size([256, 64, 16, 16])\n",
            "torch.Size([256, 64, 8, 8])\n",
            "torch.Size([256, 128, 8, 8])\n"
          ],
          "name": "stdout"
        },
        {
          "output_type": "stream",
          "text": [
            "\r 71%|███████   | 139/196 [00:10<00:04, 13.32it/s]"
          ],
          "name": "stderr"
        },
        {
          "output_type": "stream",
          "text": [
            "torch.Size([256, 32, 32, 32])\n",
            "torch.Size([256, 32, 16, 16])\n",
            "torch.Size([256, 64, 16, 16])\n",
            "torch.Size([256, 64, 8, 8])\n",
            "torch.Size([256, 128, 8, 8])\n",
            "torch.Size([256, 32, 32, 32])\n",
            "torch.Size([256, 32, 16, 16])\n",
            "torch.Size([256, 64, 16, 16])\n",
            "torch.Size([256, 64, 8, 8])\n",
            "torch.Size([256, 128, 8, 8])\n",
            "torch.Size([256, 32, 32, 32])\n",
            "torch.Size([256, 32, 16, 16])\n",
            "torch.Size([256, 64, 16, 16])\n",
            "torch.Size([256, 64, 8, 8])\n",
            "torch.Size([256, 128, 8, 8])\n"
          ],
          "name": "stdout"
        },
        {
          "output_type": "stream",
          "text": [
            " 73%|███████▎  | 143/196 [00:11<00:03, 13.47it/s]"
          ],
          "name": "stderr"
        },
        {
          "output_type": "stream",
          "text": [
            "torch.Size([256, 32, 32, 32])\n",
            "torch.Size([256, 32, 16, 16])\n",
            "torch.Size([256, 64, 16, 16])\n",
            "torch.Size([256, 64, 8, 8])\n",
            "torch.Size([256, 128, 8, 8])\n",
            "torch.Size([256, 32, 32, 32])\n",
            "torch.Size([256, 32, 16, 16])\n",
            "torch.Size([256, 64, 16, 16])\n",
            "torch.Size([256, 64, 8, 8])\n",
            "torch.Size([256, 128, 8, 8])\n",
            "torch.Size([256, 32, 32, 32])\n",
            "torch.Size([256, 32, 16, 16])\n",
            "torch.Size([256, 64, 16, 16])\n",
            "torch.Size([256, 64, 8, 8])\n",
            "torch.Size([256, 128, 8, 8])\n"
          ],
          "name": "stdout"
        },
        {
          "output_type": "stream",
          "text": [
            "\r 74%|███████▍  | 145/196 [00:11<00:03, 13.59it/s]"
          ],
          "name": "stderr"
        },
        {
          "output_type": "stream",
          "text": [
            "torch.Size([256, 32, 32, 32])\n",
            "torch.Size([256, 32, 16, 16])\n",
            "torch.Size([256, 64, 16, 16])\n",
            "torch.Size([256, 64, 8, 8])\n",
            "torch.Size([256, 128, 8, 8])\n",
            "torch.Size([256, 32, 32, 32])\n",
            "torch.Size([256, 32, 16, 16])\n",
            "torch.Size([256, 64, 16, 16])\n",
            "torch.Size([256, 64, 8, 8])\n",
            "torch.Size([256, 128, 8, 8])\n",
            "torch.Size([256, 32, 32, 32])\n",
            "torch.Size([256, 32, 16, 16])\n",
            "torch.Size([256, 64, 16, 16])\n",
            "torch.Size([256, 64, 8, 8])\n",
            "torch.Size([256, 128, 8, 8])\n"
          ],
          "name": "stdout"
        },
        {
          "output_type": "stream",
          "text": [
            " 76%|███████▌  | 149/196 [00:11<00:03, 13.62it/s]"
          ],
          "name": "stderr"
        },
        {
          "output_type": "stream",
          "text": [
            "torch.Size([256, 32, 32, 32])\n",
            "torch.Size([256, 32, 16, 16])\n",
            "torch.Size([256, 64, 16, 16])\n",
            "torch.Size([256, 64, 8, 8])\n",
            "torch.Size([256, 128, 8, 8])\n",
            "torch.Size([256, 32, 32, 32])\n",
            "torch.Size([256, 32, 16, 16])\n",
            "torch.Size([256, 64, 16, 16])\n",
            "torch.Size([256, 64, 8, 8])\n",
            "torch.Size([256, 128, 8, 8])\n",
            "torch.Size([256, 32, 32, 32])\n",
            "torch.Size([256, 32, 16, 16])\n",
            "torch.Size([256, 64, 16, 16])\n",
            "torch.Size([256, 64, 8, 8])\n",
            "torch.Size([256, 128, 8, 8])\n"
          ],
          "name": "stdout"
        },
        {
          "output_type": "stream",
          "text": [
            "\r 77%|███████▋  | 151/196 [00:11<00:03, 13.50it/s]"
          ],
          "name": "stderr"
        },
        {
          "output_type": "stream",
          "text": [
            "torch.Size([256, 32, 32, 32])\n",
            "torch.Size([256, 32, 16, 16])\n",
            "torch.Size([256, 64, 16, 16])\n",
            "torch.Size([256, 64, 8, 8])\n",
            "torch.Size([256, 128, 8, 8])\n",
            "torch.Size([256, 32, 32, 32])\n",
            "torch.Size([256, 32, 16, 16])\n",
            "torch.Size([256, 64, 16, 16])\n",
            "torch.Size([256, 64, 8, 8])\n",
            "torch.Size([256, 128, 8, 8])\n",
            "torch.Size([256, 32, 32, 32])\n",
            "torch.Size([256, 32, 16, 16])\n",
            "torch.Size([256, 64, 16, 16])\n",
            "torch.Size([256, 64, 8, 8])\n",
            "torch.Size([256, 128, 8, 8])\n"
          ],
          "name": "stdout"
        },
        {
          "output_type": "stream",
          "text": [
            " 79%|███████▉  | 155/196 [00:11<00:02, 13.87it/s]"
          ],
          "name": "stderr"
        },
        {
          "output_type": "stream",
          "text": [
            "torch.Size([256, 32, 32, 32])\n",
            "torch.Size([256, 32, 16, 16])\n",
            "torch.Size([256, 64, 16, 16])\n",
            "torch.Size([256, 64, 8, 8])\n",
            "torch.Size([256, 128, 8, 8])\n",
            "torch.Size([256, 32, 32, 32])\n",
            "torch.Size([256, 32, 16, 16])\n",
            "torch.Size([256, 64, 16, 16])\n",
            "torch.Size([256, 64, 8, 8])\n",
            "torch.Size([256, 128, 8, 8])\n",
            "torch.Size([256, 32, 32, 32])\n",
            "torch.Size([256, 32, 16, 16])\n",
            "torch.Size([256, 64, 16, 16])\n",
            "torch.Size([256, 64, 8, 8])\n",
            "torch.Size([256, 128, 8, 8])\n"
          ],
          "name": "stdout"
        },
        {
          "output_type": "stream",
          "text": [
            "\r 80%|████████  | 157/196 [00:12<00:02, 13.79it/s]"
          ],
          "name": "stderr"
        },
        {
          "output_type": "stream",
          "text": [
            "torch.Size([256, 32, 32, 32])\n",
            "torch.Size([256, 32, 16, 16])\n",
            "torch.Size([256, 64, 16, 16])\n",
            "torch.Size([256, 64, 8, 8])\n",
            "torch.Size([256, 128, 8, 8])\n",
            "torch.Size([256, 32, 32, 32])\n",
            "torch.Size([256, 32, 16, 16])\n",
            "torch.Size([256, 64, 16, 16])\n",
            "torch.Size([256, 64, 8, 8])\n",
            "torch.Size([256, 128, 8, 8])\n",
            "torch.Size([256, 32, 32, 32])\n",
            "torch.Size([256, 32, 16, 16])\n",
            "torch.Size([256, 64, 16, 16])\n",
            "torch.Size([256, 64, 8, 8])\n",
            "torch.Size([256, 128, 8, 8])\n"
          ],
          "name": "stdout"
        },
        {
          "output_type": "stream",
          "text": [
            " 82%|████████▏ | 161/196 [00:12<00:02, 13.87it/s]"
          ],
          "name": "stderr"
        },
        {
          "output_type": "stream",
          "text": [
            "torch.Size([256, 32, 32, 32])\n",
            "torch.Size([256, 32, 16, 16])\n",
            "torch.Size([256, 64, 16, 16])\n",
            "torch.Size([256, 64, 8, 8])\n",
            "torch.Size([256, 128, 8, 8])\n",
            "torch.Size([256, 32, 32, 32])\n",
            "torch.Size([256, 32, 16, 16])\n",
            "torch.Size([256, 64, 16, 16])\n",
            "torch.Size([256, 64, 8, 8])\n",
            "torch.Size([256, 128, 8, 8])\n",
            "torch.Size([256, 32, 32, 32])\n",
            "torch.Size([256, 32, 16, 16])\n",
            "torch.Size([256, 64, 16, 16])\n",
            "torch.Size([256, 64, 8, 8])\n",
            "torch.Size([256, 128, 8, 8])\n"
          ],
          "name": "stdout"
        },
        {
          "output_type": "stream",
          "text": [
            "\r 83%|████████▎ | 163/196 [00:12<00:02, 13.89it/s]"
          ],
          "name": "stderr"
        },
        {
          "output_type": "stream",
          "text": [
            "torch.Size([256, 32, 32, 32])\n",
            "torch.Size([256, 32, 16, 16])\n",
            "torch.Size([256, 64, 16, 16])\n",
            "torch.Size([256, 64, 8, 8])\n",
            "torch.Size([256, 128, 8, 8])\n",
            "torch.Size([256, 32, 32, 32])\n",
            "torch.Size([256, 32, 16, 16])\n",
            "torch.Size([256, 64, 16, 16])\n",
            "torch.Size([256, 64, 8, 8])\n",
            "torch.Size([256, 128, 8, 8])\n",
            "torch.Size([256, 32, 32, 32])\n",
            "torch.Size([256, 32, 16, 16])\n",
            "torch.Size([256, 64, 16, 16])\n",
            "torch.Size([256, 64, 8, 8])\n",
            "torch.Size([256, 128, 8, 8])\n"
          ],
          "name": "stdout"
        },
        {
          "output_type": "stream",
          "text": [
            " 85%|████████▌ | 167/196 [00:12<00:02, 13.87it/s]"
          ],
          "name": "stderr"
        },
        {
          "output_type": "stream",
          "text": [
            "torch.Size([256, 32, 32, 32])\n",
            "torch.Size([256, 32, 16, 16])\n",
            "torch.Size([256, 64, 16, 16])\n",
            "torch.Size([256, 64, 8, 8])\n",
            "torch.Size([256, 128, 8, 8])\n",
            "torch.Size([256, 32, 32, 32])\n",
            "torch.Size([256, 32, 16, 16])\n",
            "torch.Size([256, 64, 16, 16])\n",
            "torch.Size([256, 64, 8, 8])\n",
            "torch.Size([256, 128, 8, 8])\n",
            "torch.Size([256, 32, 32, 32])\n",
            "torch.Size([256, 32, 16, 16])\n",
            "torch.Size([256, 64, 16, 16])\n",
            "torch.Size([256, 64, 8, 8])\n",
            "torch.Size([256, 128, 8, 8])\n"
          ],
          "name": "stdout"
        },
        {
          "output_type": "stream",
          "text": [
            "\r 86%|████████▌ | 169/196 [00:12<00:01, 13.55it/s]"
          ],
          "name": "stderr"
        },
        {
          "output_type": "stream",
          "text": [
            "torch.Size([256, 32, 32, 32])\n",
            "torch.Size([256, 32, 16, 16])\n",
            "torch.Size([256, 64, 16, 16])\n",
            "torch.Size([256, 64, 8, 8])\n",
            "torch.Size([256, 128, 8, 8])\n",
            "torch.Size([256, 32, 32, 32])\n",
            "torch.Size([256, 32, 16, 16])\n",
            "torch.Size([256, 64, 16, 16])\n",
            "torch.Size([256, 64, 8, 8])\n",
            "torch.Size([256, 128, 8, 8])\n",
            "torch.Size([256, 32, 32, 32])\n",
            "torch.Size([256, 32, 16, 16])\n",
            "torch.Size([256, 64, 16, 16])\n",
            "torch.Size([256, 64, 8, 8])\n",
            "torch.Size([256, 128, 8, 8])\n"
          ],
          "name": "stdout"
        },
        {
          "output_type": "stream",
          "text": [
            " 88%|████████▊ | 173/196 [00:13<00:01, 13.52it/s]"
          ],
          "name": "stderr"
        },
        {
          "output_type": "stream",
          "text": [
            "torch.Size([256, 32, 32, 32])\n",
            "torch.Size([256, 32, 16, 16])\n",
            "torch.Size([256, 64, 16, 16])\n",
            "torch.Size([256, 64, 8, 8])\n",
            "torch.Size([256, 128, 8, 8])\n",
            "torch.Size([256, 32, 32, 32])\n",
            "torch.Size([256, 32, 16, 16])\n",
            "torch.Size([256, 64, 16, 16])\n",
            "torch.Size([256, 64, 8, 8])\n",
            "torch.Size([256, 128, 8, 8])\n",
            "torch.Size([256, 32, 32, 32])\n",
            "torch.Size([256, 32, 16, 16])\n",
            "torch.Size([256, 64, 16, 16])\n",
            "torch.Size([256, 64, 8, 8])\n",
            "torch.Size([256, 128, 8, 8])\n"
          ],
          "name": "stdout"
        },
        {
          "output_type": "stream",
          "text": [
            "\r 89%|████████▉ | 175/196 [00:13<00:01, 13.38it/s]"
          ],
          "name": "stderr"
        },
        {
          "output_type": "stream",
          "text": [
            "torch.Size([256, 32, 32, 32])\n",
            "torch.Size([256, 32, 16, 16])\n",
            "torch.Size([256, 64, 16, 16])\n",
            "torch.Size([256, 64, 8, 8])\n",
            "torch.Size([256, 128, 8, 8])\n",
            "torch.Size([256, 32, 32, 32])\n",
            "torch.Size([256, 32, 16, 16])\n",
            "torch.Size([256, 64, 16, 16])\n",
            "torch.Size([256, 64, 8, 8])\n",
            "torch.Size([256, 128, 8, 8])\n",
            "torch.Size([256, 32, 32, 32])\n",
            "torch.Size([256, 32, 16, 16])\n",
            "torch.Size([256, 64, 16, 16])\n",
            "torch.Size([256, 64, 8, 8])\n",
            "torch.Size([256, 128, 8, 8])\n"
          ],
          "name": "stdout"
        },
        {
          "output_type": "stream",
          "text": [
            " 91%|█████████▏| 179/196 [00:13<00:01, 13.34it/s]"
          ],
          "name": "stderr"
        },
        {
          "output_type": "stream",
          "text": [
            "torch.Size([256, 32, 32, 32])\n",
            "torch.Size([256, 32, 16, 16])\n",
            "torch.Size([256, 64, 16, 16])\n",
            "torch.Size([256, 64, 8, 8])\n",
            "torch.Size([256, 128, 8, 8])\n",
            "torch.Size([256, 32, 32, 32])\n",
            "torch.Size([256, 32, 16, 16])\n",
            "torch.Size([256, 64, 16, 16])\n",
            "torch.Size([256, 64, 8, 8])\n",
            "torch.Size([256, 128, 8, 8])\n",
            "torch.Size([256, 32, 32, 32])\n",
            "torch.Size([256, 32, 16, 16])\n",
            "torch.Size([256, 64, 16, 16])\n",
            "torch.Size([256, 64, 8, 8])\n",
            "torch.Size([256, 128, 8, 8])\n"
          ],
          "name": "stdout"
        },
        {
          "output_type": "stream",
          "text": [
            "\r 92%|█████████▏| 181/196 [00:13<00:01, 13.34it/s]"
          ],
          "name": "stderr"
        },
        {
          "output_type": "stream",
          "text": [
            "torch.Size([256, 32, 32, 32])\n",
            "torch.Size([256, 32, 16, 16])\n",
            "torch.Size([256, 64, 16, 16])\n",
            "torch.Size([256, 64, 8, 8])\n",
            "torch.Size([256, 128, 8, 8])\n",
            "torch.Size([256, 32, 32, 32])\n",
            "torch.Size([256, 32, 16, 16])\n",
            "torch.Size([256, 64, 16, 16])\n",
            "torch.Size([256, 64, 8, 8])\n",
            "torch.Size([256, 128, 8, 8])\n",
            "torch.Size([256, 32, 32, 32])\n",
            "torch.Size([256, 32, 16, 16])\n",
            "torch.Size([256, 64, 16, 16])\n",
            "torch.Size([256, 64, 8, 8])\n",
            "torch.Size([256, 128, 8, 8])\n"
          ],
          "name": "stdout"
        },
        {
          "output_type": "stream",
          "text": [
            " 94%|█████████▍| 185/196 [00:14<00:00, 13.50it/s]"
          ],
          "name": "stderr"
        },
        {
          "output_type": "stream",
          "text": [
            "torch.Size([256, 32, 32, 32])\n",
            "torch.Size([256, 32, 16, 16])\n",
            "torch.Size([256, 64, 16, 16])\n",
            "torch.Size([256, 64, 8, 8])\n",
            "torch.Size([256, 128, 8, 8])\n",
            "torch.Size([256, 32, 32, 32])\n",
            "torch.Size([256, 32, 16, 16])\n",
            "torch.Size([256, 64, 16, 16])\n",
            "torch.Size([256, 64, 8, 8])\n",
            "torch.Size([256, 128, 8, 8])\n",
            "torch.Size([256, 32, 32, 32])\n",
            "torch.Size([256, 32, 16, 16])\n",
            "torch.Size([256, 64, 16, 16])\n",
            "torch.Size([256, 64, 8, 8])\n",
            "torch.Size([256, 128, 8, 8])\n"
          ],
          "name": "stdout"
        },
        {
          "output_type": "stream",
          "text": [
            "\r 95%|█████████▌| 187/196 [00:14<00:00, 13.72it/s]"
          ],
          "name": "stderr"
        },
        {
          "output_type": "stream",
          "text": [
            "torch.Size([256, 32, 32, 32])\n",
            "torch.Size([256, 32, 16, 16])\n",
            "torch.Size([256, 64, 16, 16])\n",
            "torch.Size([256, 64, 8, 8])\n",
            "torch.Size([256, 128, 8, 8])\n",
            "torch.Size([256, 32, 32, 32])\n",
            "torch.Size([256, 32, 16, 16])\n",
            "torch.Size([256, 64, 16, 16])\n",
            "torch.Size([256, 64, 8, 8])\n",
            "torch.Size([256, 128, 8, 8])\n",
            "torch.Size([256, 32, 32, 32])\n",
            "torch.Size([256, 32, 16, 16])\n",
            "torch.Size([256, 64, 16, 16])\n",
            "torch.Size([256, 64, 8, 8])\n",
            "torch.Size([256, 128, 8, 8])\n"
          ],
          "name": "stdout"
        },
        {
          "output_type": "stream",
          "text": [
            " 97%|█████████▋| 191/196 [00:14<00:00, 14.18it/s]"
          ],
          "name": "stderr"
        },
        {
          "output_type": "stream",
          "text": [
            "torch.Size([256, 32, 32, 32])\n",
            "torch.Size([256, 32, 16, 16])\n",
            "torch.Size([256, 64, 16, 16])\n",
            "torch.Size([256, 64, 8, 8])\n",
            "torch.Size([256, 128, 8, 8])\n",
            "torch.Size([256, 32, 32, 32])\n",
            "torch.Size([256, 32, 16, 16])\n",
            "torch.Size([256, 64, 16, 16])\n",
            "torch.Size([256, 64, 8, 8])\n",
            "torch.Size([256, 128, 8, 8])\n",
            "torch.Size([256, 32, 32, 32])\n",
            "torch.Size([256, 32, 16, 16])\n",
            "torch.Size([256, 64, 16, 16])\n",
            "torch.Size([256, 64, 8, 8])\n",
            "torch.Size([256, 128, 8, 8])\n"
          ],
          "name": "stdout"
        },
        {
          "output_type": "stream",
          "text": [
            "\r 98%|█████████▊| 193/196 [00:14<00:00, 14.34it/s]"
          ],
          "name": "stderr"
        },
        {
          "output_type": "stream",
          "text": [
            "torch.Size([256, 32, 32, 32])\n",
            "torch.Size([256, 32, 16, 16])\n",
            "torch.Size([256, 64, 16, 16])\n",
            "torch.Size([256, 64, 8, 8])\n",
            "torch.Size([256, 128, 8, 8])\n",
            "torch.Size([256, 32, 32, 32])\n",
            "torch.Size([256, 32, 16, 16])\n",
            "torch.Size([256, 64, 16, 16])\n",
            "torch.Size([256, 64, 8, 8])\n",
            "torch.Size([256, 128, 8, 8])\n",
            "torch.Size([256, 32, 32, 32])\n",
            "torch.Size([256, 32, 16, 16])\n",
            "torch.Size([256, 64, 16, 16])\n",
            "torch.Size([256, 64, 8, 8])\n",
            "torch.Size([256, 128, 8, 8])\n"
          ],
          "name": "stdout"
        },
        {
          "output_type": "stream",
          "text": [
            "100%|██████████| 196/196 [00:14<00:00, 13.13it/s]"
          ],
          "name": "stderr"
        },
        {
          "output_type": "stream",
          "text": [
            "torch.Size([80, 32, 32, 32])\n",
            "torch.Size([80, 32, 16, 16])\n",
            "torch.Size([80, 64, 16, 16])\n",
            "torch.Size([80, 64, 8, 8])\n",
            "torch.Size([80, 128, 8, 8])\n"
          ],
          "name": "stdout"
        },
        {
          "output_type": "stream",
          "text": [
            "\n"
          ],
          "name": "stderr"
        },
        {
          "output_type": "stream",
          "text": [
            "torch.Size([256, 32, 32, 32])\n",
            "torch.Size([256, 32, 16, 16])\n",
            "torch.Size([256, 64, 16, 16])\n",
            "torch.Size([256, 64, 8, 8])\n",
            "torch.Size([256, 128, 8, 8])\n",
            "torch.Size([256, 32, 32, 32])\n",
            "torch.Size([256, 32, 16, 16])\n",
            "torch.Size([256, 64, 16, 16])\n",
            "torch.Size([256, 64, 8, 8])\n",
            "torch.Size([256, 128, 8, 8])\n",
            "torch.Size([256, 32, 32, 32])\n",
            "torch.Size([256, 32, 16, 16])\n",
            "torch.Size([256, 64, 16, 16])\n",
            "torch.Size([256, 64, 8, 8])\n",
            "torch.Size([256, 128, 8, 8])\n",
            "torch.Size([256, 32, 32, 32])\n",
            "torch.Size([256, 32, 16, 16])\n",
            "torch.Size([256, 64, 16, 16])\n",
            "torch.Size([256, 64, 8, 8])\n",
            "torch.Size([256, 128, 8, 8])\n",
            "torch.Size([256, 32, 32, 32])\n",
            "torch.Size([256, 32, 16, 16])\n",
            "torch.Size([256, 64, 16, 16])\n",
            "torch.Size([256, 64, 8, 8])\n",
            "torch.Size([256, 128, 8, 8])\n",
            "torch.Size([256, 32, 32, 32])\n",
            "torch.Size([256, 32, 16, 16])\n",
            "torch.Size([256, 64, 16, 16])\n",
            "torch.Size([256, 64, 8, 8])\n",
            "torch.Size([256, 128, 8, 8])\n",
            "torch.Size([256, 32, 32, 32])\n",
            "torch.Size([256, 32, 16, 16])\n",
            "torch.Size([256, 64, 16, 16])\n",
            "torch.Size([256, 64, 8, 8])\n",
            "torch.Size([256, 128, 8, 8])\n",
            "torch.Size([256, 32, 32, 32])\n",
            "torch.Size([256, 32, 16, 16])\n",
            "torch.Size([256, 64, 16, 16])\n",
            "torch.Size([256, 64, 8, 8])\n",
            "torch.Size([256, 128, 8, 8])\n",
            "torch.Size([256, 32, 32, 32])\n",
            "torch.Size([256, 32, 16, 16])\n",
            "torch.Size([256, 64, 16, 16])\n",
            "torch.Size([256, 64, 8, 8])\n",
            "torch.Size([256, 128, 8, 8])\n",
            "torch.Size([256, 32, 32, 32])\n",
            "torch.Size([256, 32, 16, 16])\n",
            "torch.Size([256, 64, 16, 16])\n",
            "torch.Size([256, 64, 8, 8])\n",
            "torch.Size([256, 128, 8, 8])\n",
            "torch.Size([256, 32, 32, 32])\n",
            "torch.Size([256, 32, 16, 16])\n",
            "torch.Size([256, 64, 16, 16])\n",
            "torch.Size([256, 64, 8, 8])\n",
            "torch.Size([256, 128, 8, 8])\n",
            "torch.Size([256, 32, 32, 32])\n",
            "torch.Size([256, 32, 16, 16])\n",
            "torch.Size([256, 64, 16, 16])\n",
            "torch.Size([256, 64, 8, 8])\n",
            "torch.Size([256, 128, 8, 8])\n",
            "torch.Size([256, 32, 32, 32])\n",
            "torch.Size([256, 32, 16, 16])\n",
            "torch.Size([256, 64, 16, 16])\n",
            "torch.Size([256, 64, 8, 8])\n",
            "torch.Size([256, 128, 8, 8])\n",
            "torch.Size([256, 32, 32, 32])\n",
            "torch.Size([256, 32, 16, 16])\n",
            "torch.Size([256, 64, 16, 16])\n",
            "torch.Size([256, 64, 8, 8])\n",
            "torch.Size([256, 128, 8, 8])\n",
            "torch.Size([256, 32, 32, 32])\n",
            "torch.Size([256, 32, 16, 16])\n",
            "torch.Size([256, 64, 16, 16])\n",
            "torch.Size([256, 64, 8, 8])\n",
            "torch.Size([256, 128, 8, 8])\n",
            "torch.Size([256, 32, 32, 32])\n",
            "torch.Size([256, 32, 16, 16])\n",
            "torch.Size([256, 64, 16, 16])\n",
            "torch.Size([256, 64, 8, 8])\n",
            "torch.Size([256, 128, 8, 8])\n",
            "torch.Size([256, 32, 32, 32])\n",
            "torch.Size([256, 32, 16, 16])\n",
            "torch.Size([256, 64, 16, 16])\n",
            "torch.Size([256, 64, 8, 8])\n",
            "torch.Size([256, 128, 8, 8])\n",
            "torch.Size([256, 32, 32, 32])\n",
            "torch.Size([256, 32, 16, 16])\n",
            "torch.Size([256, 64, 16, 16])\n",
            "torch.Size([256, 64, 8, 8])\n",
            "torch.Size([256, 128, 8, 8])\n",
            "torch.Size([256, 32, 32, 32])\n",
            "torch.Size([256, 32, 16, 16])\n",
            "torch.Size([256, 64, 16, 16])\n",
            "torch.Size([256, 64, 8, 8])\n",
            "torch.Size([256, 128, 8, 8])\n",
            "torch.Size([256, 32, 32, 32])\n",
            "torch.Size([256, 32, 16, 16])\n",
            "torch.Size([256, 64, 16, 16])\n",
            "torch.Size([256, 64, 8, 8])\n",
            "torch.Size([256, 128, 8, 8])\n",
            "torch.Size([256, 32, 32, 32])\n",
            "torch.Size([256, 32, 16, 16])\n",
            "torch.Size([256, 64, 16, 16])\n",
            "torch.Size([256, 64, 8, 8])\n",
            "torch.Size([256, 128, 8, 8])\n",
            "torch.Size([256, 32, 32, 32])\n",
            "torch.Size([256, 32, 16, 16])\n",
            "torch.Size([256, 64, 16, 16])\n",
            "torch.Size([256, 64, 8, 8])\n",
            "torch.Size([256, 128, 8, 8])\n",
            "torch.Size([256, 32, 32, 32])\n",
            "torch.Size([256, 32, 16, 16])\n",
            "torch.Size([256, 64, 16, 16])\n",
            "torch.Size([256, 64, 8, 8])\n",
            "torch.Size([256, 128, 8, 8])\n",
            "torch.Size([256, 32, 32, 32])\n",
            "torch.Size([256, 32, 16, 16])\n",
            "torch.Size([256, 64, 16, 16])\n",
            "torch.Size([256, 64, 8, 8])\n",
            "torch.Size([256, 128, 8, 8])\n",
            "torch.Size([256, 32, 32, 32])\n",
            "torch.Size([256, 32, 16, 16])\n",
            "torch.Size([256, 64, 16, 16])\n",
            "torch.Size([256, 64, 8, 8])\n",
            "torch.Size([256, 128, 8, 8])\n",
            "torch.Size([256, 32, 32, 32])\n",
            "torch.Size([256, 32, 16, 16])\n",
            "torch.Size([256, 64, 16, 16])\n",
            "torch.Size([256, 64, 8, 8])\n",
            "torch.Size([256, 128, 8, 8])\n",
            "torch.Size([256, 32, 32, 32])\n",
            "torch.Size([256, 32, 16, 16])\n",
            "torch.Size([256, 64, 16, 16])\n",
            "torch.Size([256, 64, 8, 8])\n",
            "torch.Size([256, 128, 8, 8])\n",
            "torch.Size([256, 32, 32, 32])\n",
            "torch.Size([256, 32, 16, 16])\n",
            "torch.Size([256, 64, 16, 16])\n",
            "torch.Size([256, 64, 8, 8])\n",
            "torch.Size([256, 128, 8, 8])\n",
            "torch.Size([256, 32, 32, 32])\n",
            "torch.Size([256, 32, 16, 16])\n",
            "torch.Size([256, 64, 16, 16])\n",
            "torch.Size([256, 64, 8, 8])\n",
            "torch.Size([256, 128, 8, 8])\n",
            "torch.Size([256, 32, 32, 32])\n",
            "torch.Size([256, 32, 16, 16])\n",
            "torch.Size([256, 64, 16, 16])\n",
            "torch.Size([256, 64, 8, 8])\n",
            "torch.Size([256, 128, 8, 8])\n",
            "torch.Size([256, 32, 32, 32])\n",
            "torch.Size([256, 32, 16, 16])\n",
            "torch.Size([256, 64, 16, 16])\n",
            "torch.Size([256, 64, 8, 8])\n",
            "torch.Size([256, 128, 8, 8])\n",
            "torch.Size([256, 32, 32, 32])\n",
            "torch.Size([256, 32, 16, 16])\n",
            "torch.Size([256, 64, 16, 16])\n",
            "torch.Size([256, 64, 8, 8])\n",
            "torch.Size([256, 128, 8, 8])\n",
            "torch.Size([256, 32, 32, 32])\n",
            "torch.Size([256, 32, 16, 16])\n",
            "torch.Size([256, 64, 16, 16])\n",
            "torch.Size([256, 64, 8, 8])\n",
            "torch.Size([256, 128, 8, 8])\n",
            "torch.Size([256, 32, 32, 32])\n",
            "torch.Size([256, 32, 16, 16])\n",
            "torch.Size([256, 64, 16, 16])\n",
            "torch.Size([256, 64, 8, 8])\n",
            "torch.Size([256, 128, 8, 8])\n",
            "torch.Size([256, 32, 32, 32])\n",
            "torch.Size([256, 32, 16, 16])\n",
            "torch.Size([256, 64, 16, 16])\n",
            "torch.Size([256, 64, 8, 8])\n",
            "torch.Size([256, 128, 8, 8])\n",
            "torch.Size([256, 32, 32, 32])\n",
            "torch.Size([256, 32, 16, 16])\n",
            "torch.Size([256, 64, 16, 16])\n",
            "torch.Size([256, 64, 8, 8])\n",
            "torch.Size([256, 128, 8, 8])\n",
            "torch.Size([256, 32, 32, 32])\n",
            "torch.Size([256, 32, 16, 16])\n",
            "torch.Size([256, 64, 16, 16])\n",
            "torch.Size([256, 64, 8, 8])\n",
            "torch.Size([256, 128, 8, 8])\n",
            "torch.Size([256, 32, 32, 32])\n",
            "torch.Size([256, 32, 16, 16])\n",
            "torch.Size([256, 64, 16, 16])\n",
            "torch.Size([256, 64, 8, 8])\n",
            "torch.Size([256, 128, 8, 8])\n",
            "torch.Size([256, 32, 32, 32])\n",
            "torch.Size([256, 32, 16, 16])\n",
            "torch.Size([256, 64, 16, 16])\n",
            "torch.Size([256, 64, 8, 8])\n",
            "torch.Size([256, 128, 8, 8])\n",
            "torch.Size([16, 32, 32, 32])\n",
            "torch.Size([16, 32, 16, 16])\n",
            "torch.Size([16, 64, 16, 16])\n",
            "torch.Size([16, 64, 8, 8])\n",
            "torch.Size([16, 128, 8, 8])\n"
          ],
          "name": "stdout"
        },
        {
          "output_type": "stream",
          "text": [
            "\r  0%|          | 0/196 [00:00<?, ?it/s]"
          ],
          "name": "stderr"
        },
        {
          "output_type": "stream",
          "text": [
            "\n",
            "Epoch: 5 Train set: Average loss: 0.0031, Accuracy: 72.174%\n",
            "Epoch: 5 Test set: Average loss: 0.0036, Accuracy: 67.650%\n"
          ],
          "name": "stdout"
        },
        {
          "output_type": "stream",
          "text": [
            "\r  1%|          | 1/196 [00:00<01:13,  2.64it/s]"
          ],
          "name": "stderr"
        },
        {
          "output_type": "stream",
          "text": [
            "torch.Size([256, 32, 32, 32])\n",
            "torch.Size([256, 32, 16, 16])\n",
            "torch.Size([256, 64, 16, 16])\n",
            "torch.Size([256, 64, 8, 8])\n",
            "torch.Size([256, 128, 8, 8])\n",
            "torch.Size([256, 32, 32, 32])\n",
            "torch.Size([256, 32, 16, 16])\n",
            "torch.Size([256, 64, 16, 16])\n",
            "torch.Size([256, 64, 8, 8])\n",
            "torch.Size([256, 128, 8, 8])\n",
            "torch.Size([256, 32, 32, 32])\n",
            "torch.Size([256, 32, 16, 16])\n",
            "torch.Size([256, 64, 16, 16])\n",
            "torch.Size([256, 64, 8, 8])\n",
            "torch.Size([256, 128, 8, 8])\n"
          ],
          "name": "stdout"
        },
        {
          "output_type": "stream",
          "text": [
            "  3%|▎         | 5/196 [00:00<00:43,  4.35it/s]"
          ],
          "name": "stderr"
        },
        {
          "output_type": "stream",
          "text": [
            "torch.Size([256, 32, 32, 32])\n",
            "torch.Size([256, 32, 16, 16])\n",
            "torch.Size([256, 64, 16, 16])\n",
            "torch.Size([256, 64, 8, 8])\n",
            "torch.Size([256, 128, 8, 8])\n",
            "torch.Size([256, 32, 32, 32])\n",
            "torch.Size([256, 32, 16, 16])\n",
            "torch.Size([256, 64, 16, 16])\n",
            "torch.Size([256, 64, 8, 8])\n",
            "torch.Size([256, 128, 8, 8])\n",
            "torch.Size([256, 32, 32, 32])\n",
            "torch.Size([256, 32, 16, 16])\n",
            "torch.Size([256, 64, 16, 16])\n",
            "torch.Size([256, 64, 8, 8])\n",
            "torch.Size([256, 128, 8, 8])\n"
          ],
          "name": "stdout"
        },
        {
          "output_type": "stream",
          "text": [
            "\r  4%|▎         | 7/196 [00:00<00:35,  5.36it/s]"
          ],
          "name": "stderr"
        },
        {
          "output_type": "stream",
          "text": [
            "torch.Size([256, 32, 32, 32])\n",
            "torch.Size([256, 32, 16, 16])\n",
            "torch.Size([256, 64, 16, 16])\n",
            "torch.Size([256, 64, 8, 8])\n",
            "torch.Size([256, 128, 8, 8])\n",
            "torch.Size([256, 32, 32, 32])\n",
            "torch.Size([256, 32, 16, 16])\n",
            "torch.Size([256, 64, 16, 16])\n",
            "torch.Size([256, 64, 8, 8])\n",
            "torch.Size([256, 128, 8, 8])\n",
            "torch.Size([256, 32, 32, 32])\n",
            "torch.Size([256, 32, 16, 16])\n",
            "torch.Size([256, 64, 16, 16])\n",
            "torch.Size([256, 64, 8, 8])\n",
            "torch.Size([256, 128, 8, 8])\n"
          ],
          "name": "stdout"
        },
        {
          "output_type": "stream",
          "text": [
            "  6%|▌         | 11/196 [00:01<00:23,  7.75it/s]"
          ],
          "name": "stderr"
        },
        {
          "output_type": "stream",
          "text": [
            "torch.Size([256, 32, 32, 32])\n",
            "torch.Size([256, 32, 16, 16])\n",
            "torch.Size([256, 64, 16, 16])\n",
            "torch.Size([256, 64, 8, 8])\n",
            "torch.Size([256, 128, 8, 8])\n",
            "torch.Size([256, 32, 32, 32])\n",
            "torch.Size([256, 32, 16, 16])\n",
            "torch.Size([256, 64, 16, 16])\n",
            "torch.Size([256, 64, 8, 8])\n",
            "torch.Size([256, 128, 8, 8])\n",
            "torch.Size([256, 32, 32, 32])\n",
            "torch.Size([256, 32, 16, 16])\n",
            "torch.Size([256, 64, 16, 16])\n",
            "torch.Size([256, 64, 8, 8])\n",
            "torch.Size([256, 128, 8, 8])\n"
          ],
          "name": "stdout"
        },
        {
          "output_type": "stream",
          "text": [
            "\r  7%|▋         | 13/196 [00:01<00:20,  8.76it/s]"
          ],
          "name": "stderr"
        },
        {
          "output_type": "stream",
          "text": [
            "torch.Size([256, 32, 32, 32])\n",
            "torch.Size([256, 32, 16, 16])\n",
            "torch.Size([256, 64, 16, 16])\n",
            "torch.Size([256, 64, 8, 8])\n",
            "torch.Size([256, 128, 8, 8])\n",
            "torch.Size([256, 32, 32, 32])\n",
            "torch.Size([256, 32, 16, 16])\n",
            "torch.Size([256, 64, 16, 16])\n",
            "torch.Size([256, 64, 8, 8])\n",
            "torch.Size([256, 128, 8, 8])\n",
            "torch.Size([256, 32, 32, 32])\n",
            "torch.Size([256, 32, 16, 16])\n",
            "torch.Size([256, 64, 16, 16])\n",
            "torch.Size([256, 64, 8, 8])\n",
            "torch.Size([256, 128, 8, 8])\n"
          ],
          "name": "stdout"
        },
        {
          "output_type": "stream",
          "text": [
            "  9%|▊         | 17/196 [00:01<00:16, 10.58it/s]"
          ],
          "name": "stderr"
        },
        {
          "output_type": "stream",
          "text": [
            "torch.Size([256, 32, 32, 32])\n",
            "torch.Size([256, 32, 16, 16])\n",
            "torch.Size([256, 64, 16, 16])\n",
            "torch.Size([256, 64, 8, 8])\n",
            "torch.Size([256, 128, 8, 8])\n",
            "torch.Size([256, 32, 32, 32])\n",
            "torch.Size([256, 32, 16, 16])\n",
            "torch.Size([256, 64, 16, 16])\n",
            "torch.Size([256, 64, 8, 8])\n",
            "torch.Size([256, 128, 8, 8])\n",
            "torch.Size([256, 32, 32, 32])\n",
            "torch.Size([256, 32, 16, 16])\n",
            "torch.Size([256, 64, 16, 16])\n",
            "torch.Size([256, 64, 8, 8])\n",
            "torch.Size([256, 128, 8, 8])\n"
          ],
          "name": "stdout"
        },
        {
          "output_type": "stream",
          "text": [
            "\r 10%|▉         | 19/196 [00:01<00:15, 11.13it/s]"
          ],
          "name": "stderr"
        },
        {
          "output_type": "stream",
          "text": [
            "torch.Size([256, 32, 32, 32])\n",
            "torch.Size([256, 32, 16, 16])\n",
            "torch.Size([256, 64, 16, 16])\n",
            "torch.Size([256, 64, 8, 8])\n",
            "torch.Size([256, 128, 8, 8])\n",
            "torch.Size([256, 32, 32, 32])\n",
            "torch.Size([256, 32, 16, 16])\n",
            "torch.Size([256, 64, 16, 16])\n",
            "torch.Size([256, 64, 8, 8])\n",
            "torch.Size([256, 128, 8, 8])\n",
            "torch.Size([256, 32, 32, 32])\n",
            "torch.Size([256, 32, 16, 16])\n",
            "torch.Size([256, 64, 16, 16])\n",
            "torch.Size([256, 64, 8, 8])\n",
            "torch.Size([256, 128, 8, 8])\n"
          ],
          "name": "stdout"
        },
        {
          "output_type": "stream",
          "text": [
            " 12%|█▏        | 23/196 [00:02<00:14, 12.30it/s]"
          ],
          "name": "stderr"
        },
        {
          "output_type": "stream",
          "text": [
            "torch.Size([256, 32, 32, 32])\n",
            "torch.Size([256, 32, 16, 16])\n",
            "torch.Size([256, 64, 16, 16])\n",
            "torch.Size([256, 64, 8, 8])\n",
            "torch.Size([256, 128, 8, 8])\n",
            "torch.Size([256, 32, 32, 32])\n",
            "torch.Size([256, 32, 16, 16])\n",
            "torch.Size([256, 64, 16, 16])\n",
            "torch.Size([256, 64, 8, 8])\n",
            "torch.Size([256, 128, 8, 8])\n",
            "torch.Size([256, 32, 32, 32])\n",
            "torch.Size([256, 32, 16, 16])\n",
            "torch.Size([256, 64, 16, 16])\n",
            "torch.Size([256, 64, 8, 8])\n",
            "torch.Size([256, 128, 8, 8])\n"
          ],
          "name": "stdout"
        },
        {
          "output_type": "stream",
          "text": [
            "\r 13%|█▎        | 25/196 [00:02<00:13, 12.81it/s]"
          ],
          "name": "stderr"
        },
        {
          "output_type": "stream",
          "text": [
            "torch.Size([256, 32, 32, 32])\n",
            "torch.Size([256, 32, 16, 16])\n",
            "torch.Size([256, 64, 16, 16])\n",
            "torch.Size([256, 64, 8, 8])\n",
            "torch.Size([256, 128, 8, 8])\n",
            "torch.Size([256, 32, 32, 32])\n",
            "torch.Size([256, 32, 16, 16])\n",
            "torch.Size([256, 64, 16, 16])\n",
            "torch.Size([256, 64, 8, 8])\n",
            "torch.Size([256, 128, 8, 8])\n",
            "torch.Size([256, 32, 32, 32])\n",
            "torch.Size([256, 32, 16, 16])\n",
            "torch.Size([256, 64, 16, 16])\n",
            "torch.Size([256, 64, 8, 8])\n",
            "torch.Size([256, 128, 8, 8])\n"
          ],
          "name": "stdout"
        },
        {
          "output_type": "stream",
          "text": [
            " 15%|█▍        | 29/196 [00:02<00:13, 12.79it/s]"
          ],
          "name": "stderr"
        },
        {
          "output_type": "stream",
          "text": [
            "torch.Size([256, 32, 32, 32])\n",
            "torch.Size([256, 32, 16, 16])\n",
            "torch.Size([256, 64, 16, 16])\n",
            "torch.Size([256, 64, 8, 8])\n",
            "torch.Size([256, 128, 8, 8])\n",
            "torch.Size([256, 32, 32, 32])\n",
            "torch.Size([256, 32, 16, 16])\n",
            "torch.Size([256, 64, 16, 16])\n",
            "torch.Size([256, 64, 8, 8])\n",
            "torch.Size([256, 128, 8, 8])\n",
            "torch.Size([256, 32, 32, 32])\n",
            "torch.Size([256, 32, 16, 16])\n",
            "torch.Size([256, 64, 16, 16])\n",
            "torch.Size([256, 64, 8, 8])\n",
            "torch.Size([256, 128, 8, 8])\n"
          ],
          "name": "stdout"
        },
        {
          "output_type": "stream",
          "text": [
            "\r 16%|█▌        | 31/196 [00:02<00:13, 12.65it/s]"
          ],
          "name": "stderr"
        },
        {
          "output_type": "stream",
          "text": [
            "torch.Size([256, 32, 32, 32])\n",
            "torch.Size([256, 32, 16, 16])\n",
            "torch.Size([256, 64, 16, 16])\n",
            "torch.Size([256, 64, 8, 8])\n",
            "torch.Size([256, 128, 8, 8])\n",
            "torch.Size([256, 32, 32, 32])\n",
            "torch.Size([256, 32, 16, 16])\n",
            "torch.Size([256, 64, 16, 16])\n",
            "torch.Size([256, 64, 8, 8])\n",
            "torch.Size([256, 128, 8, 8])\n",
            "torch.Size([256, 32, 32, 32])\n",
            "torch.Size([256, 32, 16, 16])\n",
            "torch.Size([256, 64, 16, 16])\n",
            "torch.Size([256, 64, 8, 8])\n",
            "torch.Size([256, 128, 8, 8])\n"
          ],
          "name": "stdout"
        },
        {
          "output_type": "stream",
          "text": [
            " 18%|█▊        | 35/196 [00:03<00:12, 12.79it/s]"
          ],
          "name": "stderr"
        },
        {
          "output_type": "stream",
          "text": [
            "torch.Size([256, 32, 32, 32])\n",
            "torch.Size([256, 32, 16, 16])\n",
            "torch.Size([256, 64, 16, 16])\n",
            "torch.Size([256, 64, 8, 8])\n",
            "torch.Size([256, 128, 8, 8])\n",
            "torch.Size([256, 32, 32, 32])\n",
            "torch.Size([256, 32, 16, 16])\n",
            "torch.Size([256, 64, 16, 16])\n",
            "torch.Size([256, 64, 8, 8])\n",
            "torch.Size([256, 128, 8, 8])\n",
            "torch.Size([256, 32, 32, 32])\n",
            "torch.Size([256, 32, 16, 16])\n",
            "torch.Size([256, 64, 16, 16])\n",
            "torch.Size([256, 64, 8, 8])\n",
            "torch.Size([256, 128, 8, 8])\n"
          ],
          "name": "stdout"
        },
        {
          "output_type": "stream",
          "text": [
            "\r 19%|█▉        | 37/196 [00:03<00:12, 12.91it/s]"
          ],
          "name": "stderr"
        },
        {
          "output_type": "stream",
          "text": [
            "torch.Size([256, 32, 32, 32])\n",
            "torch.Size([256, 32, 16, 16])\n",
            "torch.Size([256, 64, 16, 16])\n",
            "torch.Size([256, 64, 8, 8])\n",
            "torch.Size([256, 128, 8, 8])\n",
            "torch.Size([256, 32, 32, 32])\n",
            "torch.Size([256, 32, 16, 16])\n",
            "torch.Size([256, 64, 16, 16])\n",
            "torch.Size([256, 64, 8, 8])\n",
            "torch.Size([256, 128, 8, 8])\n",
            "torch.Size([256, 32, 32, 32])\n",
            "torch.Size([256, 32, 16, 16])\n",
            "torch.Size([256, 64, 16, 16])\n",
            "torch.Size([256, 64, 8, 8])\n",
            "torch.Size([256, 128, 8, 8])\n"
          ],
          "name": "stdout"
        },
        {
          "output_type": "stream",
          "text": [
            " 21%|██        | 41/196 [00:03<00:11, 13.47it/s]"
          ],
          "name": "stderr"
        },
        {
          "output_type": "stream",
          "text": [
            "torch.Size([256, 32, 32, 32])\n",
            "torch.Size([256, 32, 16, 16])\n",
            "torch.Size([256, 64, 16, 16])\n",
            "torch.Size([256, 64, 8, 8])\n",
            "torch.Size([256, 128, 8, 8])\n",
            "torch.Size([256, 32, 32, 32])\n",
            "torch.Size([256, 32, 16, 16])\n",
            "torch.Size([256, 64, 16, 16])\n",
            "torch.Size([256, 64, 8, 8])\n",
            "torch.Size([256, 128, 8, 8])\n",
            "torch.Size([256, 32, 32, 32])\n",
            "torch.Size([256, 32, 16, 16])\n",
            "torch.Size([256, 64, 16, 16])\n",
            "torch.Size([256, 64, 8, 8])\n",
            "torch.Size([256, 128, 8, 8])\n"
          ],
          "name": "stdout"
        },
        {
          "output_type": "stream",
          "text": [
            "\r 22%|██▏       | 43/196 [00:03<00:11, 13.28it/s]"
          ],
          "name": "stderr"
        },
        {
          "output_type": "stream",
          "text": [
            "torch.Size([256, 32, 32, 32])\n",
            "torch.Size([256, 32, 16, 16])\n",
            "torch.Size([256, 64, 16, 16])\n",
            "torch.Size([256, 64, 8, 8])\n",
            "torch.Size([256, 128, 8, 8])\n",
            "torch.Size([256, 32, 32, 32])\n",
            "torch.Size([256, 32, 16, 16])\n",
            "torch.Size([256, 64, 16, 16])\n",
            "torch.Size([256, 64, 8, 8])\n",
            "torch.Size([256, 128, 8, 8])\n",
            "torch.Size([256, 32, 32, 32])\n",
            "torch.Size([256, 32, 16, 16])\n",
            "torch.Size([256, 64, 16, 16])\n",
            "torch.Size([256, 64, 8, 8])\n",
            "torch.Size([256, 128, 8, 8])\n"
          ],
          "name": "stdout"
        },
        {
          "output_type": "stream",
          "text": [
            " 24%|██▍       | 47/196 [00:03<00:11, 13.16it/s]"
          ],
          "name": "stderr"
        },
        {
          "output_type": "stream",
          "text": [
            "torch.Size([256, 32, 32, 32])\n",
            "torch.Size([256, 32, 16, 16])\n",
            "torch.Size([256, 64, 16, 16])\n",
            "torch.Size([256, 64, 8, 8])\n",
            "torch.Size([256, 128, 8, 8])\n",
            "torch.Size([256, 32, 32, 32])\n",
            "torch.Size([256, 32, 16, 16])\n",
            "torch.Size([256, 64, 16, 16])\n",
            "torch.Size([256, 64, 8, 8])\n",
            "torch.Size([256, 128, 8, 8])\n",
            "torch.Size([256, 32, 32, 32])\n",
            "torch.Size([256, 32, 16, 16])\n",
            "torch.Size([256, 64, 16, 16])\n",
            "torch.Size([256, 64, 8, 8])\n",
            "torch.Size([256, 128, 8, 8])\n"
          ],
          "name": "stdout"
        },
        {
          "output_type": "stream",
          "text": [
            "\r 25%|██▌       | 49/196 [00:04<00:11, 13.16it/s]"
          ],
          "name": "stderr"
        },
        {
          "output_type": "stream",
          "text": [
            "torch.Size([256, 32, 32, 32])\n",
            "torch.Size([256, 32, 16, 16])\n",
            "torch.Size([256, 64, 16, 16])\n",
            "torch.Size([256, 64, 8, 8])\n",
            "torch.Size([256, 128, 8, 8])\n",
            "torch.Size([256, 32, 32, 32])\n",
            "torch.Size([256, 32, 16, 16])\n",
            "torch.Size([256, 64, 16, 16])\n",
            "torch.Size([256, 64, 8, 8])\n",
            "torch.Size([256, 128, 8, 8])\n",
            "torch.Size([256, 32, 32, 32])\n",
            "torch.Size([256, 32, 16, 16])\n",
            "torch.Size([256, 64, 16, 16])\n",
            "torch.Size([256, 64, 8, 8])\n",
            "torch.Size([256, 128, 8, 8])\n"
          ],
          "name": "stdout"
        },
        {
          "output_type": "stream",
          "text": [
            " 27%|██▋       | 53/196 [00:04<00:10, 13.44it/s]"
          ],
          "name": "stderr"
        },
        {
          "output_type": "stream",
          "text": [
            "torch.Size([256, 32, 32, 32])\n",
            "torch.Size([256, 32, 16, 16])\n",
            "torch.Size([256, 64, 16, 16])\n",
            "torch.Size([256, 64, 8, 8])\n",
            "torch.Size([256, 128, 8, 8])\n",
            "torch.Size([256, 32, 32, 32])\n",
            "torch.Size([256, 32, 16, 16])\n",
            "torch.Size([256, 64, 16, 16])\n",
            "torch.Size([256, 64, 8, 8])\n",
            "torch.Size([256, 128, 8, 8])\n",
            "torch.Size([256, 32, 32, 32])\n",
            "torch.Size([256, 32, 16, 16])\n",
            "torch.Size([256, 64, 16, 16])\n",
            "torch.Size([256, 64, 8, 8])\n",
            "torch.Size([256, 128, 8, 8])\n"
          ],
          "name": "stdout"
        },
        {
          "output_type": "stream",
          "text": [
            "\r 28%|██▊       | 55/196 [00:04<00:10, 13.64it/s]"
          ],
          "name": "stderr"
        },
        {
          "output_type": "stream",
          "text": [
            "torch.Size([256, 32, 32, 32])\n",
            "torch.Size([256, 32, 16, 16])\n",
            "torch.Size([256, 64, 16, 16])\n",
            "torch.Size([256, 64, 8, 8])\n",
            "torch.Size([256, 128, 8, 8])\n",
            "torch.Size([256, 32, 32, 32])\n",
            "torch.Size([256, 32, 16, 16])\n",
            "torch.Size([256, 64, 16, 16])\n",
            "torch.Size([256, 64, 8, 8])\n",
            "torch.Size([256, 128, 8, 8])\n",
            "torch.Size([256, 32, 32, 32])\n",
            "torch.Size([256, 32, 16, 16])\n",
            "torch.Size([256, 64, 16, 16])\n",
            "torch.Size([256, 64, 8, 8])\n",
            "torch.Size([256, 128, 8, 8])\n"
          ],
          "name": "stdout"
        },
        {
          "output_type": "stream",
          "text": [
            " 30%|███       | 59/196 [00:04<00:10, 13.46it/s]"
          ],
          "name": "stderr"
        },
        {
          "output_type": "stream",
          "text": [
            "torch.Size([256, 32, 32, 32])\n",
            "torch.Size([256, 32, 16, 16])\n",
            "torch.Size([256, 64, 16, 16])\n",
            "torch.Size([256, 64, 8, 8])\n",
            "torch.Size([256, 128, 8, 8])\n",
            "torch.Size([256, 32, 32, 32])\n",
            "torch.Size([256, 32, 16, 16])\n",
            "torch.Size([256, 64, 16, 16])\n",
            "torch.Size([256, 64, 8, 8])\n",
            "torch.Size([256, 128, 8, 8])\n",
            "torch.Size([256, 32, 32, 32])\n",
            "torch.Size([256, 32, 16, 16])\n",
            "torch.Size([256, 64, 16, 16])\n",
            "torch.Size([256, 64, 8, 8])\n",
            "torch.Size([256, 128, 8, 8])\n"
          ],
          "name": "stdout"
        },
        {
          "output_type": "stream",
          "text": [
            "\r 31%|███       | 61/196 [00:04<00:09, 13.66it/s]"
          ],
          "name": "stderr"
        },
        {
          "output_type": "stream",
          "text": [
            "torch.Size([256, 32, 32, 32])\n",
            "torch.Size([256, 32, 16, 16])\n",
            "torch.Size([256, 64, 16, 16])\n",
            "torch.Size([256, 64, 8, 8])\n",
            "torch.Size([256, 128, 8, 8])\n",
            "torch.Size([256, 32, 32, 32])\n",
            "torch.Size([256, 32, 16, 16])\n",
            "torch.Size([256, 64, 16, 16])\n",
            "torch.Size([256, 64, 8, 8])\n",
            "torch.Size([256, 128, 8, 8])\n",
            "torch.Size([256, 32, 32, 32])\n",
            "torch.Size([256, 32, 16, 16])\n",
            "torch.Size([256, 64, 16, 16])\n",
            "torch.Size([256, 64, 8, 8])\n",
            "torch.Size([256, 128, 8, 8])\n"
          ],
          "name": "stdout"
        },
        {
          "output_type": "stream",
          "text": [
            " 33%|███▎      | 65/196 [00:05<00:09, 13.77it/s]"
          ],
          "name": "stderr"
        },
        {
          "output_type": "stream",
          "text": [
            "torch.Size([256, 32, 32, 32])\n",
            "torch.Size([256, 32, 16, 16])\n",
            "torch.Size([256, 64, 16, 16])\n",
            "torch.Size([256, 64, 8, 8])\n",
            "torch.Size([256, 128, 8, 8])\n",
            "torch.Size([256, 32, 32, 32])\n",
            "torch.Size([256, 32, 16, 16])\n",
            "torch.Size([256, 64, 16, 16])\n",
            "torch.Size([256, 64, 8, 8])\n",
            "torch.Size([256, 128, 8, 8])\n",
            "torch.Size([256, 32, 32, 32])\n",
            "torch.Size([256, 32, 16, 16])\n",
            "torch.Size([256, 64, 16, 16])\n",
            "torch.Size([256, 64, 8, 8])\n",
            "torch.Size([256, 128, 8, 8])\n"
          ],
          "name": "stdout"
        },
        {
          "output_type": "stream",
          "text": [
            "\r 34%|███▍      | 67/196 [00:05<00:09, 13.32it/s]"
          ],
          "name": "stderr"
        },
        {
          "output_type": "stream",
          "text": [
            "torch.Size([256, 32, 32, 32])\n",
            "torch.Size([256, 32, 16, 16])\n",
            "torch.Size([256, 64, 16, 16])\n",
            "torch.Size([256, 64, 8, 8])\n",
            "torch.Size([256, 128, 8, 8])\n",
            "torch.Size([256, 32, 32, 32])\n",
            "torch.Size([256, 32, 16, 16])\n",
            "torch.Size([256, 64, 16, 16])\n",
            "torch.Size([256, 64, 8, 8])\n",
            "torch.Size([256, 128, 8, 8])\n",
            "torch.Size([256, 32, 32, 32])\n",
            "torch.Size([256, 32, 16, 16])\n",
            "torch.Size([256, 64, 16, 16])\n",
            "torch.Size([256, 64, 8, 8])\n",
            "torch.Size([256, 128, 8, 8])\n"
          ],
          "name": "stdout"
        },
        {
          "output_type": "stream",
          "text": [
            " 36%|███▌      | 71/196 [00:05<00:09, 13.17it/s]"
          ],
          "name": "stderr"
        },
        {
          "output_type": "stream",
          "text": [
            "torch.Size([256, 32, 32, 32])\n",
            "torch.Size([256, 32, 16, 16])\n",
            "torch.Size([256, 64, 16, 16])\n",
            "torch.Size([256, 64, 8, 8])\n",
            "torch.Size([256, 128, 8, 8])\n",
            "torch.Size([256, 32, 32, 32])\n",
            "torch.Size([256, 32, 16, 16])\n",
            "torch.Size([256, 64, 16, 16])\n",
            "torch.Size([256, 64, 8, 8])\n",
            "torch.Size([256, 128, 8, 8])\n",
            "torch.Size([256, 32, 32, 32])\n",
            "torch.Size([256, 32, 16, 16])\n",
            "torch.Size([256, 64, 16, 16])\n",
            "torch.Size([256, 64, 8, 8])\n",
            "torch.Size([256, 128, 8, 8])\n"
          ],
          "name": "stdout"
        },
        {
          "output_type": "stream",
          "text": [
            "\r 37%|███▋      | 73/196 [00:05<00:09, 13.08it/s]"
          ],
          "name": "stderr"
        },
        {
          "output_type": "stream",
          "text": [
            "torch.Size([256, 32, 32, 32])\n",
            "torch.Size([256, 32, 16, 16])\n",
            "torch.Size([256, 64, 16, 16])\n",
            "torch.Size([256, 64, 8, 8])\n",
            "torch.Size([256, 128, 8, 8])\n",
            "torch.Size([256, 32, 32, 32])\n",
            "torch.Size([256, 32, 16, 16])\n",
            "torch.Size([256, 64, 16, 16])\n",
            "torch.Size([256, 64, 8, 8])\n",
            "torch.Size([256, 128, 8, 8])\n",
            "torch.Size([256, 32, 32, 32])\n",
            "torch.Size([256, 32, 16, 16])\n",
            "torch.Size([256, 64, 16, 16])\n",
            "torch.Size([256, 64, 8, 8])\n",
            "torch.Size([256, 128, 8, 8])\n"
          ],
          "name": "stdout"
        },
        {
          "output_type": "stream",
          "text": [
            " 39%|███▉      | 77/196 [00:06<00:08, 13.63it/s]"
          ],
          "name": "stderr"
        },
        {
          "output_type": "stream",
          "text": [
            "torch.Size([256, 32, 32, 32])\n",
            "torch.Size([256, 32, 16, 16])\n",
            "torch.Size([256, 64, 16, 16])\n",
            "torch.Size([256, 64, 8, 8])\n",
            "torch.Size([256, 128, 8, 8])\n",
            "torch.Size([256, 32, 32, 32])\n",
            "torch.Size([256, 32, 16, 16])\n",
            "torch.Size([256, 64, 16, 16])\n",
            "torch.Size([256, 64, 8, 8])\n",
            "torch.Size([256, 128, 8, 8])\n",
            "torch.Size([256, 32, 32, 32])\n",
            "torch.Size([256, 32, 16, 16])\n",
            "torch.Size([256, 64, 16, 16])\n",
            "torch.Size([256, 64, 8, 8])\n",
            "torch.Size([256, 128, 8, 8])\n"
          ],
          "name": "stdout"
        },
        {
          "output_type": "stream",
          "text": [
            "\r 40%|████      | 79/196 [00:06<00:08, 13.75it/s]"
          ],
          "name": "stderr"
        },
        {
          "output_type": "stream",
          "text": [
            "torch.Size([256, 32, 32, 32])\n",
            "torch.Size([256, 32, 16, 16])\n",
            "torch.Size([256, 64, 16, 16])\n",
            "torch.Size([256, 64, 8, 8])\n",
            "torch.Size([256, 128, 8, 8])\n",
            "torch.Size([256, 32, 32, 32])\n",
            "torch.Size([256, 32, 16, 16])\n",
            "torch.Size([256, 64, 16, 16])\n",
            "torch.Size([256, 64, 8, 8])\n",
            "torch.Size([256, 128, 8, 8])\n",
            "torch.Size([256, 32, 32, 32])\n",
            "torch.Size([256, 32, 16, 16])\n",
            "torch.Size([256, 64, 16, 16])\n",
            "torch.Size([256, 64, 8, 8])\n",
            "torch.Size([256, 128, 8, 8])\n"
          ],
          "name": "stdout"
        },
        {
          "output_type": "stream",
          "text": [
            " 42%|████▏     | 83/196 [00:06<00:08, 13.77it/s]"
          ],
          "name": "stderr"
        },
        {
          "output_type": "stream",
          "text": [
            "torch.Size([256, 32, 32, 32])\n",
            "torch.Size([256, 32, 16, 16])\n",
            "torch.Size([256, 64, 16, 16])\n",
            "torch.Size([256, 64, 8, 8])\n",
            "torch.Size([256, 128, 8, 8])\n",
            "torch.Size([256, 32, 32, 32])\n",
            "torch.Size([256, 32, 16, 16])\n",
            "torch.Size([256, 64, 16, 16])\n",
            "torch.Size([256, 64, 8, 8])\n",
            "torch.Size([256, 128, 8, 8])\n",
            "torch.Size([256, 32, 32, 32])\n",
            "torch.Size([256, 32, 16, 16])\n",
            "torch.Size([256, 64, 16, 16])\n",
            "torch.Size([256, 64, 8, 8])\n",
            "torch.Size([256, 128, 8, 8])\n"
          ],
          "name": "stdout"
        },
        {
          "output_type": "stream",
          "text": [
            "\r 43%|████▎     | 85/196 [00:06<00:08, 13.53it/s]"
          ],
          "name": "stderr"
        },
        {
          "output_type": "stream",
          "text": [
            "torch.Size([256, 32, 32, 32])\n",
            "torch.Size([256, 32, 16, 16])\n",
            "torch.Size([256, 64, 16, 16])\n",
            "torch.Size([256, 64, 8, 8])\n",
            "torch.Size([256, 128, 8, 8])\n",
            "torch.Size([256, 32, 32, 32])\n",
            "torch.Size([256, 32, 16, 16])\n",
            "torch.Size([256, 64, 16, 16])\n",
            "torch.Size([256, 64, 8, 8])\n",
            "torch.Size([256, 128, 8, 8])\n",
            "torch.Size([256, 32, 32, 32])\n",
            "torch.Size([256, 32, 16, 16])\n",
            "torch.Size([256, 64, 16, 16])\n",
            "torch.Size([256, 64, 8, 8])\n",
            "torch.Size([256, 128, 8, 8])\n"
          ],
          "name": "stdout"
        },
        {
          "output_type": "stream",
          "text": [
            " 45%|████▌     | 89/196 [00:07<00:07, 13.65it/s]"
          ],
          "name": "stderr"
        },
        {
          "output_type": "stream",
          "text": [
            "torch.Size([256, 32, 32, 32])\n",
            "torch.Size([256, 32, 16, 16])\n",
            "torch.Size([256, 64, 16, 16])\n",
            "torch.Size([256, 64, 8, 8])\n",
            "torch.Size([256, 128, 8, 8])\n",
            "torch.Size([256, 32, 32, 32])\n",
            "torch.Size([256, 32, 16, 16])\n",
            "torch.Size([256, 64, 16, 16])\n",
            "torch.Size([256, 64, 8, 8])\n",
            "torch.Size([256, 128, 8, 8])\n",
            "torch.Size([256, 32, 32, 32])\n",
            "torch.Size([256, 32, 16, 16])\n",
            "torch.Size([256, 64, 16, 16])\n",
            "torch.Size([256, 64, 8, 8])\n",
            "torch.Size([256, 128, 8, 8])\n"
          ],
          "name": "stdout"
        },
        {
          "output_type": "stream",
          "text": [
            "\r 46%|████▋     | 91/196 [00:07<00:07, 13.46it/s]"
          ],
          "name": "stderr"
        },
        {
          "output_type": "stream",
          "text": [
            "torch.Size([256, 32, 32, 32])\n",
            "torch.Size([256, 32, 16, 16])\n",
            "torch.Size([256, 64, 16, 16])\n",
            "torch.Size([256, 64, 8, 8])\n",
            "torch.Size([256, 128, 8, 8])\n",
            "torch.Size([256, 32, 32, 32])\n",
            "torch.Size([256, 32, 16, 16])\n",
            "torch.Size([256, 64, 16, 16])\n",
            "torch.Size([256, 64, 8, 8])\n",
            "torch.Size([256, 128, 8, 8])\n",
            "torch.Size([256, 32, 32, 32])\n",
            "torch.Size([256, 32, 16, 16])\n",
            "torch.Size([256, 64, 16, 16])\n",
            "torch.Size([256, 64, 8, 8])\n",
            "torch.Size([256, 128, 8, 8])\n"
          ],
          "name": "stdout"
        },
        {
          "output_type": "stream",
          "text": [
            " 48%|████▊     | 95/196 [00:07<00:07, 13.73it/s]"
          ],
          "name": "stderr"
        },
        {
          "output_type": "stream",
          "text": [
            "torch.Size([256, 32, 32, 32])\n",
            "torch.Size([256, 32, 16, 16])\n",
            "torch.Size([256, 64, 16, 16])\n",
            "torch.Size([256, 64, 8, 8])\n",
            "torch.Size([256, 128, 8, 8])\n",
            "torch.Size([256, 32, 32, 32])\n",
            "torch.Size([256, 32, 16, 16])\n",
            "torch.Size([256, 64, 16, 16])\n",
            "torch.Size([256, 64, 8, 8])\n",
            "torch.Size([256, 128, 8, 8])\n",
            "torch.Size([256, 32, 32, 32])\n",
            "torch.Size([256, 32, 16, 16])\n",
            "torch.Size([256, 64, 16, 16])\n",
            "torch.Size([256, 64, 8, 8])\n",
            "torch.Size([256, 128, 8, 8])\n"
          ],
          "name": "stdout"
        },
        {
          "output_type": "stream",
          "text": [
            "\r 49%|████▉     | 97/196 [00:07<00:07, 13.26it/s]"
          ],
          "name": "stderr"
        },
        {
          "output_type": "stream",
          "text": [
            "torch.Size([256, 32, 32, 32])\n",
            "torch.Size([256, 32, 16, 16])\n",
            "torch.Size([256, 64, 16, 16])\n",
            "torch.Size([256, 64, 8, 8])\n",
            "torch.Size([256, 128, 8, 8])\n",
            "torch.Size([256, 32, 32, 32])\n",
            "torch.Size([256, 32, 16, 16])\n",
            "torch.Size([256, 64, 16, 16])\n",
            "torch.Size([256, 64, 8, 8])\n",
            "torch.Size([256, 128, 8, 8])\n",
            "torch.Size([256, 32, 32, 32])\n",
            "torch.Size([256, 32, 16, 16])\n",
            "torch.Size([256, 64, 16, 16])\n",
            "torch.Size([256, 64, 8, 8])\n",
            "torch.Size([256, 128, 8, 8])\n"
          ],
          "name": "stdout"
        },
        {
          "output_type": "stream",
          "text": [
            " 52%|█████▏    | 101/196 [00:07<00:06, 13.60it/s]"
          ],
          "name": "stderr"
        },
        {
          "output_type": "stream",
          "text": [
            "torch.Size([256, 32, 32, 32])\n",
            "torch.Size([256, 32, 16, 16])\n",
            "torch.Size([256, 64, 16, 16])\n",
            "torch.Size([256, 64, 8, 8])\n",
            "torch.Size([256, 128, 8, 8])\n",
            "torch.Size([256, 32, 32, 32])\n",
            "torch.Size([256, 32, 16, 16])\n",
            "torch.Size([256, 64, 16, 16])\n",
            "torch.Size([256, 64, 8, 8])\n",
            "torch.Size([256, 128, 8, 8])\n",
            "torch.Size([256, 32, 32, 32])\n",
            "torch.Size([256, 32, 16, 16])\n",
            "torch.Size([256, 64, 16, 16])\n",
            "torch.Size([256, 64, 8, 8])\n",
            "torch.Size([256, 128, 8, 8])\n"
          ],
          "name": "stdout"
        },
        {
          "output_type": "stream",
          "text": [
            "\r 53%|█████▎    | 103/196 [00:08<00:06, 13.39it/s]"
          ],
          "name": "stderr"
        },
        {
          "output_type": "stream",
          "text": [
            "torch.Size([256, 32, 32, 32])\n",
            "torch.Size([256, 32, 16, 16])\n",
            "torch.Size([256, 64, 16, 16])\n",
            "torch.Size([256, 64, 8, 8])\n",
            "torch.Size([256, 128, 8, 8])\n",
            "torch.Size([256, 32, 32, 32])\n",
            "torch.Size([256, 32, 16, 16])\n",
            "torch.Size([256, 64, 16, 16])\n",
            "torch.Size([256, 64, 8, 8])\n",
            "torch.Size([256, 128, 8, 8])\n",
            "torch.Size([256, 32, 32, 32])\n",
            "torch.Size([256, 32, 16, 16])\n",
            "torch.Size([256, 64, 16, 16])\n",
            "torch.Size([256, 64, 8, 8])\n",
            "torch.Size([256, 128, 8, 8])\n"
          ],
          "name": "stdout"
        },
        {
          "output_type": "stream",
          "text": [
            " 55%|█████▍    | 107/196 [00:08<00:06, 13.83it/s]"
          ],
          "name": "stderr"
        },
        {
          "output_type": "stream",
          "text": [
            "torch.Size([256, 32, 32, 32])\n",
            "torch.Size([256, 32, 16, 16])\n",
            "torch.Size([256, 64, 16, 16])\n",
            "torch.Size([256, 64, 8, 8])\n",
            "torch.Size([256, 128, 8, 8])\n",
            "torch.Size([256, 32, 32, 32])\n",
            "torch.Size([256, 32, 16, 16])\n",
            "torch.Size([256, 64, 16, 16])\n",
            "torch.Size([256, 64, 8, 8])\n",
            "torch.Size([256, 128, 8, 8])\n",
            "torch.Size([256, 32, 32, 32])\n",
            "torch.Size([256, 32, 16, 16])\n",
            "torch.Size([256, 64, 16, 16])\n",
            "torch.Size([256, 64, 8, 8])\n",
            "torch.Size([256, 128, 8, 8])\n"
          ],
          "name": "stdout"
        },
        {
          "output_type": "stream",
          "text": [
            "\r 56%|█████▌    | 109/196 [00:08<00:06, 13.81it/s]"
          ],
          "name": "stderr"
        },
        {
          "output_type": "stream",
          "text": [
            "torch.Size([256, 32, 32, 32])\n",
            "torch.Size([256, 32, 16, 16])\n",
            "torch.Size([256, 64, 16, 16])\n",
            "torch.Size([256, 64, 8, 8])\n",
            "torch.Size([256, 128, 8, 8])\n",
            "torch.Size([256, 32, 32, 32])\n",
            "torch.Size([256, 32, 16, 16])\n",
            "torch.Size([256, 64, 16, 16])\n",
            "torch.Size([256, 64, 8, 8])\n",
            "torch.Size([256, 128, 8, 8])\n",
            "torch.Size([256, 32, 32, 32])\n",
            "torch.Size([256, 32, 16, 16])\n",
            "torch.Size([256, 64, 16, 16])\n",
            "torch.Size([256, 64, 8, 8])\n",
            "torch.Size([256, 128, 8, 8])\n"
          ],
          "name": "stdout"
        },
        {
          "output_type": "stream",
          "text": [
            " 58%|█████▊    | 113/196 [00:08<00:06, 13.29it/s]"
          ],
          "name": "stderr"
        },
        {
          "output_type": "stream",
          "text": [
            "torch.Size([256, 32, 32, 32])\n",
            "torch.Size([256, 32, 16, 16])\n",
            "torch.Size([256, 64, 16, 16])\n",
            "torch.Size([256, 64, 8, 8])\n",
            "torch.Size([256, 128, 8, 8])\n",
            "torch.Size([256, 32, 32, 32])\n",
            "torch.Size([256, 32, 16, 16])\n",
            "torch.Size([256, 64, 16, 16])\n",
            "torch.Size([256, 64, 8, 8])\n",
            "torch.Size([256, 128, 8, 8])\n",
            "torch.Size([256, 32, 32, 32])\n",
            "torch.Size([256, 32, 16, 16])\n",
            "torch.Size([256, 64, 16, 16])\n",
            "torch.Size([256, 64, 8, 8])\n",
            "torch.Size([256, 128, 8, 8])\n"
          ],
          "name": "stdout"
        },
        {
          "output_type": "stream",
          "text": [
            "\r 59%|█████▊    | 115/196 [00:08<00:05, 13.54it/s]"
          ],
          "name": "stderr"
        },
        {
          "output_type": "stream",
          "text": [
            "torch.Size([256, 32, 32, 32])\n",
            "torch.Size([256, 32, 16, 16])\n",
            "torch.Size([256, 64, 16, 16])\n",
            "torch.Size([256, 64, 8, 8])\n",
            "torch.Size([256, 128, 8, 8])\n",
            "torch.Size([256, 32, 32, 32])\n",
            "torch.Size([256, 32, 16, 16])\n",
            "torch.Size([256, 64, 16, 16])\n",
            "torch.Size([256, 64, 8, 8])\n",
            "torch.Size([256, 128, 8, 8])\n",
            "torch.Size([256, 32, 32, 32])\n",
            "torch.Size([256, 32, 16, 16])\n",
            "torch.Size([256, 64, 16, 16])\n",
            "torch.Size([256, 64, 8, 8])\n",
            "torch.Size([256, 128, 8, 8])\n"
          ],
          "name": "stdout"
        },
        {
          "output_type": "stream",
          "text": [
            " 61%|██████    | 119/196 [00:09<00:05, 13.49it/s]"
          ],
          "name": "stderr"
        },
        {
          "output_type": "stream",
          "text": [
            "torch.Size([256, 32, 32, 32])\n",
            "torch.Size([256, 32, 16, 16])\n",
            "torch.Size([256, 64, 16, 16])\n",
            "torch.Size([256, 64, 8, 8])\n",
            "torch.Size([256, 128, 8, 8])\n",
            "torch.Size([256, 32, 32, 32])\n",
            "torch.Size([256, 32, 16, 16])\n",
            "torch.Size([256, 64, 16, 16])\n",
            "torch.Size([256, 64, 8, 8])\n",
            "torch.Size([256, 128, 8, 8])\n",
            "torch.Size([256, 32, 32, 32])\n",
            "torch.Size([256, 32, 16, 16])\n",
            "torch.Size([256, 64, 16, 16])\n",
            "torch.Size([256, 64, 8, 8])\n",
            "torch.Size([256, 128, 8, 8])\n"
          ],
          "name": "stdout"
        },
        {
          "output_type": "stream",
          "text": [
            "\r 62%|██████▏   | 121/196 [00:09<00:05, 13.59it/s]"
          ],
          "name": "stderr"
        },
        {
          "output_type": "stream",
          "text": [
            "torch.Size([256, 32, 32, 32])\n",
            "torch.Size([256, 32, 16, 16])\n",
            "torch.Size([256, 64, 16, 16])\n",
            "torch.Size([256, 64, 8, 8])\n",
            "torch.Size([256, 128, 8, 8])\n",
            "torch.Size([256, 32, 32, 32])\n",
            "torch.Size([256, 32, 16, 16])\n",
            "torch.Size([256, 64, 16, 16])\n",
            "torch.Size([256, 64, 8, 8])\n",
            "torch.Size([256, 128, 8, 8])\n",
            "torch.Size([256, 32, 32, 32])\n",
            "torch.Size([256, 32, 16, 16])\n",
            "torch.Size([256, 64, 16, 16])\n",
            "torch.Size([256, 64, 8, 8])\n",
            "torch.Size([256, 128, 8, 8])\n"
          ],
          "name": "stdout"
        },
        {
          "output_type": "stream",
          "text": [
            " 64%|██████▍   | 125/196 [00:09<00:05, 13.30it/s]"
          ],
          "name": "stderr"
        },
        {
          "output_type": "stream",
          "text": [
            "torch.Size([256, 32, 32, 32])\n",
            "torch.Size([256, 32, 16, 16])\n",
            "torch.Size([256, 64, 16, 16])\n",
            "torch.Size([256, 64, 8, 8])\n",
            "torch.Size([256, 128, 8, 8])\n",
            "torch.Size([256, 32, 32, 32])\n",
            "torch.Size([256, 32, 16, 16])\n",
            "torch.Size([256, 64, 16, 16])\n",
            "torch.Size([256, 64, 8, 8])\n",
            "torch.Size([256, 128, 8, 8])\n",
            "torch.Size([256, 32, 32, 32])\n",
            "torch.Size([256, 32, 16, 16])\n",
            "torch.Size([256, 64, 16, 16])\n",
            "torch.Size([256, 64, 8, 8])\n",
            "torch.Size([256, 128, 8, 8])\n"
          ],
          "name": "stdout"
        },
        {
          "output_type": "stream",
          "text": [
            "\r 65%|██████▍   | 127/196 [00:09<00:05, 13.68it/s]"
          ],
          "name": "stderr"
        },
        {
          "output_type": "stream",
          "text": [
            "torch.Size([256, 32, 32, 32])\n",
            "torch.Size([256, 32, 16, 16])\n",
            "torch.Size([256, 64, 16, 16])\n",
            "torch.Size([256, 64, 8, 8])\n",
            "torch.Size([256, 128, 8, 8])\n",
            "torch.Size([256, 32, 32, 32])\n",
            "torch.Size([256, 32, 16, 16])\n",
            "torch.Size([256, 64, 16, 16])\n",
            "torch.Size([256, 64, 8, 8])\n",
            "torch.Size([256, 128, 8, 8])\n",
            "torch.Size([256, 32, 32, 32])\n",
            "torch.Size([256, 32, 16, 16])\n",
            "torch.Size([256, 64, 16, 16])\n",
            "torch.Size([256, 64, 8, 8])\n",
            "torch.Size([256, 128, 8, 8])\n"
          ],
          "name": "stdout"
        },
        {
          "output_type": "stream",
          "text": [
            " 67%|██████▋   | 131/196 [00:10<00:05, 12.72it/s]"
          ],
          "name": "stderr"
        },
        {
          "output_type": "stream",
          "text": [
            "torch.Size([256, 32, 32, 32])\n",
            "torch.Size([256, 32, 16, 16])\n",
            "torch.Size([256, 64, 16, 16])\n",
            "torch.Size([256, 64, 8, 8])\n",
            "torch.Size([256, 128, 8, 8])\n",
            "torch.Size([256, 32, 32, 32])\n",
            "torch.Size([256, 32, 16, 16])\n",
            "torch.Size([256, 64, 16, 16])\n",
            "torch.Size([256, 64, 8, 8])\n",
            "torch.Size([256, 128, 8, 8])\n",
            "torch.Size([256, 32, 32, 32])\n",
            "torch.Size([256, 32, 16, 16])\n",
            "torch.Size([256, 64, 16, 16])\n",
            "torch.Size([256, 64, 8, 8])\n",
            "torch.Size([256, 128, 8, 8])\n"
          ],
          "name": "stdout"
        },
        {
          "output_type": "stream",
          "text": [
            "\r 68%|██████▊   | 133/196 [00:10<00:04, 13.10it/s]"
          ],
          "name": "stderr"
        },
        {
          "output_type": "stream",
          "text": [
            "torch.Size([256, 32, 32, 32])\n",
            "torch.Size([256, 32, 16, 16])\n",
            "torch.Size([256, 64, 16, 16])\n",
            "torch.Size([256, 64, 8, 8])\n",
            "torch.Size([256, 128, 8, 8])\n",
            "torch.Size([256, 32, 32, 32])\n",
            "torch.Size([256, 32, 16, 16])\n",
            "torch.Size([256, 64, 16, 16])\n",
            "torch.Size([256, 64, 8, 8])\n",
            "torch.Size([256, 128, 8, 8])\n",
            "torch.Size([256, 32, 32, 32])\n",
            "torch.Size([256, 32, 16, 16])\n",
            "torch.Size([256, 64, 16, 16])\n",
            "torch.Size([256, 64, 8, 8])\n",
            "torch.Size([256, 128, 8, 8])\n"
          ],
          "name": "stdout"
        },
        {
          "output_type": "stream",
          "text": [
            " 70%|██████▉   | 137/196 [00:10<00:04, 12.93it/s]"
          ],
          "name": "stderr"
        },
        {
          "output_type": "stream",
          "text": [
            "torch.Size([256, 32, 32, 32])\n",
            "torch.Size([256, 32, 16, 16])\n",
            "torch.Size([256, 64, 16, 16])\n",
            "torch.Size([256, 64, 8, 8])\n",
            "torch.Size([256, 128, 8, 8])\n",
            "torch.Size([256, 32, 32, 32])\n",
            "torch.Size([256, 32, 16, 16])\n",
            "torch.Size([256, 64, 16, 16])\n",
            "torch.Size([256, 64, 8, 8])\n",
            "torch.Size([256, 128, 8, 8])\n",
            "torch.Size([256, 32, 32, 32])\n",
            "torch.Size([256, 32, 16, 16])\n",
            "torch.Size([256, 64, 16, 16])\n",
            "torch.Size([256, 64, 8, 8])\n",
            "torch.Size([256, 128, 8, 8])\n"
          ],
          "name": "stdout"
        },
        {
          "output_type": "stream",
          "text": [
            "\r 71%|███████   | 139/196 [00:10<00:04, 13.03it/s]"
          ],
          "name": "stderr"
        },
        {
          "output_type": "stream",
          "text": [
            "torch.Size([256, 32, 32, 32])\n",
            "torch.Size([256, 32, 16, 16])\n",
            "torch.Size([256, 64, 16, 16])\n",
            "torch.Size([256, 64, 8, 8])\n",
            "torch.Size([256, 128, 8, 8])\n",
            "torch.Size([256, 32, 32, 32])\n",
            "torch.Size([256, 32, 16, 16])\n",
            "torch.Size([256, 64, 16, 16])\n",
            "torch.Size([256, 64, 8, 8])\n",
            "torch.Size([256, 128, 8, 8])\n",
            "torch.Size([256, 32, 32, 32])\n",
            "torch.Size([256, 32, 16, 16])\n",
            "torch.Size([256, 64, 16, 16])\n",
            "torch.Size([256, 64, 8, 8])\n",
            "torch.Size([256, 128, 8, 8])\n"
          ],
          "name": "stdout"
        },
        {
          "output_type": "stream",
          "text": [
            " 73%|███████▎  | 143/196 [00:11<00:04, 12.92it/s]"
          ],
          "name": "stderr"
        },
        {
          "output_type": "stream",
          "text": [
            "torch.Size([256, 32, 32, 32])\n",
            "torch.Size([256, 32, 16, 16])\n",
            "torch.Size([256, 64, 16, 16])\n",
            "torch.Size([256, 64, 8, 8])\n",
            "torch.Size([256, 128, 8, 8])\n",
            "torch.Size([256, 32, 32, 32])\n",
            "torch.Size([256, 32, 16, 16])\n",
            "torch.Size([256, 64, 16, 16])\n",
            "torch.Size([256, 64, 8, 8])\n",
            "torch.Size([256, 128, 8, 8])\n",
            "torch.Size([256, 32, 32, 32])\n",
            "torch.Size([256, 32, 16, 16])\n",
            "torch.Size([256, 64, 16, 16])\n",
            "torch.Size([256, 64, 8, 8])\n",
            "torch.Size([256, 128, 8, 8])\n"
          ],
          "name": "stdout"
        },
        {
          "output_type": "stream",
          "text": [
            "\r 74%|███████▍  | 145/196 [00:11<00:03, 12.80it/s]"
          ],
          "name": "stderr"
        },
        {
          "output_type": "stream",
          "text": [
            "torch.Size([256, 32, 32, 32])\n",
            "torch.Size([256, 32, 16, 16])\n",
            "torch.Size([256, 64, 16, 16])\n",
            "torch.Size([256, 64, 8, 8])\n",
            "torch.Size([256, 128, 8, 8])\n",
            "torch.Size([256, 32, 32, 32])\n",
            "torch.Size([256, 32, 16, 16])\n",
            "torch.Size([256, 64, 16, 16])\n",
            "torch.Size([256, 64, 8, 8])\n",
            "torch.Size([256, 128, 8, 8])\n",
            "torch.Size([256, 32, 32, 32])\n",
            "torch.Size([256, 32, 16, 16])\n",
            "torch.Size([256, 64, 16, 16])\n",
            "torch.Size([256, 64, 8, 8])\n",
            "torch.Size([256, 128, 8, 8])\n"
          ],
          "name": "stdout"
        },
        {
          "output_type": "stream",
          "text": [
            " 76%|███████▌  | 149/196 [00:11<00:03, 13.11it/s]"
          ],
          "name": "stderr"
        },
        {
          "output_type": "stream",
          "text": [
            "torch.Size([256, 32, 32, 32])\n",
            "torch.Size([256, 32, 16, 16])\n",
            "torch.Size([256, 64, 16, 16])\n",
            "torch.Size([256, 64, 8, 8])\n",
            "torch.Size([256, 128, 8, 8])\n",
            "torch.Size([256, 32, 32, 32])\n",
            "torch.Size([256, 32, 16, 16])\n",
            "torch.Size([256, 64, 16, 16])\n",
            "torch.Size([256, 64, 8, 8])\n",
            "torch.Size([256, 128, 8, 8])\n",
            "torch.Size([256, 32, 32, 32])\n",
            "torch.Size([256, 32, 16, 16])\n",
            "torch.Size([256, 64, 16, 16])\n",
            "torch.Size([256, 64, 8, 8])\n",
            "torch.Size([256, 128, 8, 8])\n"
          ],
          "name": "stdout"
        },
        {
          "output_type": "stream",
          "text": [
            "\r 77%|███████▋  | 151/196 [00:11<00:03, 13.05it/s]"
          ],
          "name": "stderr"
        },
        {
          "output_type": "stream",
          "text": [
            "torch.Size([256, 32, 32, 32])\n",
            "torch.Size([256, 32, 16, 16])\n",
            "torch.Size([256, 64, 16, 16])\n",
            "torch.Size([256, 64, 8, 8])\n",
            "torch.Size([256, 128, 8, 8])\n",
            "torch.Size([256, 32, 32, 32])\n",
            "torch.Size([256, 32, 16, 16])\n",
            "torch.Size([256, 64, 16, 16])\n",
            "torch.Size([256, 64, 8, 8])\n",
            "torch.Size([256, 128, 8, 8])\n",
            "torch.Size([256, 32, 32, 32])\n",
            "torch.Size([256, 32, 16, 16])\n",
            "torch.Size([256, 64, 16, 16])\n",
            "torch.Size([256, 64, 8, 8])\n",
            "torch.Size([256, 128, 8, 8])\n"
          ],
          "name": "stdout"
        },
        {
          "output_type": "stream",
          "text": [
            " 79%|███████▉  | 155/196 [00:12<00:03, 13.31it/s]"
          ],
          "name": "stderr"
        },
        {
          "output_type": "stream",
          "text": [
            "torch.Size([256, 32, 32, 32])\n",
            "torch.Size([256, 32, 16, 16])\n",
            "torch.Size([256, 64, 16, 16])\n",
            "torch.Size([256, 64, 8, 8])\n",
            "torch.Size([256, 128, 8, 8])\n",
            "torch.Size([256, 32, 32, 32])\n",
            "torch.Size([256, 32, 16, 16])\n",
            "torch.Size([256, 64, 16, 16])\n",
            "torch.Size([256, 64, 8, 8])\n",
            "torch.Size([256, 128, 8, 8])\n",
            "torch.Size([256, 32, 32, 32])\n",
            "torch.Size([256, 32, 16, 16])\n",
            "torch.Size([256, 64, 16, 16])\n",
            "torch.Size([256, 64, 8, 8])\n",
            "torch.Size([256, 128, 8, 8])\n"
          ],
          "name": "stdout"
        },
        {
          "output_type": "stream",
          "text": [
            "\r 80%|████████  | 157/196 [00:12<00:02, 13.28it/s]"
          ],
          "name": "stderr"
        },
        {
          "output_type": "stream",
          "text": [
            "torch.Size([256, 32, 32, 32])\n",
            "torch.Size([256, 32, 16, 16])\n",
            "torch.Size([256, 64, 16, 16])\n",
            "torch.Size([256, 64, 8, 8])\n",
            "torch.Size([256, 128, 8, 8])\n",
            "torch.Size([256, 32, 32, 32])\n",
            "torch.Size([256, 32, 16, 16])\n",
            "torch.Size([256, 64, 16, 16])\n",
            "torch.Size([256, 64, 8, 8])\n",
            "torch.Size([256, 128, 8, 8])\n",
            "torch.Size([256, 32, 32, 32])\n",
            "torch.Size([256, 32, 16, 16])\n",
            "torch.Size([256, 64, 16, 16])\n",
            "torch.Size([256, 64, 8, 8])\n",
            "torch.Size([256, 128, 8, 8])\n"
          ],
          "name": "stdout"
        },
        {
          "output_type": "stream",
          "text": [
            " 82%|████████▏ | 161/196 [00:12<00:02, 13.31it/s]"
          ],
          "name": "stderr"
        },
        {
          "output_type": "stream",
          "text": [
            "torch.Size([256, 32, 32, 32])\n",
            "torch.Size([256, 32, 16, 16])\n",
            "torch.Size([256, 64, 16, 16])\n",
            "torch.Size([256, 64, 8, 8])\n",
            "torch.Size([256, 128, 8, 8])\n",
            "torch.Size([256, 32, 32, 32])\n",
            "torch.Size([256, 32, 16, 16])\n",
            "torch.Size([256, 64, 16, 16])\n",
            "torch.Size([256, 64, 8, 8])\n",
            "torch.Size([256, 128, 8, 8])\n",
            "torch.Size([256, 32, 32, 32])\n",
            "torch.Size([256, 32, 16, 16])\n",
            "torch.Size([256, 64, 16, 16])\n",
            "torch.Size([256, 64, 8, 8])\n",
            "torch.Size([256, 128, 8, 8])\n"
          ],
          "name": "stdout"
        },
        {
          "output_type": "stream",
          "text": [
            "\r 83%|████████▎ | 163/196 [00:12<00:02, 13.56it/s]"
          ],
          "name": "stderr"
        },
        {
          "output_type": "stream",
          "text": [
            "torch.Size([256, 32, 32, 32])\n",
            "torch.Size([256, 32, 16, 16])\n",
            "torch.Size([256, 64, 16, 16])\n",
            "torch.Size([256, 64, 8, 8])\n",
            "torch.Size([256, 128, 8, 8])\n",
            "torch.Size([256, 32, 32, 32])\n",
            "torch.Size([256, 32, 16, 16])\n",
            "torch.Size([256, 64, 16, 16])\n",
            "torch.Size([256, 64, 8, 8])\n",
            "torch.Size([256, 128, 8, 8])\n",
            "torch.Size([256, 32, 32, 32])\n",
            "torch.Size([256, 32, 16, 16])\n",
            "torch.Size([256, 64, 16, 16])\n",
            "torch.Size([256, 64, 8, 8])\n",
            "torch.Size([256, 128, 8, 8])\n"
          ],
          "name": "stdout"
        },
        {
          "output_type": "stream",
          "text": [
            " 85%|████████▌ | 167/196 [00:12<00:02, 13.95it/s]"
          ],
          "name": "stderr"
        },
        {
          "output_type": "stream",
          "text": [
            "torch.Size([256, 32, 32, 32])\n",
            "torch.Size([256, 32, 16, 16])\n",
            "torch.Size([256, 64, 16, 16])\n",
            "torch.Size([256, 64, 8, 8])\n",
            "torch.Size([256, 128, 8, 8])\n",
            "torch.Size([256, 32, 32, 32])\n",
            "torch.Size([256, 32, 16, 16])\n",
            "torch.Size([256, 64, 16, 16])\n",
            "torch.Size([256, 64, 8, 8])\n",
            "torch.Size([256, 128, 8, 8])\n",
            "torch.Size([256, 32, 32, 32])\n",
            "torch.Size([256, 32, 16, 16])\n",
            "torch.Size([256, 64, 16, 16])\n",
            "torch.Size([256, 64, 8, 8])\n",
            "torch.Size([256, 128, 8, 8])\n"
          ],
          "name": "stdout"
        },
        {
          "output_type": "stream",
          "text": [
            "\r 86%|████████▌ | 169/196 [00:13<00:01, 13.55it/s]"
          ],
          "name": "stderr"
        },
        {
          "output_type": "stream",
          "text": [
            "torch.Size([256, 32, 32, 32])\n",
            "torch.Size([256, 32, 16, 16])\n",
            "torch.Size([256, 64, 16, 16])\n",
            "torch.Size([256, 64, 8, 8])\n",
            "torch.Size([256, 128, 8, 8])\n",
            "torch.Size([256, 32, 32, 32])\n",
            "torch.Size([256, 32, 16, 16])\n",
            "torch.Size([256, 64, 16, 16])\n",
            "torch.Size([256, 64, 8, 8])\n",
            "torch.Size([256, 128, 8, 8])\n",
            "torch.Size([256, 32, 32, 32])\n",
            "torch.Size([256, 32, 16, 16])\n",
            "torch.Size([256, 64, 16, 16])\n",
            "torch.Size([256, 64, 8, 8])\n",
            "torch.Size([256, 128, 8, 8])\n"
          ],
          "name": "stdout"
        },
        {
          "output_type": "stream",
          "text": [
            " 88%|████████▊ | 173/196 [00:13<00:01, 13.71it/s]"
          ],
          "name": "stderr"
        },
        {
          "output_type": "stream",
          "text": [
            "torch.Size([256, 32, 32, 32])\n",
            "torch.Size([256, 32, 16, 16])\n",
            "torch.Size([256, 64, 16, 16])\n",
            "torch.Size([256, 64, 8, 8])\n",
            "torch.Size([256, 128, 8, 8])\n",
            "torch.Size([256, 32, 32, 32])\n",
            "torch.Size([256, 32, 16, 16])\n",
            "torch.Size([256, 64, 16, 16])\n",
            "torch.Size([256, 64, 8, 8])\n",
            "torch.Size([256, 128, 8, 8])\n",
            "torch.Size([256, 32, 32, 32])\n",
            "torch.Size([256, 32, 16, 16])\n",
            "torch.Size([256, 64, 16, 16])\n",
            "torch.Size([256, 64, 8, 8])\n",
            "torch.Size([256, 128, 8, 8])\n"
          ],
          "name": "stdout"
        },
        {
          "output_type": "stream",
          "text": [
            "\r 89%|████████▉ | 175/196 [00:13<00:01, 13.38it/s]"
          ],
          "name": "stderr"
        },
        {
          "output_type": "stream",
          "text": [
            "torch.Size([256, 32, 32, 32])\n",
            "torch.Size([256, 32, 16, 16])\n",
            "torch.Size([256, 64, 16, 16])\n",
            "torch.Size([256, 64, 8, 8])\n",
            "torch.Size([256, 128, 8, 8])\n",
            "torch.Size([256, 32, 32, 32])\n",
            "torch.Size([256, 32, 16, 16])\n",
            "torch.Size([256, 64, 16, 16])\n",
            "torch.Size([256, 64, 8, 8])\n",
            "torch.Size([256, 128, 8, 8])\n",
            "torch.Size([256, 32, 32, 32])\n",
            "torch.Size([256, 32, 16, 16])\n",
            "torch.Size([256, 64, 16, 16])\n",
            "torch.Size([256, 64, 8, 8])\n",
            "torch.Size([256, 128, 8, 8])\n"
          ],
          "name": "stdout"
        },
        {
          "output_type": "stream",
          "text": [
            " 91%|█████████▏| 179/196 [00:13<00:01, 13.80it/s]"
          ],
          "name": "stderr"
        },
        {
          "output_type": "stream",
          "text": [
            "torch.Size([256, 32, 32, 32])\n",
            "torch.Size([256, 32, 16, 16])\n",
            "torch.Size([256, 64, 16, 16])\n",
            "torch.Size([256, 64, 8, 8])\n",
            "torch.Size([256, 128, 8, 8])\n",
            "torch.Size([256, 32, 32, 32])\n",
            "torch.Size([256, 32, 16, 16])\n",
            "torch.Size([256, 64, 16, 16])\n",
            "torch.Size([256, 64, 8, 8])\n",
            "torch.Size([256, 128, 8, 8])\n",
            "torch.Size([256, 32, 32, 32])\n",
            "torch.Size([256, 32, 16, 16])\n",
            "torch.Size([256, 64, 16, 16])\n",
            "torch.Size([256, 64, 8, 8])\n",
            "torch.Size([256, 128, 8, 8])\n"
          ],
          "name": "stdout"
        },
        {
          "output_type": "stream",
          "text": [
            "\r 92%|█████████▏| 181/196 [00:13<00:01, 13.72it/s]"
          ],
          "name": "stderr"
        },
        {
          "output_type": "stream",
          "text": [
            "torch.Size([256, 32, 32, 32])\n",
            "torch.Size([256, 32, 16, 16])\n",
            "torch.Size([256, 64, 16, 16])\n",
            "torch.Size([256, 64, 8, 8])\n",
            "torch.Size([256, 128, 8, 8])\n",
            "torch.Size([256, 32, 32, 32])\n",
            "torch.Size([256, 32, 16, 16])\n",
            "torch.Size([256, 64, 16, 16])\n",
            "torch.Size([256, 64, 8, 8])\n",
            "torch.Size([256, 128, 8, 8])\n",
            "torch.Size([256, 32, 32, 32])\n",
            "torch.Size([256, 32, 16, 16])\n",
            "torch.Size([256, 64, 16, 16])\n",
            "torch.Size([256, 64, 8, 8])\n",
            "torch.Size([256, 128, 8, 8])\n"
          ],
          "name": "stdout"
        },
        {
          "output_type": "stream",
          "text": [
            " 94%|█████████▍| 185/196 [00:14<00:00, 13.49it/s]"
          ],
          "name": "stderr"
        },
        {
          "output_type": "stream",
          "text": [
            "torch.Size([256, 32, 32, 32])\n",
            "torch.Size([256, 32, 16, 16])\n",
            "torch.Size([256, 64, 16, 16])\n",
            "torch.Size([256, 64, 8, 8])\n",
            "torch.Size([256, 128, 8, 8])\n",
            "torch.Size([256, 32, 32, 32])\n",
            "torch.Size([256, 32, 16, 16])\n",
            "torch.Size([256, 64, 16, 16])\n",
            "torch.Size([256, 64, 8, 8])\n",
            "torch.Size([256, 128, 8, 8])\n",
            "torch.Size([256, 32, 32, 32])\n",
            "torch.Size([256, 32, 16, 16])\n",
            "torch.Size([256, 64, 16, 16])\n",
            "torch.Size([256, 64, 8, 8])\n",
            "torch.Size([256, 128, 8, 8])\n"
          ],
          "name": "stdout"
        },
        {
          "output_type": "stream",
          "text": [
            "\r 95%|█████████▌| 187/196 [00:14<00:00, 13.70it/s]"
          ],
          "name": "stderr"
        },
        {
          "output_type": "stream",
          "text": [
            "torch.Size([256, 32, 32, 32])\n",
            "torch.Size([256, 32, 16, 16])\n",
            "torch.Size([256, 64, 16, 16])\n",
            "torch.Size([256, 64, 8, 8])\n",
            "torch.Size([256, 128, 8, 8])\n",
            "torch.Size([256, 32, 32, 32])\n",
            "torch.Size([256, 32, 16, 16])\n",
            "torch.Size([256, 64, 16, 16])\n",
            "torch.Size([256, 64, 8, 8])\n",
            "torch.Size([256, 128, 8, 8])\n",
            "torch.Size([256, 32, 32, 32])\n",
            "torch.Size([256, 32, 16, 16])\n",
            "torch.Size([256, 64, 16, 16])\n",
            "torch.Size([256, 64, 8, 8])\n",
            "torch.Size([256, 128, 8, 8])\n"
          ],
          "name": "stdout"
        },
        {
          "output_type": "stream",
          "text": [
            " 97%|█████████▋| 191/196 [00:14<00:00, 13.93it/s]"
          ],
          "name": "stderr"
        },
        {
          "output_type": "stream",
          "text": [
            "torch.Size([256, 32, 32, 32])\n",
            "torch.Size([256, 32, 16, 16])\n",
            "torch.Size([256, 64, 16, 16])\n",
            "torch.Size([256, 64, 8, 8])\n",
            "torch.Size([256, 128, 8, 8])\n",
            "torch.Size([256, 32, 32, 32])\n",
            "torch.Size([256, 32, 16, 16])\n",
            "torch.Size([256, 64, 16, 16])\n",
            "torch.Size([256, 64, 8, 8])\n",
            "torch.Size([256, 128, 8, 8])\n",
            "torch.Size([256, 32, 32, 32])\n",
            "torch.Size([256, 32, 16, 16])\n",
            "torch.Size([256, 64, 16, 16])\n",
            "torch.Size([256, 64, 8, 8])\n",
            "torch.Size([256, 128, 8, 8])\n"
          ],
          "name": "stdout"
        },
        {
          "output_type": "stream",
          "text": [
            " 99%|█████████▉| 195/196 [00:14<00:00, 14.30it/s]"
          ],
          "name": "stderr"
        },
        {
          "output_type": "stream",
          "text": [
            "torch.Size([256, 32, 32, 32])\n",
            "torch.Size([256, 32, 16, 16])\n",
            "torch.Size([256, 64, 16, 16])\n",
            "torch.Size([256, 64, 8, 8])\n",
            "torch.Size([256, 128, 8, 8])\n",
            "torch.Size([256, 32, 32, 32])\n",
            "torch.Size([256, 32, 16, 16])\n",
            "torch.Size([256, 64, 16, 16])\n",
            "torch.Size([256, 64, 8, 8])\n",
            "torch.Size([256, 128, 8, 8])\n",
            "torch.Size([256, 32, 32, 32])\n",
            "torch.Size([256, 32, 16, 16])\n",
            "torch.Size([256, 64, 16, 16])\n",
            "torch.Size([256, 64, 8, 8])\n",
            "torch.Size([256, 128, 8, 8])\n"
          ],
          "name": "stdout"
        },
        {
          "output_type": "stream",
          "text": [
            "\r100%|██████████| 196/196 [00:14<00:00, 13.07it/s]"
          ],
          "name": "stderr"
        },
        {
          "output_type": "stream",
          "text": [
            "torch.Size([80, 32, 32, 32])\n",
            "torch.Size([80, 32, 16, 16])\n",
            "torch.Size([80, 64, 16, 16])\n",
            "torch.Size([80, 64, 8, 8])\n",
            "torch.Size([80, 128, 8, 8])\n"
          ],
          "name": "stdout"
        },
        {
          "output_type": "stream",
          "text": [
            "\n"
          ],
          "name": "stderr"
        },
        {
          "output_type": "stream",
          "text": [
            "torch.Size([256, 32, 32, 32])\n",
            "torch.Size([256, 32, 16, 16])\n",
            "torch.Size([256, 64, 16, 16])\n",
            "torch.Size([256, 64, 8, 8])\n",
            "torch.Size([256, 128, 8, 8])\n",
            "torch.Size([256, 32, 32, 32])\n",
            "torch.Size([256, 32, 16, 16])\n",
            "torch.Size([256, 64, 16, 16])\n",
            "torch.Size([256, 64, 8, 8])\n",
            "torch.Size([256, 128, 8, 8])\n",
            "torch.Size([256, 32, 32, 32])\n",
            "torch.Size([256, 32, 16, 16])\n",
            "torch.Size([256, 64, 16, 16])\n",
            "torch.Size([256, 64, 8, 8])\n",
            "torch.Size([256, 128, 8, 8])\n",
            "torch.Size([256, 32, 32, 32])\n",
            "torch.Size([256, 32, 16, 16])\n",
            "torch.Size([256, 64, 16, 16])\n",
            "torch.Size([256, 64, 8, 8])\n",
            "torch.Size([256, 128, 8, 8])\n",
            "torch.Size([256, 32, 32, 32])\n",
            "torch.Size([256, 32, 16, 16])\n",
            "torch.Size([256, 64, 16, 16])\n",
            "torch.Size([256, 64, 8, 8])\n",
            "torch.Size([256, 128, 8, 8])\n",
            "torch.Size([256, 32, 32, 32])\n",
            "torch.Size([256, 32, 16, 16])\n",
            "torch.Size([256, 64, 16, 16])\n",
            "torch.Size([256, 64, 8, 8])\n",
            "torch.Size([256, 128, 8, 8])\n",
            "torch.Size([256, 32, 32, 32])\n",
            "torch.Size([256, 32, 16, 16])\n",
            "torch.Size([256, 64, 16, 16])\n",
            "torch.Size([256, 64, 8, 8])\n",
            "torch.Size([256, 128, 8, 8])\n",
            "torch.Size([256, 32, 32, 32])\n",
            "torch.Size([256, 32, 16, 16])\n",
            "torch.Size([256, 64, 16, 16])\n",
            "torch.Size([256, 64, 8, 8])\n",
            "torch.Size([256, 128, 8, 8])\n",
            "torch.Size([256, 32, 32, 32])\n",
            "torch.Size([256, 32, 16, 16])\n",
            "torch.Size([256, 64, 16, 16])\n",
            "torch.Size([256, 64, 8, 8])\n",
            "torch.Size([256, 128, 8, 8])\n",
            "torch.Size([256, 32, 32, 32])\n",
            "torch.Size([256, 32, 16, 16])\n",
            "torch.Size([256, 64, 16, 16])\n",
            "torch.Size([256, 64, 8, 8])\n",
            "torch.Size([256, 128, 8, 8])\n",
            "torch.Size([256, 32, 32, 32])\n",
            "torch.Size([256, 32, 16, 16])\n",
            "torch.Size([256, 64, 16, 16])\n",
            "torch.Size([256, 64, 8, 8])\n",
            "torch.Size([256, 128, 8, 8])\n",
            "torch.Size([256, 32, 32, 32])\n",
            "torch.Size([256, 32, 16, 16])\n",
            "torch.Size([256, 64, 16, 16])\n",
            "torch.Size([256, 64, 8, 8])\n",
            "torch.Size([256, 128, 8, 8])\n",
            "torch.Size([256, 32, 32, 32])\n",
            "torch.Size([256, 32, 16, 16])\n",
            "torch.Size([256, 64, 16, 16])\n",
            "torch.Size([256, 64, 8, 8])\n",
            "torch.Size([256, 128, 8, 8])\n",
            "torch.Size([256, 32, 32, 32])\n",
            "torch.Size([256, 32, 16, 16])\n",
            "torch.Size([256, 64, 16, 16])\n",
            "torch.Size([256, 64, 8, 8])\n",
            "torch.Size([256, 128, 8, 8])\n",
            "torch.Size([256, 32, 32, 32])\n",
            "torch.Size([256, 32, 16, 16])\n",
            "torch.Size([256, 64, 16, 16])\n",
            "torch.Size([256, 64, 8, 8])\n",
            "torch.Size([256, 128, 8, 8])\n",
            "torch.Size([256, 32, 32, 32])\n",
            "torch.Size([256, 32, 16, 16])\n",
            "torch.Size([256, 64, 16, 16])\n",
            "torch.Size([256, 64, 8, 8])\n",
            "torch.Size([256, 128, 8, 8])\n",
            "torch.Size([256, 32, 32, 32])\n",
            "torch.Size([256, 32, 16, 16])\n",
            "torch.Size([256, 64, 16, 16])\n",
            "torch.Size([256, 64, 8, 8])\n",
            "torch.Size([256, 128, 8, 8])\n",
            "torch.Size([256, 32, 32, 32])\n",
            "torch.Size([256, 32, 16, 16])\n",
            "torch.Size([256, 64, 16, 16])\n",
            "torch.Size([256, 64, 8, 8])\n",
            "torch.Size([256, 128, 8, 8])\n",
            "torch.Size([256, 32, 32, 32])\n",
            "torch.Size([256, 32, 16, 16])\n",
            "torch.Size([256, 64, 16, 16])\n",
            "torch.Size([256, 64, 8, 8])\n",
            "torch.Size([256, 128, 8, 8])\n",
            "torch.Size([256, 32, 32, 32])\n",
            "torch.Size([256, 32, 16, 16])\n",
            "torch.Size([256, 64, 16, 16])\n",
            "torch.Size([256, 64, 8, 8])\n",
            "torch.Size([256, 128, 8, 8])\n",
            "torch.Size([256, 32, 32, 32])\n",
            "torch.Size([256, 32, 16, 16])\n",
            "torch.Size([256, 64, 16, 16])\n",
            "torch.Size([256, 64, 8, 8])\n",
            "torch.Size([256, 128, 8, 8])\n",
            "torch.Size([256, 32, 32, 32])\n",
            "torch.Size([256, 32, 16, 16])\n",
            "torch.Size([256, 64, 16, 16])\n",
            "torch.Size([256, 64, 8, 8])\n",
            "torch.Size([256, 128, 8, 8])\n",
            "torch.Size([256, 32, 32, 32])\n",
            "torch.Size([256, 32, 16, 16])\n",
            "torch.Size([256, 64, 16, 16])\n",
            "torch.Size([256, 64, 8, 8])\n",
            "torch.Size([256, 128, 8, 8])\n",
            "torch.Size([256, 32, 32, 32])\n",
            "torch.Size([256, 32, 16, 16])\n",
            "torch.Size([256, 64, 16, 16])\n",
            "torch.Size([256, 64, 8, 8])\n",
            "torch.Size([256, 128, 8, 8])\n",
            "torch.Size([256, 32, 32, 32])\n",
            "torch.Size([256, 32, 16, 16])\n",
            "torch.Size([256, 64, 16, 16])\n",
            "torch.Size([256, 64, 8, 8])\n",
            "torch.Size([256, 128, 8, 8])\n",
            "torch.Size([256, 32, 32, 32])\n",
            "torch.Size([256, 32, 16, 16])\n",
            "torch.Size([256, 64, 16, 16])\n",
            "torch.Size([256, 64, 8, 8])\n",
            "torch.Size([256, 128, 8, 8])\n",
            "torch.Size([256, 32, 32, 32])\n",
            "torch.Size([256, 32, 16, 16])\n",
            "torch.Size([256, 64, 16, 16])\n",
            "torch.Size([256, 64, 8, 8])\n",
            "torch.Size([256, 128, 8, 8])\n",
            "torch.Size([256, 32, 32, 32])\n",
            "torch.Size([256, 32, 16, 16])\n",
            "torch.Size([256, 64, 16, 16])\n",
            "torch.Size([256, 64, 8, 8])\n",
            "torch.Size([256, 128, 8, 8])\n",
            "torch.Size([256, 32, 32, 32])\n",
            "torch.Size([256, 32, 16, 16])\n",
            "torch.Size([256, 64, 16, 16])\n",
            "torch.Size([256, 64, 8, 8])\n",
            "torch.Size([256, 128, 8, 8])\n",
            "torch.Size([256, 32, 32, 32])\n",
            "torch.Size([256, 32, 16, 16])\n",
            "torch.Size([256, 64, 16, 16])\n",
            "torch.Size([256, 64, 8, 8])\n",
            "torch.Size([256, 128, 8, 8])\n",
            "torch.Size([256, 32, 32, 32])\n",
            "torch.Size([256, 32, 16, 16])\n",
            "torch.Size([256, 64, 16, 16])\n",
            "torch.Size([256, 64, 8, 8])\n",
            "torch.Size([256, 128, 8, 8])\n",
            "torch.Size([256, 32, 32, 32])\n",
            "torch.Size([256, 32, 16, 16])\n",
            "torch.Size([256, 64, 16, 16])\n",
            "torch.Size([256, 64, 8, 8])\n",
            "torch.Size([256, 128, 8, 8])\n",
            "torch.Size([256, 32, 32, 32])\n",
            "torch.Size([256, 32, 16, 16])\n",
            "torch.Size([256, 64, 16, 16])\n",
            "torch.Size([256, 64, 8, 8])\n",
            "torch.Size([256, 128, 8, 8])\n",
            "torch.Size([256, 32, 32, 32])\n",
            "torch.Size([256, 32, 16, 16])\n",
            "torch.Size([256, 64, 16, 16])\n",
            "torch.Size([256, 64, 8, 8])\n",
            "torch.Size([256, 128, 8, 8])\n",
            "torch.Size([256, 32, 32, 32])\n",
            "torch.Size([256, 32, 16, 16])\n",
            "torch.Size([256, 64, 16, 16])\n",
            "torch.Size([256, 64, 8, 8])\n",
            "torch.Size([256, 128, 8, 8])\n",
            "torch.Size([256, 32, 32, 32])\n",
            "torch.Size([256, 32, 16, 16])\n",
            "torch.Size([256, 64, 16, 16])\n",
            "torch.Size([256, 64, 8, 8])\n",
            "torch.Size([256, 128, 8, 8])\n",
            "torch.Size([256, 32, 32, 32])\n",
            "torch.Size([256, 32, 16, 16])\n",
            "torch.Size([256, 64, 16, 16])\n",
            "torch.Size([256, 64, 8, 8])\n",
            "torch.Size([256, 128, 8, 8])\n",
            "torch.Size([256, 32, 32, 32])\n",
            "torch.Size([256, 32, 16, 16])\n",
            "torch.Size([256, 64, 16, 16])\n",
            "torch.Size([256, 64, 8, 8])\n",
            "torch.Size([256, 128, 8, 8])\n",
            "torch.Size([256, 32, 32, 32])\n",
            "torch.Size([256, 32, 16, 16])\n",
            "torch.Size([256, 64, 16, 16])\n",
            "torch.Size([256, 64, 8, 8])\n",
            "torch.Size([256, 128, 8, 8])\n",
            "torch.Size([16, 32, 32, 32])\n",
            "torch.Size([16, 32, 16, 16])\n",
            "torch.Size([16, 64, 16, 16])\n",
            "torch.Size([16, 64, 8, 8])\n",
            "torch.Size([16, 128, 8, 8])\n"
          ],
          "name": "stdout"
        },
        {
          "output_type": "stream",
          "text": [
            "\r  0%|          | 0/196 [00:00<?, ?it/s]"
          ],
          "name": "stderr"
        },
        {
          "output_type": "stream",
          "text": [
            "\n",
            "Epoch: 6 Train set: Average loss: 0.0028, Accuracy: 74.626%\n",
            "Epoch: 6 Test set: Average loss: 0.0037, Accuracy: 68.880%\n"
          ],
          "name": "stdout"
        },
        {
          "output_type": "stream",
          "text": [
            "\r  1%|          | 1/196 [00:00<01:20,  2.43it/s]"
          ],
          "name": "stderr"
        },
        {
          "output_type": "stream",
          "text": [
            "torch.Size([256, 32, 32, 32])\n",
            "torch.Size([256, 32, 16, 16])\n",
            "torch.Size([256, 64, 16, 16])\n",
            "torch.Size([256, 64, 8, 8])\n",
            "torch.Size([256, 128, 8, 8])\n",
            "torch.Size([256, 32, 32, 32])\n",
            "torch.Size([256, 32, 16, 16])\n",
            "torch.Size([256, 64, 16, 16])\n",
            "torch.Size([256, 64, 8, 8])\n",
            "torch.Size([256, 128, 8, 8])\n",
            "torch.Size([256, 32, 32, 32])\n",
            "torch.Size([256, 32, 16, 16])\n",
            "torch.Size([256, 64, 16, 16])\n",
            "torch.Size([256, 64, 8, 8])\n",
            "torch.Size([256, 128, 8, 8])\n"
          ],
          "name": "stdout"
        },
        {
          "output_type": "stream",
          "text": [
            "  3%|▎         | 5/196 [00:00<00:46,  4.12it/s]"
          ],
          "name": "stderr"
        },
        {
          "output_type": "stream",
          "text": [
            "torch.Size([256, 32, 32, 32])\n",
            "torch.Size([256, 32, 16, 16])\n",
            "torch.Size([256, 64, 16, 16])\n",
            "torch.Size([256, 64, 8, 8])\n",
            "torch.Size([256, 128, 8, 8])\n",
            "torch.Size([256, 32, 32, 32])\n",
            "torch.Size([256, 32, 16, 16])\n",
            "torch.Size([256, 64, 16, 16])\n",
            "torch.Size([256, 64, 8, 8])\n",
            "torch.Size([256, 128, 8, 8])\n",
            "torch.Size([256, 32, 32, 32])\n",
            "torch.Size([256, 32, 16, 16])\n",
            "torch.Size([256, 64, 16, 16])\n",
            "torch.Size([256, 64, 8, 8])\n",
            "torch.Size([256, 128, 8, 8])\n"
          ],
          "name": "stdout"
        },
        {
          "output_type": "stream",
          "text": [
            "\r  4%|▎         | 7/196 [00:00<00:36,  5.19it/s]"
          ],
          "name": "stderr"
        },
        {
          "output_type": "stream",
          "text": [
            "torch.Size([256, 32, 32, 32])\n",
            "torch.Size([256, 32, 16, 16])\n",
            "torch.Size([256, 64, 16, 16])\n",
            "torch.Size([256, 64, 8, 8])\n",
            "torch.Size([256, 128, 8, 8])\n",
            "torch.Size([256, 32, 32, 32])\n",
            "torch.Size([256, 32, 16, 16])\n",
            "torch.Size([256, 64, 16, 16])\n",
            "torch.Size([256, 64, 8, 8])\n",
            "torch.Size([256, 128, 8, 8])\n",
            "torch.Size([256, 32, 32, 32])\n",
            "torch.Size([256, 32, 16, 16])\n",
            "torch.Size([256, 64, 16, 16])\n",
            "torch.Size([256, 64, 8, 8])\n",
            "torch.Size([256, 128, 8, 8])\n"
          ],
          "name": "stdout"
        },
        {
          "output_type": "stream",
          "text": [
            "  6%|▌         | 11/196 [00:01<00:24,  7.56it/s]"
          ],
          "name": "stderr"
        },
        {
          "output_type": "stream",
          "text": [
            "torch.Size([256, 32, 32, 32])\n",
            "torch.Size([256, 32, 16, 16])\n",
            "torch.Size([256, 64, 16, 16])\n",
            "torch.Size([256, 64, 8, 8])\n",
            "torch.Size([256, 128, 8, 8])\n",
            "torch.Size([256, 32, 32, 32])\n",
            "torch.Size([256, 32, 16, 16])\n",
            "torch.Size([256, 64, 16, 16])\n",
            "torch.Size([256, 64, 8, 8])\n",
            "torch.Size([256, 128, 8, 8])\n",
            "torch.Size([256, 32, 32, 32])\n",
            "torch.Size([256, 32, 16, 16])\n",
            "torch.Size([256, 64, 16, 16])\n",
            "torch.Size([256, 64, 8, 8])\n",
            "torch.Size([256, 128, 8, 8])\n"
          ],
          "name": "stdout"
        },
        {
          "output_type": "stream",
          "text": [
            "\r  7%|▋         | 13/196 [00:01<00:21,  8.56it/s]"
          ],
          "name": "stderr"
        },
        {
          "output_type": "stream",
          "text": [
            "torch.Size([256, 32, 32, 32])\n",
            "torch.Size([256, 32, 16, 16])\n",
            "torch.Size([256, 64, 16, 16])\n",
            "torch.Size([256, 64, 8, 8])\n",
            "torch.Size([256, 128, 8, 8])\n",
            "torch.Size([256, 32, 32, 32])\n",
            "torch.Size([256, 32, 16, 16])\n",
            "torch.Size([256, 64, 16, 16])\n",
            "torch.Size([256, 64, 8, 8])\n",
            "torch.Size([256, 128, 8, 8])\n",
            "torch.Size([256, 32, 32, 32])\n",
            "torch.Size([256, 32, 16, 16])\n",
            "torch.Size([256, 64, 16, 16])\n",
            "torch.Size([256, 64, 8, 8])\n",
            "torch.Size([256, 128, 8, 8])\n"
          ],
          "name": "stdout"
        },
        {
          "output_type": "stream",
          "text": [
            "  9%|▊         | 17/196 [00:01<00:17, 10.50it/s]"
          ],
          "name": "stderr"
        },
        {
          "output_type": "stream",
          "text": [
            "torch.Size([256, 32, 32, 32])\n",
            "torch.Size([256, 32, 16, 16])\n",
            "torch.Size([256, 64, 16, 16])\n",
            "torch.Size([256, 64, 8, 8])\n",
            "torch.Size([256, 128, 8, 8])\n",
            "torch.Size([256, 32, 32, 32])\n",
            "torch.Size([256, 32, 16, 16])\n",
            "torch.Size([256, 64, 16, 16])\n",
            "torch.Size([256, 64, 8, 8])\n",
            "torch.Size([256, 128, 8, 8])\n",
            "torch.Size([256, 32, 32, 32])\n",
            "torch.Size([256, 32, 16, 16])\n",
            "torch.Size([256, 64, 16, 16])\n",
            "torch.Size([256, 64, 8, 8])\n",
            "torch.Size([256, 128, 8, 8])\n"
          ],
          "name": "stdout"
        },
        {
          "output_type": "stream",
          "text": [
            "\r 10%|▉         | 19/196 [00:01<00:15, 11.25it/s]"
          ],
          "name": "stderr"
        },
        {
          "output_type": "stream",
          "text": [
            "torch.Size([256, 32, 32, 32])\n",
            "torch.Size([256, 32, 16, 16])\n",
            "torch.Size([256, 64, 16, 16])\n",
            "torch.Size([256, 64, 8, 8])\n",
            "torch.Size([256, 128, 8, 8])\n",
            "torch.Size([256, 32, 32, 32])\n",
            "torch.Size([256, 32, 16, 16])\n",
            "torch.Size([256, 64, 16, 16])\n",
            "torch.Size([256, 64, 8, 8])\n",
            "torch.Size([256, 128, 8, 8])\n",
            "torch.Size([256, 32, 32, 32])\n",
            "torch.Size([256, 32, 16, 16])\n",
            "torch.Size([256, 64, 16, 16])\n",
            "torch.Size([256, 64, 8, 8])\n",
            "torch.Size([256, 128, 8, 8])\n"
          ],
          "name": "stdout"
        },
        {
          "output_type": "stream",
          "text": [
            " 12%|█▏        | 23/196 [00:02<00:14, 12.20it/s]"
          ],
          "name": "stderr"
        },
        {
          "output_type": "stream",
          "text": [
            "torch.Size([256, 32, 32, 32])\n",
            "torch.Size([256, 32, 16, 16])\n",
            "torch.Size([256, 64, 16, 16])\n",
            "torch.Size([256, 64, 8, 8])\n",
            "torch.Size([256, 128, 8, 8])\n",
            "torch.Size([256, 32, 32, 32])\n",
            "torch.Size([256, 32, 16, 16])\n",
            "torch.Size([256, 64, 16, 16])\n",
            "torch.Size([256, 64, 8, 8])\n",
            "torch.Size([256, 128, 8, 8])\n",
            "torch.Size([256, 32, 32, 32])\n",
            "torch.Size([256, 32, 16, 16])\n",
            "torch.Size([256, 64, 16, 16])\n",
            "torch.Size([256, 64, 8, 8])\n",
            "torch.Size([256, 128, 8, 8])\n"
          ],
          "name": "stdout"
        },
        {
          "output_type": "stream",
          "text": [
            "\r 13%|█▎        | 25/196 [00:02<00:13, 12.50it/s]"
          ],
          "name": "stderr"
        },
        {
          "output_type": "stream",
          "text": [
            "torch.Size([256, 32, 32, 32])\n",
            "torch.Size([256, 32, 16, 16])\n",
            "torch.Size([256, 64, 16, 16])\n",
            "torch.Size([256, 64, 8, 8])\n",
            "torch.Size([256, 128, 8, 8])\n",
            "torch.Size([256, 32, 32, 32])\n",
            "torch.Size([256, 32, 16, 16])\n",
            "torch.Size([256, 64, 16, 16])\n",
            "torch.Size([256, 64, 8, 8])\n",
            "torch.Size([256, 128, 8, 8])\n",
            "torch.Size([256, 32, 32, 32])\n",
            "torch.Size([256, 32, 16, 16])\n",
            "torch.Size([256, 64, 16, 16])\n",
            "torch.Size([256, 64, 8, 8])\n",
            "torch.Size([256, 128, 8, 8])\n"
          ],
          "name": "stdout"
        },
        {
          "output_type": "stream",
          "text": [
            " 15%|█▍        | 29/196 [00:02<00:12, 12.88it/s]"
          ],
          "name": "stderr"
        },
        {
          "output_type": "stream",
          "text": [
            "torch.Size([256, 32, 32, 32])\n",
            "torch.Size([256, 32, 16, 16])\n",
            "torch.Size([256, 64, 16, 16])\n",
            "torch.Size([256, 64, 8, 8])\n",
            "torch.Size([256, 128, 8, 8])\n",
            "torch.Size([256, 32, 32, 32])\n",
            "torch.Size([256, 32, 16, 16])\n",
            "torch.Size([256, 64, 16, 16])\n",
            "torch.Size([256, 64, 8, 8])\n",
            "torch.Size([256, 128, 8, 8])\n",
            "torch.Size([256, 32, 32, 32])\n",
            "torch.Size([256, 32, 16, 16])\n",
            "torch.Size([256, 64, 16, 16])\n",
            "torch.Size([256, 64, 8, 8])\n",
            "torch.Size([256, 128, 8, 8])\n"
          ],
          "name": "stdout"
        },
        {
          "output_type": "stream",
          "text": [
            "\r 16%|█▌        | 31/196 [00:02<00:12, 12.96it/s]"
          ],
          "name": "stderr"
        },
        {
          "output_type": "stream",
          "text": [
            "torch.Size([256, 32, 32, 32])\n",
            "torch.Size([256, 32, 16, 16])\n",
            "torch.Size([256, 64, 16, 16])\n",
            "torch.Size([256, 64, 8, 8])\n",
            "torch.Size([256, 128, 8, 8])\n",
            "torch.Size([256, 32, 32, 32])\n",
            "torch.Size([256, 32, 16, 16])\n",
            "torch.Size([256, 64, 16, 16])\n",
            "torch.Size([256, 64, 8, 8])\n",
            "torch.Size([256, 128, 8, 8])\n",
            "torch.Size([256, 32, 32, 32])\n",
            "torch.Size([256, 32, 16, 16])\n",
            "torch.Size([256, 64, 16, 16])\n",
            "torch.Size([256, 64, 8, 8])\n",
            "torch.Size([256, 128, 8, 8])\n"
          ],
          "name": "stdout"
        },
        {
          "output_type": "stream",
          "text": [
            " 18%|█▊        | 35/196 [00:02<00:12, 13.20it/s]"
          ],
          "name": "stderr"
        },
        {
          "output_type": "stream",
          "text": [
            "torch.Size([256, 32, 32, 32])\n",
            "torch.Size([256, 32, 16, 16])\n",
            "torch.Size([256, 64, 16, 16])\n",
            "torch.Size([256, 64, 8, 8])\n",
            "torch.Size([256, 128, 8, 8])\n",
            "torch.Size([256, 32, 32, 32])\n",
            "torch.Size([256, 32, 16, 16])\n",
            "torch.Size([256, 64, 16, 16])\n",
            "torch.Size([256, 64, 8, 8])\n",
            "torch.Size([256, 128, 8, 8])\n",
            "torch.Size([256, 32, 32, 32])\n",
            "torch.Size([256, 32, 16, 16])\n",
            "torch.Size([256, 64, 16, 16])\n",
            "torch.Size([256, 64, 8, 8])\n",
            "torch.Size([256, 128, 8, 8])\n"
          ],
          "name": "stdout"
        },
        {
          "output_type": "stream",
          "text": [
            "\r 19%|█▉        | 37/196 [00:03<00:11, 13.50it/s]"
          ],
          "name": "stderr"
        },
        {
          "output_type": "stream",
          "text": [
            "torch.Size([256, 32, 32, 32])\n",
            "torch.Size([256, 32, 16, 16])\n",
            "torch.Size([256, 64, 16, 16])\n",
            "torch.Size([256, 64, 8, 8])\n",
            "torch.Size([256, 128, 8, 8])\n",
            "torch.Size([256, 32, 32, 32])\n",
            "torch.Size([256, 32, 16, 16])\n",
            "torch.Size([256, 64, 16, 16])\n",
            "torch.Size([256, 64, 8, 8])\n",
            "torch.Size([256, 128, 8, 8])\n",
            "torch.Size([256, 32, 32, 32])\n",
            "torch.Size([256, 32, 16, 16])\n",
            "torch.Size([256, 64, 16, 16])\n",
            "torch.Size([256, 64, 8, 8])\n",
            "torch.Size([256, 128, 8, 8])\n"
          ],
          "name": "stdout"
        },
        {
          "output_type": "stream",
          "text": [
            " 21%|██        | 41/196 [00:03<00:11, 13.90it/s]"
          ],
          "name": "stderr"
        },
        {
          "output_type": "stream",
          "text": [
            "torch.Size([256, 32, 32, 32])\n",
            "torch.Size([256, 32, 16, 16])\n",
            "torch.Size([256, 64, 16, 16])\n",
            "torch.Size([256, 64, 8, 8])\n",
            "torch.Size([256, 128, 8, 8])\n",
            "torch.Size([256, 32, 32, 32])\n",
            "torch.Size([256, 32, 16, 16])\n",
            "torch.Size([256, 64, 16, 16])\n",
            "torch.Size([256, 64, 8, 8])\n",
            "torch.Size([256, 128, 8, 8])\n",
            "torch.Size([256, 32, 32, 32])\n",
            "torch.Size([256, 32, 16, 16])\n",
            "torch.Size([256, 64, 16, 16])\n",
            "torch.Size([256, 64, 8, 8])\n",
            "torch.Size([256, 128, 8, 8])\n"
          ],
          "name": "stdout"
        },
        {
          "output_type": "stream",
          "text": [
            "\r 22%|██▏       | 43/196 [00:03<00:11, 13.75it/s]"
          ],
          "name": "stderr"
        },
        {
          "output_type": "stream",
          "text": [
            "torch.Size([256, 32, 32, 32])\n",
            "torch.Size([256, 32, 16, 16])\n",
            "torch.Size([256, 64, 16, 16])\n",
            "torch.Size([256, 64, 8, 8])\n",
            "torch.Size([256, 128, 8, 8])\n",
            "torch.Size([256, 32, 32, 32])\n",
            "torch.Size([256, 32, 16, 16])\n",
            "torch.Size([256, 64, 16, 16])\n",
            "torch.Size([256, 64, 8, 8])\n",
            "torch.Size([256, 128, 8, 8])\n",
            "torch.Size([256, 32, 32, 32])\n",
            "torch.Size([256, 32, 16, 16])\n",
            "torch.Size([256, 64, 16, 16])\n",
            "torch.Size([256, 64, 8, 8])\n",
            "torch.Size([256, 128, 8, 8])\n"
          ],
          "name": "stdout"
        },
        {
          "output_type": "stream",
          "text": [
            " 24%|██▍       | 47/196 [00:03<00:11, 13.54it/s]"
          ],
          "name": "stderr"
        },
        {
          "output_type": "stream",
          "text": [
            "torch.Size([256, 32, 32, 32])\n",
            "torch.Size([256, 32, 16, 16])\n",
            "torch.Size([256, 64, 16, 16])\n",
            "torch.Size([256, 64, 8, 8])\n",
            "torch.Size([256, 128, 8, 8])\n",
            "torch.Size([256, 32, 32, 32])\n",
            "torch.Size([256, 32, 16, 16])\n",
            "torch.Size([256, 64, 16, 16])\n",
            "torch.Size([256, 64, 8, 8])\n",
            "torch.Size([256, 128, 8, 8])\n",
            "torch.Size([256, 32, 32, 32])\n",
            "torch.Size([256, 32, 16, 16])\n",
            "torch.Size([256, 64, 16, 16])\n",
            "torch.Size([256, 64, 8, 8])\n",
            "torch.Size([256, 128, 8, 8])\n"
          ],
          "name": "stdout"
        },
        {
          "output_type": "stream",
          "text": [
            "\r 25%|██▌       | 49/196 [00:04<00:10, 13.70it/s]"
          ],
          "name": "stderr"
        },
        {
          "output_type": "stream",
          "text": [
            "torch.Size([256, 32, 32, 32])\n",
            "torch.Size([256, 32, 16, 16])\n",
            "torch.Size([256, 64, 16, 16])\n",
            "torch.Size([256, 64, 8, 8])\n",
            "torch.Size([256, 128, 8, 8])\n",
            "torch.Size([256, 32, 32, 32])\n",
            "torch.Size([256, 32, 16, 16])\n",
            "torch.Size([256, 64, 16, 16])\n",
            "torch.Size([256, 64, 8, 8])\n",
            "torch.Size([256, 128, 8, 8])\n",
            "torch.Size([256, 32, 32, 32])\n",
            "torch.Size([256, 32, 16, 16])\n",
            "torch.Size([256, 64, 16, 16])\n",
            "torch.Size([256, 64, 8, 8])\n",
            "torch.Size([256, 128, 8, 8])\n"
          ],
          "name": "stdout"
        },
        {
          "output_type": "stream",
          "text": [
            " 27%|██▋       | 53/196 [00:04<00:10, 13.76it/s]"
          ],
          "name": "stderr"
        },
        {
          "output_type": "stream",
          "text": [
            "torch.Size([256, 32, 32, 32])\n",
            "torch.Size([256, 32, 16, 16])\n",
            "torch.Size([256, 64, 16, 16])\n",
            "torch.Size([256, 64, 8, 8])\n",
            "torch.Size([256, 128, 8, 8])\n",
            "torch.Size([256, 32, 32, 32])\n",
            "torch.Size([256, 32, 16, 16])\n",
            "torch.Size([256, 64, 16, 16])\n",
            "torch.Size([256, 64, 8, 8])\n",
            "torch.Size([256, 128, 8, 8])\n",
            "torch.Size([256, 32, 32, 32])\n",
            "torch.Size([256, 32, 16, 16])\n",
            "torch.Size([256, 64, 16, 16])\n",
            "torch.Size([256, 64, 8, 8])\n",
            "torch.Size([256, 128, 8, 8])\n"
          ],
          "name": "stdout"
        },
        {
          "output_type": "stream",
          "text": [
            "\r 28%|██▊       | 55/196 [00:04<00:10, 13.55it/s]"
          ],
          "name": "stderr"
        },
        {
          "output_type": "stream",
          "text": [
            "torch.Size([256, 32, 32, 32])\n",
            "torch.Size([256, 32, 16, 16])\n",
            "torch.Size([256, 64, 16, 16])\n",
            "torch.Size([256, 64, 8, 8])\n",
            "torch.Size([256, 128, 8, 8])\n",
            "torch.Size([256, 32, 32, 32])\n",
            "torch.Size([256, 32, 16, 16])\n",
            "torch.Size([256, 64, 16, 16])\n",
            "torch.Size([256, 64, 8, 8])\n",
            "torch.Size([256, 128, 8, 8])\n",
            "torch.Size([256, 32, 32, 32])\n",
            "torch.Size([256, 32, 16, 16])\n",
            "torch.Size([256, 64, 16, 16])\n",
            "torch.Size([256, 64, 8, 8])\n",
            "torch.Size([256, 128, 8, 8])\n"
          ],
          "name": "stdout"
        },
        {
          "output_type": "stream",
          "text": [
            " 30%|███       | 59/196 [00:04<00:09, 13.72it/s]"
          ],
          "name": "stderr"
        },
        {
          "output_type": "stream",
          "text": [
            "torch.Size([256, 32, 32, 32])\n",
            "torch.Size([256, 32, 16, 16])\n",
            "torch.Size([256, 64, 16, 16])\n",
            "torch.Size([256, 64, 8, 8])\n",
            "torch.Size([256, 128, 8, 8])\n",
            "torch.Size([256, 32, 32, 32])\n",
            "torch.Size([256, 32, 16, 16])\n",
            "torch.Size([256, 64, 16, 16])\n",
            "torch.Size([256, 64, 8, 8])\n",
            "torch.Size([256, 128, 8, 8])\n",
            "torch.Size([256, 32, 32, 32])\n",
            "torch.Size([256, 32, 16, 16])\n",
            "torch.Size([256, 64, 16, 16])\n",
            "torch.Size([256, 64, 8, 8])\n",
            "torch.Size([256, 128, 8, 8])\n"
          ],
          "name": "stdout"
        },
        {
          "output_type": "stream",
          "text": [
            "\r 31%|███       | 61/196 [00:04<00:09, 13.80it/s]"
          ],
          "name": "stderr"
        },
        {
          "output_type": "stream",
          "text": [
            "torch.Size([256, 32, 32, 32])\n",
            "torch.Size([256, 32, 16, 16])\n",
            "torch.Size([256, 64, 16, 16])\n",
            "torch.Size([256, 64, 8, 8])\n",
            "torch.Size([256, 128, 8, 8])\n",
            "torch.Size([256, 32, 32, 32])\n",
            "torch.Size([256, 32, 16, 16])\n",
            "torch.Size([256, 64, 16, 16])\n",
            "torch.Size([256, 64, 8, 8])\n",
            "torch.Size([256, 128, 8, 8])\n",
            "torch.Size([256, 32, 32, 32])\n",
            "torch.Size([256, 32, 16, 16])\n",
            "torch.Size([256, 64, 16, 16])\n",
            "torch.Size([256, 64, 8, 8])\n",
            "torch.Size([256, 128, 8, 8])\n"
          ],
          "name": "stdout"
        },
        {
          "output_type": "stream",
          "text": [
            " 33%|███▎      | 65/196 [00:05<00:09, 13.40it/s]"
          ],
          "name": "stderr"
        },
        {
          "output_type": "stream",
          "text": [
            "torch.Size([256, 32, 32, 32])\n",
            "torch.Size([256, 32, 16, 16])\n",
            "torch.Size([256, 64, 16, 16])\n",
            "torch.Size([256, 64, 8, 8])\n",
            "torch.Size([256, 128, 8, 8])\n",
            "torch.Size([256, 32, 32, 32])\n",
            "torch.Size([256, 32, 16, 16])\n",
            "torch.Size([256, 64, 16, 16])\n",
            "torch.Size([256, 64, 8, 8])\n",
            "torch.Size([256, 128, 8, 8])\n",
            "torch.Size([256, 32, 32, 32])\n",
            "torch.Size([256, 32, 16, 16])\n",
            "torch.Size([256, 64, 16, 16])\n",
            "torch.Size([256, 64, 8, 8])\n",
            "torch.Size([256, 128, 8, 8])\n"
          ],
          "name": "stdout"
        },
        {
          "output_type": "stream",
          "text": [
            "\r 34%|███▍      | 67/196 [00:05<00:09, 13.41it/s]"
          ],
          "name": "stderr"
        },
        {
          "output_type": "stream",
          "text": [
            "torch.Size([256, 32, 32, 32])\n",
            "torch.Size([256, 32, 16, 16])\n",
            "torch.Size([256, 64, 16, 16])\n",
            "torch.Size([256, 64, 8, 8])\n",
            "torch.Size([256, 128, 8, 8])\n",
            "torch.Size([256, 32, 32, 32])\n",
            "torch.Size([256, 32, 16, 16])\n",
            "torch.Size([256, 64, 16, 16])\n",
            "torch.Size([256, 64, 8, 8])\n",
            "torch.Size([256, 128, 8, 8])\n",
            "torch.Size([256, 32, 32, 32])\n",
            "torch.Size([256, 32, 16, 16])\n",
            "torch.Size([256, 64, 16, 16])\n",
            "torch.Size([256, 64, 8, 8])\n",
            "torch.Size([256, 128, 8, 8])\n"
          ],
          "name": "stdout"
        },
        {
          "output_type": "stream",
          "text": [
            " 36%|███▌      | 71/196 [00:05<00:09, 13.38it/s]"
          ],
          "name": "stderr"
        },
        {
          "output_type": "stream",
          "text": [
            "torch.Size([256, 32, 32, 32])\n",
            "torch.Size([256, 32, 16, 16])\n",
            "torch.Size([256, 64, 16, 16])\n",
            "torch.Size([256, 64, 8, 8])\n",
            "torch.Size([256, 128, 8, 8])\n",
            "torch.Size([256, 32, 32, 32])\n",
            "torch.Size([256, 32, 16, 16])\n",
            "torch.Size([256, 64, 16, 16])\n",
            "torch.Size([256, 64, 8, 8])\n",
            "torch.Size([256, 128, 8, 8])\n",
            "torch.Size([256, 32, 32, 32])\n",
            "torch.Size([256, 32, 16, 16])\n",
            "torch.Size([256, 64, 16, 16])\n",
            "torch.Size([256, 64, 8, 8])\n",
            "torch.Size([256, 128, 8, 8])\n"
          ],
          "name": "stdout"
        },
        {
          "output_type": "stream",
          "text": [
            "\r 37%|███▋      | 73/196 [00:05<00:09, 13.35it/s]"
          ],
          "name": "stderr"
        },
        {
          "output_type": "stream",
          "text": [
            "torch.Size([256, 32, 32, 32])\n",
            "torch.Size([256, 32, 16, 16])\n",
            "torch.Size([256, 64, 16, 16])\n",
            "torch.Size([256, 64, 8, 8])\n",
            "torch.Size([256, 128, 8, 8])\n",
            "torch.Size([256, 32, 32, 32])\n",
            "torch.Size([256, 32, 16, 16])\n",
            "torch.Size([256, 64, 16, 16])\n",
            "torch.Size([256, 64, 8, 8])\n",
            "torch.Size([256, 128, 8, 8])\n",
            "torch.Size([256, 32, 32, 32])\n",
            "torch.Size([256, 32, 16, 16])\n",
            "torch.Size([256, 64, 16, 16])\n",
            "torch.Size([256, 64, 8, 8])\n",
            "torch.Size([256, 128, 8, 8])\n"
          ],
          "name": "stdout"
        },
        {
          "output_type": "stream",
          "text": [
            " 39%|███▉      | 77/196 [00:06<00:08, 13.82it/s]"
          ],
          "name": "stderr"
        },
        {
          "output_type": "stream",
          "text": [
            "torch.Size([256, 32, 32, 32])\n",
            "torch.Size([256, 32, 16, 16])\n",
            "torch.Size([256, 64, 16, 16])\n",
            "torch.Size([256, 64, 8, 8])\n",
            "torch.Size([256, 128, 8, 8])\n",
            "torch.Size([256, 32, 32, 32])\n",
            "torch.Size([256, 32, 16, 16])\n",
            "torch.Size([256, 64, 16, 16])\n",
            "torch.Size([256, 64, 8, 8])\n",
            "torch.Size([256, 128, 8, 8])\n",
            "torch.Size([256, 32, 32, 32])\n",
            "torch.Size([256, 32, 16, 16])\n",
            "torch.Size([256, 64, 16, 16])\n",
            "torch.Size([256, 64, 8, 8])\n",
            "torch.Size([256, 128, 8, 8])\n"
          ],
          "name": "stdout"
        },
        {
          "output_type": "stream",
          "text": [
            "\r 40%|████      | 79/196 [00:06<00:08, 13.95it/s]"
          ],
          "name": "stderr"
        },
        {
          "output_type": "stream",
          "text": [
            "torch.Size([256, 32, 32, 32])\n",
            "torch.Size([256, 32, 16, 16])\n",
            "torch.Size([256, 64, 16, 16])\n",
            "torch.Size([256, 64, 8, 8])\n",
            "torch.Size([256, 128, 8, 8])\n",
            "torch.Size([256, 32, 32, 32])\n",
            "torch.Size([256, 32, 16, 16])\n",
            "torch.Size([256, 64, 16, 16])\n",
            "torch.Size([256, 64, 8, 8])\n",
            "torch.Size([256, 128, 8, 8])\n",
            "torch.Size([256, 32, 32, 32])\n",
            "torch.Size([256, 32, 16, 16])\n",
            "torch.Size([256, 64, 16, 16])\n",
            "torch.Size([256, 64, 8, 8])\n",
            "torch.Size([256, 128, 8, 8])\n"
          ],
          "name": "stdout"
        },
        {
          "output_type": "stream",
          "text": [
            " 42%|████▏     | 83/196 [00:06<00:08, 13.98it/s]"
          ],
          "name": "stderr"
        },
        {
          "output_type": "stream",
          "text": [
            "torch.Size([256, 32, 32, 32])\n",
            "torch.Size([256, 32, 16, 16])\n",
            "torch.Size([256, 64, 16, 16])\n",
            "torch.Size([256, 64, 8, 8])\n",
            "torch.Size([256, 128, 8, 8])\n",
            "torch.Size([256, 32, 32, 32])\n",
            "torch.Size([256, 32, 16, 16])\n",
            "torch.Size([256, 64, 16, 16])\n",
            "torch.Size([256, 64, 8, 8])\n",
            "torch.Size([256, 128, 8, 8])\n",
            "torch.Size([256, 32, 32, 32])\n",
            "torch.Size([256, 32, 16, 16])\n",
            "torch.Size([256, 64, 16, 16])\n",
            "torch.Size([256, 64, 8, 8])\n",
            "torch.Size([256, 128, 8, 8])\n"
          ],
          "name": "stdout"
        },
        {
          "output_type": "stream",
          "text": [
            "\r 43%|████▎     | 85/196 [00:06<00:08, 13.83it/s]"
          ],
          "name": "stderr"
        },
        {
          "output_type": "stream",
          "text": [
            "torch.Size([256, 32, 32, 32])\n",
            "torch.Size([256, 32, 16, 16])\n",
            "torch.Size([256, 64, 16, 16])\n",
            "torch.Size([256, 64, 8, 8])\n",
            "torch.Size([256, 128, 8, 8])\n",
            "torch.Size([256, 32, 32, 32])\n",
            "torch.Size([256, 32, 16, 16])\n",
            "torch.Size([256, 64, 16, 16])\n",
            "torch.Size([256, 64, 8, 8])\n",
            "torch.Size([256, 128, 8, 8])\n",
            "torch.Size([256, 32, 32, 32])\n",
            "torch.Size([256, 32, 16, 16])\n",
            "torch.Size([256, 64, 16, 16])\n",
            "torch.Size([256, 64, 8, 8])\n",
            "torch.Size([256, 128, 8, 8])\n"
          ],
          "name": "stdout"
        },
        {
          "output_type": "stream",
          "text": [
            " 45%|████▌     | 89/196 [00:06<00:08, 13.31it/s]"
          ],
          "name": "stderr"
        },
        {
          "output_type": "stream",
          "text": [
            "torch.Size([256, 32, 32, 32])\n",
            "torch.Size([256, 32, 16, 16])\n",
            "torch.Size([256, 64, 16, 16])\n",
            "torch.Size([256, 64, 8, 8])\n",
            "torch.Size([256, 128, 8, 8])\n",
            "torch.Size([256, 32, 32, 32])\n",
            "torch.Size([256, 32, 16, 16])\n",
            "torch.Size([256, 64, 16, 16])\n",
            "torch.Size([256, 64, 8, 8])\n",
            "torch.Size([256, 128, 8, 8])\n",
            "torch.Size([256, 32, 32, 32])\n",
            "torch.Size([256, 32, 16, 16])\n",
            "torch.Size([256, 64, 16, 16])\n",
            "torch.Size([256, 64, 8, 8])\n",
            "torch.Size([256, 128, 8, 8])\n"
          ],
          "name": "stdout"
        },
        {
          "output_type": "stream",
          "text": [
            "\r 46%|████▋     | 91/196 [00:07<00:08, 13.07it/s]"
          ],
          "name": "stderr"
        },
        {
          "output_type": "stream",
          "text": [
            "torch.Size([256, 32, 32, 32])\n",
            "torch.Size([256, 32, 16, 16])\n",
            "torch.Size([256, 64, 16, 16])\n",
            "torch.Size([256, 64, 8, 8])\n",
            "torch.Size([256, 128, 8, 8])\n",
            "torch.Size([256, 32, 32, 32])\n",
            "torch.Size([256, 32, 16, 16])\n",
            "torch.Size([256, 64, 16, 16])\n",
            "torch.Size([256, 64, 8, 8])\n",
            "torch.Size([256, 128, 8, 8])\n",
            "torch.Size([256, 32, 32, 32])\n",
            "torch.Size([256, 32, 16, 16])\n",
            "torch.Size([256, 64, 16, 16])\n",
            "torch.Size([256, 64, 8, 8])\n",
            "torch.Size([256, 128, 8, 8])\n"
          ],
          "name": "stdout"
        },
        {
          "output_type": "stream",
          "text": [
            " 48%|████▊     | 95/196 [00:07<00:07, 13.04it/s]"
          ],
          "name": "stderr"
        },
        {
          "output_type": "stream",
          "text": [
            "torch.Size([256, 32, 32, 32])\n",
            "torch.Size([256, 32, 16, 16])\n",
            "torch.Size([256, 64, 16, 16])\n",
            "torch.Size([256, 64, 8, 8])\n",
            "torch.Size([256, 128, 8, 8])\n",
            "torch.Size([256, 32, 32, 32])\n",
            "torch.Size([256, 32, 16, 16])\n",
            "torch.Size([256, 64, 16, 16])\n",
            "torch.Size([256, 64, 8, 8])\n",
            "torch.Size([256, 128, 8, 8])\n",
            "torch.Size([256, 32, 32, 32])\n",
            "torch.Size([256, 32, 16, 16])\n",
            "torch.Size([256, 64, 16, 16])\n",
            "torch.Size([256, 64, 8, 8])\n",
            "torch.Size([256, 128, 8, 8])\n"
          ],
          "name": "stdout"
        },
        {
          "output_type": "stream",
          "text": [
            "\r 49%|████▉     | 97/196 [00:07<00:07, 13.42it/s]"
          ],
          "name": "stderr"
        },
        {
          "output_type": "stream",
          "text": [
            "torch.Size([256, 32, 32, 32])\n",
            "torch.Size([256, 32, 16, 16])\n",
            "torch.Size([256, 64, 16, 16])\n",
            "torch.Size([256, 64, 8, 8])\n",
            "torch.Size([256, 128, 8, 8])\n",
            "torch.Size([256, 32, 32, 32])\n",
            "torch.Size([256, 32, 16, 16])\n",
            "torch.Size([256, 64, 16, 16])\n",
            "torch.Size([256, 64, 8, 8])\n",
            "torch.Size([256, 128, 8, 8])\n",
            "torch.Size([256, 32, 32, 32])\n",
            "torch.Size([256, 32, 16, 16])\n",
            "torch.Size([256, 64, 16, 16])\n",
            "torch.Size([256, 64, 8, 8])\n",
            "torch.Size([256, 128, 8, 8])\n"
          ],
          "name": "stdout"
        },
        {
          "output_type": "stream",
          "text": [
            " 52%|█████▏    | 101/196 [00:07<00:07, 13.44it/s]"
          ],
          "name": "stderr"
        },
        {
          "output_type": "stream",
          "text": [
            "torch.Size([256, 32, 32, 32])\n",
            "torch.Size([256, 32, 16, 16])\n",
            "torch.Size([256, 64, 16, 16])\n",
            "torch.Size([256, 64, 8, 8])\n",
            "torch.Size([256, 128, 8, 8])\n",
            "torch.Size([256, 32, 32, 32])\n",
            "torch.Size([256, 32, 16, 16])\n",
            "torch.Size([256, 64, 16, 16])\n",
            "torch.Size([256, 64, 8, 8])\n",
            "torch.Size([256, 128, 8, 8])\n",
            "torch.Size([256, 32, 32, 32])\n",
            "torch.Size([256, 32, 16, 16])\n",
            "torch.Size([256, 64, 16, 16])\n",
            "torch.Size([256, 64, 8, 8])\n",
            "torch.Size([256, 128, 8, 8])\n"
          ],
          "name": "stdout"
        },
        {
          "output_type": "stream",
          "text": [
            "\r 53%|█████▎    | 103/196 [00:08<00:07, 13.18it/s]"
          ],
          "name": "stderr"
        },
        {
          "output_type": "stream",
          "text": [
            "torch.Size([256, 32, 32, 32])\n",
            "torch.Size([256, 32, 16, 16])\n",
            "torch.Size([256, 64, 16, 16])\n",
            "torch.Size([256, 64, 8, 8])\n",
            "torch.Size([256, 128, 8, 8])\n",
            "torch.Size([256, 32, 32, 32])\n",
            "torch.Size([256, 32, 16, 16])\n",
            "torch.Size([256, 64, 16, 16])\n",
            "torch.Size([256, 64, 8, 8])\n",
            "torch.Size([256, 128, 8, 8])\n",
            "torch.Size([256, 32, 32, 32])\n",
            "torch.Size([256, 32, 16, 16])\n",
            "torch.Size([256, 64, 16, 16])\n",
            "torch.Size([256, 64, 8, 8])\n",
            "torch.Size([256, 128, 8, 8])\n"
          ],
          "name": "stdout"
        },
        {
          "output_type": "stream",
          "text": [
            " 55%|█████▍    | 107/196 [00:08<00:06, 13.07it/s]"
          ],
          "name": "stderr"
        },
        {
          "output_type": "stream",
          "text": [
            "torch.Size([256, 32, 32, 32])\n",
            "torch.Size([256, 32, 16, 16])\n",
            "torch.Size([256, 64, 16, 16])\n",
            "torch.Size([256, 64, 8, 8])\n",
            "torch.Size([256, 128, 8, 8])\n",
            "torch.Size([256, 32, 32, 32])\n",
            "torch.Size([256, 32, 16, 16])\n",
            "torch.Size([256, 64, 16, 16])\n",
            "torch.Size([256, 64, 8, 8])\n",
            "torch.Size([256, 128, 8, 8])\n",
            "torch.Size([256, 32, 32, 32])\n",
            "torch.Size([256, 32, 16, 16])\n",
            "torch.Size([256, 64, 16, 16])\n",
            "torch.Size([256, 64, 8, 8])\n",
            "torch.Size([256, 128, 8, 8])\n"
          ],
          "name": "stdout"
        },
        {
          "output_type": "stream",
          "text": [
            "\r 56%|█████▌    | 109/196 [00:08<00:06, 13.38it/s]"
          ],
          "name": "stderr"
        },
        {
          "output_type": "stream",
          "text": [
            "torch.Size([256, 32, 32, 32])\n",
            "torch.Size([256, 32, 16, 16])\n",
            "torch.Size([256, 64, 16, 16])\n",
            "torch.Size([256, 64, 8, 8])\n",
            "torch.Size([256, 128, 8, 8])\n",
            "torch.Size([256, 32, 32, 32])\n",
            "torch.Size([256, 32, 16, 16])\n",
            "torch.Size([256, 64, 16, 16])\n",
            "torch.Size([256, 64, 8, 8])\n",
            "torch.Size([256, 128, 8, 8])\n",
            "torch.Size([256, 32, 32, 32])\n",
            "torch.Size([256, 32, 16, 16])\n",
            "torch.Size([256, 64, 16, 16])\n",
            "torch.Size([256, 64, 8, 8])\n",
            "torch.Size([256, 128, 8, 8])\n"
          ],
          "name": "stdout"
        },
        {
          "output_type": "stream",
          "text": [
            " 58%|█████▊    | 113/196 [00:08<00:06, 13.50it/s]"
          ],
          "name": "stderr"
        },
        {
          "output_type": "stream",
          "text": [
            "torch.Size([256, 32, 32, 32])\n",
            "torch.Size([256, 32, 16, 16])\n",
            "torch.Size([256, 64, 16, 16])\n",
            "torch.Size([256, 64, 8, 8])\n",
            "torch.Size([256, 128, 8, 8])\n",
            "torch.Size([256, 32, 32, 32])\n",
            "torch.Size([256, 32, 16, 16])\n",
            "torch.Size([256, 64, 16, 16])\n",
            "torch.Size([256, 64, 8, 8])\n",
            "torch.Size([256, 128, 8, 8])\n",
            "torch.Size([256, 32, 32, 32])\n",
            "torch.Size([256, 32, 16, 16])\n",
            "torch.Size([256, 64, 16, 16])\n",
            "torch.Size([256, 64, 8, 8])\n",
            "torch.Size([256, 128, 8, 8])\n"
          ],
          "name": "stdout"
        },
        {
          "output_type": "stream",
          "text": [
            "\r 59%|█████▊    | 115/196 [00:08<00:06, 13.32it/s]"
          ],
          "name": "stderr"
        },
        {
          "output_type": "stream",
          "text": [
            "torch.Size([256, 32, 32, 32])\n",
            "torch.Size([256, 32, 16, 16])\n",
            "torch.Size([256, 64, 16, 16])\n",
            "torch.Size([256, 64, 8, 8])\n",
            "torch.Size([256, 128, 8, 8])\n",
            "torch.Size([256, 32, 32, 32])\n",
            "torch.Size([256, 32, 16, 16])\n",
            "torch.Size([256, 64, 16, 16])\n",
            "torch.Size([256, 64, 8, 8])\n",
            "torch.Size([256, 128, 8, 8])\n",
            "torch.Size([256, 32, 32, 32])\n",
            "torch.Size([256, 32, 16, 16])\n",
            "torch.Size([256, 64, 16, 16])\n",
            "torch.Size([256, 64, 8, 8])\n",
            "torch.Size([256, 128, 8, 8])\n"
          ],
          "name": "stdout"
        },
        {
          "output_type": "stream",
          "text": [
            " 61%|██████    | 119/196 [00:09<00:05, 13.44it/s]"
          ],
          "name": "stderr"
        },
        {
          "output_type": "stream",
          "text": [
            "torch.Size([256, 32, 32, 32])\n",
            "torch.Size([256, 32, 16, 16])\n",
            "torch.Size([256, 64, 16, 16])\n",
            "torch.Size([256, 64, 8, 8])\n",
            "torch.Size([256, 128, 8, 8])\n",
            "torch.Size([256, 32, 32, 32])\n",
            "torch.Size([256, 32, 16, 16])\n",
            "torch.Size([256, 64, 16, 16])\n",
            "torch.Size([256, 64, 8, 8])\n",
            "torch.Size([256, 128, 8, 8])\n",
            "torch.Size([256, 32, 32, 32])\n",
            "torch.Size([256, 32, 16, 16])\n",
            "torch.Size([256, 64, 16, 16])\n",
            "torch.Size([256, 64, 8, 8])\n",
            "torch.Size([256, 128, 8, 8])\n"
          ],
          "name": "stdout"
        },
        {
          "output_type": "stream",
          "text": [
            "\r 62%|██████▏   | 121/196 [00:09<00:05, 12.75it/s]"
          ],
          "name": "stderr"
        },
        {
          "output_type": "stream",
          "text": [
            "torch.Size([256, 32, 32, 32])\n",
            "torch.Size([256, 32, 16, 16])\n",
            "torch.Size([256, 64, 16, 16])\n",
            "torch.Size([256, 64, 8, 8])\n",
            "torch.Size([256, 128, 8, 8])\n",
            "torch.Size([256, 32, 32, 32])\n",
            "torch.Size([256, 32, 16, 16])\n",
            "torch.Size([256, 64, 16, 16])\n",
            "torch.Size([256, 64, 8, 8])\n",
            "torch.Size([256, 128, 8, 8])\n",
            "torch.Size([256, 32, 32, 32])\n",
            "torch.Size([256, 32, 16, 16])\n",
            "torch.Size([256, 64, 16, 16])\n",
            "torch.Size([256, 64, 8, 8])\n",
            "torch.Size([256, 128, 8, 8])\n"
          ],
          "name": "stdout"
        },
        {
          "output_type": "stream",
          "text": [
            " 64%|██████▍   | 125/196 [00:09<00:05, 12.98it/s]"
          ],
          "name": "stderr"
        },
        {
          "output_type": "stream",
          "text": [
            "torch.Size([256, 32, 32, 32])\n",
            "torch.Size([256, 32, 16, 16])\n",
            "torch.Size([256, 64, 16, 16])\n",
            "torch.Size([256, 64, 8, 8])\n",
            "torch.Size([256, 128, 8, 8])\n",
            "torch.Size([256, 32, 32, 32])\n",
            "torch.Size([256, 32, 16, 16])\n",
            "torch.Size([256, 64, 16, 16])\n",
            "torch.Size([256, 64, 8, 8])\n",
            "torch.Size([256, 128, 8, 8])\n",
            "torch.Size([256, 32, 32, 32])\n",
            "torch.Size([256, 32, 16, 16])\n",
            "torch.Size([256, 64, 16, 16])\n",
            "torch.Size([256, 64, 8, 8])\n",
            "torch.Size([256, 128, 8, 8])\n"
          ],
          "name": "stdout"
        },
        {
          "output_type": "stream",
          "text": [
            "\r 65%|██████▍   | 127/196 [00:09<00:05, 13.34it/s]"
          ],
          "name": "stderr"
        },
        {
          "output_type": "stream",
          "text": [
            "torch.Size([256, 32, 32, 32])\n",
            "torch.Size([256, 32, 16, 16])\n",
            "torch.Size([256, 64, 16, 16])\n",
            "torch.Size([256, 64, 8, 8])\n",
            "torch.Size([256, 128, 8, 8])\n",
            "torch.Size([256, 32, 32, 32])\n",
            "torch.Size([256, 32, 16, 16])\n",
            "torch.Size([256, 64, 16, 16])\n",
            "torch.Size([256, 64, 8, 8])\n",
            "torch.Size([256, 128, 8, 8])\n",
            "torch.Size([256, 32, 32, 32])\n",
            "torch.Size([256, 32, 16, 16])\n",
            "torch.Size([256, 64, 16, 16])\n",
            "torch.Size([256, 64, 8, 8])\n",
            "torch.Size([256, 128, 8, 8])\n"
          ],
          "name": "stdout"
        },
        {
          "output_type": "stream",
          "text": [
            " 67%|██████▋   | 131/196 [00:10<00:04, 13.17it/s]"
          ],
          "name": "stderr"
        },
        {
          "output_type": "stream",
          "text": [
            "torch.Size([256, 32, 32, 32])\n",
            "torch.Size([256, 32, 16, 16])\n",
            "torch.Size([256, 64, 16, 16])\n",
            "torch.Size([256, 64, 8, 8])\n",
            "torch.Size([256, 128, 8, 8])\n",
            "torch.Size([256, 32, 32, 32])\n",
            "torch.Size([256, 32, 16, 16])\n",
            "torch.Size([256, 64, 16, 16])\n",
            "torch.Size([256, 64, 8, 8])\n",
            "torch.Size([256, 128, 8, 8])\n",
            "torch.Size([256, 32, 32, 32])\n",
            "torch.Size([256, 32, 16, 16])\n",
            "torch.Size([256, 64, 16, 16])\n",
            "torch.Size([256, 64, 8, 8])\n",
            "torch.Size([256, 128, 8, 8])\n"
          ],
          "name": "stdout"
        },
        {
          "output_type": "stream",
          "text": [
            "\r 68%|██████▊   | 133/196 [00:10<00:04, 13.21it/s]"
          ],
          "name": "stderr"
        },
        {
          "output_type": "stream",
          "text": [
            "torch.Size([256, 32, 32, 32])\n",
            "torch.Size([256, 32, 16, 16])\n",
            "torch.Size([256, 64, 16, 16])\n",
            "torch.Size([256, 64, 8, 8])\n",
            "torch.Size([256, 128, 8, 8])\n",
            "torch.Size([256, 32, 32, 32])\n",
            "torch.Size([256, 32, 16, 16])\n",
            "torch.Size([256, 64, 16, 16])\n",
            "torch.Size([256, 64, 8, 8])\n",
            "torch.Size([256, 128, 8, 8])\n",
            "torch.Size([256, 32, 32, 32])\n",
            "torch.Size([256, 32, 16, 16])\n",
            "torch.Size([256, 64, 16, 16])\n",
            "torch.Size([256, 64, 8, 8])\n",
            "torch.Size([256, 128, 8, 8])\n"
          ],
          "name": "stdout"
        },
        {
          "output_type": "stream",
          "text": [
            " 70%|██████▉   | 137/196 [00:10<00:04, 13.35it/s]"
          ],
          "name": "stderr"
        },
        {
          "output_type": "stream",
          "text": [
            "torch.Size([256, 32, 32, 32])\n",
            "torch.Size([256, 32, 16, 16])\n",
            "torch.Size([256, 64, 16, 16])\n",
            "torch.Size([256, 64, 8, 8])\n",
            "torch.Size([256, 128, 8, 8])\n",
            "torch.Size([256, 32, 32, 32])\n",
            "torch.Size([256, 32, 16, 16])\n",
            "torch.Size([256, 64, 16, 16])\n",
            "torch.Size([256, 64, 8, 8])\n",
            "torch.Size([256, 128, 8, 8])\n",
            "torch.Size([256, 32, 32, 32])\n",
            "torch.Size([256, 32, 16, 16])\n",
            "torch.Size([256, 64, 16, 16])\n",
            "torch.Size([256, 64, 8, 8])\n",
            "torch.Size([256, 128, 8, 8])\n"
          ],
          "name": "stdout"
        },
        {
          "output_type": "stream",
          "text": [
            "\r 71%|███████   | 139/196 [00:10<00:04, 13.27it/s]"
          ],
          "name": "stderr"
        },
        {
          "output_type": "stream",
          "text": [
            "torch.Size([256, 32, 32, 32])\n",
            "torch.Size([256, 32, 16, 16])\n",
            "torch.Size([256, 64, 16, 16])\n",
            "torch.Size([256, 64, 8, 8])\n",
            "torch.Size([256, 128, 8, 8])\n",
            "torch.Size([256, 32, 32, 32])\n",
            "torch.Size([256, 32, 16, 16])\n",
            "torch.Size([256, 64, 16, 16])\n",
            "torch.Size([256, 64, 8, 8])\n",
            "torch.Size([256, 128, 8, 8])\n",
            "torch.Size([256, 32, 32, 32])\n",
            "torch.Size([256, 32, 16, 16])\n",
            "torch.Size([256, 64, 16, 16])\n",
            "torch.Size([256, 64, 8, 8])\n",
            "torch.Size([256, 128, 8, 8])\n"
          ],
          "name": "stdout"
        },
        {
          "output_type": "stream",
          "text": [
            " 73%|███████▎  | 143/196 [00:11<00:03, 13.39it/s]"
          ],
          "name": "stderr"
        },
        {
          "output_type": "stream",
          "text": [
            "torch.Size([256, 32, 32, 32])\n",
            "torch.Size([256, 32, 16, 16])\n",
            "torch.Size([256, 64, 16, 16])\n",
            "torch.Size([256, 64, 8, 8])\n",
            "torch.Size([256, 128, 8, 8])\n",
            "torch.Size([256, 32, 32, 32])\n",
            "torch.Size([256, 32, 16, 16])\n",
            "torch.Size([256, 64, 16, 16])\n",
            "torch.Size([256, 64, 8, 8])\n",
            "torch.Size([256, 128, 8, 8])\n",
            "torch.Size([256, 32, 32, 32])\n",
            "torch.Size([256, 32, 16, 16])\n",
            "torch.Size([256, 64, 16, 16])\n",
            "torch.Size([256, 64, 8, 8])\n",
            "torch.Size([256, 128, 8, 8])\n"
          ],
          "name": "stdout"
        },
        {
          "output_type": "stream",
          "text": [
            "\r 74%|███████▍  | 145/196 [00:11<00:03, 13.52it/s]"
          ],
          "name": "stderr"
        },
        {
          "output_type": "stream",
          "text": [
            "torch.Size([256, 32, 32, 32])\n",
            "torch.Size([256, 32, 16, 16])\n",
            "torch.Size([256, 64, 16, 16])\n",
            "torch.Size([256, 64, 8, 8])\n",
            "torch.Size([256, 128, 8, 8])\n",
            "torch.Size([256, 32, 32, 32])\n",
            "torch.Size([256, 32, 16, 16])\n",
            "torch.Size([256, 64, 16, 16])\n",
            "torch.Size([256, 64, 8, 8])\n",
            "torch.Size([256, 128, 8, 8])\n",
            "torch.Size([256, 32, 32, 32])\n",
            "torch.Size([256, 32, 16, 16])\n",
            "torch.Size([256, 64, 16, 16])\n",
            "torch.Size([256, 64, 8, 8])\n",
            "torch.Size([256, 128, 8, 8])\n"
          ],
          "name": "stdout"
        },
        {
          "output_type": "stream",
          "text": [
            " 76%|███████▌  | 149/196 [00:11<00:03, 13.48it/s]"
          ],
          "name": "stderr"
        },
        {
          "output_type": "stream",
          "text": [
            "torch.Size([256, 32, 32, 32])\n",
            "torch.Size([256, 32, 16, 16])\n",
            "torch.Size([256, 64, 16, 16])\n",
            "torch.Size([256, 64, 8, 8])\n",
            "torch.Size([256, 128, 8, 8])\n",
            "torch.Size([256, 32, 32, 32])\n",
            "torch.Size([256, 32, 16, 16])\n",
            "torch.Size([256, 64, 16, 16])\n",
            "torch.Size([256, 64, 8, 8])\n",
            "torch.Size([256, 128, 8, 8])\n",
            "torch.Size([256, 32, 32, 32])\n",
            "torch.Size([256, 32, 16, 16])\n",
            "torch.Size([256, 64, 16, 16])\n",
            "torch.Size([256, 64, 8, 8])\n",
            "torch.Size([256, 128, 8, 8])\n"
          ],
          "name": "stdout"
        },
        {
          "output_type": "stream",
          "text": [
            "\r 77%|███████▋  | 151/196 [00:11<00:03, 13.69it/s]"
          ],
          "name": "stderr"
        },
        {
          "output_type": "stream",
          "text": [
            "torch.Size([256, 32, 32, 32])\n",
            "torch.Size([256, 32, 16, 16])\n",
            "torch.Size([256, 64, 16, 16])\n",
            "torch.Size([256, 64, 8, 8])\n",
            "torch.Size([256, 128, 8, 8])\n",
            "torch.Size([256, 32, 32, 32])\n",
            "torch.Size([256, 32, 16, 16])\n",
            "torch.Size([256, 64, 16, 16])\n",
            "torch.Size([256, 64, 8, 8])\n",
            "torch.Size([256, 128, 8, 8])\n",
            "torch.Size([256, 32, 32, 32])\n",
            "torch.Size([256, 32, 16, 16])\n",
            "torch.Size([256, 64, 16, 16])\n",
            "torch.Size([256, 64, 8, 8])\n",
            "torch.Size([256, 128, 8, 8])\n"
          ],
          "name": "stdout"
        },
        {
          "output_type": "stream",
          "text": [
            " 79%|███████▉  | 155/196 [00:11<00:02, 13.84it/s]"
          ],
          "name": "stderr"
        },
        {
          "output_type": "stream",
          "text": [
            "torch.Size([256, 32, 32, 32])\n",
            "torch.Size([256, 32, 16, 16])\n",
            "torch.Size([256, 64, 16, 16])\n",
            "torch.Size([256, 64, 8, 8])\n",
            "torch.Size([256, 128, 8, 8])\n",
            "torch.Size([256, 32, 32, 32])\n",
            "torch.Size([256, 32, 16, 16])\n",
            "torch.Size([256, 64, 16, 16])\n",
            "torch.Size([256, 64, 8, 8])\n",
            "torch.Size([256, 128, 8, 8])\n",
            "torch.Size([256, 32, 32, 32])\n",
            "torch.Size([256, 32, 16, 16])\n",
            "torch.Size([256, 64, 16, 16])\n",
            "torch.Size([256, 64, 8, 8])\n",
            "torch.Size([256, 128, 8, 8])\n"
          ],
          "name": "stdout"
        },
        {
          "output_type": "stream",
          "text": [
            "\r 80%|████████  | 157/196 [00:12<00:02, 13.49it/s]"
          ],
          "name": "stderr"
        },
        {
          "output_type": "stream",
          "text": [
            "torch.Size([256, 32, 32, 32])\n",
            "torch.Size([256, 32, 16, 16])\n",
            "torch.Size([256, 64, 16, 16])\n",
            "torch.Size([256, 64, 8, 8])\n",
            "torch.Size([256, 128, 8, 8])\n",
            "torch.Size([256, 32, 32, 32])\n",
            "torch.Size([256, 32, 16, 16])\n",
            "torch.Size([256, 64, 16, 16])\n",
            "torch.Size([256, 64, 8, 8])\n",
            "torch.Size([256, 128, 8, 8])\n",
            "torch.Size([256, 32, 32, 32])\n",
            "torch.Size([256, 32, 16, 16])\n",
            "torch.Size([256, 64, 16, 16])\n",
            "torch.Size([256, 64, 8, 8])\n",
            "torch.Size([256, 128, 8, 8])\n"
          ],
          "name": "stdout"
        },
        {
          "output_type": "stream",
          "text": [
            " 82%|████████▏ | 161/196 [00:12<00:02, 13.60it/s]"
          ],
          "name": "stderr"
        },
        {
          "output_type": "stream",
          "text": [
            "torch.Size([256, 32, 32, 32])\n",
            "torch.Size([256, 32, 16, 16])\n",
            "torch.Size([256, 64, 16, 16])\n",
            "torch.Size([256, 64, 8, 8])\n",
            "torch.Size([256, 128, 8, 8])\n",
            "torch.Size([256, 32, 32, 32])\n",
            "torch.Size([256, 32, 16, 16])\n",
            "torch.Size([256, 64, 16, 16])\n",
            "torch.Size([256, 64, 8, 8])\n",
            "torch.Size([256, 128, 8, 8])\n",
            "torch.Size([256, 32, 32, 32])\n",
            "torch.Size([256, 32, 16, 16])\n",
            "torch.Size([256, 64, 16, 16])\n",
            "torch.Size([256, 64, 8, 8])\n",
            "torch.Size([256, 128, 8, 8])\n"
          ],
          "name": "stdout"
        },
        {
          "output_type": "stream",
          "text": [
            "\r 83%|████████▎ | 163/196 [00:12<00:02, 13.37it/s]"
          ],
          "name": "stderr"
        },
        {
          "output_type": "stream",
          "text": [
            "torch.Size([256, 32, 32, 32])\n",
            "torch.Size([256, 32, 16, 16])\n",
            "torch.Size([256, 64, 16, 16])\n",
            "torch.Size([256, 64, 8, 8])\n",
            "torch.Size([256, 128, 8, 8])\n",
            "torch.Size([256, 32, 32, 32])\n",
            "torch.Size([256, 32, 16, 16])\n",
            "torch.Size([256, 64, 16, 16])\n",
            "torch.Size([256, 64, 8, 8])\n",
            "torch.Size([256, 128, 8, 8])\n",
            "torch.Size([256, 32, 32, 32])\n",
            "torch.Size([256, 32, 16, 16])\n",
            "torch.Size([256, 64, 16, 16])\n",
            "torch.Size([256, 64, 8, 8])\n",
            "torch.Size([256, 128, 8, 8])\n"
          ],
          "name": "stdout"
        },
        {
          "output_type": "stream",
          "text": [
            " 85%|████████▌ | 167/196 [00:12<00:02, 12.58it/s]"
          ],
          "name": "stderr"
        },
        {
          "output_type": "stream",
          "text": [
            "torch.Size([256, 32, 32, 32])\n",
            "torch.Size([256, 32, 16, 16])\n",
            "torch.Size([256, 64, 16, 16])\n",
            "torch.Size([256, 64, 8, 8])\n",
            "torch.Size([256, 128, 8, 8])\n",
            "torch.Size([256, 32, 32, 32])\n",
            "torch.Size([256, 32, 16, 16])\n",
            "torch.Size([256, 64, 16, 16])\n",
            "torch.Size([256, 64, 8, 8])\n",
            "torch.Size([256, 128, 8, 8])\n",
            "torch.Size([256, 32, 32, 32])\n",
            "torch.Size([256, 32, 16, 16])\n",
            "torch.Size([256, 64, 16, 16])\n",
            "torch.Size([256, 64, 8, 8])\n",
            "torch.Size([256, 128, 8, 8])\n"
          ],
          "name": "stdout"
        },
        {
          "output_type": "stream",
          "text": [
            "\r 86%|████████▌ | 169/196 [00:13<00:02, 12.51it/s]"
          ],
          "name": "stderr"
        },
        {
          "output_type": "stream",
          "text": [
            "torch.Size([256, 32, 32, 32])\n",
            "torch.Size([256, 32, 16, 16])\n",
            "torch.Size([256, 64, 16, 16])\n",
            "torch.Size([256, 64, 8, 8])\n",
            "torch.Size([256, 128, 8, 8])\n",
            "torch.Size([256, 32, 32, 32])\n",
            "torch.Size([256, 32, 16, 16])\n",
            "torch.Size([256, 64, 16, 16])\n",
            "torch.Size([256, 64, 8, 8])\n",
            "torch.Size([256, 128, 8, 8])\n",
            "torch.Size([256, 32, 32, 32])\n",
            "torch.Size([256, 32, 16, 16])\n",
            "torch.Size([256, 64, 16, 16])\n",
            "torch.Size([256, 64, 8, 8])\n",
            "torch.Size([256, 128, 8, 8])\n"
          ],
          "name": "stdout"
        },
        {
          "output_type": "stream",
          "text": [
            " 88%|████████▊ | 173/196 [00:13<00:01, 12.83it/s]"
          ],
          "name": "stderr"
        },
        {
          "output_type": "stream",
          "text": [
            "torch.Size([256, 32, 32, 32])\n",
            "torch.Size([256, 32, 16, 16])\n",
            "torch.Size([256, 64, 16, 16])\n",
            "torch.Size([256, 64, 8, 8])\n",
            "torch.Size([256, 128, 8, 8])\n",
            "torch.Size([256, 32, 32, 32])\n",
            "torch.Size([256, 32, 16, 16])\n",
            "torch.Size([256, 64, 16, 16])\n",
            "torch.Size([256, 64, 8, 8])\n",
            "torch.Size([256, 128, 8, 8])\n",
            "torch.Size([256, 32, 32, 32])\n",
            "torch.Size([256, 32, 16, 16])\n",
            "torch.Size([256, 64, 16, 16])\n",
            "torch.Size([256, 64, 8, 8])\n",
            "torch.Size([256, 128, 8, 8])\n"
          ],
          "name": "stdout"
        },
        {
          "output_type": "stream",
          "text": [
            "\r 89%|████████▉ | 175/196 [00:13<00:01, 12.67it/s]"
          ],
          "name": "stderr"
        },
        {
          "output_type": "stream",
          "text": [
            "torch.Size([256, 32, 32, 32])\n",
            "torch.Size([256, 32, 16, 16])\n",
            "torch.Size([256, 64, 16, 16])\n",
            "torch.Size([256, 64, 8, 8])\n",
            "torch.Size([256, 128, 8, 8])\n",
            "torch.Size([256, 32, 32, 32])\n",
            "torch.Size([256, 32, 16, 16])\n",
            "torch.Size([256, 64, 16, 16])\n",
            "torch.Size([256, 64, 8, 8])\n",
            "torch.Size([256, 128, 8, 8])\n",
            "torch.Size([256, 32, 32, 32])\n",
            "torch.Size([256, 32, 16, 16])\n",
            "torch.Size([256, 64, 16, 16])\n",
            "torch.Size([256, 64, 8, 8])\n",
            "torch.Size([256, 128, 8, 8])\n"
          ],
          "name": "stdout"
        },
        {
          "output_type": "stream",
          "text": [
            " 91%|█████████▏| 179/196 [00:13<00:01, 13.47it/s]"
          ],
          "name": "stderr"
        },
        {
          "output_type": "stream",
          "text": [
            "torch.Size([256, 32, 32, 32])\n",
            "torch.Size([256, 32, 16, 16])\n",
            "torch.Size([256, 64, 16, 16])\n",
            "torch.Size([256, 64, 8, 8])\n",
            "torch.Size([256, 128, 8, 8])\n",
            "torch.Size([256, 32, 32, 32])\n",
            "torch.Size([256, 32, 16, 16])\n",
            "torch.Size([256, 64, 16, 16])\n",
            "torch.Size([256, 64, 8, 8])\n",
            "torch.Size([256, 128, 8, 8])\n",
            "torch.Size([256, 32, 32, 32])\n",
            "torch.Size([256, 32, 16, 16])\n",
            "torch.Size([256, 64, 16, 16])\n",
            "torch.Size([256, 64, 8, 8])\n",
            "torch.Size([256, 128, 8, 8])\n"
          ],
          "name": "stdout"
        },
        {
          "output_type": "stream",
          "text": [
            "\r 92%|█████████▏| 181/196 [00:13<00:01, 13.15it/s]"
          ],
          "name": "stderr"
        },
        {
          "output_type": "stream",
          "text": [
            "torch.Size([256, 32, 32, 32])\n",
            "torch.Size([256, 32, 16, 16])\n",
            "torch.Size([256, 64, 16, 16])\n",
            "torch.Size([256, 64, 8, 8])\n",
            "torch.Size([256, 128, 8, 8])\n",
            "torch.Size([256, 32, 32, 32])\n",
            "torch.Size([256, 32, 16, 16])\n",
            "torch.Size([256, 64, 16, 16])\n",
            "torch.Size([256, 64, 8, 8])\n",
            "torch.Size([256, 128, 8, 8])\n",
            "torch.Size([256, 32, 32, 32])\n",
            "torch.Size([256, 32, 16, 16])\n",
            "torch.Size([256, 64, 16, 16])\n",
            "torch.Size([256, 64, 8, 8])\n",
            "torch.Size([256, 128, 8, 8])\n"
          ],
          "name": "stdout"
        },
        {
          "output_type": "stream",
          "text": [
            " 94%|█████████▍| 185/196 [00:14<00:00, 13.26it/s]"
          ],
          "name": "stderr"
        },
        {
          "output_type": "stream",
          "text": [
            "torch.Size([256, 32, 32, 32])\n",
            "torch.Size([256, 32, 16, 16])\n",
            "torch.Size([256, 64, 16, 16])\n",
            "torch.Size([256, 64, 8, 8])\n",
            "torch.Size([256, 128, 8, 8])\n",
            "torch.Size([256, 32, 32, 32])\n",
            "torch.Size([256, 32, 16, 16])\n",
            "torch.Size([256, 64, 16, 16])\n",
            "torch.Size([256, 64, 8, 8])\n",
            "torch.Size([256, 128, 8, 8])\n",
            "torch.Size([256, 32, 32, 32])\n",
            "torch.Size([256, 32, 16, 16])\n",
            "torch.Size([256, 64, 16, 16])\n",
            "torch.Size([256, 64, 8, 8])\n",
            "torch.Size([256, 128, 8, 8])\n"
          ],
          "name": "stdout"
        },
        {
          "output_type": "stream",
          "text": [
            "\r 95%|█████████▌| 187/196 [00:14<00:00, 12.96it/s]"
          ],
          "name": "stderr"
        },
        {
          "output_type": "stream",
          "text": [
            "torch.Size([256, 32, 32, 32])\n",
            "torch.Size([256, 32, 16, 16])\n",
            "torch.Size([256, 64, 16, 16])\n",
            "torch.Size([256, 64, 8, 8])\n",
            "torch.Size([256, 128, 8, 8])\n",
            "torch.Size([256, 32, 32, 32])\n",
            "torch.Size([256, 32, 16, 16])\n",
            "torch.Size([256, 64, 16, 16])\n",
            "torch.Size([256, 64, 8, 8])\n",
            "torch.Size([256, 128, 8, 8])\n",
            "torch.Size([256, 32, 32, 32])\n",
            "torch.Size([256, 32, 16, 16])\n",
            "torch.Size([256, 64, 16, 16])\n",
            "torch.Size([256, 64, 8, 8])\n",
            "torch.Size([256, 128, 8, 8])\n"
          ],
          "name": "stdout"
        },
        {
          "output_type": "stream",
          "text": [
            " 97%|█████████▋| 191/196 [00:14<00:00, 13.18it/s]"
          ],
          "name": "stderr"
        },
        {
          "output_type": "stream",
          "text": [
            "torch.Size([256, 32, 32, 32])\n",
            "torch.Size([256, 32, 16, 16])\n",
            "torch.Size([256, 64, 16, 16])\n",
            "torch.Size([256, 64, 8, 8])\n",
            "torch.Size([256, 128, 8, 8])\n",
            "torch.Size([256, 32, 32, 32])\n",
            "torch.Size([256, 32, 16, 16])\n",
            "torch.Size([256, 64, 16, 16])\n",
            "torch.Size([256, 64, 8, 8])\n",
            "torch.Size([256, 128, 8, 8])\n",
            "torch.Size([256, 32, 32, 32])\n",
            "torch.Size([256, 32, 16, 16])\n",
            "torch.Size([256, 64, 16, 16])\n",
            "torch.Size([256, 64, 8, 8])\n",
            "torch.Size([256, 128, 8, 8])\n"
          ],
          "name": "stdout"
        },
        {
          "output_type": "stream",
          "text": [
            " 99%|█████████▉| 195/196 [00:14<00:00, 13.91it/s]"
          ],
          "name": "stderr"
        },
        {
          "output_type": "stream",
          "text": [
            "torch.Size([256, 32, 32, 32])\n",
            "torch.Size([256, 32, 16, 16])\n",
            "torch.Size([256, 64, 16, 16])\n",
            "torch.Size([256, 64, 8, 8])\n",
            "torch.Size([256, 128, 8, 8])\n",
            "torch.Size([256, 32, 32, 32])\n",
            "torch.Size([256, 32, 16, 16])\n",
            "torch.Size([256, 64, 16, 16])\n",
            "torch.Size([256, 64, 8, 8])\n",
            "torch.Size([256, 128, 8, 8])\n",
            "torch.Size([256, 32, 32, 32])\n",
            "torch.Size([256, 32, 16, 16])\n",
            "torch.Size([256, 64, 16, 16])\n",
            "torch.Size([256, 64, 8, 8])\n",
            "torch.Size([256, 128, 8, 8])\n"
          ],
          "name": "stdout"
        },
        {
          "output_type": "stream",
          "text": [
            "\r100%|██████████| 196/196 [00:15<00:00, 13.04it/s]"
          ],
          "name": "stderr"
        },
        {
          "output_type": "stream",
          "text": [
            "torch.Size([80, 32, 32, 32])\n",
            "torch.Size([80, 32, 16, 16])\n",
            "torch.Size([80, 64, 16, 16])\n",
            "torch.Size([80, 64, 8, 8])\n",
            "torch.Size([80, 128, 8, 8])\n"
          ],
          "name": "stdout"
        },
        {
          "output_type": "stream",
          "text": [
            "\n"
          ],
          "name": "stderr"
        },
        {
          "output_type": "stream",
          "text": [
            "torch.Size([256, 32, 32, 32])\n",
            "torch.Size([256, 32, 16, 16])\n",
            "torch.Size([256, 64, 16, 16])\n",
            "torch.Size([256, 64, 8, 8])\n",
            "torch.Size([256, 128, 8, 8])\n",
            "torch.Size([256, 32, 32, 32])\n",
            "torch.Size([256, 32, 16, 16])\n",
            "torch.Size([256, 64, 16, 16])\n",
            "torch.Size([256, 64, 8, 8])\n",
            "torch.Size([256, 128, 8, 8])\n",
            "torch.Size([256, 32, 32, 32])\n",
            "torch.Size([256, 32, 16, 16])\n",
            "torch.Size([256, 64, 16, 16])\n",
            "torch.Size([256, 64, 8, 8])\n",
            "torch.Size([256, 128, 8, 8])\n",
            "torch.Size([256, 32, 32, 32])\n",
            "torch.Size([256, 32, 16, 16])\n",
            "torch.Size([256, 64, 16, 16])\n",
            "torch.Size([256, 64, 8, 8])\n",
            "torch.Size([256, 128, 8, 8])\n",
            "torch.Size([256, 32, 32, 32])\n",
            "torch.Size([256, 32, 16, 16])\n",
            "torch.Size([256, 64, 16, 16])\n",
            "torch.Size([256, 64, 8, 8])\n",
            "torch.Size([256, 128, 8, 8])\n",
            "torch.Size([256, 32, 32, 32])\n",
            "torch.Size([256, 32, 16, 16])\n",
            "torch.Size([256, 64, 16, 16])\n",
            "torch.Size([256, 64, 8, 8])\n",
            "torch.Size([256, 128, 8, 8])\n",
            "torch.Size([256, 32, 32, 32])\n",
            "torch.Size([256, 32, 16, 16])\n",
            "torch.Size([256, 64, 16, 16])\n",
            "torch.Size([256, 64, 8, 8])\n",
            "torch.Size([256, 128, 8, 8])\n",
            "torch.Size([256, 32, 32, 32])\n",
            "torch.Size([256, 32, 16, 16])\n",
            "torch.Size([256, 64, 16, 16])\n",
            "torch.Size([256, 64, 8, 8])\n",
            "torch.Size([256, 128, 8, 8])\n",
            "torch.Size([256, 32, 32, 32])\n",
            "torch.Size([256, 32, 16, 16])\n",
            "torch.Size([256, 64, 16, 16])\n",
            "torch.Size([256, 64, 8, 8])\n",
            "torch.Size([256, 128, 8, 8])\n",
            "torch.Size([256, 32, 32, 32])\n",
            "torch.Size([256, 32, 16, 16])\n",
            "torch.Size([256, 64, 16, 16])\n",
            "torch.Size([256, 64, 8, 8])\n",
            "torch.Size([256, 128, 8, 8])\n",
            "torch.Size([256, 32, 32, 32])\n",
            "torch.Size([256, 32, 16, 16])\n",
            "torch.Size([256, 64, 16, 16])\n",
            "torch.Size([256, 64, 8, 8])\n",
            "torch.Size([256, 128, 8, 8])\n",
            "torch.Size([256, 32, 32, 32])\n",
            "torch.Size([256, 32, 16, 16])\n",
            "torch.Size([256, 64, 16, 16])\n",
            "torch.Size([256, 64, 8, 8])\n",
            "torch.Size([256, 128, 8, 8])\n",
            "torch.Size([256, 32, 32, 32])\n",
            "torch.Size([256, 32, 16, 16])\n",
            "torch.Size([256, 64, 16, 16])\n",
            "torch.Size([256, 64, 8, 8])\n",
            "torch.Size([256, 128, 8, 8])\n",
            "torch.Size([256, 32, 32, 32])\n",
            "torch.Size([256, 32, 16, 16])\n",
            "torch.Size([256, 64, 16, 16])\n",
            "torch.Size([256, 64, 8, 8])\n",
            "torch.Size([256, 128, 8, 8])\n",
            "torch.Size([256, 32, 32, 32])\n",
            "torch.Size([256, 32, 16, 16])\n",
            "torch.Size([256, 64, 16, 16])\n",
            "torch.Size([256, 64, 8, 8])\n",
            "torch.Size([256, 128, 8, 8])\n",
            "torch.Size([256, 32, 32, 32])\n",
            "torch.Size([256, 32, 16, 16])\n",
            "torch.Size([256, 64, 16, 16])\n",
            "torch.Size([256, 64, 8, 8])\n",
            "torch.Size([256, 128, 8, 8])\n",
            "torch.Size([256, 32, 32, 32])\n",
            "torch.Size([256, 32, 16, 16])\n",
            "torch.Size([256, 64, 16, 16])\n",
            "torch.Size([256, 64, 8, 8])\n",
            "torch.Size([256, 128, 8, 8])\n",
            "torch.Size([256, 32, 32, 32])\n",
            "torch.Size([256, 32, 16, 16])\n",
            "torch.Size([256, 64, 16, 16])\n",
            "torch.Size([256, 64, 8, 8])\n",
            "torch.Size([256, 128, 8, 8])\n",
            "torch.Size([256, 32, 32, 32])\n",
            "torch.Size([256, 32, 16, 16])\n",
            "torch.Size([256, 64, 16, 16])\n",
            "torch.Size([256, 64, 8, 8])\n",
            "torch.Size([256, 128, 8, 8])\n",
            "torch.Size([256, 32, 32, 32])\n",
            "torch.Size([256, 32, 16, 16])\n",
            "torch.Size([256, 64, 16, 16])\n",
            "torch.Size([256, 64, 8, 8])\n",
            "torch.Size([256, 128, 8, 8])\n",
            "torch.Size([256, 32, 32, 32])\n",
            "torch.Size([256, 32, 16, 16])\n",
            "torch.Size([256, 64, 16, 16])\n",
            "torch.Size([256, 64, 8, 8])\n",
            "torch.Size([256, 128, 8, 8])\n",
            "torch.Size([256, 32, 32, 32])\n",
            "torch.Size([256, 32, 16, 16])\n",
            "torch.Size([256, 64, 16, 16])\n",
            "torch.Size([256, 64, 8, 8])\n",
            "torch.Size([256, 128, 8, 8])\n",
            "torch.Size([256, 32, 32, 32])\n",
            "torch.Size([256, 32, 16, 16])\n",
            "torch.Size([256, 64, 16, 16])\n",
            "torch.Size([256, 64, 8, 8])\n",
            "torch.Size([256, 128, 8, 8])\n",
            "torch.Size([256, 32, 32, 32])\n",
            "torch.Size([256, 32, 16, 16])\n",
            "torch.Size([256, 64, 16, 16])\n",
            "torch.Size([256, 64, 8, 8])\n",
            "torch.Size([256, 128, 8, 8])\n",
            "torch.Size([256, 32, 32, 32])\n",
            "torch.Size([256, 32, 16, 16])\n",
            "torch.Size([256, 64, 16, 16])\n",
            "torch.Size([256, 64, 8, 8])\n",
            "torch.Size([256, 128, 8, 8])\n",
            "torch.Size([256, 32, 32, 32])\n",
            "torch.Size([256, 32, 16, 16])\n",
            "torch.Size([256, 64, 16, 16])\n",
            "torch.Size([256, 64, 8, 8])\n",
            "torch.Size([256, 128, 8, 8])\n",
            "torch.Size([256, 32, 32, 32])\n",
            "torch.Size([256, 32, 16, 16])\n",
            "torch.Size([256, 64, 16, 16])\n",
            "torch.Size([256, 64, 8, 8])\n",
            "torch.Size([256, 128, 8, 8])\n",
            "torch.Size([256, 32, 32, 32])\n",
            "torch.Size([256, 32, 16, 16])\n",
            "torch.Size([256, 64, 16, 16])\n",
            "torch.Size([256, 64, 8, 8])\n",
            "torch.Size([256, 128, 8, 8])\n",
            "torch.Size([256, 32, 32, 32])\n",
            "torch.Size([256, 32, 16, 16])\n",
            "torch.Size([256, 64, 16, 16])\n",
            "torch.Size([256, 64, 8, 8])\n",
            "torch.Size([256, 128, 8, 8])\n",
            "torch.Size([256, 32, 32, 32])\n",
            "torch.Size([256, 32, 16, 16])\n",
            "torch.Size([256, 64, 16, 16])\n",
            "torch.Size([256, 64, 8, 8])\n",
            "torch.Size([256, 128, 8, 8])\n",
            "torch.Size([256, 32, 32, 32])\n",
            "torch.Size([256, 32, 16, 16])\n",
            "torch.Size([256, 64, 16, 16])\n",
            "torch.Size([256, 64, 8, 8])\n",
            "torch.Size([256, 128, 8, 8])\n",
            "torch.Size([256, 32, 32, 32])\n",
            "torch.Size([256, 32, 16, 16])\n",
            "torch.Size([256, 64, 16, 16])\n",
            "torch.Size([256, 64, 8, 8])\n",
            "torch.Size([256, 128, 8, 8])\n",
            "torch.Size([256, 32, 32, 32])\n",
            "torch.Size([256, 32, 16, 16])\n",
            "torch.Size([256, 64, 16, 16])\n",
            "torch.Size([256, 64, 8, 8])\n",
            "torch.Size([256, 128, 8, 8])\n",
            "torch.Size([256, 32, 32, 32])\n",
            "torch.Size([256, 32, 16, 16])\n",
            "torch.Size([256, 64, 16, 16])\n",
            "torch.Size([256, 64, 8, 8])\n",
            "torch.Size([256, 128, 8, 8])\n"
          ],
          "name": "stdout"
        },
        {
          "output_type": "stream",
          "text": [
            "\r  0%|          | 0/196 [00:00<?, ?it/s]"
          ],
          "name": "stderr"
        },
        {
          "output_type": "stream",
          "text": [
            "torch.Size([256, 32, 32, 32])\n",
            "torch.Size([256, 32, 16, 16])\n",
            "torch.Size([256, 64, 16, 16])\n",
            "torch.Size([256, 64, 8, 8])\n",
            "torch.Size([256, 128, 8, 8])\n",
            "torch.Size([256, 32, 32, 32])\n",
            "torch.Size([256, 32, 16, 16])\n",
            "torch.Size([256, 64, 16, 16])\n",
            "torch.Size([256, 64, 8, 8])\n",
            "torch.Size([256, 128, 8, 8])\n",
            "torch.Size([256, 32, 32, 32])\n",
            "torch.Size([256, 32, 16, 16])\n",
            "torch.Size([256, 64, 16, 16])\n",
            "torch.Size([256, 64, 8, 8])\n",
            "torch.Size([256, 128, 8, 8])\n",
            "torch.Size([256, 32, 32, 32])\n",
            "torch.Size([256, 32, 16, 16])\n",
            "torch.Size([256, 64, 16, 16])\n",
            "torch.Size([256, 64, 8, 8])\n",
            "torch.Size([256, 128, 8, 8])\n",
            "torch.Size([256, 32, 32, 32])\n",
            "torch.Size([256, 32, 16, 16])\n",
            "torch.Size([256, 64, 16, 16])\n",
            "torch.Size([256, 64, 8, 8])\n",
            "torch.Size([256, 128, 8, 8])\n",
            "torch.Size([16, 32, 32, 32])\n",
            "torch.Size([16, 32, 16, 16])\n",
            "torch.Size([16, 64, 16, 16])\n",
            "torch.Size([16, 64, 8, 8])\n",
            "torch.Size([16, 128, 8, 8])\n",
            "\n",
            "Epoch: 7 Train set: Average loss: 0.0027, Accuracy: 76.294%\n",
            "Epoch: 7 Test set: Average loss: 0.0033, Accuracy: 71.260%\n"
          ],
          "name": "stdout"
        },
        {
          "output_type": "stream",
          "text": [
            "\r  1%|          | 1/196 [00:00<01:23,  2.33it/s]"
          ],
          "name": "stderr"
        },
        {
          "output_type": "stream",
          "text": [
            "torch.Size([256, 32, 32, 32])\n",
            "torch.Size([256, 32, 16, 16])\n",
            "torch.Size([256, 64, 16, 16])\n",
            "torch.Size([256, 64, 8, 8])\n",
            "torch.Size([256, 128, 8, 8])\n",
            "torch.Size([256, 32, 32, 32])\n",
            "torch.Size([256, 32, 16, 16])\n",
            "torch.Size([256, 64, 16, 16])\n",
            "torch.Size([256, 64, 8, 8])\n",
            "torch.Size([256, 128, 8, 8])\n",
            "torch.Size([256, 32, 32, 32])\n",
            "torch.Size([256, 32, 16, 16])\n",
            "torch.Size([256, 64, 16, 16])\n",
            "torch.Size([256, 64, 8, 8])\n",
            "torch.Size([256, 128, 8, 8])\n"
          ],
          "name": "stdout"
        },
        {
          "output_type": "stream",
          "text": [
            "  3%|▎         | 5/196 [00:00<00:47,  4.00it/s]"
          ],
          "name": "stderr"
        },
        {
          "output_type": "stream",
          "text": [
            "torch.Size([256, 32, 32, 32])\n",
            "torch.Size([256, 32, 16, 16])\n",
            "torch.Size([256, 64, 16, 16])\n",
            "torch.Size([256, 64, 8, 8])\n",
            "torch.Size([256, 128, 8, 8])\n",
            "torch.Size([256, 32, 32, 32])\n",
            "torch.Size([256, 32, 16, 16])\n",
            "torch.Size([256, 64, 16, 16])\n",
            "torch.Size([256, 64, 8, 8])\n",
            "torch.Size([256, 128, 8, 8])\n",
            "torch.Size([256, 32, 32, 32])\n",
            "torch.Size([256, 32, 16, 16])\n",
            "torch.Size([256, 64, 16, 16])\n",
            "torch.Size([256, 64, 8, 8])\n",
            "torch.Size([256, 128, 8, 8])\n"
          ],
          "name": "stdout"
        },
        {
          "output_type": "stream",
          "text": [
            "\r  4%|▎         | 7/196 [00:00<00:37,  4.98it/s]"
          ],
          "name": "stderr"
        },
        {
          "output_type": "stream",
          "text": [
            "torch.Size([256, 32, 32, 32])\n",
            "torch.Size([256, 32, 16, 16])\n",
            "torch.Size([256, 64, 16, 16])\n",
            "torch.Size([256, 64, 8, 8])\n",
            "torch.Size([256, 128, 8, 8])\n",
            "torch.Size([256, 32, 32, 32])\n",
            "torch.Size([256, 32, 16, 16])\n",
            "torch.Size([256, 64, 16, 16])\n",
            "torch.Size([256, 64, 8, 8])\n",
            "torch.Size([256, 128, 8, 8])\n",
            "torch.Size([256, 32, 32, 32])\n",
            "torch.Size([256, 32, 16, 16])\n",
            "torch.Size([256, 64, 16, 16])\n",
            "torch.Size([256, 64, 8, 8])\n",
            "torch.Size([256, 128, 8, 8])\n"
          ],
          "name": "stdout"
        },
        {
          "output_type": "stream",
          "text": [
            "  6%|▌         | 11/196 [00:01<00:25,  7.26it/s]"
          ],
          "name": "stderr"
        },
        {
          "output_type": "stream",
          "text": [
            "torch.Size([256, 32, 32, 32])\n",
            "torch.Size([256, 32, 16, 16])\n",
            "torch.Size([256, 64, 16, 16])\n",
            "torch.Size([256, 64, 8, 8])\n",
            "torch.Size([256, 128, 8, 8])\n",
            "torch.Size([256, 32, 32, 32])\n",
            "torch.Size([256, 32, 16, 16])\n",
            "torch.Size([256, 64, 16, 16])\n",
            "torch.Size([256, 64, 8, 8])\n",
            "torch.Size([256, 128, 8, 8])\n",
            "torch.Size([256, 32, 32, 32])\n",
            "torch.Size([256, 32, 16, 16])\n",
            "torch.Size([256, 64, 16, 16])\n",
            "torch.Size([256, 64, 8, 8])\n",
            "torch.Size([256, 128, 8, 8])\n"
          ],
          "name": "stdout"
        },
        {
          "output_type": "stream",
          "text": [
            "\r  7%|▋         | 13/196 [00:01<00:21,  8.55it/s]"
          ],
          "name": "stderr"
        },
        {
          "output_type": "stream",
          "text": [
            "torch.Size([256, 32, 32, 32])\n",
            "torch.Size([256, 32, 16, 16])\n",
            "torch.Size([256, 64, 16, 16])\n",
            "torch.Size([256, 64, 8, 8])\n",
            "torch.Size([256, 128, 8, 8])\n",
            "torch.Size([256, 32, 32, 32])\n",
            "torch.Size([256, 32, 16, 16])\n",
            "torch.Size([256, 64, 16, 16])\n",
            "torch.Size([256, 64, 8, 8])\n",
            "torch.Size([256, 128, 8, 8])\n",
            "torch.Size([256, 32, 32, 32])\n",
            "torch.Size([256, 32, 16, 16])\n",
            "torch.Size([256, 64, 16, 16])\n",
            "torch.Size([256, 64, 8, 8])\n",
            "torch.Size([256, 128, 8, 8])\n"
          ],
          "name": "stdout"
        },
        {
          "output_type": "stream",
          "text": [
            "  9%|▊         | 17/196 [00:01<00:16, 10.58it/s]"
          ],
          "name": "stderr"
        },
        {
          "output_type": "stream",
          "text": [
            "torch.Size([256, 32, 32, 32])\n",
            "torch.Size([256, 32, 16, 16])\n",
            "torch.Size([256, 64, 16, 16])\n",
            "torch.Size([256, 64, 8, 8])\n",
            "torch.Size([256, 128, 8, 8])\n",
            "torch.Size([256, 32, 32, 32])\n",
            "torch.Size([256, 32, 16, 16])\n",
            "torch.Size([256, 64, 16, 16])\n",
            "torch.Size([256, 64, 8, 8])\n",
            "torch.Size([256, 128, 8, 8])\n",
            "torch.Size([256, 32, 32, 32])\n",
            "torch.Size([256, 32, 16, 16])\n",
            "torch.Size([256, 64, 16, 16])\n",
            "torch.Size([256, 64, 8, 8])\n",
            "torch.Size([256, 128, 8, 8])\n"
          ],
          "name": "stdout"
        },
        {
          "output_type": "stream",
          "text": [
            "\r 10%|▉         | 19/196 [00:01<00:15, 11.28it/s]"
          ],
          "name": "stderr"
        },
        {
          "output_type": "stream",
          "text": [
            "torch.Size([256, 32, 32, 32])\n",
            "torch.Size([256, 32, 16, 16])\n",
            "torch.Size([256, 64, 16, 16])\n",
            "torch.Size([256, 64, 8, 8])\n",
            "torch.Size([256, 128, 8, 8])\n",
            "torch.Size([256, 32, 32, 32])\n",
            "torch.Size([256, 32, 16, 16])\n",
            "torch.Size([256, 64, 16, 16])\n",
            "torch.Size([256, 64, 8, 8])\n",
            "torch.Size([256, 128, 8, 8])\n",
            "torch.Size([256, 32, 32, 32])\n",
            "torch.Size([256, 32, 16, 16])\n",
            "torch.Size([256, 64, 16, 16])\n",
            "torch.Size([256, 64, 8, 8])\n",
            "torch.Size([256, 128, 8, 8])\n"
          ],
          "name": "stdout"
        },
        {
          "output_type": "stream",
          "text": [
            " 12%|█▏        | 23/196 [00:02<00:13, 12.49it/s]"
          ],
          "name": "stderr"
        },
        {
          "output_type": "stream",
          "text": [
            "torch.Size([256, 32, 32, 32])\n",
            "torch.Size([256, 32, 16, 16])\n",
            "torch.Size([256, 64, 16, 16])\n",
            "torch.Size([256, 64, 8, 8])\n",
            "torch.Size([256, 128, 8, 8])\n",
            "torch.Size([256, 32, 32, 32])\n",
            "torch.Size([256, 32, 16, 16])\n",
            "torch.Size([256, 64, 16, 16])\n",
            "torch.Size([256, 64, 8, 8])\n",
            "torch.Size([256, 128, 8, 8])\n",
            "torch.Size([256, 32, 32, 32])\n",
            "torch.Size([256, 32, 16, 16])\n",
            "torch.Size([256, 64, 16, 16])\n",
            "torch.Size([256, 64, 8, 8])\n",
            "torch.Size([256, 128, 8, 8])\n"
          ],
          "name": "stdout"
        },
        {
          "output_type": "stream",
          "text": [
            "\r 13%|█▎        | 25/196 [00:02<00:13, 12.55it/s]"
          ],
          "name": "stderr"
        },
        {
          "output_type": "stream",
          "text": [
            "torch.Size([256, 32, 32, 32])\n",
            "torch.Size([256, 32, 16, 16])\n",
            "torch.Size([256, 64, 16, 16])\n",
            "torch.Size([256, 64, 8, 8])\n",
            "torch.Size([256, 128, 8, 8])\n",
            "torch.Size([256, 32, 32, 32])\n",
            "torch.Size([256, 32, 16, 16])\n",
            "torch.Size([256, 64, 16, 16])\n",
            "torch.Size([256, 64, 8, 8])\n",
            "torch.Size([256, 128, 8, 8])\n",
            "torch.Size([256, 32, 32, 32])\n",
            "torch.Size([256, 32, 16, 16])\n",
            "torch.Size([256, 64, 16, 16])\n",
            "torch.Size([256, 64, 8, 8])\n",
            "torch.Size([256, 128, 8, 8])\n"
          ],
          "name": "stdout"
        },
        {
          "output_type": "stream",
          "text": [
            " 15%|█▍        | 29/196 [00:02<00:13, 12.76it/s]"
          ],
          "name": "stderr"
        },
        {
          "output_type": "stream",
          "text": [
            "torch.Size([256, 32, 32, 32])\n",
            "torch.Size([256, 32, 16, 16])\n",
            "torch.Size([256, 64, 16, 16])\n",
            "torch.Size([256, 64, 8, 8])\n",
            "torch.Size([256, 128, 8, 8])\n",
            "torch.Size([256, 32, 32, 32])\n",
            "torch.Size([256, 32, 16, 16])\n",
            "torch.Size([256, 64, 16, 16])\n",
            "torch.Size([256, 64, 8, 8])\n",
            "torch.Size([256, 128, 8, 8])\n",
            "torch.Size([256, 32, 32, 32])\n",
            "torch.Size([256, 32, 16, 16])\n",
            "torch.Size([256, 64, 16, 16])\n",
            "torch.Size([256, 64, 8, 8])\n",
            "torch.Size([256, 128, 8, 8])\n"
          ],
          "name": "stdout"
        },
        {
          "output_type": "stream",
          "text": [
            "\r 16%|█▌        | 31/196 [00:02<00:12, 13.19it/s]"
          ],
          "name": "stderr"
        },
        {
          "output_type": "stream",
          "text": [
            "torch.Size([256, 32, 32, 32])\n",
            "torch.Size([256, 32, 16, 16])\n",
            "torch.Size([256, 64, 16, 16])\n",
            "torch.Size([256, 64, 8, 8])\n",
            "torch.Size([256, 128, 8, 8])\n",
            "torch.Size([256, 32, 32, 32])\n",
            "torch.Size([256, 32, 16, 16])\n",
            "torch.Size([256, 64, 16, 16])\n",
            "torch.Size([256, 64, 8, 8])\n",
            "torch.Size([256, 128, 8, 8])\n",
            "torch.Size([256, 32, 32, 32])\n",
            "torch.Size([256, 32, 16, 16])\n",
            "torch.Size([256, 64, 16, 16])\n",
            "torch.Size([256, 64, 8, 8])\n",
            "torch.Size([256, 128, 8, 8])\n"
          ],
          "name": "stdout"
        },
        {
          "output_type": "stream",
          "text": [
            " 18%|█▊        | 35/196 [00:03<00:12, 13.11it/s]"
          ],
          "name": "stderr"
        },
        {
          "output_type": "stream",
          "text": [
            "torch.Size([256, 32, 32, 32])\n",
            "torch.Size([256, 32, 16, 16])\n",
            "torch.Size([256, 64, 16, 16])\n",
            "torch.Size([256, 64, 8, 8])\n",
            "torch.Size([256, 128, 8, 8])\n",
            "torch.Size([256, 32, 32, 32])\n",
            "torch.Size([256, 32, 16, 16])\n",
            "torch.Size([256, 64, 16, 16])\n",
            "torch.Size([256, 64, 8, 8])\n",
            "torch.Size([256, 128, 8, 8])\n",
            "torch.Size([256, 32, 32, 32])\n",
            "torch.Size([256, 32, 16, 16])\n",
            "torch.Size([256, 64, 16, 16])\n",
            "torch.Size([256, 64, 8, 8])\n",
            "torch.Size([256, 128, 8, 8])\n"
          ],
          "name": "stdout"
        },
        {
          "output_type": "stream",
          "text": [
            "\r 19%|█▉        | 37/196 [00:03<00:12, 13.24it/s]"
          ],
          "name": "stderr"
        },
        {
          "output_type": "stream",
          "text": [
            "torch.Size([256, 32, 32, 32])\n",
            "torch.Size([256, 32, 16, 16])\n",
            "torch.Size([256, 64, 16, 16])\n",
            "torch.Size([256, 64, 8, 8])\n",
            "torch.Size([256, 128, 8, 8])\n",
            "torch.Size([256, 32, 32, 32])\n",
            "torch.Size([256, 32, 16, 16])\n",
            "torch.Size([256, 64, 16, 16])\n",
            "torch.Size([256, 64, 8, 8])\n",
            "torch.Size([256, 128, 8, 8])\n",
            "torch.Size([256, 32, 32, 32])\n",
            "torch.Size([256, 32, 16, 16])\n",
            "torch.Size([256, 64, 16, 16])\n",
            "torch.Size([256, 64, 8, 8])\n",
            "torch.Size([256, 128, 8, 8])\n"
          ],
          "name": "stdout"
        },
        {
          "output_type": "stream",
          "text": [
            " 21%|██        | 41/196 [00:03<00:11, 13.23it/s]"
          ],
          "name": "stderr"
        },
        {
          "output_type": "stream",
          "text": [
            "torch.Size([256, 32, 32, 32])\n",
            "torch.Size([256, 32, 16, 16])\n",
            "torch.Size([256, 64, 16, 16])\n",
            "torch.Size([256, 64, 8, 8])\n",
            "torch.Size([256, 128, 8, 8])\n",
            "torch.Size([256, 32, 32, 32])\n",
            "torch.Size([256, 32, 16, 16])\n",
            "torch.Size([256, 64, 16, 16])\n",
            "torch.Size([256, 64, 8, 8])\n",
            "torch.Size([256, 128, 8, 8])\n",
            "torch.Size([256, 32, 32, 32])\n",
            "torch.Size([256, 32, 16, 16])\n",
            "torch.Size([256, 64, 16, 16])\n",
            "torch.Size([256, 64, 8, 8])\n",
            "torch.Size([256, 128, 8, 8])\n"
          ],
          "name": "stdout"
        },
        {
          "output_type": "stream",
          "text": [
            "\r 22%|██▏       | 43/196 [00:03<00:11, 13.33it/s]"
          ],
          "name": "stderr"
        },
        {
          "output_type": "stream",
          "text": [
            "torch.Size([256, 32, 32, 32])\n",
            "torch.Size([256, 32, 16, 16])\n",
            "torch.Size([256, 64, 16, 16])\n",
            "torch.Size([256, 64, 8, 8])\n",
            "torch.Size([256, 128, 8, 8])\n",
            "torch.Size([256, 32, 32, 32])\n",
            "torch.Size([256, 32, 16, 16])\n",
            "torch.Size([256, 64, 16, 16])\n",
            "torch.Size([256, 64, 8, 8])\n",
            "torch.Size([256, 128, 8, 8])\n",
            "torch.Size([256, 32, 32, 32])\n",
            "torch.Size([256, 32, 16, 16])\n",
            "torch.Size([256, 64, 16, 16])\n",
            "torch.Size([256, 64, 8, 8])\n",
            "torch.Size([256, 128, 8, 8])\n"
          ],
          "name": "stdout"
        },
        {
          "output_type": "stream",
          "text": [
            " 24%|██▍       | 47/196 [00:03<00:11, 13.39it/s]"
          ],
          "name": "stderr"
        },
        {
          "output_type": "stream",
          "text": [
            "torch.Size([256, 32, 32, 32])\n",
            "torch.Size([256, 32, 16, 16])\n",
            "torch.Size([256, 64, 16, 16])\n",
            "torch.Size([256, 64, 8, 8])\n",
            "torch.Size([256, 128, 8, 8])\n",
            "torch.Size([256, 32, 32, 32])\n",
            "torch.Size([256, 32, 16, 16])\n",
            "torch.Size([256, 64, 16, 16])\n",
            "torch.Size([256, 64, 8, 8])\n",
            "torch.Size([256, 128, 8, 8])\n",
            "torch.Size([256, 32, 32, 32])\n",
            "torch.Size([256, 32, 16, 16])\n",
            "torch.Size([256, 64, 16, 16])\n",
            "torch.Size([256, 64, 8, 8])\n",
            "torch.Size([256, 128, 8, 8])\n"
          ],
          "name": "stdout"
        },
        {
          "output_type": "stream",
          "text": [
            "\r 25%|██▌       | 49/196 [00:04<00:11, 13.23it/s]"
          ],
          "name": "stderr"
        },
        {
          "output_type": "stream",
          "text": [
            "torch.Size([256, 32, 32, 32])\n",
            "torch.Size([256, 32, 16, 16])\n",
            "torch.Size([256, 64, 16, 16])\n",
            "torch.Size([256, 64, 8, 8])\n",
            "torch.Size([256, 128, 8, 8])\n",
            "torch.Size([256, 32, 32, 32])\n",
            "torch.Size([256, 32, 16, 16])\n",
            "torch.Size([256, 64, 16, 16])\n",
            "torch.Size([256, 64, 8, 8])\n",
            "torch.Size([256, 128, 8, 8])\n",
            "torch.Size([256, 32, 32, 32])\n",
            "torch.Size([256, 32, 16, 16])\n",
            "torch.Size([256, 64, 16, 16])\n",
            "torch.Size([256, 64, 8, 8])\n",
            "torch.Size([256, 128, 8, 8])\n"
          ],
          "name": "stdout"
        },
        {
          "output_type": "stream",
          "text": [
            " 27%|██▋       | 53/196 [00:04<00:11, 12.94it/s]"
          ],
          "name": "stderr"
        },
        {
          "output_type": "stream",
          "text": [
            "torch.Size([256, 32, 32, 32])\n",
            "torch.Size([256, 32, 16, 16])\n",
            "torch.Size([256, 64, 16, 16])\n",
            "torch.Size([256, 64, 8, 8])\n",
            "torch.Size([256, 128, 8, 8])\n",
            "torch.Size([256, 32, 32, 32])\n",
            "torch.Size([256, 32, 16, 16])\n",
            "torch.Size([256, 64, 16, 16])\n",
            "torch.Size([256, 64, 8, 8])\n",
            "torch.Size([256, 128, 8, 8])\n",
            "torch.Size([256, 32, 32, 32])\n",
            "torch.Size([256, 32, 16, 16])\n",
            "torch.Size([256, 64, 16, 16])\n",
            "torch.Size([256, 64, 8, 8])\n",
            "torch.Size([256, 128, 8, 8])\n"
          ],
          "name": "stdout"
        },
        {
          "output_type": "stream",
          "text": [
            "\r 28%|██▊       | 55/196 [00:04<00:10, 13.32it/s]"
          ],
          "name": "stderr"
        },
        {
          "output_type": "stream",
          "text": [
            "torch.Size([256, 32, 32, 32])\n",
            "torch.Size([256, 32, 16, 16])\n",
            "torch.Size([256, 64, 16, 16])\n",
            "torch.Size([256, 64, 8, 8])\n",
            "torch.Size([256, 128, 8, 8])\n",
            "torch.Size([256, 32, 32, 32])\n",
            "torch.Size([256, 32, 16, 16])\n",
            "torch.Size([256, 64, 16, 16])\n",
            "torch.Size([256, 64, 8, 8])\n",
            "torch.Size([256, 128, 8, 8])\n",
            "torch.Size([256, 32, 32, 32])\n",
            "torch.Size([256, 32, 16, 16])\n",
            "torch.Size([256, 64, 16, 16])\n",
            "torch.Size([256, 64, 8, 8])\n",
            "torch.Size([256, 128, 8, 8])\n"
          ],
          "name": "stdout"
        },
        {
          "output_type": "stream",
          "text": [
            " 30%|███       | 59/196 [00:04<00:10, 13.61it/s]"
          ],
          "name": "stderr"
        },
        {
          "output_type": "stream",
          "text": [
            "torch.Size([256, 32, 32, 32])\n",
            "torch.Size([256, 32, 16, 16])\n",
            "torch.Size([256, 64, 16, 16])\n",
            "torch.Size([256, 64, 8, 8])\n",
            "torch.Size([256, 128, 8, 8])\n",
            "torch.Size([256, 32, 32, 32])\n",
            "torch.Size([256, 32, 16, 16])\n",
            "torch.Size([256, 64, 16, 16])\n",
            "torch.Size([256, 64, 8, 8])\n",
            "torch.Size([256, 128, 8, 8])\n",
            "torch.Size([256, 32, 32, 32])\n",
            "torch.Size([256, 32, 16, 16])\n",
            "torch.Size([256, 64, 16, 16])\n",
            "torch.Size([256, 64, 8, 8])\n",
            "torch.Size([256, 128, 8, 8])\n"
          ],
          "name": "stdout"
        },
        {
          "output_type": "stream",
          "text": [
            "\r 31%|███       | 61/196 [00:04<00:10, 13.34it/s]"
          ],
          "name": "stderr"
        },
        {
          "output_type": "stream",
          "text": [
            "torch.Size([256, 32, 32, 32])\n",
            "torch.Size([256, 32, 16, 16])\n",
            "torch.Size([256, 64, 16, 16])\n",
            "torch.Size([256, 64, 8, 8])\n",
            "torch.Size([256, 128, 8, 8])\n",
            "torch.Size([256, 32, 32, 32])\n",
            "torch.Size([256, 32, 16, 16])\n",
            "torch.Size([256, 64, 16, 16])\n",
            "torch.Size([256, 64, 8, 8])\n",
            "torch.Size([256, 128, 8, 8])\n",
            "torch.Size([256, 32, 32, 32])\n",
            "torch.Size([256, 32, 16, 16])\n",
            "torch.Size([256, 64, 16, 16])\n",
            "torch.Size([256, 64, 8, 8])\n",
            "torch.Size([256, 128, 8, 8])\n"
          ],
          "name": "stdout"
        },
        {
          "output_type": "stream",
          "text": [
            " 33%|███▎      | 65/196 [00:05<00:09, 13.23it/s]"
          ],
          "name": "stderr"
        },
        {
          "output_type": "stream",
          "text": [
            "torch.Size([256, 32, 32, 32])\n",
            "torch.Size([256, 32, 16, 16])\n",
            "torch.Size([256, 64, 16, 16])\n",
            "torch.Size([256, 64, 8, 8])\n",
            "torch.Size([256, 128, 8, 8])\n",
            "torch.Size([256, 32, 32, 32])\n",
            "torch.Size([256, 32, 16, 16])\n",
            "torch.Size([256, 64, 16, 16])\n",
            "torch.Size([256, 64, 8, 8])\n",
            "torch.Size([256, 128, 8, 8])\n",
            "torch.Size([256, 32, 32, 32])\n",
            "torch.Size([256, 32, 16, 16])\n",
            "torch.Size([256, 64, 16, 16])\n",
            "torch.Size([256, 64, 8, 8])\n",
            "torch.Size([256, 128, 8, 8])\n"
          ],
          "name": "stdout"
        },
        {
          "output_type": "stream",
          "text": [
            "\r 34%|███▍      | 67/196 [00:05<00:09, 13.53it/s]"
          ],
          "name": "stderr"
        },
        {
          "output_type": "stream",
          "text": [
            "torch.Size([256, 32, 32, 32])\n",
            "torch.Size([256, 32, 16, 16])\n",
            "torch.Size([256, 64, 16, 16])\n",
            "torch.Size([256, 64, 8, 8])\n",
            "torch.Size([256, 128, 8, 8])\n",
            "torch.Size([256, 32, 32, 32])\n",
            "torch.Size([256, 32, 16, 16])\n",
            "torch.Size([256, 64, 16, 16])\n",
            "torch.Size([256, 64, 8, 8])\n",
            "torch.Size([256, 128, 8, 8])\n",
            "torch.Size([256, 32, 32, 32])\n",
            "torch.Size([256, 32, 16, 16])\n",
            "torch.Size([256, 64, 16, 16])\n",
            "torch.Size([256, 64, 8, 8])\n",
            "torch.Size([256, 128, 8, 8])\n"
          ],
          "name": "stdout"
        },
        {
          "output_type": "stream",
          "text": [
            " 36%|███▌      | 71/196 [00:05<00:09, 13.35it/s]"
          ],
          "name": "stderr"
        },
        {
          "output_type": "stream",
          "text": [
            "torch.Size([256, 32, 32, 32])\n",
            "torch.Size([256, 32, 16, 16])\n",
            "torch.Size([256, 64, 16, 16])\n",
            "torch.Size([256, 64, 8, 8])\n",
            "torch.Size([256, 128, 8, 8])\n",
            "torch.Size([256, 32, 32, 32])\n",
            "torch.Size([256, 32, 16, 16])\n",
            "torch.Size([256, 64, 16, 16])\n",
            "torch.Size([256, 64, 8, 8])\n",
            "torch.Size([256, 128, 8, 8])\n",
            "torch.Size([256, 32, 32, 32])\n",
            "torch.Size([256, 32, 16, 16])\n",
            "torch.Size([256, 64, 16, 16])\n",
            "torch.Size([256, 64, 8, 8])\n",
            "torch.Size([256, 128, 8, 8])\n"
          ],
          "name": "stdout"
        },
        {
          "output_type": "stream",
          "text": [
            "\r 37%|███▋      | 73/196 [00:05<00:09, 12.86it/s]"
          ],
          "name": "stderr"
        },
        {
          "output_type": "stream",
          "text": [
            "torch.Size([256, 32, 32, 32])\n",
            "torch.Size([256, 32, 16, 16])\n",
            "torch.Size([256, 64, 16, 16])\n",
            "torch.Size([256, 64, 8, 8])\n",
            "torch.Size([256, 128, 8, 8])\n",
            "torch.Size([256, 32, 32, 32])\n",
            "torch.Size([256, 32, 16, 16])\n",
            "torch.Size([256, 64, 16, 16])\n",
            "torch.Size([256, 64, 8, 8])\n",
            "torch.Size([256, 128, 8, 8])\n",
            "torch.Size([256, 32, 32, 32])\n",
            "torch.Size([256, 32, 16, 16])\n",
            "torch.Size([256, 64, 16, 16])\n",
            "torch.Size([256, 64, 8, 8])\n",
            "torch.Size([256, 128, 8, 8])\n"
          ],
          "name": "stdout"
        },
        {
          "output_type": "stream",
          "text": [
            " 39%|███▉      | 77/196 [00:06<00:08, 13.54it/s]"
          ],
          "name": "stderr"
        },
        {
          "output_type": "stream",
          "text": [
            "torch.Size([256, 32, 32, 32])\n",
            "torch.Size([256, 32, 16, 16])\n",
            "torch.Size([256, 64, 16, 16])\n",
            "torch.Size([256, 64, 8, 8])\n",
            "torch.Size([256, 128, 8, 8])\n",
            "torch.Size([256, 32, 32, 32])\n",
            "torch.Size([256, 32, 16, 16])\n",
            "torch.Size([256, 64, 16, 16])\n",
            "torch.Size([256, 64, 8, 8])\n",
            "torch.Size([256, 128, 8, 8])\n",
            "torch.Size([256, 32, 32, 32])\n",
            "torch.Size([256, 32, 16, 16])\n",
            "torch.Size([256, 64, 16, 16])\n",
            "torch.Size([256, 64, 8, 8])\n",
            "torch.Size([256, 128, 8, 8])\n"
          ],
          "name": "stdout"
        },
        {
          "output_type": "stream",
          "text": [
            "\r 40%|████      | 79/196 [00:06<00:08, 13.42it/s]"
          ],
          "name": "stderr"
        },
        {
          "output_type": "stream",
          "text": [
            "torch.Size([256, 32, 32, 32])\n",
            "torch.Size([256, 32, 16, 16])\n",
            "torch.Size([256, 64, 16, 16])\n",
            "torch.Size([256, 64, 8, 8])\n",
            "torch.Size([256, 128, 8, 8])\n",
            "torch.Size([256, 32, 32, 32])\n",
            "torch.Size([256, 32, 16, 16])\n",
            "torch.Size([256, 64, 16, 16])\n",
            "torch.Size([256, 64, 8, 8])\n",
            "torch.Size([256, 128, 8, 8])\n",
            "torch.Size([256, 32, 32, 32])\n",
            "torch.Size([256, 32, 16, 16])\n",
            "torch.Size([256, 64, 16, 16])\n",
            "torch.Size([256, 64, 8, 8])\n",
            "torch.Size([256, 128, 8, 8])\n"
          ],
          "name": "stdout"
        },
        {
          "output_type": "stream",
          "text": [
            " 42%|████▏     | 83/196 [00:06<00:08, 13.49it/s]"
          ],
          "name": "stderr"
        },
        {
          "output_type": "stream",
          "text": [
            "torch.Size([256, 32, 32, 32])\n",
            "torch.Size([256, 32, 16, 16])\n",
            "torch.Size([256, 64, 16, 16])\n",
            "torch.Size([256, 64, 8, 8])\n",
            "torch.Size([256, 128, 8, 8])\n",
            "torch.Size([256, 32, 32, 32])\n",
            "torch.Size([256, 32, 16, 16])\n",
            "torch.Size([256, 64, 16, 16])\n",
            "torch.Size([256, 64, 8, 8])\n",
            "torch.Size([256, 128, 8, 8])\n",
            "torch.Size([256, 32, 32, 32])\n",
            "torch.Size([256, 32, 16, 16])\n",
            "torch.Size([256, 64, 16, 16])\n",
            "torch.Size([256, 64, 8, 8])\n",
            "torch.Size([256, 128, 8, 8])\n"
          ],
          "name": "stdout"
        },
        {
          "output_type": "stream",
          "text": [
            "\r 43%|████▎     | 85/196 [00:06<00:08, 13.25it/s]"
          ],
          "name": "stderr"
        },
        {
          "output_type": "stream",
          "text": [
            "torch.Size([256, 32, 32, 32])\n",
            "torch.Size([256, 32, 16, 16])\n",
            "torch.Size([256, 64, 16, 16])\n",
            "torch.Size([256, 64, 8, 8])\n",
            "torch.Size([256, 128, 8, 8])\n",
            "torch.Size([256, 32, 32, 32])\n",
            "torch.Size([256, 32, 16, 16])\n",
            "torch.Size([256, 64, 16, 16])\n",
            "torch.Size([256, 64, 8, 8])\n",
            "torch.Size([256, 128, 8, 8])\n",
            "torch.Size([256, 32, 32, 32])\n",
            "torch.Size([256, 32, 16, 16])\n",
            "torch.Size([256, 64, 16, 16])\n",
            "torch.Size([256, 64, 8, 8])\n",
            "torch.Size([256, 128, 8, 8])\n"
          ],
          "name": "stdout"
        },
        {
          "output_type": "stream",
          "text": [
            " 45%|████▌     | 89/196 [00:07<00:08, 13.13it/s]"
          ],
          "name": "stderr"
        },
        {
          "output_type": "stream",
          "text": [
            "torch.Size([256, 32, 32, 32])\n",
            "torch.Size([256, 32, 16, 16])\n",
            "torch.Size([256, 64, 16, 16])\n",
            "torch.Size([256, 64, 8, 8])\n",
            "torch.Size([256, 128, 8, 8])\n",
            "torch.Size([256, 32, 32, 32])\n",
            "torch.Size([256, 32, 16, 16])\n",
            "torch.Size([256, 64, 16, 16])\n",
            "torch.Size([256, 64, 8, 8])\n",
            "torch.Size([256, 128, 8, 8])\n",
            "torch.Size([256, 32, 32, 32])\n",
            "torch.Size([256, 32, 16, 16])\n",
            "torch.Size([256, 64, 16, 16])\n",
            "torch.Size([256, 64, 8, 8])\n",
            "torch.Size([256, 128, 8, 8])\n"
          ],
          "name": "stdout"
        },
        {
          "output_type": "stream",
          "text": [
            " 47%|████▋     | 93/196 [00:07<00:07, 13.66it/s]"
          ],
          "name": "stderr"
        },
        {
          "output_type": "stream",
          "text": [
            "torch.Size([256, 32, 32, 32])\n",
            "torch.Size([256, 32, 16, 16])\n",
            "torch.Size([256, 64, 16, 16])\n",
            "torch.Size([256, 64, 8, 8])\n",
            "torch.Size([256, 128, 8, 8])\n",
            "torch.Size([256, 32, 32, 32])\n",
            "torch.Size([256, 32, 16, 16])\n",
            "torch.Size([256, 64, 16, 16])\n",
            "torch.Size([256, 64, 8, 8])\n",
            "torch.Size([256, 128, 8, 8])\n",
            "torch.Size([256, 32, 32, 32])\n",
            "torch.Size([256, 32, 16, 16])\n",
            "torch.Size([256, 64, 16, 16])\n",
            "torch.Size([256, 64, 8, 8])\n",
            "torch.Size([256, 128, 8, 8])\n"
          ],
          "name": "stdout"
        },
        {
          "output_type": "stream",
          "text": [
            "\r 48%|████▊     | 95/196 [00:07<00:07, 13.32it/s]"
          ],
          "name": "stderr"
        },
        {
          "output_type": "stream",
          "text": [
            "torch.Size([256, 32, 32, 32])\n",
            "torch.Size([256, 32, 16, 16])\n",
            "torch.Size([256, 64, 16, 16])\n",
            "torch.Size([256, 64, 8, 8])\n",
            "torch.Size([256, 128, 8, 8])\n",
            "torch.Size([256, 32, 32, 32])\n",
            "torch.Size([256, 32, 16, 16])\n",
            "torch.Size([256, 64, 16, 16])\n",
            "torch.Size([256, 64, 8, 8])\n",
            "torch.Size([256, 128, 8, 8])\n",
            "torch.Size([256, 32, 32, 32])\n",
            "torch.Size([256, 32, 16, 16])\n",
            "torch.Size([256, 64, 16, 16])\n",
            "torch.Size([256, 64, 8, 8])\n",
            "torch.Size([256, 128, 8, 8])\n"
          ],
          "name": "stdout"
        },
        {
          "output_type": "stream",
          "text": [
            "\r 49%|████▉     | 97/196 [00:07<00:07, 13.37it/s]"
          ],
          "name": "stderr"
        },
        {
          "output_type": "stream",
          "text": [
            "torch.Size([256, 32, 32, 32])\n",
            "torch.Size([256, 32, 16, 16])\n",
            "torch.Size([256, 64, 16, 16])\n",
            "torch.Size([256, 64, 8, 8])\n",
            "torch.Size([256, 128, 8, 8])\n",
            "torch.Size([256, 32, 32, 32])\n",
            "torch.Size([256, 32, 16, 16])\n",
            "torch.Size([256, 64, 16, 16])\n",
            "torch.Size([256, 64, 8, 8])\n",
            "torch.Size([256, 128, 8, 8])\n",
            "torch.Size([256, 32, 32, 32])\n",
            "torch.Size([256, 32, 16, 16])\n",
            "torch.Size([256, 64, 16, 16])\n",
            "torch.Size([256, 64, 8, 8])\n",
            "torch.Size([256, 128, 8, 8])\n"
          ],
          "name": "stdout"
        },
        {
          "output_type": "stream",
          "text": [
            " 52%|█████▏    | 101/196 [00:07<00:07, 13.06it/s]"
          ],
          "name": "stderr"
        },
        {
          "output_type": "stream",
          "text": [
            "torch.Size([256, 32, 32, 32])\n",
            "torch.Size([256, 32, 16, 16])\n",
            "torch.Size([256, 64, 16, 16])\n",
            "torch.Size([256, 64, 8, 8])\n",
            "torch.Size([256, 128, 8, 8])\n",
            "torch.Size([256, 32, 32, 32])\n",
            "torch.Size([256, 32, 16, 16])\n",
            "torch.Size([256, 64, 16, 16])\n",
            "torch.Size([256, 64, 8, 8])\n",
            "torch.Size([256, 128, 8, 8])\n",
            "torch.Size([256, 32, 32, 32])\n",
            "torch.Size([256, 32, 16, 16])\n",
            "torch.Size([256, 64, 16, 16])\n",
            "torch.Size([256, 64, 8, 8])\n",
            "torch.Size([256, 128, 8, 8])\n"
          ],
          "name": "stdout"
        },
        {
          "output_type": "stream",
          "text": [
            "\r 53%|█████▎    | 103/196 [00:08<00:07, 13.27it/s]"
          ],
          "name": "stderr"
        },
        {
          "output_type": "stream",
          "text": [
            "torch.Size([256, 32, 32, 32])\n",
            "torch.Size([256, 32, 16, 16])\n",
            "torch.Size([256, 64, 16, 16])\n",
            "torch.Size([256, 64, 8, 8])\n",
            "torch.Size([256, 128, 8, 8])\n",
            "torch.Size([256, 32, 32, 32])\n",
            "torch.Size([256, 32, 16, 16])\n",
            "torch.Size([256, 64, 16, 16])\n",
            "torch.Size([256, 64, 8, 8])\n",
            "torch.Size([256, 128, 8, 8])\n",
            "torch.Size([256, 32, 32, 32])\n",
            "torch.Size([256, 32, 16, 16])\n",
            "torch.Size([256, 64, 16, 16])\n",
            "torch.Size([256, 64, 8, 8])\n",
            "torch.Size([256, 128, 8, 8])\n"
          ],
          "name": "stdout"
        },
        {
          "output_type": "stream",
          "text": [
            " 55%|█████▍    | 107/196 [00:08<00:06, 13.50it/s]"
          ],
          "name": "stderr"
        },
        {
          "output_type": "stream",
          "text": [
            "torch.Size([256, 32, 32, 32])\n",
            "torch.Size([256, 32, 16, 16])\n",
            "torch.Size([256, 64, 16, 16])\n",
            "torch.Size([256, 64, 8, 8])\n",
            "torch.Size([256, 128, 8, 8])\n",
            "torch.Size([256, 32, 32, 32])\n",
            "torch.Size([256, 32, 16, 16])\n",
            "torch.Size([256, 64, 16, 16])\n",
            "torch.Size([256, 64, 8, 8])\n",
            "torch.Size([256, 128, 8, 8])\n",
            "torch.Size([256, 32, 32, 32])\n",
            "torch.Size([256, 32, 16, 16])\n",
            "torch.Size([256, 64, 16, 16])\n",
            "torch.Size([256, 64, 8, 8])\n",
            "torch.Size([256, 128, 8, 8])\n"
          ],
          "name": "stdout"
        },
        {
          "output_type": "stream",
          "text": [
            "\r 56%|█████▌    | 109/196 [00:08<00:06, 13.73it/s]"
          ],
          "name": "stderr"
        },
        {
          "output_type": "stream",
          "text": [
            "torch.Size([256, 32, 32, 32])\n",
            "torch.Size([256, 32, 16, 16])\n",
            "torch.Size([256, 64, 16, 16])\n",
            "torch.Size([256, 64, 8, 8])\n",
            "torch.Size([256, 128, 8, 8])\n",
            "torch.Size([256, 32, 32, 32])\n",
            "torch.Size([256, 32, 16, 16])\n",
            "torch.Size([256, 64, 16, 16])\n",
            "torch.Size([256, 64, 8, 8])\n",
            "torch.Size([256, 128, 8, 8])\n",
            "torch.Size([256, 32, 32, 32])\n",
            "torch.Size([256, 32, 16, 16])\n",
            "torch.Size([256, 64, 16, 16])\n",
            "torch.Size([256, 64, 8, 8])\n",
            "torch.Size([256, 128, 8, 8])\n"
          ],
          "name": "stdout"
        },
        {
          "output_type": "stream",
          "text": [
            " 58%|█████▊    | 113/196 [00:08<00:06, 13.73it/s]"
          ],
          "name": "stderr"
        },
        {
          "output_type": "stream",
          "text": [
            "torch.Size([256, 32, 32, 32])\n",
            "torch.Size([256, 32, 16, 16])\n",
            "torch.Size([256, 64, 16, 16])\n",
            "torch.Size([256, 64, 8, 8])\n",
            "torch.Size([256, 128, 8, 8])\n",
            "torch.Size([256, 32, 32, 32])\n",
            "torch.Size([256, 32, 16, 16])\n",
            "torch.Size([256, 64, 16, 16])\n",
            "torch.Size([256, 64, 8, 8])\n",
            "torch.Size([256, 128, 8, 8])\n",
            "torch.Size([256, 32, 32, 32])\n",
            "torch.Size([256, 32, 16, 16])\n",
            "torch.Size([256, 64, 16, 16])\n",
            "torch.Size([256, 64, 8, 8])\n",
            "torch.Size([256, 128, 8, 8])\n"
          ],
          "name": "stdout"
        },
        {
          "output_type": "stream",
          "text": [
            "\r 59%|█████▊    | 115/196 [00:08<00:05, 13.54it/s]"
          ],
          "name": "stderr"
        },
        {
          "output_type": "stream",
          "text": [
            "torch.Size([256, 32, 32, 32])\n",
            "torch.Size([256, 32, 16, 16])\n",
            "torch.Size([256, 64, 16, 16])\n",
            "torch.Size([256, 64, 8, 8])\n",
            "torch.Size([256, 128, 8, 8])\n",
            "torch.Size([256, 32, 32, 32])\n",
            "torch.Size([256, 32, 16, 16])\n",
            "torch.Size([256, 64, 16, 16])\n",
            "torch.Size([256, 64, 8, 8])\n",
            "torch.Size([256, 128, 8, 8])\n",
            "torch.Size([256, 32, 32, 32])\n",
            "torch.Size([256, 32, 16, 16])\n",
            "torch.Size([256, 64, 16, 16])\n",
            "torch.Size([256, 64, 8, 8])\n",
            "torch.Size([256, 128, 8, 8])\n"
          ],
          "name": "stdout"
        },
        {
          "output_type": "stream",
          "text": [
            " 61%|██████    | 119/196 [00:09<00:05, 13.60it/s]"
          ],
          "name": "stderr"
        },
        {
          "output_type": "stream",
          "text": [
            "torch.Size([256, 32, 32, 32])\n",
            "torch.Size([256, 32, 16, 16])\n",
            "torch.Size([256, 64, 16, 16])\n",
            "torch.Size([256, 64, 8, 8])\n",
            "torch.Size([256, 128, 8, 8])\n",
            "torch.Size([256, 32, 32, 32])\n",
            "torch.Size([256, 32, 16, 16])\n",
            "torch.Size([256, 64, 16, 16])\n",
            "torch.Size([256, 64, 8, 8])\n",
            "torch.Size([256, 128, 8, 8])\n",
            "torch.Size([256, 32, 32, 32])\n",
            "torch.Size([256, 32, 16, 16])\n",
            "torch.Size([256, 64, 16, 16])\n",
            "torch.Size([256, 64, 8, 8])\n",
            "torch.Size([256, 128, 8, 8])\n"
          ],
          "name": "stdout"
        },
        {
          "output_type": "stream",
          "text": [
            "\r 62%|██████▏   | 121/196 [00:09<00:05, 13.48it/s]"
          ],
          "name": "stderr"
        },
        {
          "output_type": "stream",
          "text": [
            "torch.Size([256, 32, 32, 32])\n",
            "torch.Size([256, 32, 16, 16])\n",
            "torch.Size([256, 64, 16, 16])\n",
            "torch.Size([256, 64, 8, 8])\n",
            "torch.Size([256, 128, 8, 8])\n",
            "torch.Size([256, 32, 32, 32])\n",
            "torch.Size([256, 32, 16, 16])\n",
            "torch.Size([256, 64, 16, 16])\n",
            "torch.Size([256, 64, 8, 8])\n",
            "torch.Size([256, 128, 8, 8])\n",
            "torch.Size([256, 32, 32, 32])\n",
            "torch.Size([256, 32, 16, 16])\n",
            "torch.Size([256, 64, 16, 16])\n",
            "torch.Size([256, 64, 8, 8])\n",
            "torch.Size([256, 128, 8, 8])\n"
          ],
          "name": "stdout"
        },
        {
          "output_type": "stream",
          "text": [
            " 64%|██████▍   | 125/196 [00:09<00:05, 13.60it/s]"
          ],
          "name": "stderr"
        },
        {
          "output_type": "stream",
          "text": [
            "torch.Size([256, 32, 32, 32])\n",
            "torch.Size([256, 32, 16, 16])\n",
            "torch.Size([256, 64, 16, 16])\n",
            "torch.Size([256, 64, 8, 8])\n",
            "torch.Size([256, 128, 8, 8])\n",
            "torch.Size([256, 32, 32, 32])\n",
            "torch.Size([256, 32, 16, 16])\n",
            "torch.Size([256, 64, 16, 16])\n",
            "torch.Size([256, 64, 8, 8])\n",
            "torch.Size([256, 128, 8, 8])\n",
            "torch.Size([256, 32, 32, 32])\n",
            "torch.Size([256, 32, 16, 16])\n",
            "torch.Size([256, 64, 16, 16])\n",
            "torch.Size([256, 64, 8, 8])\n",
            "torch.Size([256, 128, 8, 8])\n"
          ],
          "name": "stdout"
        },
        {
          "output_type": "stream",
          "text": [
            "\r 65%|██████▍   | 127/196 [00:09<00:05, 13.35it/s]"
          ],
          "name": "stderr"
        },
        {
          "output_type": "stream",
          "text": [
            "torch.Size([256, 32, 32, 32])\n",
            "torch.Size([256, 32, 16, 16])\n",
            "torch.Size([256, 64, 16, 16])\n",
            "torch.Size([256, 64, 8, 8])\n",
            "torch.Size([256, 128, 8, 8])\n",
            "torch.Size([256, 32, 32, 32])\n",
            "torch.Size([256, 32, 16, 16])\n",
            "torch.Size([256, 64, 16, 16])\n",
            "torch.Size([256, 64, 8, 8])\n",
            "torch.Size([256, 128, 8, 8])\n",
            "torch.Size([256, 32, 32, 32])\n",
            "torch.Size([256, 32, 16, 16])\n",
            "torch.Size([256, 64, 16, 16])\n",
            "torch.Size([256, 64, 8, 8])\n",
            "torch.Size([256, 128, 8, 8])\n"
          ],
          "name": "stdout"
        },
        {
          "output_type": "stream",
          "text": [
            " 67%|██████▋   | 131/196 [00:10<00:04, 13.20it/s]"
          ],
          "name": "stderr"
        },
        {
          "output_type": "stream",
          "text": [
            "torch.Size([256, 32, 32, 32])\n",
            "torch.Size([256, 32, 16, 16])\n",
            "torch.Size([256, 64, 16, 16])\n",
            "torch.Size([256, 64, 8, 8])\n",
            "torch.Size([256, 128, 8, 8])\n",
            "torch.Size([256, 32, 32, 32])\n",
            "torch.Size([256, 32, 16, 16])\n",
            "torch.Size([256, 64, 16, 16])\n",
            "torch.Size([256, 64, 8, 8])\n",
            "torch.Size([256, 128, 8, 8])\n",
            "torch.Size([256, 32, 32, 32])\n",
            "torch.Size([256, 32, 16, 16])\n",
            "torch.Size([256, 64, 16, 16])\n",
            "torch.Size([256, 64, 8, 8])\n",
            "torch.Size([256, 128, 8, 8])\n"
          ],
          "name": "stdout"
        },
        {
          "output_type": "stream",
          "text": [
            "\r 68%|██████▊   | 133/196 [00:10<00:04, 13.53it/s]"
          ],
          "name": "stderr"
        },
        {
          "output_type": "stream",
          "text": [
            "torch.Size([256, 32, 32, 32])\n",
            "torch.Size([256, 32, 16, 16])\n",
            "torch.Size([256, 64, 16, 16])\n",
            "torch.Size([256, 64, 8, 8])\n",
            "torch.Size([256, 128, 8, 8])\n",
            "torch.Size([256, 32, 32, 32])\n",
            "torch.Size([256, 32, 16, 16])\n",
            "torch.Size([256, 64, 16, 16])\n",
            "torch.Size([256, 64, 8, 8])\n",
            "torch.Size([256, 128, 8, 8])\n",
            "torch.Size([256, 32, 32, 32])\n",
            "torch.Size([256, 32, 16, 16])\n",
            "torch.Size([256, 64, 16, 16])\n",
            "torch.Size([256, 64, 8, 8])\n",
            "torch.Size([256, 128, 8, 8])\n"
          ],
          "name": "stdout"
        },
        {
          "output_type": "stream",
          "text": [
            " 70%|██████▉   | 137/196 [00:10<00:04, 13.70it/s]"
          ],
          "name": "stderr"
        },
        {
          "output_type": "stream",
          "text": [
            "torch.Size([256, 32, 32, 32])\n",
            "torch.Size([256, 32, 16, 16])\n",
            "torch.Size([256, 64, 16, 16])\n",
            "torch.Size([256, 64, 8, 8])\n",
            "torch.Size([256, 128, 8, 8])\n",
            "torch.Size([256, 32, 32, 32])\n",
            "torch.Size([256, 32, 16, 16])\n",
            "torch.Size([256, 64, 16, 16])\n",
            "torch.Size([256, 64, 8, 8])\n",
            "torch.Size([256, 128, 8, 8])\n",
            "torch.Size([256, 32, 32, 32])\n",
            "torch.Size([256, 32, 16, 16])\n",
            "torch.Size([256, 64, 16, 16])\n",
            "torch.Size([256, 64, 8, 8])\n",
            "torch.Size([256, 128, 8, 8])\n"
          ],
          "name": "stdout"
        },
        {
          "output_type": "stream",
          "text": [
            "\r 71%|███████   | 139/196 [00:10<00:04, 13.83it/s]"
          ],
          "name": "stderr"
        },
        {
          "output_type": "stream",
          "text": [
            "torch.Size([256, 32, 32, 32])\n",
            "torch.Size([256, 32, 16, 16])\n",
            "torch.Size([256, 64, 16, 16])\n",
            "torch.Size([256, 64, 8, 8])\n",
            "torch.Size([256, 128, 8, 8])\n",
            "torch.Size([256, 32, 32, 32])\n",
            "torch.Size([256, 32, 16, 16])\n",
            "torch.Size([256, 64, 16, 16])\n",
            "torch.Size([256, 64, 8, 8])\n",
            "torch.Size([256, 128, 8, 8])\n",
            "torch.Size([256, 32, 32, 32])\n",
            "torch.Size([256, 32, 16, 16])\n",
            "torch.Size([256, 64, 16, 16])\n",
            "torch.Size([256, 64, 8, 8])\n",
            "torch.Size([256, 128, 8, 8])\n"
          ],
          "name": "stdout"
        },
        {
          "output_type": "stream",
          "text": [
            " 73%|███████▎  | 143/196 [00:11<00:03, 13.70it/s]"
          ],
          "name": "stderr"
        },
        {
          "output_type": "stream",
          "text": [
            "torch.Size([256, 32, 32, 32])\n",
            "torch.Size([256, 32, 16, 16])\n",
            "torch.Size([256, 64, 16, 16])\n",
            "torch.Size([256, 64, 8, 8])\n",
            "torch.Size([256, 128, 8, 8])\n",
            "torch.Size([256, 32, 32, 32])\n",
            "torch.Size([256, 32, 16, 16])\n",
            "torch.Size([256, 64, 16, 16])\n",
            "torch.Size([256, 64, 8, 8])\n",
            "torch.Size([256, 128, 8, 8])\n",
            "torch.Size([256, 32, 32, 32])\n",
            "torch.Size([256, 32, 16, 16])\n",
            "torch.Size([256, 64, 16, 16])\n",
            "torch.Size([256, 64, 8, 8])\n",
            "torch.Size([256, 128, 8, 8])\n"
          ],
          "name": "stdout"
        },
        {
          "output_type": "stream",
          "text": [
            "\r 74%|███████▍  | 145/196 [00:11<00:03, 13.39it/s]"
          ],
          "name": "stderr"
        },
        {
          "output_type": "stream",
          "text": [
            "torch.Size([256, 32, 32, 32])\n",
            "torch.Size([256, 32, 16, 16])\n",
            "torch.Size([256, 64, 16, 16])\n",
            "torch.Size([256, 64, 8, 8])\n",
            "torch.Size([256, 128, 8, 8])\n",
            "torch.Size([256, 32, 32, 32])\n",
            "torch.Size([256, 32, 16, 16])\n",
            "torch.Size([256, 64, 16, 16])\n",
            "torch.Size([256, 64, 8, 8])\n",
            "torch.Size([256, 128, 8, 8])\n",
            "torch.Size([256, 32, 32, 32])\n",
            "torch.Size([256, 32, 16, 16])\n",
            "torch.Size([256, 64, 16, 16])\n",
            "torch.Size([256, 64, 8, 8])\n",
            "torch.Size([256, 128, 8, 8])\n"
          ],
          "name": "stdout"
        },
        {
          "output_type": "stream",
          "text": [
            " 76%|███████▌  | 149/196 [00:11<00:03, 13.87it/s]"
          ],
          "name": "stderr"
        },
        {
          "output_type": "stream",
          "text": [
            "torch.Size([256, 32, 32, 32])\n",
            "torch.Size([256, 32, 16, 16])\n",
            "torch.Size([256, 64, 16, 16])\n",
            "torch.Size([256, 64, 8, 8])\n",
            "torch.Size([256, 128, 8, 8])\n",
            "torch.Size([256, 32, 32, 32])\n",
            "torch.Size([256, 32, 16, 16])\n",
            "torch.Size([256, 64, 16, 16])\n",
            "torch.Size([256, 64, 8, 8])\n",
            "torch.Size([256, 128, 8, 8])\n",
            "torch.Size([256, 32, 32, 32])\n",
            "torch.Size([256, 32, 16, 16])\n",
            "torch.Size([256, 64, 16, 16])\n",
            "torch.Size([256, 64, 8, 8])\n",
            "torch.Size([256, 128, 8, 8])\n"
          ],
          "name": "stdout"
        },
        {
          "output_type": "stream",
          "text": [
            "\r 77%|███████▋  | 151/196 [00:11<00:03, 13.79it/s]"
          ],
          "name": "stderr"
        },
        {
          "output_type": "stream",
          "text": [
            "torch.Size([256, 32, 32, 32])\n",
            "torch.Size([256, 32, 16, 16])\n",
            "torch.Size([256, 64, 16, 16])\n",
            "torch.Size([256, 64, 8, 8])\n",
            "torch.Size([256, 128, 8, 8])\n",
            "torch.Size([256, 32, 32, 32])\n",
            "torch.Size([256, 32, 16, 16])\n",
            "torch.Size([256, 64, 16, 16])\n",
            "torch.Size([256, 64, 8, 8])\n",
            "torch.Size([256, 128, 8, 8])\n",
            "torch.Size([256, 32, 32, 32])\n",
            "torch.Size([256, 32, 16, 16])\n",
            "torch.Size([256, 64, 16, 16])\n",
            "torch.Size([256, 64, 8, 8])\n",
            "torch.Size([256, 128, 8, 8])\n"
          ],
          "name": "stdout"
        },
        {
          "output_type": "stream",
          "text": [
            " 79%|███████▉  | 155/196 [00:11<00:02, 13.67it/s]"
          ],
          "name": "stderr"
        },
        {
          "output_type": "stream",
          "text": [
            "torch.Size([256, 32, 32, 32])\n",
            "torch.Size([256, 32, 16, 16])\n",
            "torch.Size([256, 64, 16, 16])\n",
            "torch.Size([256, 64, 8, 8])\n",
            "torch.Size([256, 128, 8, 8])\n",
            "torch.Size([256, 32, 32, 32])\n",
            "torch.Size([256, 32, 16, 16])\n",
            "torch.Size([256, 64, 16, 16])\n",
            "torch.Size([256, 64, 8, 8])\n",
            "torch.Size([256, 128, 8, 8])\n",
            "torch.Size([256, 32, 32, 32])\n",
            "torch.Size([256, 32, 16, 16])\n",
            "torch.Size([256, 64, 16, 16])\n",
            "torch.Size([256, 64, 8, 8])\n",
            "torch.Size([256, 128, 8, 8])\n"
          ],
          "name": "stdout"
        },
        {
          "output_type": "stream",
          "text": [
            "\r 80%|████████  | 157/196 [00:12<00:02, 13.62it/s]"
          ],
          "name": "stderr"
        },
        {
          "output_type": "stream",
          "text": [
            "torch.Size([256, 32, 32, 32])\n",
            "torch.Size([256, 32, 16, 16])\n",
            "torch.Size([256, 64, 16, 16])\n",
            "torch.Size([256, 64, 8, 8])\n",
            "torch.Size([256, 128, 8, 8])\n",
            "torch.Size([256, 32, 32, 32])\n",
            "torch.Size([256, 32, 16, 16])\n",
            "torch.Size([256, 64, 16, 16])\n",
            "torch.Size([256, 64, 8, 8])\n",
            "torch.Size([256, 128, 8, 8])\n",
            "torch.Size([256, 32, 32, 32])\n",
            "torch.Size([256, 32, 16, 16])\n",
            "torch.Size([256, 64, 16, 16])\n",
            "torch.Size([256, 64, 8, 8])\n",
            "torch.Size([256, 128, 8, 8])\n"
          ],
          "name": "stdout"
        },
        {
          "output_type": "stream",
          "text": [
            " 82%|████████▏ | 161/196 [00:12<00:02, 13.51it/s]"
          ],
          "name": "stderr"
        },
        {
          "output_type": "stream",
          "text": [
            "torch.Size([256, 32, 32, 32])\n",
            "torch.Size([256, 32, 16, 16])\n",
            "torch.Size([256, 64, 16, 16])\n",
            "torch.Size([256, 64, 8, 8])\n",
            "torch.Size([256, 128, 8, 8])\n",
            "torch.Size([256, 32, 32, 32])\n",
            "torch.Size([256, 32, 16, 16])\n",
            "torch.Size([256, 64, 16, 16])\n",
            "torch.Size([256, 64, 8, 8])\n",
            "torch.Size([256, 128, 8, 8])\n",
            "torch.Size([256, 32, 32, 32])\n",
            "torch.Size([256, 32, 16, 16])\n",
            "torch.Size([256, 64, 16, 16])\n",
            "torch.Size([256, 64, 8, 8])\n",
            "torch.Size([256, 128, 8, 8])\n"
          ],
          "name": "stdout"
        },
        {
          "output_type": "stream",
          "text": [
            "\r 83%|████████▎ | 163/196 [00:12<00:02, 13.39it/s]"
          ],
          "name": "stderr"
        },
        {
          "output_type": "stream",
          "text": [
            "torch.Size([256, 32, 32, 32])\n",
            "torch.Size([256, 32, 16, 16])\n",
            "torch.Size([256, 64, 16, 16])\n",
            "torch.Size([256, 64, 8, 8])\n",
            "torch.Size([256, 128, 8, 8])\n",
            "torch.Size([256, 32, 32, 32])\n",
            "torch.Size([256, 32, 16, 16])\n",
            "torch.Size([256, 64, 16, 16])\n",
            "torch.Size([256, 64, 8, 8])\n",
            "torch.Size([256, 128, 8, 8])\n",
            "torch.Size([256, 32, 32, 32])\n",
            "torch.Size([256, 32, 16, 16])\n",
            "torch.Size([256, 64, 16, 16])\n",
            "torch.Size([256, 64, 8, 8])\n",
            "torch.Size([256, 128, 8, 8])\n"
          ],
          "name": "stdout"
        },
        {
          "output_type": "stream",
          "text": [
            " 85%|████████▌ | 167/196 [00:12<00:02, 13.74it/s]"
          ],
          "name": "stderr"
        },
        {
          "output_type": "stream",
          "text": [
            "torch.Size([256, 32, 32, 32])\n",
            "torch.Size([256, 32, 16, 16])\n",
            "torch.Size([256, 64, 16, 16])\n",
            "torch.Size([256, 64, 8, 8])\n",
            "torch.Size([256, 128, 8, 8])\n",
            "torch.Size([256, 32, 32, 32])\n",
            "torch.Size([256, 32, 16, 16])\n",
            "torch.Size([256, 64, 16, 16])\n",
            "torch.Size([256, 64, 8, 8])\n",
            "torch.Size([256, 128, 8, 8])\n",
            "torch.Size([256, 32, 32, 32])\n",
            "torch.Size([256, 32, 16, 16])\n",
            "torch.Size([256, 64, 16, 16])\n",
            "torch.Size([256, 64, 8, 8])\n",
            "torch.Size([256, 128, 8, 8])\n"
          ],
          "name": "stdout"
        },
        {
          "output_type": "stream",
          "text": [
            "\r 86%|████████▌ | 169/196 [00:12<00:01, 13.52it/s]"
          ],
          "name": "stderr"
        },
        {
          "output_type": "stream",
          "text": [
            "torch.Size([256, 32, 32, 32])\n",
            "torch.Size([256, 32, 16, 16])\n",
            "torch.Size([256, 64, 16, 16])\n",
            "torch.Size([256, 64, 8, 8])\n",
            "torch.Size([256, 128, 8, 8])\n",
            "torch.Size([256, 32, 32, 32])\n",
            "torch.Size([256, 32, 16, 16])\n",
            "torch.Size([256, 64, 16, 16])\n",
            "torch.Size([256, 64, 8, 8])\n",
            "torch.Size([256, 128, 8, 8])\n",
            "torch.Size([256, 32, 32, 32])\n",
            "torch.Size([256, 32, 16, 16])\n",
            "torch.Size([256, 64, 16, 16])\n",
            "torch.Size([256, 64, 8, 8])\n",
            "torch.Size([256, 128, 8, 8])\n"
          ],
          "name": "stdout"
        },
        {
          "output_type": "stream",
          "text": [
            " 88%|████████▊ | 173/196 [00:13<00:01, 13.36it/s]"
          ],
          "name": "stderr"
        },
        {
          "output_type": "stream",
          "text": [
            "torch.Size([256, 32, 32, 32])\n",
            "torch.Size([256, 32, 16, 16])\n",
            "torch.Size([256, 64, 16, 16])\n",
            "torch.Size([256, 64, 8, 8])\n",
            "torch.Size([256, 128, 8, 8])\n",
            "torch.Size([256, 32, 32, 32])\n",
            "torch.Size([256, 32, 16, 16])\n",
            "torch.Size([256, 64, 16, 16])\n",
            "torch.Size([256, 64, 8, 8])\n",
            "torch.Size([256, 128, 8, 8])\n",
            "torch.Size([256, 32, 32, 32])\n",
            "torch.Size([256, 32, 16, 16])\n",
            "torch.Size([256, 64, 16, 16])\n",
            "torch.Size([256, 64, 8, 8])\n",
            "torch.Size([256, 128, 8, 8])\n"
          ],
          "name": "stdout"
        },
        {
          "output_type": "stream",
          "text": [
            "\r 89%|████████▉ | 175/196 [00:13<00:01, 13.40it/s]"
          ],
          "name": "stderr"
        },
        {
          "output_type": "stream",
          "text": [
            "torch.Size([256, 32, 32, 32])\n",
            "torch.Size([256, 32, 16, 16])\n",
            "torch.Size([256, 64, 16, 16])\n",
            "torch.Size([256, 64, 8, 8])\n",
            "torch.Size([256, 128, 8, 8])\n",
            "torch.Size([256, 32, 32, 32])\n",
            "torch.Size([256, 32, 16, 16])\n",
            "torch.Size([256, 64, 16, 16])\n",
            "torch.Size([256, 64, 8, 8])\n",
            "torch.Size([256, 128, 8, 8])\n",
            "torch.Size([256, 32, 32, 32])\n",
            "torch.Size([256, 32, 16, 16])\n",
            "torch.Size([256, 64, 16, 16])\n",
            "torch.Size([256, 64, 8, 8])\n",
            "torch.Size([256, 128, 8, 8])\n"
          ],
          "name": "stdout"
        },
        {
          "output_type": "stream",
          "text": [
            " 91%|█████████▏| 179/196 [00:13<00:01, 13.31it/s]"
          ],
          "name": "stderr"
        },
        {
          "output_type": "stream",
          "text": [
            "torch.Size([256, 32, 32, 32])\n",
            "torch.Size([256, 32, 16, 16])\n",
            "torch.Size([256, 64, 16, 16])\n",
            "torch.Size([256, 64, 8, 8])\n",
            "torch.Size([256, 128, 8, 8])\n",
            "torch.Size([256, 32, 32, 32])\n",
            "torch.Size([256, 32, 16, 16])\n",
            "torch.Size([256, 64, 16, 16])\n",
            "torch.Size([256, 64, 8, 8])\n",
            "torch.Size([256, 128, 8, 8])\n",
            "torch.Size([256, 32, 32, 32])\n",
            "torch.Size([256, 32, 16, 16])\n",
            "torch.Size([256, 64, 16, 16])\n",
            "torch.Size([256, 64, 8, 8])\n",
            "torch.Size([256, 128, 8, 8])\n"
          ],
          "name": "stdout"
        },
        {
          "output_type": "stream",
          "text": [
            "\r 92%|█████████▏| 181/196 [00:13<00:01, 13.05it/s]"
          ],
          "name": "stderr"
        },
        {
          "output_type": "stream",
          "text": [
            "torch.Size([256, 32, 32, 32])\n",
            "torch.Size([256, 32, 16, 16])\n",
            "torch.Size([256, 64, 16, 16])\n",
            "torch.Size([256, 64, 8, 8])\n",
            "torch.Size([256, 128, 8, 8])\n",
            "torch.Size([256, 32, 32, 32])\n",
            "torch.Size([256, 32, 16, 16])\n",
            "torch.Size([256, 64, 16, 16])\n",
            "torch.Size([256, 64, 8, 8])\n",
            "torch.Size([256, 128, 8, 8])\n",
            "torch.Size([256, 32, 32, 32])\n",
            "torch.Size([256, 32, 16, 16])\n",
            "torch.Size([256, 64, 16, 16])\n",
            "torch.Size([256, 64, 8, 8])\n",
            "torch.Size([256, 128, 8, 8])\n"
          ],
          "name": "stdout"
        },
        {
          "output_type": "stream",
          "text": [
            " 94%|█████████▍| 185/196 [00:14<00:00, 12.93it/s]"
          ],
          "name": "stderr"
        },
        {
          "output_type": "stream",
          "text": [
            "torch.Size([256, 32, 32, 32])\n",
            "torch.Size([256, 32, 16, 16])\n",
            "torch.Size([256, 64, 16, 16])\n",
            "torch.Size([256, 64, 8, 8])\n",
            "torch.Size([256, 128, 8, 8])\n",
            "torch.Size([256, 32, 32, 32])\n",
            "torch.Size([256, 32, 16, 16])\n",
            "torch.Size([256, 64, 16, 16])\n",
            "torch.Size([256, 64, 8, 8])\n",
            "torch.Size([256, 128, 8, 8])\n",
            "torch.Size([256, 32, 32, 32])\n",
            "torch.Size([256, 32, 16, 16])\n",
            "torch.Size([256, 64, 16, 16])\n",
            "torch.Size([256, 64, 8, 8])\n",
            "torch.Size([256, 128, 8, 8])\n"
          ],
          "name": "stdout"
        },
        {
          "output_type": "stream",
          "text": [
            "\r 95%|█████████▌| 187/196 [00:14<00:00, 12.98it/s]"
          ],
          "name": "stderr"
        },
        {
          "output_type": "stream",
          "text": [
            "torch.Size([256, 32, 32, 32])\n",
            "torch.Size([256, 32, 16, 16])\n",
            "torch.Size([256, 64, 16, 16])\n",
            "torch.Size([256, 64, 8, 8])\n",
            "torch.Size([256, 128, 8, 8])\n",
            "torch.Size([256, 32, 32, 32])\n",
            "torch.Size([256, 32, 16, 16])\n",
            "torch.Size([256, 64, 16, 16])\n",
            "torch.Size([256, 64, 8, 8])\n",
            "torch.Size([256, 128, 8, 8])\n",
            "torch.Size([256, 32, 32, 32])\n",
            "torch.Size([256, 32, 16, 16])\n",
            "torch.Size([256, 64, 16, 16])\n",
            "torch.Size([256, 64, 8, 8])\n",
            "torch.Size([256, 128, 8, 8])\n"
          ],
          "name": "stdout"
        },
        {
          "output_type": "stream",
          "text": [
            " 97%|█████████▋| 191/196 [00:14<00:00, 13.70it/s]"
          ],
          "name": "stderr"
        },
        {
          "output_type": "stream",
          "text": [
            "torch.Size([256, 32, 32, 32])\n",
            "torch.Size([256, 32, 16, 16])\n",
            "torch.Size([256, 64, 16, 16])\n",
            "torch.Size([256, 64, 8, 8])\n",
            "torch.Size([256, 128, 8, 8])\n",
            "torch.Size([256, 32, 32, 32])\n",
            "torch.Size([256, 32, 16, 16])\n",
            "torch.Size([256, 64, 16, 16])\n",
            "torch.Size([256, 64, 8, 8])\n",
            "torch.Size([256, 128, 8, 8])\n",
            "torch.Size([256, 32, 32, 32])\n",
            "torch.Size([256, 32, 16, 16])\n",
            "torch.Size([256, 64, 16, 16])\n",
            "torch.Size([256, 64, 8, 8])\n",
            "torch.Size([256, 128, 8, 8])\n"
          ],
          "name": "stdout"
        },
        {
          "output_type": "stream",
          "text": [
            " 99%|█████████▉| 195/196 [00:14<00:00, 14.22it/s]"
          ],
          "name": "stderr"
        },
        {
          "output_type": "stream",
          "text": [
            "torch.Size([256, 32, 32, 32])\n",
            "torch.Size([256, 32, 16, 16])\n",
            "torch.Size([256, 64, 16, 16])\n",
            "torch.Size([256, 64, 8, 8])\n",
            "torch.Size([256, 128, 8, 8])\n",
            "torch.Size([256, 32, 32, 32])\n",
            "torch.Size([256, 32, 16, 16])\n",
            "torch.Size([256, 64, 16, 16])\n",
            "torch.Size([256, 64, 8, 8])\n",
            "torch.Size([256, 128, 8, 8])\n",
            "torch.Size([256, 32, 32, 32])\n",
            "torch.Size([256, 32, 16, 16])\n",
            "torch.Size([256, 64, 16, 16])\n",
            "torch.Size([256, 64, 8, 8])\n",
            "torch.Size([256, 128, 8, 8])\n",
            "torch.Size([80, 32, 32, 32])"
          ],
          "name": "stdout"
        },
        {
          "output_type": "stream",
          "text": [
            "\r100%|██████████| 196/196 [00:14<00:00, 13.09it/s]"
          ],
          "name": "stderr"
        },
        {
          "output_type": "stream",
          "text": [
            "\n",
            "torch.Size([80, 32, 16, 16])\n",
            "torch.Size([80, 64, 16, 16])\n",
            "torch.Size([80, 64, 8, 8])\n",
            "torch.Size([80, 128, 8, 8])\n"
          ],
          "name": "stdout"
        },
        {
          "output_type": "stream",
          "text": [
            "\n"
          ],
          "name": "stderr"
        },
        {
          "output_type": "stream",
          "text": [
            "torch.Size([256, 32, 32, 32])\n",
            "torch.Size([256, 32, 16, 16])\n",
            "torch.Size([256, 64, 16, 16])\n",
            "torch.Size([256, 64, 8, 8])\n",
            "torch.Size([256, 128, 8, 8])\n",
            "torch.Size([256, 32, 32, 32])\n",
            "torch.Size([256, 32, 16, 16])\n",
            "torch.Size([256, 64, 16, 16])\n",
            "torch.Size([256, 64, 8, 8])\n",
            "torch.Size([256, 128, 8, 8])\n",
            "torch.Size([256, 32, 32, 32])\n",
            "torch.Size([256, 32, 16, 16])\n",
            "torch.Size([256, 64, 16, 16])\n",
            "torch.Size([256, 64, 8, 8])\n",
            "torch.Size([256, 128, 8, 8])\n",
            "torch.Size([256, 32, 32, 32])\n",
            "torch.Size([256, 32, 16, 16])\n",
            "torch.Size([256, 64, 16, 16])\n",
            "torch.Size([256, 64, 8, 8])\n",
            "torch.Size([256, 128, 8, 8])\n",
            "torch.Size([256, 32, 32, 32])\n",
            "torch.Size([256, 32, 16, 16])\n",
            "torch.Size([256, 64, 16, 16])\n",
            "torch.Size([256, 64, 8, 8])\n",
            "torch.Size([256, 128, 8, 8])\n",
            "torch.Size([256, 32, 32, 32])\n",
            "torch.Size([256, 32, 16, 16])\n",
            "torch.Size([256, 64, 16, 16])\n",
            "torch.Size([256, 64, 8, 8])\n",
            "torch.Size([256, 128, 8, 8])\n",
            "torch.Size([256, 32, 32, 32])\n",
            "torch.Size([256, 32, 16, 16])\n",
            "torch.Size([256, 64, 16, 16])\n",
            "torch.Size([256, 64, 8, 8])\n",
            "torch.Size([256, 128, 8, 8])\n",
            "torch.Size([256, 32, 32, 32])\n",
            "torch.Size([256, 32, 16, 16])\n",
            "torch.Size([256, 64, 16, 16])\n",
            "torch.Size([256, 64, 8, 8])\n",
            "torch.Size([256, 128, 8, 8])\n",
            "torch.Size([256, 32, 32, 32])\n",
            "torch.Size([256, 32, 16, 16])\n",
            "torch.Size([256, 64, 16, 16])\n",
            "torch.Size([256, 64, 8, 8])\n",
            "torch.Size([256, 128, 8, 8])\n",
            "torch.Size([256, 32, 32, 32])\n",
            "torch.Size([256, 32, 16, 16])\n",
            "torch.Size([256, 64, 16, 16])\n",
            "torch.Size([256, 64, 8, 8])\n",
            "torch.Size([256, 128, 8, 8])\n",
            "torch.Size([256, 32, 32, 32])\n",
            "torch.Size([256, 32, 16, 16])\n",
            "torch.Size([256, 64, 16, 16])\n",
            "torch.Size([256, 64, 8, 8])\n",
            "torch.Size([256, 128, 8, 8])\n",
            "torch.Size([256, 32, 32, 32])\n",
            "torch.Size([256, 32, 16, 16])\n",
            "torch.Size([256, 64, 16, 16])\n",
            "torch.Size([256, 64, 8, 8])\n",
            "torch.Size([256, 128, 8, 8])\n",
            "torch.Size([256, 32, 32, 32])\n",
            "torch.Size([256, 32, 16, 16])\n",
            "torch.Size([256, 64, 16, 16])\n",
            "torch.Size([256, 64, 8, 8])\n",
            "torch.Size([256, 128, 8, 8])\n",
            "torch.Size([256, 32, 32, 32])\n",
            "torch.Size([256, 32, 16, 16])\n",
            "torch.Size([256, 64, 16, 16])\n",
            "torch.Size([256, 64, 8, 8])\n",
            "torch.Size([256, 128, 8, 8])\n",
            "torch.Size([256, 32, 32, 32])\n",
            "torch.Size([256, 32, 16, 16])\n",
            "torch.Size([256, 64, 16, 16])\n",
            "torch.Size([256, 64, 8, 8])\n",
            "torch.Size([256, 128, 8, 8])\n",
            "torch.Size([256, 32, 32, 32])\n",
            "torch.Size([256, 32, 16, 16])\n",
            "torch.Size([256, 64, 16, 16])\n",
            "torch.Size([256, 64, 8, 8])\n",
            "torch.Size([256, 128, 8, 8])\n",
            "torch.Size([256, 32, 32, 32])\n",
            "torch.Size([256, 32, 16, 16])\n",
            "torch.Size([256, 64, 16, 16])\n",
            "torch.Size([256, 64, 8, 8])\n",
            "torch.Size([256, 128, 8, 8])\n",
            "torch.Size([256, 32, 32, 32])\n",
            "torch.Size([256, 32, 16, 16])\n",
            "torch.Size([256, 64, 16, 16])\n",
            "torch.Size([256, 64, 8, 8])\n",
            "torch.Size([256, 128, 8, 8])\n",
            "torch.Size([256, 32, 32, 32])\n",
            "torch.Size([256, 32, 16, 16])\n",
            "torch.Size([256, 64, 16, 16])\n",
            "torch.Size([256, 64, 8, 8])\n",
            "torch.Size([256, 128, 8, 8])\n",
            "torch.Size([256, 32, 32, 32])\n",
            "torch.Size([256, 32, 16, 16])\n",
            "torch.Size([256, 64, 16, 16])\n",
            "torch.Size([256, 64, 8, 8])\n",
            "torch.Size([256, 128, 8, 8])\n",
            "torch.Size([256, 32, 32, 32])\n",
            "torch.Size([256, 32, 16, 16])\n",
            "torch.Size([256, 64, 16, 16])\n",
            "torch.Size([256, 64, 8, 8])\n",
            "torch.Size([256, 128, 8, 8])\n",
            "torch.Size([256, 32, 32, 32])\n",
            "torch.Size([256, 32, 16, 16])\n",
            "torch.Size([256, 64, 16, 16])\n",
            "torch.Size([256, 64, 8, 8])\n",
            "torch.Size([256, 128, 8, 8])\n",
            "torch.Size([256, 32, 32, 32])\n",
            "torch.Size([256, 32, 16, 16])\n",
            "torch.Size([256, 64, 16, 16])\n",
            "torch.Size([256, 64, 8, 8])\n",
            "torch.Size([256, 128, 8, 8])\n",
            "torch.Size([256, 32, 32, 32])\n",
            "torch.Size([256, 32, 16, 16])\n",
            "torch.Size([256, 64, 16, 16])\n",
            "torch.Size([256, 64, 8, 8])\n",
            "torch.Size([256, 128, 8, 8])\n",
            "torch.Size([256, 32, 32, 32])\n",
            "torch.Size([256, 32, 16, 16])\n",
            "torch.Size([256, 64, 16, 16])\n",
            "torch.Size([256, 64, 8, 8])\n",
            "torch.Size([256, 128, 8, 8])\n",
            "torch.Size([256, 32, 32, 32])\n",
            "torch.Size([256, 32, 16, 16])\n",
            "torch.Size([256, 64, 16, 16])\n",
            "torch.Size([256, 64, 8, 8])\n",
            "torch.Size([256, 128, 8, 8])\n",
            "torch.Size([256, 32, 32, 32])\n",
            "torch.Size([256, 32, 16, 16])\n",
            "torch.Size([256, 64, 16, 16])\n",
            "torch.Size([256, 64, 8, 8])\n",
            "torch.Size([256, 128, 8, 8])\n",
            "torch.Size([256, 32, 32, 32])\n",
            "torch.Size([256, 32, 16, 16])\n",
            "torch.Size([256, 64, 16, 16])\n",
            "torch.Size([256, 64, 8, 8])\n",
            "torch.Size([256, 128, 8, 8])\n",
            "torch.Size([256, 32, 32, 32])\n",
            "torch.Size([256, 32, 16, 16])\n",
            "torch.Size([256, 64, 16, 16])\n",
            "torch.Size([256, 64, 8, 8])\n",
            "torch.Size([256, 128, 8, 8])\n",
            "torch.Size([256, 32, 32, 32])\n",
            "torch.Size([256, 32, 16, 16])\n",
            "torch.Size([256, 64, 16, 16])\n",
            "torch.Size([256, 64, 8, 8])\n",
            "torch.Size([256, 128, 8, 8])\n",
            "torch.Size([256, 32, 32, 32])\n",
            "torch.Size([256, 32, 16, 16])\n",
            "torch.Size([256, 64, 16, 16])\n",
            "torch.Size([256, 64, 8, 8])\n",
            "torch.Size([256, 128, 8, 8])\n",
            "torch.Size([256, 32, 32, 32])\n",
            "torch.Size([256, 32, 16, 16])\n",
            "torch.Size([256, 64, 16, 16])\n",
            "torch.Size([256, 64, 8, 8])\n",
            "torch.Size([256, 128, 8, 8])\n",
            "torch.Size([256, 32, 32, 32])\n",
            "torch.Size([256, 32, 16, 16])\n",
            "torch.Size([256, 64, 16, 16])\n",
            "torch.Size([256, 64, 8, 8])\n",
            "torch.Size([256, 128, 8, 8])\n",
            "torch.Size([256, 32, 32, 32])\n",
            "torch.Size([256, 32, 16, 16])\n",
            "torch.Size([256, 64, 16, 16])\n",
            "torch.Size([256, 64, 8, 8])\n",
            "torch.Size([256, 128, 8, 8])\n",
            "torch.Size([256, 32, 32, 32])\n",
            "torch.Size([256, 32, 16, 16])\n",
            "torch.Size([256, 64, 16, 16])\n",
            "torch.Size([256, 64, 8, 8])\n",
            "torch.Size([256, 128, 8, 8])\n"
          ],
          "name": "stdout"
        },
        {
          "output_type": "stream",
          "text": [
            "\r  0%|          | 0/196 [00:00<?, ?it/s]"
          ],
          "name": "stderr"
        },
        {
          "output_type": "stream",
          "text": [
            "torch.Size([256, 32, 32, 32])\n",
            "torch.Size([256, 32, 16, 16])\n",
            "torch.Size([256, 64, 16, 16])\n",
            "torch.Size([256, 64, 8, 8])\n",
            "torch.Size([256, 128, 8, 8])\n",
            "torch.Size([256, 32, 32, 32])\n",
            "torch.Size([256, 32, 16, 16])\n",
            "torch.Size([256, 64, 16, 16])\n",
            "torch.Size([256, 64, 8, 8])\n",
            "torch.Size([256, 128, 8, 8])\n",
            "torch.Size([256, 32, 32, 32])\n",
            "torch.Size([256, 32, 16, 16])\n",
            "torch.Size([256, 64, 16, 16])\n",
            "torch.Size([256, 64, 8, 8])\n",
            "torch.Size([256, 128, 8, 8])\n",
            "torch.Size([256, 32, 32, 32])\n",
            "torch.Size([256, 32, 16, 16])\n",
            "torch.Size([256, 64, 16, 16])\n",
            "torch.Size([256, 64, 8, 8])\n",
            "torch.Size([256, 128, 8, 8])\n",
            "torch.Size([16, 32, 32, 32])\n",
            "torch.Size([16, 32, 16, 16])\n",
            "torch.Size([16, 64, 16, 16])\n",
            "torch.Size([16, 64, 8, 8])\n",
            "torch.Size([16, 128, 8, 8])\n",
            "\n",
            "Epoch: 8 Train set: Average loss: 0.0025, Accuracy: 77.466%\n",
            "Epoch: 8 Test set: Average loss: 0.0030, Accuracy: 74.350%\n"
          ],
          "name": "stdout"
        },
        {
          "output_type": "stream",
          "text": [
            "\r  1%|          | 1/196 [00:00<00:54,  3.57it/s]"
          ],
          "name": "stderr"
        },
        {
          "output_type": "stream",
          "text": [
            "torch.Size([256, 32, 32, 32])\n",
            "torch.Size([256, 32, 16, 16])\n",
            "torch.Size([256, 64, 16, 16])\n",
            "torch.Size([256, 64, 8, 8])\n",
            "torch.Size([256, 128, 8, 8])\n",
            "torch.Size([256, 32, 32, 32])\n",
            "torch.Size([256, 32, 16, 16])\n",
            "torch.Size([256, 64, 16, 16])\n",
            "torch.Size([256, 64, 8, 8])\n",
            "torch.Size([256, 128, 8, 8])\n"
          ],
          "name": "stdout"
        },
        {
          "output_type": "stream",
          "text": [
            "  2%|▏         | 4/196 [00:00<00:38,  5.03it/s]"
          ],
          "name": "stderr"
        },
        {
          "output_type": "stream",
          "text": [
            "torch.Size([256, 32, 32, 32])\n",
            "torch.Size([256, 32, 16, 16])\n",
            "torch.Size([256, 64, 16, 16])\n",
            "torch.Size([256, 64, 8, 8])\n",
            "torch.Size([256, 128, 8, 8])\n",
            "torch.Size([256, 32, 32, 32])\n",
            "torch.Size([256, 32, 16, 16])\n",
            "torch.Size([256, 64, 16, 16])\n",
            "torch.Size([256, 64, 8, 8])\n",
            "torch.Size([256, 128, 8, 8])\n",
            "torch.Size([256, 32, 32, 32])\n",
            "torch.Size([256, 32, 16, 16])\n",
            "torch.Size([256, 64, 16, 16])\n",
            "torch.Size([256, 64, 8, 8])\n",
            "torch.Size([256, 128, 8, 8])\n"
          ],
          "name": "stdout"
        },
        {
          "output_type": "stream",
          "text": [
            "\r  3%|▎         | 6/196 [00:00<00:31,  6.10it/s]"
          ],
          "name": "stderr"
        },
        {
          "output_type": "stream",
          "text": [
            "torch.Size([256, 32, 32, 32])\n",
            "torch.Size([256, 32, 16, 16])\n",
            "torch.Size([256, 64, 16, 16])\n",
            "torch.Size([256, 64, 8, 8])\n",
            "torch.Size([256, 128, 8, 8])\n",
            "torch.Size([256, 32, 32, 32])\n",
            "torch.Size([256, 32, 16, 16])\n",
            "torch.Size([256, 64, 16, 16])\n",
            "torch.Size([256, 64, 8, 8])\n",
            "torch.Size([256, 128, 8, 8])\n",
            "torch.Size([256, 32, 32, 32])\n",
            "torch.Size([256, 32, 16, 16])\n",
            "torch.Size([256, 64, 16, 16])\n",
            "torch.Size([256, 64, 8, 8])\n",
            "torch.Size([256, 128, 8, 8])\n"
          ],
          "name": "stdout"
        },
        {
          "output_type": "stream",
          "text": [
            "  5%|▌         | 10/196 [00:01<00:22,  8.40it/s]"
          ],
          "name": "stderr"
        },
        {
          "output_type": "stream",
          "text": [
            "torch.Size([256, 32, 32, 32])\n",
            "torch.Size([256, 32, 16, 16])\n",
            "torch.Size([256, 64, 16, 16])\n",
            "torch.Size([256, 64, 8, 8])\n",
            "torch.Size([256, 128, 8, 8])\n",
            "torch.Size([256, 32, 32, 32])\n",
            "torch.Size([256, 32, 16, 16])\n",
            "torch.Size([256, 64, 16, 16])\n",
            "torch.Size([256, 64, 8, 8])\n",
            "torch.Size([256, 128, 8, 8])\n",
            "torch.Size([256, 32, 32, 32])\n",
            "torch.Size([256, 32, 16, 16])\n",
            "torch.Size([256, 64, 16, 16])\n",
            "torch.Size([256, 64, 8, 8])\n",
            "torch.Size([256, 128, 8, 8])\n"
          ],
          "name": "stdout"
        },
        {
          "output_type": "stream",
          "text": [
            "\r  6%|▌         | 12/196 [00:01<00:19,  9.46it/s]"
          ],
          "name": "stderr"
        },
        {
          "output_type": "stream",
          "text": [
            "torch.Size([256, 32, 32, 32])\n",
            "torch.Size([256, 32, 16, 16])\n",
            "torch.Size([256, 64, 16, 16])\n",
            "torch.Size([256, 64, 8, 8])\n",
            "torch.Size([256, 128, 8, 8])\n",
            "torch.Size([256, 32, 32, 32])\n",
            "torch.Size([256, 32, 16, 16])\n",
            "torch.Size([256, 64, 16, 16])\n",
            "torch.Size([256, 64, 8, 8])\n",
            "torch.Size([256, 128, 8, 8])\n",
            "torch.Size([256, 32, 32, 32])\n",
            "torch.Size([256, 32, 16, 16])\n",
            "torch.Size([256, 64, 16, 16])\n",
            "torch.Size([256, 64, 8, 8])\n",
            "torch.Size([256, 128, 8, 8])\n"
          ],
          "name": "stdout"
        },
        {
          "output_type": "stream",
          "text": [
            "  8%|▊         | 16/196 [00:01<00:15, 11.26it/s]"
          ],
          "name": "stderr"
        },
        {
          "output_type": "stream",
          "text": [
            "torch.Size([256, 32, 32, 32])\n",
            "torch.Size([256, 32, 16, 16])\n",
            "torch.Size([256, 64, 16, 16])\n",
            "torch.Size([256, 64, 8, 8])\n",
            "torch.Size([256, 128, 8, 8])\n",
            "torch.Size([256, 32, 32, 32])\n",
            "torch.Size([256, 32, 16, 16])\n",
            "torch.Size([256, 64, 16, 16])\n",
            "torch.Size([256, 64, 8, 8])\n",
            "torch.Size([256, 128, 8, 8])\n",
            "torch.Size([256, 32, 32, 32])\n",
            "torch.Size([256, 32, 16, 16])\n",
            "torch.Size([256, 64, 16, 16])\n",
            "torch.Size([256, 64, 8, 8])\n",
            "torch.Size([256, 128, 8, 8])\n"
          ],
          "name": "stdout"
        },
        {
          "output_type": "stream",
          "text": [
            "\r  9%|▉         | 18/196 [00:01<00:15, 11.67it/s]"
          ],
          "name": "stderr"
        },
        {
          "output_type": "stream",
          "text": [
            "torch.Size([256, 32, 32, 32])\n",
            "torch.Size([256, 32, 16, 16])\n",
            "torch.Size([256, 64, 16, 16])\n",
            "torch.Size([256, 64, 8, 8])\n",
            "torch.Size([256, 128, 8, 8])\n",
            "torch.Size([256, 32, 32, 32])\n",
            "torch.Size([256, 32, 16, 16])\n",
            "torch.Size([256, 64, 16, 16])\n",
            "torch.Size([256, 64, 8, 8])\n",
            "torch.Size([256, 128, 8, 8])\n",
            "torch.Size([256, 32, 32, 32])\n",
            "torch.Size([256, 32, 16, 16])\n",
            "torch.Size([256, 64, 16, 16])\n",
            "torch.Size([256, 64, 8, 8])\n",
            "torch.Size([256, 128, 8, 8])\n"
          ],
          "name": "stdout"
        },
        {
          "output_type": "stream",
          "text": [
            " 11%|█         | 22/196 [00:01<00:14, 12.40it/s]"
          ],
          "name": "stderr"
        },
        {
          "output_type": "stream",
          "text": [
            "torch.Size([256, 32, 32, 32])\n",
            "torch.Size([256, 32, 16, 16])\n",
            "torch.Size([256, 64, 16, 16])\n",
            "torch.Size([256, 64, 8, 8])\n",
            "torch.Size([256, 128, 8, 8])\n",
            "torch.Size([256, 32, 32, 32])\n",
            "torch.Size([256, 32, 16, 16])\n",
            "torch.Size([256, 64, 16, 16])\n",
            "torch.Size([256, 64, 8, 8])\n",
            "torch.Size([256, 128, 8, 8])\n",
            "torch.Size([256, 32, 32, 32])\n",
            "torch.Size([256, 32, 16, 16])\n",
            "torch.Size([256, 64, 16, 16])\n",
            "torch.Size([256, 64, 8, 8])\n",
            "torch.Size([256, 128, 8, 8])\n"
          ],
          "name": "stdout"
        },
        {
          "output_type": "stream",
          "text": [
            "\r 12%|█▏        | 24/196 [00:02<00:13, 12.85it/s]"
          ],
          "name": "stderr"
        },
        {
          "output_type": "stream",
          "text": [
            "torch.Size([256, 32, 32, 32])\n",
            "torch.Size([256, 32, 16, 16])\n",
            "torch.Size([256, 64, 16, 16])\n",
            "torch.Size([256, 64, 8, 8])\n",
            "torch.Size([256, 128, 8, 8])\n",
            "torch.Size([256, 32, 32, 32])\n",
            "torch.Size([256, 32, 16, 16])\n",
            "torch.Size([256, 64, 16, 16])\n",
            "torch.Size([256, 64, 8, 8])\n",
            "torch.Size([256, 128, 8, 8])\n",
            "torch.Size([256, 32, 32, 32])\n",
            "torch.Size([256, 32, 16, 16])\n",
            "torch.Size([256, 64, 16, 16])\n",
            "torch.Size([256, 64, 8, 8])\n",
            "torch.Size([256, 128, 8, 8])\n"
          ],
          "name": "stdout"
        },
        {
          "output_type": "stream",
          "text": [
            " 14%|█▍        | 28/196 [00:02<00:12, 13.38it/s]"
          ],
          "name": "stderr"
        },
        {
          "output_type": "stream",
          "text": [
            "torch.Size([256, 32, 32, 32])\n",
            "torch.Size([256, 32, 16, 16])\n",
            "torch.Size([256, 64, 16, 16])\n",
            "torch.Size([256, 64, 8, 8])\n",
            "torch.Size([256, 128, 8, 8])\n",
            "torch.Size([256, 32, 32, 32])\n",
            "torch.Size([256, 32, 16, 16])\n",
            "torch.Size([256, 64, 16, 16])\n",
            "torch.Size([256, 64, 8, 8])\n",
            "torch.Size([256, 128, 8, 8])\n",
            "torch.Size([256, 32, 32, 32])\n",
            "torch.Size([256, 32, 16, 16])\n",
            "torch.Size([256, 64, 16, 16])\n",
            "torch.Size([256, 64, 8, 8])\n",
            "torch.Size([256, 128, 8, 8])\n"
          ],
          "name": "stdout"
        },
        {
          "output_type": "stream",
          "text": [
            "\r 15%|█▌        | 30/196 [00:02<00:12, 13.06it/s]"
          ],
          "name": "stderr"
        },
        {
          "output_type": "stream",
          "text": [
            "torch.Size([256, 32, 32, 32])\n",
            "torch.Size([256, 32, 16, 16])\n",
            "torch.Size([256, 64, 16, 16])\n",
            "torch.Size([256, 64, 8, 8])\n",
            "torch.Size([256, 128, 8, 8])\n",
            "torch.Size([256, 32, 32, 32])\n",
            "torch.Size([256, 32, 16, 16])\n",
            "torch.Size([256, 64, 16, 16])\n",
            "torch.Size([256, 64, 8, 8])\n",
            "torch.Size([256, 128, 8, 8])\n",
            "torch.Size([256, 32, 32, 32])\n",
            "torch.Size([256, 32, 16, 16])\n",
            "torch.Size([256, 64, 16, 16])\n",
            "torch.Size([256, 64, 8, 8])\n",
            "torch.Size([256, 128, 8, 8])\n"
          ],
          "name": "stdout"
        },
        {
          "output_type": "stream",
          "text": [
            " 17%|█▋        | 34/196 [00:02<00:12, 13.42it/s]"
          ],
          "name": "stderr"
        },
        {
          "output_type": "stream",
          "text": [
            "torch.Size([256, 32, 32, 32])\n",
            "torch.Size([256, 32, 16, 16])\n",
            "torch.Size([256, 64, 16, 16])\n",
            "torch.Size([256, 64, 8, 8])\n",
            "torch.Size([256, 128, 8, 8])\n",
            "torch.Size([256, 32, 32, 32])\n",
            "torch.Size([256, 32, 16, 16])\n",
            "torch.Size([256, 64, 16, 16])\n",
            "torch.Size([256, 64, 8, 8])\n",
            "torch.Size([256, 128, 8, 8])\n",
            "torch.Size([256, 32, 32, 32])\n",
            "torch.Size([256, 32, 16, 16])\n",
            "torch.Size([256, 64, 16, 16])\n",
            "torch.Size([256, 64, 8, 8])\n",
            "torch.Size([256, 128, 8, 8])\n"
          ],
          "name": "stdout"
        },
        {
          "output_type": "stream",
          "text": [
            "\r 18%|█▊        | 36/196 [00:03<00:11, 13.74it/s]"
          ],
          "name": "stderr"
        },
        {
          "output_type": "stream",
          "text": [
            "torch.Size([256, 32, 32, 32])\n",
            "torch.Size([256, 32, 16, 16])\n",
            "torch.Size([256, 64, 16, 16])\n",
            "torch.Size([256, 64, 8, 8])\n",
            "torch.Size([256, 128, 8, 8])\n",
            "torch.Size([256, 32, 32, 32])\n",
            "torch.Size([256, 32, 16, 16])\n",
            "torch.Size([256, 64, 16, 16])\n",
            "torch.Size([256, 64, 8, 8])\n",
            "torch.Size([256, 128, 8, 8])\n",
            "torch.Size([256, 32, 32, 32])\n",
            "torch.Size([256, 32, 16, 16])\n",
            "torch.Size([256, 64, 16, 16])\n",
            "torch.Size([256, 64, 8, 8])\n",
            "torch.Size([256, 128, 8, 8])\n"
          ],
          "name": "stdout"
        },
        {
          "output_type": "stream",
          "text": [
            " 20%|██        | 40/196 [00:03<00:11, 13.30it/s]"
          ],
          "name": "stderr"
        },
        {
          "output_type": "stream",
          "text": [
            "torch.Size([256, 32, 32, 32])\n",
            "torch.Size([256, 32, 16, 16])\n",
            "torch.Size([256, 64, 16, 16])\n",
            "torch.Size([256, 64, 8, 8])\n",
            "torch.Size([256, 128, 8, 8])\n",
            "torch.Size([256, 32, 32, 32])\n",
            "torch.Size([256, 32, 16, 16])\n",
            "torch.Size([256, 64, 16, 16])\n",
            "torch.Size([256, 64, 8, 8])\n",
            "torch.Size([256, 128, 8, 8])\n",
            "torch.Size([256, 32, 32, 32])\n",
            "torch.Size([256, 32, 16, 16])\n",
            "torch.Size([256, 64, 16, 16])\n",
            "torch.Size([256, 64, 8, 8])\n",
            "torch.Size([256, 128, 8, 8])\n"
          ],
          "name": "stdout"
        },
        {
          "output_type": "stream",
          "text": [
            "\r 21%|██▏       | 42/196 [00:03<00:11, 13.09it/s]"
          ],
          "name": "stderr"
        },
        {
          "output_type": "stream",
          "text": [
            "torch.Size([256, 32, 32, 32])\n",
            "torch.Size([256, 32, 16, 16])\n",
            "torch.Size([256, 64, 16, 16])\n",
            "torch.Size([256, 64, 8, 8])\n",
            "torch.Size([256, 128, 8, 8])\n",
            "torch.Size([256, 32, 32, 32])\n",
            "torch.Size([256, 32, 16, 16])\n",
            "torch.Size([256, 64, 16, 16])\n",
            "torch.Size([256, 64, 8, 8])\n",
            "torch.Size([256, 128, 8, 8])\n",
            "torch.Size([256, 32, 32, 32])\n",
            "torch.Size([256, 32, 16, 16])\n",
            "torch.Size([256, 64, 16, 16])\n",
            "torch.Size([256, 64, 8, 8])\n",
            "torch.Size([256, 128, 8, 8])\n"
          ],
          "name": "stdout"
        },
        {
          "output_type": "stream",
          "text": [
            " 23%|██▎       | 46/196 [00:03<00:11, 13.23it/s]"
          ],
          "name": "stderr"
        },
        {
          "output_type": "stream",
          "text": [
            "torch.Size([256, 32, 32, 32])\n",
            "torch.Size([256, 32, 16, 16])\n",
            "torch.Size([256, 64, 16, 16])\n",
            "torch.Size([256, 64, 8, 8])\n",
            "torch.Size([256, 128, 8, 8])\n",
            "torch.Size([256, 32, 32, 32])\n",
            "torch.Size([256, 32, 16, 16])\n",
            "torch.Size([256, 64, 16, 16])\n",
            "torch.Size([256, 64, 8, 8])\n",
            "torch.Size([256, 128, 8, 8])\n",
            "torch.Size([256, 32, 32, 32])\n",
            "torch.Size([256, 32, 16, 16])\n",
            "torch.Size([256, 64, 16, 16])\n",
            "torch.Size([256, 64, 8, 8])\n",
            "torch.Size([256, 128, 8, 8])\n"
          ],
          "name": "stdout"
        },
        {
          "output_type": "stream",
          "text": [
            "\r 24%|██▍       | 48/196 [00:03<00:11, 13.45it/s]"
          ],
          "name": "stderr"
        },
        {
          "output_type": "stream",
          "text": [
            "torch.Size([256, 32, 32, 32])\n",
            "torch.Size([256, 32, 16, 16])\n",
            "torch.Size([256, 64, 16, 16])\n",
            "torch.Size([256, 64, 8, 8])\n",
            "torch.Size([256, 128, 8, 8])\n",
            "torch.Size([256, 32, 32, 32])\n",
            "torch.Size([256, 32, 16, 16])\n",
            "torch.Size([256, 64, 16, 16])\n",
            "torch.Size([256, 64, 8, 8])\n",
            "torch.Size([256, 128, 8, 8])\n",
            "torch.Size([256, 32, 32, 32])\n",
            "torch.Size([256, 32, 16, 16])\n",
            "torch.Size([256, 64, 16, 16])\n",
            "torch.Size([256, 64, 8, 8])\n",
            "torch.Size([256, 128, 8, 8])\n"
          ],
          "name": "stdout"
        },
        {
          "output_type": "stream",
          "text": [
            " 27%|██▋       | 52/196 [00:04<00:10, 13.80it/s]"
          ],
          "name": "stderr"
        },
        {
          "output_type": "stream",
          "text": [
            "torch.Size([256, 32, 32, 32])\n",
            "torch.Size([256, 32, 16, 16])\n",
            "torch.Size([256, 64, 16, 16])\n",
            "torch.Size([256, 64, 8, 8])\n",
            "torch.Size([256, 128, 8, 8])\n",
            "torch.Size([256, 32, 32, 32])\n",
            "torch.Size([256, 32, 16, 16])\n",
            "torch.Size([256, 64, 16, 16])\n",
            "torch.Size([256, 64, 8, 8])\n",
            "torch.Size([256, 128, 8, 8])\n",
            "torch.Size([256, 32, 32, 32])\n",
            "torch.Size([256, 32, 16, 16])\n",
            "torch.Size([256, 64, 16, 16])\n",
            "torch.Size([256, 64, 8, 8])\n",
            "torch.Size([256, 128, 8, 8])\n"
          ],
          "name": "stdout"
        },
        {
          "output_type": "stream",
          "text": [
            "\r 28%|██▊       | 54/196 [00:04<00:10, 13.47it/s]"
          ],
          "name": "stderr"
        },
        {
          "output_type": "stream",
          "text": [
            "torch.Size([256, 32, 32, 32])\n",
            "torch.Size([256, 32, 16, 16])\n",
            "torch.Size([256, 64, 16, 16])\n",
            "torch.Size([256, 64, 8, 8])\n",
            "torch.Size([256, 128, 8, 8])\n",
            "torch.Size([256, 32, 32, 32])\n",
            "torch.Size([256, 32, 16, 16])\n",
            "torch.Size([256, 64, 16, 16])\n",
            "torch.Size([256, 64, 8, 8])\n",
            "torch.Size([256, 128, 8, 8])\n",
            "torch.Size([256, 32, 32, 32])\n",
            "torch.Size([256, 32, 16, 16])\n",
            "torch.Size([256, 64, 16, 16])\n",
            "torch.Size([256, 64, 8, 8])\n",
            "torch.Size([256, 128, 8, 8])\n"
          ],
          "name": "stdout"
        },
        {
          "output_type": "stream",
          "text": [
            " 30%|██▉       | 58/196 [00:04<00:09, 13.81it/s]"
          ],
          "name": "stderr"
        },
        {
          "output_type": "stream",
          "text": [
            "torch.Size([256, 32, 32, 32])\n",
            "torch.Size([256, 32, 16, 16])\n",
            "torch.Size([256, 64, 16, 16])\n",
            "torch.Size([256, 64, 8, 8])\n",
            "torch.Size([256, 128, 8, 8])\n",
            "torch.Size([256, 32, 32, 32])\n",
            "torch.Size([256, 32, 16, 16])\n",
            "torch.Size([256, 64, 16, 16])\n",
            "torch.Size([256, 64, 8, 8])\n",
            "torch.Size([256, 128, 8, 8])\n",
            "torch.Size([256, 32, 32, 32])\n",
            "torch.Size([256, 32, 16, 16])\n",
            "torch.Size([256, 64, 16, 16])\n",
            "torch.Size([256, 64, 8, 8])\n",
            "torch.Size([256, 128, 8, 8])\n"
          ],
          "name": "stdout"
        },
        {
          "output_type": "stream",
          "text": [
            "\r 31%|███       | 60/196 [00:04<00:09, 13.87it/s]"
          ],
          "name": "stderr"
        },
        {
          "output_type": "stream",
          "text": [
            "torch.Size([256, 32, 32, 32])\n",
            "torch.Size([256, 32, 16, 16])\n",
            "torch.Size([256, 64, 16, 16])\n",
            "torch.Size([256, 64, 8, 8])\n",
            "torch.Size([256, 128, 8, 8])\n",
            "torch.Size([256, 32, 32, 32])\n",
            "torch.Size([256, 32, 16, 16])\n",
            "torch.Size([256, 64, 16, 16])\n",
            "torch.Size([256, 64, 8, 8])\n",
            "torch.Size([256, 128, 8, 8])\n",
            "torch.Size([256, 32, 32, 32])\n",
            "torch.Size([256, 32, 16, 16])\n",
            "torch.Size([256, 64, 16, 16])\n",
            "torch.Size([256, 64, 8, 8])\n",
            "torch.Size([256, 128, 8, 8])\n"
          ],
          "name": "stdout"
        },
        {
          "output_type": "stream",
          "text": [
            " 33%|███▎      | 64/196 [00:05<00:09, 13.46it/s]"
          ],
          "name": "stderr"
        },
        {
          "output_type": "stream",
          "text": [
            "torch.Size([256, 32, 32, 32])\n",
            "torch.Size([256, 32, 16, 16])\n",
            "torch.Size([256, 64, 16, 16])\n",
            "torch.Size([256, 64, 8, 8])\n",
            "torch.Size([256, 128, 8, 8])\n",
            "torch.Size([256, 32, 32, 32])\n",
            "torch.Size([256, 32, 16, 16])\n",
            "torch.Size([256, 64, 16, 16])\n",
            "torch.Size([256, 64, 8, 8])\n",
            "torch.Size([256, 128, 8, 8])\n",
            "torch.Size([256, 32, 32, 32])\n",
            "torch.Size([256, 32, 16, 16])\n",
            "torch.Size([256, 64, 16, 16])\n",
            "torch.Size([256, 64, 8, 8])\n",
            "torch.Size([256, 128, 8, 8])\n"
          ],
          "name": "stdout"
        },
        {
          "output_type": "stream",
          "text": [
            "\r 34%|███▎      | 66/196 [00:05<00:09, 13.68it/s]"
          ],
          "name": "stderr"
        },
        {
          "output_type": "stream",
          "text": [
            "torch.Size([256, 32, 32, 32])\n",
            "torch.Size([256, 32, 16, 16])\n",
            "torch.Size([256, 64, 16, 16])\n",
            "torch.Size([256, 64, 8, 8])\n",
            "torch.Size([256, 128, 8, 8])\n",
            "torch.Size([256, 32, 32, 32])\n",
            "torch.Size([256, 32, 16, 16])\n",
            "torch.Size([256, 64, 16, 16])\n",
            "torch.Size([256, 64, 8, 8])\n",
            "torch.Size([256, 128, 8, 8])\n",
            "torch.Size([256, 32, 32, 32])\n",
            "torch.Size([256, 32, 16, 16])\n",
            "torch.Size([256, 64, 16, 16])\n",
            "torch.Size([256, 64, 8, 8])\n",
            "torch.Size([256, 128, 8, 8])\n"
          ],
          "name": "stdout"
        },
        {
          "output_type": "stream",
          "text": [
            " 36%|███▌      | 70/196 [00:05<00:09, 13.55it/s]"
          ],
          "name": "stderr"
        },
        {
          "output_type": "stream",
          "text": [
            "torch.Size([256, 32, 32, 32])\n",
            "torch.Size([256, 32, 16, 16])\n",
            "torch.Size([256, 64, 16, 16])\n",
            "torch.Size([256, 64, 8, 8])\n",
            "torch.Size([256, 128, 8, 8])\n",
            "torch.Size([256, 32, 32, 32])\n",
            "torch.Size([256, 32, 16, 16])\n",
            "torch.Size([256, 64, 16, 16])\n",
            "torch.Size([256, 64, 8, 8])\n",
            "torch.Size([256, 128, 8, 8])\n",
            "torch.Size([256, 32, 32, 32])\n",
            "torch.Size([256, 32, 16, 16])\n",
            "torch.Size([256, 64, 16, 16])\n",
            "torch.Size([256, 64, 8, 8])\n",
            "torch.Size([256, 128, 8, 8])\n"
          ],
          "name": "stdout"
        },
        {
          "output_type": "stream",
          "text": [
            "\r 37%|███▋      | 72/196 [00:05<00:09, 13.06it/s]"
          ],
          "name": "stderr"
        },
        {
          "output_type": "stream",
          "text": [
            "torch.Size([256, 32, 32, 32])\n",
            "torch.Size([256, 32, 16, 16])\n",
            "torch.Size([256, 64, 16, 16])\n",
            "torch.Size([256, 64, 8, 8])\n",
            "torch.Size([256, 128, 8, 8])\n",
            "torch.Size([256, 32, 32, 32])\n",
            "torch.Size([256, 32, 16, 16])\n",
            "torch.Size([256, 64, 16, 16])\n",
            "torch.Size([256, 64, 8, 8])\n",
            "torch.Size([256, 128, 8, 8])\n",
            "torch.Size([256, 32, 32, 32])\n",
            "torch.Size([256, 32, 16, 16])\n",
            "torch.Size([256, 64, 16, 16])\n",
            "torch.Size([256, 64, 8, 8])\n",
            "torch.Size([256, 128, 8, 8])\n"
          ],
          "name": "stdout"
        },
        {
          "output_type": "stream",
          "text": [
            " 39%|███▉      | 76/196 [00:05<00:08, 13.39it/s]"
          ],
          "name": "stderr"
        },
        {
          "output_type": "stream",
          "text": [
            "torch.Size([256, 32, 32, 32])\n",
            "torch.Size([256, 32, 16, 16])\n",
            "torch.Size([256, 64, 16, 16])\n",
            "torch.Size([256, 64, 8, 8])\n",
            "torch.Size([256, 128, 8, 8])\n",
            "torch.Size([256, 32, 32, 32])\n",
            "torch.Size([256, 32, 16, 16])\n",
            "torch.Size([256, 64, 16, 16])\n",
            "torch.Size([256, 64, 8, 8])\n",
            "torch.Size([256, 128, 8, 8])\n",
            "torch.Size([256, 32, 32, 32])\n",
            "torch.Size([256, 32, 16, 16])\n",
            "torch.Size([256, 64, 16, 16])\n",
            "torch.Size([256, 64, 8, 8])\n",
            "torch.Size([256, 128, 8, 8])\n"
          ],
          "name": "stdout"
        },
        {
          "output_type": "stream",
          "text": [
            "\r 40%|███▉      | 78/196 [00:06<00:08, 13.73it/s]"
          ],
          "name": "stderr"
        },
        {
          "output_type": "stream",
          "text": [
            "torch.Size([256, 32, 32, 32])\n",
            "torch.Size([256, 32, 16, 16])\n",
            "torch.Size([256, 64, 16, 16])\n",
            "torch.Size([256, 64, 8, 8])\n",
            "torch.Size([256, 128, 8, 8])\n",
            "torch.Size([256, 32, 32, 32])\n",
            "torch.Size([256, 32, 16, 16])\n",
            "torch.Size([256, 64, 16, 16])\n",
            "torch.Size([256, 64, 8, 8])\n",
            "torch.Size([256, 128, 8, 8])\n",
            "torch.Size([256, 32, 32, 32])\n",
            "torch.Size([256, 32, 16, 16])\n",
            "torch.Size([256, 64, 16, 16])\n",
            "torch.Size([256, 64, 8, 8])\n",
            "torch.Size([256, 128, 8, 8])\n"
          ],
          "name": "stdout"
        },
        {
          "output_type": "stream",
          "text": [
            " 42%|████▏     | 82/196 [00:06<00:08, 13.91it/s]"
          ],
          "name": "stderr"
        },
        {
          "output_type": "stream",
          "text": [
            "torch.Size([256, 32, 32, 32])\n",
            "torch.Size([256, 32, 16, 16])\n",
            "torch.Size([256, 64, 16, 16])\n",
            "torch.Size([256, 64, 8, 8])\n",
            "torch.Size([256, 128, 8, 8])\n",
            "torch.Size([256, 32, 32, 32])\n",
            "torch.Size([256, 32, 16, 16])\n",
            "torch.Size([256, 64, 16, 16])\n",
            "torch.Size([256, 64, 8, 8])\n",
            "torch.Size([256, 128, 8, 8])\n",
            "torch.Size([256, 32, 32, 32])\n",
            "torch.Size([256, 32, 16, 16])\n",
            "torch.Size([256, 64, 16, 16])\n",
            "torch.Size([256, 64, 8, 8])\n",
            "torch.Size([256, 128, 8, 8])\n"
          ],
          "name": "stdout"
        },
        {
          "output_type": "stream",
          "text": [
            "\r 43%|████▎     | 84/196 [00:06<00:08, 13.77it/s]"
          ],
          "name": "stderr"
        },
        {
          "output_type": "stream",
          "text": [
            "torch.Size([256, 32, 32, 32])\n",
            "torch.Size([256, 32, 16, 16])\n",
            "torch.Size([256, 64, 16, 16])\n",
            "torch.Size([256, 64, 8, 8])\n",
            "torch.Size([256, 128, 8, 8])\n",
            "torch.Size([256, 32, 32, 32])\n",
            "torch.Size([256, 32, 16, 16])\n",
            "torch.Size([256, 64, 16, 16])\n",
            "torch.Size([256, 64, 8, 8])\n",
            "torch.Size([256, 128, 8, 8])\n",
            "torch.Size([256, 32, 32, 32])\n",
            "torch.Size([256, 32, 16, 16])\n",
            "torch.Size([256, 64, 16, 16])\n",
            "torch.Size([256, 64, 8, 8])\n",
            "torch.Size([256, 128, 8, 8])\n"
          ],
          "name": "stdout"
        },
        {
          "output_type": "stream",
          "text": [
            " 45%|████▍     | 88/196 [00:06<00:08, 13.45it/s]"
          ],
          "name": "stderr"
        },
        {
          "output_type": "stream",
          "text": [
            "torch.Size([256, 32, 32, 32])\n",
            "torch.Size([256, 32, 16, 16])\n",
            "torch.Size([256, 64, 16, 16])\n",
            "torch.Size([256, 64, 8, 8])\n",
            "torch.Size([256, 128, 8, 8])\n",
            "torch.Size([256, 32, 32, 32])\n",
            "torch.Size([256, 32, 16, 16])\n",
            "torch.Size([256, 64, 16, 16])\n",
            "torch.Size([256, 64, 8, 8])\n",
            "torch.Size([256, 128, 8, 8])\n",
            "torch.Size([256, 32, 32, 32])\n",
            "torch.Size([256, 32, 16, 16])\n",
            "torch.Size([256, 64, 16, 16])\n",
            "torch.Size([256, 64, 8, 8])\n",
            "torch.Size([256, 128, 8, 8])\n"
          ],
          "name": "stdout"
        },
        {
          "output_type": "stream",
          "text": [
            "\r 46%|████▌     | 90/196 [00:07<00:08, 12.94it/s]"
          ],
          "name": "stderr"
        },
        {
          "output_type": "stream",
          "text": [
            "torch.Size([256, 32, 32, 32])\n",
            "torch.Size([256, 32, 16, 16])\n",
            "torch.Size([256, 64, 16, 16])\n",
            "torch.Size([256, 64, 8, 8])\n",
            "torch.Size([256, 128, 8, 8])\n",
            "torch.Size([256, 32, 32, 32])\n",
            "torch.Size([256, 32, 16, 16])\n",
            "torch.Size([256, 64, 16, 16])\n",
            "torch.Size([256, 64, 8, 8])\n",
            "torch.Size([256, 128, 8, 8])\n",
            "torch.Size([256, 32, 32, 32])\n",
            "torch.Size([256, 32, 16, 16])\n",
            "torch.Size([256, 64, 16, 16])\n",
            "torch.Size([256, 64, 8, 8])\n",
            "torch.Size([256, 128, 8, 8])\n"
          ],
          "name": "stdout"
        },
        {
          "output_type": "stream",
          "text": [
            " 48%|████▊     | 94/196 [00:07<00:07, 13.20it/s]"
          ],
          "name": "stderr"
        },
        {
          "output_type": "stream",
          "text": [
            "torch.Size([256, 32, 32, 32])\n",
            "torch.Size([256, 32, 16, 16])\n",
            "torch.Size([256, 64, 16, 16])\n",
            "torch.Size([256, 64, 8, 8])\n",
            "torch.Size([256, 128, 8, 8])\n",
            "torch.Size([256, 32, 32, 32])\n",
            "torch.Size([256, 32, 16, 16])\n",
            "torch.Size([256, 64, 16, 16])\n",
            "torch.Size([256, 64, 8, 8])\n",
            "torch.Size([256, 128, 8, 8])\n",
            "torch.Size([256, 32, 32, 32])\n",
            "torch.Size([256, 32, 16, 16])\n",
            "torch.Size([256, 64, 16, 16])\n",
            "torch.Size([256, 64, 8, 8])\n",
            "torch.Size([256, 128, 8, 8])\n"
          ],
          "name": "stdout"
        },
        {
          "output_type": "stream",
          "text": [
            "\r 49%|████▉     | 96/196 [00:07<00:07, 13.02it/s]"
          ],
          "name": "stderr"
        },
        {
          "output_type": "stream",
          "text": [
            "torch.Size([256, 32, 32, 32])\n",
            "torch.Size([256, 32, 16, 16])\n",
            "torch.Size([256, 64, 16, 16])\n",
            "torch.Size([256, 64, 8, 8])\n",
            "torch.Size([256, 128, 8, 8])\n",
            "torch.Size([256, 32, 32, 32])\n",
            "torch.Size([256, 32, 16, 16])\n",
            "torch.Size([256, 64, 16, 16])\n",
            "torch.Size([256, 64, 8, 8])\n",
            "torch.Size([256, 128, 8, 8])\n",
            "torch.Size([256, 32, 32, 32])\n",
            "torch.Size([256, 32, 16, 16])\n",
            "torch.Size([256, 64, 16, 16])\n",
            "torch.Size([256, 64, 8, 8])\n",
            "torch.Size([256, 128, 8, 8])\n"
          ],
          "name": "stdout"
        },
        {
          "output_type": "stream",
          "text": [
            " 51%|█████     | 100/196 [00:07<00:07, 13.54it/s]"
          ],
          "name": "stderr"
        },
        {
          "output_type": "stream",
          "text": [
            "torch.Size([256, 32, 32, 32])\n",
            "torch.Size([256, 32, 16, 16])\n",
            "torch.Size([256, 64, 16, 16])\n",
            "torch.Size([256, 64, 8, 8])\n",
            "torch.Size([256, 128, 8, 8])\n",
            "torch.Size([256, 32, 32, 32])\n",
            "torch.Size([256, 32, 16, 16])\n",
            "torch.Size([256, 64, 16, 16])\n",
            "torch.Size([256, 64, 8, 8])\n",
            "torch.Size([256, 128, 8, 8])\n",
            "torch.Size([256, 32, 32, 32])\n",
            "torch.Size([256, 32, 16, 16])\n",
            "torch.Size([256, 64, 16, 16])\n",
            "torch.Size([256, 64, 8, 8])\n",
            "torch.Size([256, 128, 8, 8])\n"
          ],
          "name": "stdout"
        },
        {
          "output_type": "stream",
          "text": [
            "\r 52%|█████▏    | 102/196 [00:07<00:06, 13.73it/s]"
          ],
          "name": "stderr"
        },
        {
          "output_type": "stream",
          "text": [
            "torch.Size([256, 32, 32, 32])\n",
            "torch.Size([256, 32, 16, 16])\n",
            "torch.Size([256, 64, 16, 16])\n",
            "torch.Size([256, 64, 8, 8])\n",
            "torch.Size([256, 128, 8, 8])\n",
            "torch.Size([256, 32, 32, 32])\n",
            "torch.Size([256, 32, 16, 16])\n",
            "torch.Size([256, 64, 16, 16])\n",
            "torch.Size([256, 64, 8, 8])\n",
            "torch.Size([256, 128, 8, 8])\n",
            "torch.Size([256, 32, 32, 32])\n",
            "torch.Size([256, 32, 16, 16])\n",
            "torch.Size([256, 64, 16, 16])\n",
            "torch.Size([256, 64, 8, 8])\n",
            "torch.Size([256, 128, 8, 8])\n"
          ],
          "name": "stdout"
        },
        {
          "output_type": "stream",
          "text": [
            " 54%|█████▍    | 106/196 [00:08<00:06, 13.17it/s]"
          ],
          "name": "stderr"
        },
        {
          "output_type": "stream",
          "text": [
            "torch.Size([256, 32, 32, 32])\n",
            "torch.Size([256, 32, 16, 16])\n",
            "torch.Size([256, 64, 16, 16])\n",
            "torch.Size([256, 64, 8, 8])\n",
            "torch.Size([256, 128, 8, 8])\n",
            "torch.Size([256, 32, 32, 32])\n",
            "torch.Size([256, 32, 16, 16])\n",
            "torch.Size([256, 64, 16, 16])\n",
            "torch.Size([256, 64, 8, 8])\n",
            "torch.Size([256, 128, 8, 8])\n",
            "torch.Size([256, 32, 32, 32])\n",
            "torch.Size([256, 32, 16, 16])\n",
            "torch.Size([256, 64, 16, 16])\n",
            "torch.Size([256, 64, 8, 8])\n",
            "torch.Size([256, 128, 8, 8])\n"
          ],
          "name": "stdout"
        },
        {
          "output_type": "stream",
          "text": [
            "\r 55%|█████▌    | 108/196 [00:08<00:06, 13.18it/s]"
          ],
          "name": "stderr"
        },
        {
          "output_type": "stream",
          "text": [
            "torch.Size([256, 32, 32, 32])\n",
            "torch.Size([256, 32, 16, 16])\n",
            "torch.Size([256, 64, 16, 16])\n",
            "torch.Size([256, 64, 8, 8])\n",
            "torch.Size([256, 128, 8, 8])\n",
            "torch.Size([256, 32, 32, 32])\n",
            "torch.Size([256, 32, 16, 16])\n",
            "torch.Size([256, 64, 16, 16])\n",
            "torch.Size([256, 64, 8, 8])\n",
            "torch.Size([256, 128, 8, 8])\n",
            "torch.Size([256, 32, 32, 32])\n",
            "torch.Size([256, 32, 16, 16])\n",
            "torch.Size([256, 64, 16, 16])\n",
            "torch.Size([256, 64, 8, 8])\n",
            "torch.Size([256, 128, 8, 8])\n"
          ],
          "name": "stdout"
        },
        {
          "output_type": "stream",
          "text": [
            " 57%|█████▋    | 112/196 [00:08<00:06, 13.72it/s]"
          ],
          "name": "stderr"
        },
        {
          "output_type": "stream",
          "text": [
            "torch.Size([256, 32, 32, 32])\n",
            "torch.Size([256, 32, 16, 16])\n",
            "torch.Size([256, 64, 16, 16])\n",
            "torch.Size([256, 64, 8, 8])\n",
            "torch.Size([256, 128, 8, 8])\n",
            "torch.Size([256, 32, 32, 32])\n",
            "torch.Size([256, 32, 16, 16])\n",
            "torch.Size([256, 64, 16, 16])\n",
            "torch.Size([256, 64, 8, 8])\n",
            "torch.Size([256, 128, 8, 8])\n",
            "torch.Size([256, 32, 32, 32])\n",
            "torch.Size([256, 32, 16, 16])\n",
            "torch.Size([256, 64, 16, 16])\n",
            "torch.Size([256, 64, 8, 8])\n",
            "torch.Size([256, 128, 8, 8])\n"
          ],
          "name": "stdout"
        },
        {
          "output_type": "stream",
          "text": [
            "\r 58%|█████▊    | 114/196 [00:08<00:06, 13.48it/s]"
          ],
          "name": "stderr"
        },
        {
          "output_type": "stream",
          "text": [
            "torch.Size([256, 32, 32, 32])\n",
            "torch.Size([256, 32, 16, 16])\n",
            "torch.Size([256, 64, 16, 16])\n",
            "torch.Size([256, 64, 8, 8])\n",
            "torch.Size([256, 128, 8, 8])\n",
            "torch.Size([256, 32, 32, 32])\n",
            "torch.Size([256, 32, 16, 16])\n",
            "torch.Size([256, 64, 16, 16])\n",
            "torch.Size([256, 64, 8, 8])\n",
            "torch.Size([256, 128, 8, 8])\n",
            "torch.Size([256, 32, 32, 32])\n",
            "torch.Size([256, 32, 16, 16])\n",
            "torch.Size([256, 64, 16, 16])\n",
            "torch.Size([256, 64, 8, 8])\n",
            "torch.Size([256, 128, 8, 8])\n"
          ],
          "name": "stdout"
        },
        {
          "output_type": "stream",
          "text": [
            " 60%|██████    | 118/196 [00:09<00:05, 13.00it/s]"
          ],
          "name": "stderr"
        },
        {
          "output_type": "stream",
          "text": [
            "torch.Size([256, 32, 32, 32])\n",
            "torch.Size([256, 32, 16, 16])\n",
            "torch.Size([256, 64, 16, 16])\n",
            "torch.Size([256, 64, 8, 8])\n",
            "torch.Size([256, 128, 8, 8])\n",
            "torch.Size([256, 32, 32, 32])\n",
            "torch.Size([256, 32, 16, 16])\n",
            "torch.Size([256, 64, 16, 16])\n",
            "torch.Size([256, 64, 8, 8])\n",
            "torch.Size([256, 128, 8, 8])\n",
            "torch.Size([256, 32, 32, 32])\n",
            "torch.Size([256, 32, 16, 16])\n",
            "torch.Size([256, 64, 16, 16])\n",
            "torch.Size([256, 64, 8, 8])\n",
            "torch.Size([256, 128, 8, 8])\n"
          ],
          "name": "stdout"
        },
        {
          "output_type": "stream",
          "text": [
            "\r 61%|██████    | 120/196 [00:09<00:05, 13.22it/s]"
          ],
          "name": "stderr"
        },
        {
          "output_type": "stream",
          "text": [
            "torch.Size([256, 32, 32, 32])\n",
            "torch.Size([256, 32, 16, 16])\n",
            "torch.Size([256, 64, 16, 16])\n",
            "torch.Size([256, 64, 8, 8])\n",
            "torch.Size([256, 128, 8, 8])\n",
            "torch.Size([256, 32, 32, 32])\n",
            "torch.Size([256, 32, 16, 16])\n",
            "torch.Size([256, 64, 16, 16])\n",
            "torch.Size([256, 64, 8, 8])\n",
            "torch.Size([256, 128, 8, 8])\n",
            "torch.Size([256, 32, 32, 32])\n",
            "torch.Size([256, 32, 16, 16])\n",
            "torch.Size([256, 64, 16, 16])\n",
            "torch.Size([256, 64, 8, 8])\n",
            "torch.Size([256, 128, 8, 8])\n"
          ],
          "name": "stdout"
        },
        {
          "output_type": "stream",
          "text": [
            " 63%|██████▎   | 124/196 [00:09<00:05, 13.73it/s]"
          ],
          "name": "stderr"
        },
        {
          "output_type": "stream",
          "text": [
            "torch.Size([256, 32, 32, 32])\n",
            "torch.Size([256, 32, 16, 16])\n",
            "torch.Size([256, 64, 16, 16])\n",
            "torch.Size([256, 64, 8, 8])\n",
            "torch.Size([256, 128, 8, 8])\n",
            "torch.Size([256, 32, 32, 32])\n",
            "torch.Size([256, 32, 16, 16])\n",
            "torch.Size([256, 64, 16, 16])\n",
            "torch.Size([256, 64, 8, 8])\n",
            "torch.Size([256, 128, 8, 8])\n",
            "torch.Size([256, 32, 32, 32])\n",
            "torch.Size([256, 32, 16, 16])\n",
            "torch.Size([256, 64, 16, 16])\n",
            "torch.Size([256, 64, 8, 8])\n",
            "torch.Size([256, 128, 8, 8])\n"
          ],
          "name": "stdout"
        },
        {
          "output_type": "stream",
          "text": [
            "\r 64%|██████▍   | 126/196 [00:09<00:05, 13.40it/s]"
          ],
          "name": "stderr"
        },
        {
          "output_type": "stream",
          "text": [
            "torch.Size([256, 32, 32, 32])\n",
            "torch.Size([256, 32, 16, 16])\n",
            "torch.Size([256, 64, 16, 16])\n",
            "torch.Size([256, 64, 8, 8])\n",
            "torch.Size([256, 128, 8, 8])\n",
            "torch.Size([256, 32, 32, 32])\n",
            "torch.Size([256, 32, 16, 16])\n",
            "torch.Size([256, 64, 16, 16])\n",
            "torch.Size([256, 64, 8, 8])\n",
            "torch.Size([256, 128, 8, 8])\n",
            "torch.Size([256, 32, 32, 32])\n",
            "torch.Size([256, 32, 16, 16])\n",
            "torch.Size([256, 64, 16, 16])\n",
            "torch.Size([256, 64, 8, 8])\n",
            "torch.Size([256, 128, 8, 8])\n"
          ],
          "name": "stdout"
        },
        {
          "output_type": "stream",
          "text": [
            " 66%|██████▋   | 130/196 [00:10<00:04, 13.26it/s]"
          ],
          "name": "stderr"
        },
        {
          "output_type": "stream",
          "text": [
            "torch.Size([256, 32, 32, 32])\n",
            "torch.Size([256, 32, 16, 16])\n",
            "torch.Size([256, 64, 16, 16])\n",
            "torch.Size([256, 64, 8, 8])\n",
            "torch.Size([256, 128, 8, 8])\n",
            "torch.Size([256, 32, 32, 32])\n",
            "torch.Size([256, 32, 16, 16])\n",
            "torch.Size([256, 64, 16, 16])\n",
            "torch.Size([256, 64, 8, 8])\n",
            "torch.Size([256, 128, 8, 8])\n",
            "torch.Size([256, 32, 32, 32])\n",
            "torch.Size([256, 32, 16, 16])\n",
            "torch.Size([256, 64, 16, 16])\n",
            "torch.Size([256, 64, 8, 8])\n",
            "torch.Size([256, 128, 8, 8])\n"
          ],
          "name": "stdout"
        },
        {
          "output_type": "stream",
          "text": [
            "\r 67%|██████▋   | 132/196 [00:10<00:04, 13.26it/s]"
          ],
          "name": "stderr"
        },
        {
          "output_type": "stream",
          "text": [
            "torch.Size([256, 32, 32, 32])\n",
            "torch.Size([256, 32, 16, 16])\n",
            "torch.Size([256, 64, 16, 16])\n",
            "torch.Size([256, 64, 8, 8])\n",
            "torch.Size([256, 128, 8, 8])\n",
            "torch.Size([256, 32, 32, 32])\n",
            "torch.Size([256, 32, 16, 16])\n",
            "torch.Size([256, 64, 16, 16])\n",
            "torch.Size([256, 64, 8, 8])\n",
            "torch.Size([256, 128, 8, 8])\n",
            "torch.Size([256, 32, 32, 32])\n",
            "torch.Size([256, 32, 16, 16])\n",
            "torch.Size([256, 64, 16, 16])\n",
            "torch.Size([256, 64, 8, 8])\n",
            "torch.Size([256, 128, 8, 8])\n"
          ],
          "name": "stdout"
        },
        {
          "output_type": "stream",
          "text": [
            " 69%|██████▉   | 136/196 [00:10<00:04, 13.72it/s]"
          ],
          "name": "stderr"
        },
        {
          "output_type": "stream",
          "text": [
            "torch.Size([256, 32, 32, 32])\n",
            "torch.Size([256, 32, 16, 16])\n",
            "torch.Size([256, 64, 16, 16])\n",
            "torch.Size([256, 64, 8, 8])\n",
            "torch.Size([256, 128, 8, 8])\n",
            "torch.Size([256, 32, 32, 32])\n",
            "torch.Size([256, 32, 16, 16])\n",
            "torch.Size([256, 64, 16, 16])\n",
            "torch.Size([256, 64, 8, 8])\n",
            "torch.Size([256, 128, 8, 8])\n",
            "torch.Size([256, 32, 32, 32])\n",
            "torch.Size([256, 32, 16, 16])\n",
            "torch.Size([256, 64, 16, 16])\n",
            "torch.Size([256, 64, 8, 8])\n",
            "torch.Size([256, 128, 8, 8])\n"
          ],
          "name": "stdout"
        },
        {
          "output_type": "stream",
          "text": [
            "\r 70%|███████   | 138/196 [00:10<00:04, 13.90it/s]"
          ],
          "name": "stderr"
        },
        {
          "output_type": "stream",
          "text": [
            "torch.Size([256, 32, 32, 32])\n",
            "torch.Size([256, 32, 16, 16])\n",
            "torch.Size([256, 64, 16, 16])\n",
            "torch.Size([256, 64, 8, 8])\n",
            "torch.Size([256, 128, 8, 8])\n",
            "torch.Size([256, 32, 32, 32])\n",
            "torch.Size([256, 32, 16, 16])\n",
            "torch.Size([256, 64, 16, 16])\n",
            "torch.Size([256, 64, 8, 8])\n",
            "torch.Size([256, 128, 8, 8])\n",
            "torch.Size([256, 32, 32, 32])\n",
            "torch.Size([256, 32, 16, 16])\n",
            "torch.Size([256, 64, 16, 16])\n",
            "torch.Size([256, 64, 8, 8])\n",
            "torch.Size([256, 128, 8, 8])\n"
          ],
          "name": "stdout"
        },
        {
          "output_type": "stream",
          "text": [
            " 72%|███████▏  | 142/196 [00:10<00:03, 13.95it/s]"
          ],
          "name": "stderr"
        },
        {
          "output_type": "stream",
          "text": [
            "torch.Size([256, 32, 32, 32])\n",
            "torch.Size([256, 32, 16, 16])\n",
            "torch.Size([256, 64, 16, 16])\n",
            "torch.Size([256, 64, 8, 8])\n",
            "torch.Size([256, 128, 8, 8])\n",
            "torch.Size([256, 32, 32, 32])\n",
            "torch.Size([256, 32, 16, 16])\n",
            "torch.Size([256, 64, 16, 16])\n",
            "torch.Size([256, 64, 8, 8])\n",
            "torch.Size([256, 128, 8, 8])\n",
            "torch.Size([256, 32, 32, 32])\n",
            "torch.Size([256, 32, 16, 16])\n",
            "torch.Size([256, 64, 16, 16])\n",
            "torch.Size([256, 64, 8, 8])\n",
            "torch.Size([256, 128, 8, 8])\n"
          ],
          "name": "stdout"
        },
        {
          "output_type": "stream",
          "text": [
            "\r 73%|███████▎  | 144/196 [00:11<00:03, 13.70it/s]"
          ],
          "name": "stderr"
        },
        {
          "output_type": "stream",
          "text": [
            "torch.Size([256, 32, 32, 32])\n",
            "torch.Size([256, 32, 16, 16])\n",
            "torch.Size([256, 64, 16, 16])\n",
            "torch.Size([256, 64, 8, 8])\n",
            "torch.Size([256, 128, 8, 8])\n",
            "torch.Size([256, 32, 32, 32])\n",
            "torch.Size([256, 32, 16, 16])\n",
            "torch.Size([256, 64, 16, 16])\n",
            "torch.Size([256, 64, 8, 8])\n",
            "torch.Size([256, 128, 8, 8])\n",
            "torch.Size([256, 32, 32, 32])\n",
            "torch.Size([256, 32, 16, 16])\n",
            "torch.Size([256, 64, 16, 16])\n",
            "torch.Size([256, 64, 8, 8])\n",
            "torch.Size([256, 128, 8, 8])\n"
          ],
          "name": "stdout"
        },
        {
          "output_type": "stream",
          "text": [
            " 76%|███████▌  | 148/196 [00:11<00:03, 13.43it/s]"
          ],
          "name": "stderr"
        },
        {
          "output_type": "stream",
          "text": [
            "torch.Size([256, 32, 32, 32])\n",
            "torch.Size([256, 32, 16, 16])\n",
            "torch.Size([256, 64, 16, 16])\n",
            "torch.Size([256, 64, 8, 8])\n",
            "torch.Size([256, 128, 8, 8])\n",
            "torch.Size([256, 32, 32, 32])\n",
            "torch.Size([256, 32, 16, 16])\n",
            "torch.Size([256, 64, 16, 16])\n",
            "torch.Size([256, 64, 8, 8])\n",
            "torch.Size([256, 128, 8, 8])\n",
            "torch.Size([256, 32, 32, 32])\n",
            "torch.Size([256, 32, 16, 16])\n",
            "torch.Size([256, 64, 16, 16])\n",
            "torch.Size([256, 64, 8, 8])\n",
            "torch.Size([256, 128, 8, 8])\n"
          ],
          "name": "stdout"
        },
        {
          "output_type": "stream",
          "text": [
            "\r 77%|███████▋  | 150/196 [00:11<00:03, 13.32it/s]"
          ],
          "name": "stderr"
        },
        {
          "output_type": "stream",
          "text": [
            "torch.Size([256, 32, 32, 32])\n",
            "torch.Size([256, 32, 16, 16])\n",
            "torch.Size([256, 64, 16, 16])\n",
            "torch.Size([256, 64, 8, 8])\n",
            "torch.Size([256, 128, 8, 8])\n",
            "torch.Size([256, 32, 32, 32])\n",
            "torch.Size([256, 32, 16, 16])\n",
            "torch.Size([256, 64, 16, 16])\n",
            "torch.Size([256, 64, 8, 8])\n",
            "torch.Size([256, 128, 8, 8])\n",
            "torch.Size([256, 32, 32, 32])\n",
            "torch.Size([256, 32, 16, 16])\n",
            "torch.Size([256, 64, 16, 16])\n",
            "torch.Size([256, 64, 8, 8])\n",
            "torch.Size([256, 128, 8, 8])\n"
          ],
          "name": "stdout"
        },
        {
          "output_type": "stream",
          "text": [
            " 79%|███████▊  | 154/196 [00:11<00:03, 13.73it/s]"
          ],
          "name": "stderr"
        },
        {
          "output_type": "stream",
          "text": [
            "torch.Size([256, 32, 32, 32])\n",
            "torch.Size([256, 32, 16, 16])\n",
            "torch.Size([256, 64, 16, 16])\n",
            "torch.Size([256, 64, 8, 8])\n",
            "torch.Size([256, 128, 8, 8])\n",
            "torch.Size([256, 32, 32, 32])\n",
            "torch.Size([256, 32, 16, 16])\n",
            "torch.Size([256, 64, 16, 16])\n",
            "torch.Size([256, 64, 8, 8])\n",
            "torch.Size([256, 128, 8, 8])\n",
            "torch.Size([256, 32, 32, 32])\n",
            "torch.Size([256, 32, 16, 16])\n",
            "torch.Size([256, 64, 16, 16])\n",
            "torch.Size([256, 64, 8, 8])\n",
            "torch.Size([256, 128, 8, 8])\n"
          ],
          "name": "stdout"
        },
        {
          "output_type": "stream",
          "text": [
            "\r 80%|███████▉  | 156/196 [00:11<00:02, 13.43it/s]"
          ],
          "name": "stderr"
        },
        {
          "output_type": "stream",
          "text": [
            "torch.Size([256, 32, 32, 32])\n",
            "torch.Size([256, 32, 16, 16])\n",
            "torch.Size([256, 64, 16, 16])\n",
            "torch.Size([256, 64, 8, 8])\n",
            "torch.Size([256, 128, 8, 8])\n",
            "torch.Size([256, 32, 32, 32])\n",
            "torch.Size([256, 32, 16, 16])\n",
            "torch.Size([256, 64, 16, 16])\n",
            "torch.Size([256, 64, 8, 8])\n",
            "torch.Size([256, 128, 8, 8])\n",
            "torch.Size([256, 32, 32, 32])\n",
            "torch.Size([256, 32, 16, 16])\n",
            "torch.Size([256, 64, 16, 16])\n",
            "torch.Size([256, 64, 8, 8])\n",
            "torch.Size([256, 128, 8, 8])\n"
          ],
          "name": "stdout"
        },
        {
          "output_type": "stream",
          "text": [
            " 82%|████████▏ | 160/196 [00:12<00:02, 13.21it/s]"
          ],
          "name": "stderr"
        },
        {
          "output_type": "stream",
          "text": [
            "torch.Size([256, 32, 32, 32])\n",
            "torch.Size([256, 32, 16, 16])\n",
            "torch.Size([256, 64, 16, 16])\n",
            "torch.Size([256, 64, 8, 8])\n",
            "torch.Size([256, 128, 8, 8])\n",
            "torch.Size([256, 32, 32, 32])\n",
            "torch.Size([256, 32, 16, 16])\n",
            "torch.Size([256, 64, 16, 16])\n",
            "torch.Size([256, 64, 8, 8])\n",
            "torch.Size([256, 128, 8, 8])\n",
            "torch.Size([256, 32, 32, 32])\n",
            "torch.Size([256, 32, 16, 16])\n",
            "torch.Size([256, 64, 16, 16])\n",
            "torch.Size([256, 64, 8, 8])\n",
            "torch.Size([256, 128, 8, 8])\n"
          ],
          "name": "stdout"
        },
        {
          "output_type": "stream",
          "text": [
            "\r 83%|████████▎ | 162/196 [00:12<00:02, 13.26it/s]"
          ],
          "name": "stderr"
        },
        {
          "output_type": "stream",
          "text": [
            "torch.Size([256, 32, 32, 32])\n",
            "torch.Size([256, 32, 16, 16])\n",
            "torch.Size([256, 64, 16, 16])\n",
            "torch.Size([256, 64, 8, 8])\n",
            "torch.Size([256, 128, 8, 8])\n",
            "torch.Size([256, 32, 32, 32])\n",
            "torch.Size([256, 32, 16, 16])\n",
            "torch.Size([256, 64, 16, 16])\n",
            "torch.Size([256, 64, 8, 8])\n",
            "torch.Size([256, 128, 8, 8])\n",
            "torch.Size([256, 32, 32, 32])\n",
            "torch.Size([256, 32, 16, 16])\n",
            "torch.Size([256, 64, 16, 16])\n",
            "torch.Size([256, 64, 8, 8])\n",
            "torch.Size([256, 128, 8, 8])\n"
          ],
          "name": "stdout"
        },
        {
          "output_type": "stream",
          "text": [
            " 85%|████████▍ | 166/196 [00:12<00:02, 13.34it/s]"
          ],
          "name": "stderr"
        },
        {
          "output_type": "stream",
          "text": [
            "torch.Size([256, 32, 32, 32])\n",
            "torch.Size([256, 32, 16, 16])\n",
            "torch.Size([256, 64, 16, 16])\n",
            "torch.Size([256, 64, 8, 8])\n",
            "torch.Size([256, 128, 8, 8])\n",
            "torch.Size([256, 32, 32, 32])\n",
            "torch.Size([256, 32, 16, 16])\n",
            "torch.Size([256, 64, 16, 16])\n",
            "torch.Size([256, 64, 8, 8])\n",
            "torch.Size([256, 128, 8, 8])\n",
            "torch.Size([256, 32, 32, 32])\n",
            "torch.Size([256, 32, 16, 16])\n",
            "torch.Size([256, 64, 16, 16])\n",
            "torch.Size([256, 64, 8, 8])\n",
            "torch.Size([256, 128, 8, 8])\n"
          ],
          "name": "stdout"
        },
        {
          "output_type": "stream",
          "text": [
            "\r 86%|████████▌ | 168/196 [00:12<00:02, 13.43it/s]"
          ],
          "name": "stderr"
        },
        {
          "output_type": "stream",
          "text": [
            "torch.Size([256, 32, 32, 32])\n",
            "torch.Size([256, 32, 16, 16])\n",
            "torch.Size([256, 64, 16, 16])\n",
            "torch.Size([256, 64, 8, 8])\n",
            "torch.Size([256, 128, 8, 8])\n",
            "torch.Size([256, 32, 32, 32])\n",
            "torch.Size([256, 32, 16, 16])\n",
            "torch.Size([256, 64, 16, 16])\n",
            "torch.Size([256, 64, 8, 8])\n",
            "torch.Size([256, 128, 8, 8])\n",
            "torch.Size([256, 32, 32, 32])\n",
            "torch.Size([256, 32, 16, 16])\n",
            "torch.Size([256, 64, 16, 16])\n",
            "torch.Size([256, 64, 8, 8])\n",
            "torch.Size([256, 128, 8, 8])\n"
          ],
          "name": "stdout"
        },
        {
          "output_type": "stream",
          "text": [
            " 88%|████████▊ | 172/196 [00:13<00:01, 13.33it/s]"
          ],
          "name": "stderr"
        },
        {
          "output_type": "stream",
          "text": [
            "torch.Size([256, 32, 32, 32])\n",
            "torch.Size([256, 32, 16, 16])\n",
            "torch.Size([256, 64, 16, 16])\n",
            "torch.Size([256, 64, 8, 8])\n",
            "torch.Size([256, 128, 8, 8])\n",
            "torch.Size([256, 32, 32, 32])\n",
            "torch.Size([256, 32, 16, 16])\n",
            "torch.Size([256, 64, 16, 16])\n",
            "torch.Size([256, 64, 8, 8])\n",
            "torch.Size([256, 128, 8, 8])\n",
            "torch.Size([256, 32, 32, 32])\n",
            "torch.Size([256, 32, 16, 16])\n",
            "torch.Size([256, 64, 16, 16])\n",
            "torch.Size([256, 64, 8, 8])\n",
            "torch.Size([256, 128, 8, 8])\n"
          ],
          "name": "stdout"
        },
        {
          "output_type": "stream",
          "text": [
            "\r 89%|████████▉ | 174/196 [00:13<00:01, 12.87it/s]"
          ],
          "name": "stderr"
        },
        {
          "output_type": "stream",
          "text": [
            "torch.Size([256, 32, 32, 32])\n",
            "torch.Size([256, 32, 16, 16])\n",
            "torch.Size([256, 64, 16, 16])\n",
            "torch.Size([256, 64, 8, 8])\n",
            "torch.Size([256, 128, 8, 8])\n",
            "torch.Size([256, 32, 32, 32])\n",
            "torch.Size([256, 32, 16, 16])\n",
            "torch.Size([256, 64, 16, 16])\n",
            "torch.Size([256, 64, 8, 8])\n",
            "torch.Size([256, 128, 8, 8])\n",
            "torch.Size([256, 32, 32, 32])\n",
            "torch.Size([256, 32, 16, 16])\n",
            "torch.Size([256, 64, 16, 16])\n",
            "torch.Size([256, 64, 8, 8])\n",
            "torch.Size([256, 128, 8, 8])\n"
          ],
          "name": "stdout"
        },
        {
          "output_type": "stream",
          "text": [
            " 91%|█████████ | 178/196 [00:13<00:01, 13.40it/s]"
          ],
          "name": "stderr"
        },
        {
          "output_type": "stream",
          "text": [
            "torch.Size([256, 32, 32, 32])\n",
            "torch.Size([256, 32, 16, 16])\n",
            "torch.Size([256, 64, 16, 16])\n",
            "torch.Size([256, 64, 8, 8])\n",
            "torch.Size([256, 128, 8, 8])\n",
            "torch.Size([256, 32, 32, 32])\n",
            "torch.Size([256, 32, 16, 16])\n",
            "torch.Size([256, 64, 16, 16])\n",
            "torch.Size([256, 64, 8, 8])\n",
            "torch.Size([256, 128, 8, 8])\n",
            "torch.Size([256, 32, 32, 32])\n",
            "torch.Size([256, 32, 16, 16])\n",
            "torch.Size([256, 64, 16, 16])\n",
            "torch.Size([256, 64, 8, 8])\n",
            "torch.Size([256, 128, 8, 8])\n"
          ],
          "name": "stdout"
        },
        {
          "output_type": "stream",
          "text": [
            "\r 92%|█████████▏| 180/196 [00:13<00:01, 12.96it/s]"
          ],
          "name": "stderr"
        },
        {
          "output_type": "stream",
          "text": [
            "torch.Size([256, 32, 32, 32])\n",
            "torch.Size([256, 32, 16, 16])\n",
            "torch.Size([256, 64, 16, 16])\n",
            "torch.Size([256, 64, 8, 8])\n",
            "torch.Size([256, 128, 8, 8])\n",
            "torch.Size([256, 32, 32, 32])\n",
            "torch.Size([256, 32, 16, 16])\n",
            "torch.Size([256, 64, 16, 16])\n",
            "torch.Size([256, 64, 8, 8])\n",
            "torch.Size([256, 128, 8, 8])\n",
            "torch.Size([256, 32, 32, 32])\n",
            "torch.Size([256, 32, 16, 16])\n",
            "torch.Size([256, 64, 16, 16])\n",
            "torch.Size([256, 64, 8, 8])\n",
            "torch.Size([256, 128, 8, 8])\n"
          ],
          "name": "stdout"
        },
        {
          "output_type": "stream",
          "text": [
            " 94%|█████████▍| 184/196 [00:14<00:00, 13.34it/s]"
          ],
          "name": "stderr"
        },
        {
          "output_type": "stream",
          "text": [
            "torch.Size([256, 32, 32, 32])\n",
            "torch.Size([256, 32, 16, 16])\n",
            "torch.Size([256, 64, 16, 16])\n",
            "torch.Size([256, 64, 8, 8])\n",
            "torch.Size([256, 128, 8, 8])\n",
            "torch.Size([256, 32, 32, 32])\n",
            "torch.Size([256, 32, 16, 16])\n",
            "torch.Size([256, 64, 16, 16])\n",
            "torch.Size([256, 64, 8, 8])\n",
            "torch.Size([256, 128, 8, 8])\n",
            "torch.Size([256, 32, 32, 32])\n",
            "torch.Size([256, 32, 16, 16])\n",
            "torch.Size([256, 64, 16, 16])\n",
            "torch.Size([256, 64, 8, 8])\n",
            "torch.Size([256, 128, 8, 8])\n"
          ],
          "name": "stdout"
        },
        {
          "output_type": "stream",
          "text": [
            "\r 95%|█████████▍| 186/196 [00:14<00:00, 13.43it/s]"
          ],
          "name": "stderr"
        },
        {
          "output_type": "stream",
          "text": [
            "torch.Size([256, 32, 32, 32])\n",
            "torch.Size([256, 32, 16, 16])\n",
            "torch.Size([256, 64, 16, 16])\n",
            "torch.Size([256, 64, 8, 8])\n",
            "torch.Size([256, 128, 8, 8])\n",
            "torch.Size([256, 32, 32, 32])\n",
            "torch.Size([256, 32, 16, 16])\n",
            "torch.Size([256, 64, 16, 16])\n",
            "torch.Size([256, 64, 8, 8])\n",
            "torch.Size([256, 128, 8, 8])\n",
            "torch.Size([256, 32, 32, 32])\n",
            "torch.Size([256, 32, 16, 16])\n",
            "torch.Size([256, 64, 16, 16])\n",
            "torch.Size([256, 64, 8, 8])\n",
            "torch.Size([256, 128, 8, 8])\n"
          ],
          "name": "stdout"
        },
        {
          "output_type": "stream",
          "text": [
            " 97%|█████████▋| 190/196 [00:14<00:00, 13.75it/s]"
          ],
          "name": "stderr"
        },
        {
          "output_type": "stream",
          "text": [
            "torch.Size([256, 32, 32, 32])\n",
            "torch.Size([256, 32, 16, 16])\n",
            "torch.Size([256, 64, 16, 16])\n",
            "torch.Size([256, 64, 8, 8])\n",
            "torch.Size([256, 128, 8, 8])\n",
            "torch.Size([256, 32, 32, 32])\n",
            "torch.Size([256, 32, 16, 16])\n",
            "torch.Size([256, 64, 16, 16])\n",
            "torch.Size([256, 64, 8, 8])\n",
            "torch.Size([256, 128, 8, 8])\n",
            "torch.Size([256, 32, 32, 32])\n",
            "torch.Size([256, 32, 16, 16])\n",
            "torch.Size([256, 64, 16, 16])\n",
            "torch.Size([256, 64, 8, 8])\n",
            "torch.Size([256, 128, 8, 8])\n"
          ],
          "name": "stdout"
        },
        {
          "output_type": "stream",
          "text": [
            " 99%|█████████▉| 194/196 [00:14<00:00, 14.25it/s]"
          ],
          "name": "stderr"
        },
        {
          "output_type": "stream",
          "text": [
            "torch.Size([256, 32, 32, 32])\n",
            "torch.Size([256, 32, 16, 16])\n",
            "torch.Size([256, 64, 16, 16])\n",
            "torch.Size([256, 64, 8, 8])\n",
            "torch.Size([256, 128, 8, 8])\n",
            "torch.Size([256, 32, 32, 32])\n",
            "torch.Size([256, 32, 16, 16])\n",
            "torch.Size([256, 64, 16, 16])\n",
            "torch.Size([256, 64, 8, 8])\n",
            "torch.Size([256, 128, 8, 8])\n",
            "torch.Size([256, 32, 32, 32])\n",
            "torch.Size([256, 32, 16, 16])\n",
            "torch.Size([256, 64, 16, 16])\n",
            "torch.Size([256, 64, 8, 8])\n",
            "torch.Size([256, 128, 8, 8])\n"
          ],
          "name": "stdout"
        },
        {
          "output_type": "stream",
          "text": [
            "\r100%|██████████| 196/196 [00:14<00:00, 13.17it/s]"
          ],
          "name": "stderr"
        },
        {
          "output_type": "stream",
          "text": [
            "torch.Size([256, 32, 32, 32])\n",
            "torch.Size([256, 32, 16, 16])\n",
            "torch.Size([256, 64, 16, 16])\n",
            "torch.Size([256, 64, 8, 8])\n",
            "torch.Size([256, 128, 8, 8])\n",
            "torch.Size([80, 32, 32, 32])\n",
            "torch.Size([80, 32, 16, 16])\n",
            "torch.Size([80, 64, 16, 16])\n",
            "torch.Size([80, 64, 8, 8])\n",
            "torch.Size([80, 128, 8, 8])\n"
          ],
          "name": "stdout"
        },
        {
          "output_type": "stream",
          "text": [
            "\n"
          ],
          "name": "stderr"
        },
        {
          "output_type": "stream",
          "text": [
            "torch.Size([256, 32, 32, 32])\n",
            "torch.Size([256, 32, 16, 16])\n",
            "torch.Size([256, 64, 16, 16])\n",
            "torch.Size([256, 64, 8, 8])\n",
            "torch.Size([256, 128, 8, 8])\n",
            "torch.Size([256, 32, 32, 32])\n",
            "torch.Size([256, 32, 16, 16])\n",
            "torch.Size([256, 64, 16, 16])\n",
            "torch.Size([256, 64, 8, 8])\n",
            "torch.Size([256, 128, 8, 8])\n",
            "torch.Size([256, 32, 32, 32])\n",
            "torch.Size([256, 32, 16, 16])\n",
            "torch.Size([256, 64, 16, 16])\n",
            "torch.Size([256, 64, 8, 8])\n",
            "torch.Size([256, 128, 8, 8])\n",
            "torch.Size([256, 32, 32, 32])\n",
            "torch.Size([256, 32, 16, 16])\n",
            "torch.Size([256, 64, 16, 16])\n",
            "torch.Size([256, 64, 8, 8])\n",
            "torch.Size([256, 128, 8, 8])\n",
            "torch.Size([256, 32, 32, 32])\n",
            "torch.Size([256, 32, 16, 16])\n",
            "torch.Size([256, 64, 16, 16])\n",
            "torch.Size([256, 64, 8, 8])\n",
            "torch.Size([256, 128, 8, 8])\n",
            "torch.Size([256, 32, 32, 32])\n",
            "torch.Size([256, 32, 16, 16])\n",
            "torch.Size([256, 64, 16, 16])\n",
            "torch.Size([256, 64, 8, 8])\n",
            "torch.Size([256, 128, 8, 8])\n",
            "torch.Size([256, 32, 32, 32])\n",
            "torch.Size([256, 32, 16, 16])\n",
            "torch.Size([256, 64, 16, 16])\n",
            "torch.Size([256, 64, 8, 8])\n",
            "torch.Size([256, 128, 8, 8])\n",
            "torch.Size([256, 32, 32, 32])\n",
            "torch.Size([256, 32, 16, 16])\n",
            "torch.Size([256, 64, 16, 16])\n",
            "torch.Size([256, 64, 8, 8])\n",
            "torch.Size([256, 128, 8, 8])\n",
            "torch.Size([256, 32, 32, 32])\n",
            "torch.Size([256, 32, 16, 16])\n",
            "torch.Size([256, 64, 16, 16])\n",
            "torch.Size([256, 64, 8, 8])\n",
            "torch.Size([256, 128, 8, 8])\n",
            "torch.Size([256, 32, 32, 32])\n",
            "torch.Size([256, 32, 16, 16])\n",
            "torch.Size([256, 64, 16, 16])\n",
            "torch.Size([256, 64, 8, 8])\n",
            "torch.Size([256, 128, 8, 8])\n",
            "torch.Size([256, 32, 32, 32])\n",
            "torch.Size([256, 32, 16, 16])\n",
            "torch.Size([256, 64, 16, 16])\n",
            "torch.Size([256, 64, 8, 8])\n",
            "torch.Size([256, 128, 8, 8])\n",
            "torch.Size([256, 32, 32, 32])\n",
            "torch.Size([256, 32, 16, 16])\n",
            "torch.Size([256, 64, 16, 16])\n",
            "torch.Size([256, 64, 8, 8])\n",
            "torch.Size([256, 128, 8, 8])\n",
            "torch.Size([256, 32, 32, 32])\n",
            "torch.Size([256, 32, 16, 16])\n",
            "torch.Size([256, 64, 16, 16])\n",
            "torch.Size([256, 64, 8, 8])\n",
            "torch.Size([256, 128, 8, 8])\n",
            "torch.Size([256, 32, 32, 32])\n",
            "torch.Size([256, 32, 16, 16])\n",
            "torch.Size([256, 64, 16, 16])\n",
            "torch.Size([256, 64, 8, 8])\n",
            "torch.Size([256, 128, 8, 8])\n",
            "torch.Size([256, 32, 32, 32])\n",
            "torch.Size([256, 32, 16, 16])\n",
            "torch.Size([256, 64, 16, 16])\n",
            "torch.Size([256, 64, 8, 8])\n",
            "torch.Size([256, 128, 8, 8])\n",
            "torch.Size([256, 32, 32, 32])\n",
            "torch.Size([256, 32, 16, 16])\n",
            "torch.Size([256, 64, 16, 16])\n",
            "torch.Size([256, 64, 8, 8])\n",
            "torch.Size([256, 128, 8, 8])\n",
            "torch.Size([256, 32, 32, 32])\n",
            "torch.Size([256, 32, 16, 16])\n",
            "torch.Size([256, 64, 16, 16])\n",
            "torch.Size([256, 64, 8, 8])\n",
            "torch.Size([256, 128, 8, 8])\n",
            "torch.Size([256, 32, 32, 32])\n",
            "torch.Size([256, 32, 16, 16])\n",
            "torch.Size([256, 64, 16, 16])\n",
            "torch.Size([256, 64, 8, 8])\n",
            "torch.Size([256, 128, 8, 8])\n",
            "torch.Size([256, 32, 32, 32])\n",
            "torch.Size([256, 32, 16, 16])\n",
            "torch.Size([256, 64, 16, 16])\n",
            "torch.Size([256, 64, 8, 8])\n",
            "torch.Size([256, 128, 8, 8])\n",
            "torch.Size([256, 32, 32, 32])\n",
            "torch.Size([256, 32, 16, 16])\n",
            "torch.Size([256, 64, 16, 16])\n",
            "torch.Size([256, 64, 8, 8])\n",
            "torch.Size([256, 128, 8, 8])\n",
            "torch.Size([256, 32, 32, 32])\n",
            "torch.Size([256, 32, 16, 16])\n",
            "torch.Size([256, 64, 16, 16])\n",
            "torch.Size([256, 64, 8, 8])\n",
            "torch.Size([256, 128, 8, 8])\n",
            "torch.Size([256, 32, 32, 32])\n",
            "torch.Size([256, 32, 16, 16])\n",
            "torch.Size([256, 64, 16, 16])\n",
            "torch.Size([256, 64, 8, 8])\n",
            "torch.Size([256, 128, 8, 8])\n",
            "torch.Size([256, 32, 32, 32])\n",
            "torch.Size([256, 32, 16, 16])\n",
            "torch.Size([256, 64, 16, 16])\n",
            "torch.Size([256, 64, 8, 8])\n",
            "torch.Size([256, 128, 8, 8])\n",
            "torch.Size([256, 32, 32, 32])\n",
            "torch.Size([256, 32, 16, 16])\n",
            "torch.Size([256, 64, 16, 16])\n",
            "torch.Size([256, 64, 8, 8])\n",
            "torch.Size([256, 128, 8, 8])\n",
            "torch.Size([256, 32, 32, 32])\n",
            "torch.Size([256, 32, 16, 16])\n",
            "torch.Size([256, 64, 16, 16])\n",
            "torch.Size([256, 64, 8, 8])\n",
            "torch.Size([256, 128, 8, 8])\n",
            "torch.Size([256, 32, 32, 32])\n",
            "torch.Size([256, 32, 16, 16])\n",
            "torch.Size([256, 64, 16, 16])\n",
            "torch.Size([256, 64, 8, 8])\n",
            "torch.Size([256, 128, 8, 8])\n",
            "torch.Size([256, 32, 32, 32])\n",
            "torch.Size([256, 32, 16, 16])\n",
            "torch.Size([256, 64, 16, 16])\n",
            "torch.Size([256, 64, 8, 8])\n",
            "torch.Size([256, 128, 8, 8])\n",
            "torch.Size([256, 32, 32, 32])\n",
            "torch.Size([256, 32, 16, 16])\n",
            "torch.Size([256, 64, 16, 16])\n",
            "torch.Size([256, 64, 8, 8])\n",
            "torch.Size([256, 128, 8, 8])\n",
            "torch.Size([256, 32, 32, 32])\n",
            "torch.Size([256, 32, 16, 16])\n",
            "torch.Size([256, 64, 16, 16])\n",
            "torch.Size([256, 64, 8, 8])\n",
            "torch.Size([256, 128, 8, 8])\n",
            "torch.Size([256, 32, 32, 32])\n",
            "torch.Size([256, 32, 16, 16])\n",
            "torch.Size([256, 64, 16, 16])\n",
            "torch.Size([256, 64, 8, 8])\n",
            "torch.Size([256, 128, 8, 8])\n",
            "torch.Size([256, 32, 32, 32])\n",
            "torch.Size([256, 32, 16, 16])\n",
            "torch.Size([256, 64, 16, 16])\n",
            "torch.Size([256, 64, 8, 8])\n",
            "torch.Size([256, 128, 8, 8])\n",
            "torch.Size([256, 32, 32, 32])\n",
            "torch.Size([256, 32, 16, 16])\n",
            "torch.Size([256, 64, 16, 16])\n",
            "torch.Size([256, 64, 8, 8])\n",
            "torch.Size([256, 128, 8, 8])\n",
            "torch.Size([256, 32, 32, 32])\n",
            "torch.Size([256, 32, 16, 16])\n",
            "torch.Size([256, 64, 16, 16])\n",
            "torch.Size([256, 64, 8, 8])\n",
            "torch.Size([256, 128, 8, 8])\n",
            "torch.Size([256, 32, 32, 32])\n",
            "torch.Size([256, 32, 16, 16])\n",
            "torch.Size([256, 64, 16, 16])\n",
            "torch.Size([256, 64, 8, 8])\n",
            "torch.Size([256, 128, 8, 8])\n",
            "torch.Size([256, 32, 32, 32])\n",
            "torch.Size([256, 32, 16, 16])\n",
            "torch.Size([256, 64, 16, 16])\n",
            "torch.Size([256, 64, 8, 8])\n",
            "torch.Size([256, 128, 8, 8])\n",
            "torch.Size([256, 32, 32, 32])\n",
            "torch.Size([256, 32, 16, 16])\n",
            "torch.Size([256, 64, 16, 16])\n",
            "torch.Size([256, 64, 8, 8])\n",
            "torch.Size([256, 128, 8, 8])\n",
            "torch.Size([256, 32, 32, 32])\n",
            "torch.Size([256, 32, 16, 16])\n",
            "torch.Size([256, 64, 16, 16])\n",
            "torch.Size([256, 64, 8, 8])\n",
            "torch.Size([256, 128, 8, 8])\n",
            "torch.Size([256, 32, 32, 32])\n",
            "torch.Size([256, 32, 16, 16])\n",
            "torch.Size([256, 64, 16, 16])\n",
            "torch.Size([256, 64, 8, 8])\n",
            "torch.Size([256, 128, 8, 8])\n",
            "torch.Size([256, 32, 32, 32])\n",
            "torch.Size([256, 32, 16, 16])\n",
            "torch.Size([256, 64, 16, 16])\n",
            "torch.Size([256, 64, 8, 8])\n",
            "torch.Size([256, 128, 8, 8])\n",
            "torch.Size([16, 32, 32, 32])\n",
            "torch.Size([16, 32, 16, 16])\n",
            "torch.Size([16, 64, 16, 16])\n",
            "torch.Size([16, 64, 8, 8])\n",
            "torch.Size([16, 128, 8, 8])\n",
            "\n",
            "Epoch: 9 Train set: Average loss: 0.0024, Accuracy: 78.478%\n",
            "Epoch: 9 Test set: Average loss: 0.0027, Accuracy: 77.590%\n"
          ],
          "name": "stdout"
        }
      ]
    },
    {
      "cell_type": "code",
      "metadata": {
        "id": "nizbsvw9poC6",
        "colab_type": "code",
        "outputId": "40d37379-daec-4e1b-f440-fc759597dd8b",
        "colab": {
          "base_uri": "https://localhost:8080/",
          "height": 303
        }
      },
      "source": [
        "dataiter = iter(testloader)\n",
        "images, labels = dataiter.next()\n",
        "#images, labels = images.to(device), labels.to(device)\n",
        "\n",
        "# print images\n",
        "imshow(torchvision.utils.make_grid(images))\n",
        "print('GroundTruth: ', ' '.join('%5s' % classes[labels[j]] for j in range(4)))"
      ],
      "execution_count": 12,
      "outputs": [
        {
          "output_type": "stream",
          "text": [
            "Clipping input data to the valid range for imshow with RGB data ([0..1] for floats or [0..255] for integers).\n"
          ],
          "name": "stderr"
        },
        {
          "output_type": "stream",
          "text": [
            "GroundTruth:    cat  ship  ship plane\n"
          ],
          "name": "stdout"
        },
        {
          "output_type": "display_data",
          "data": {
            "image/png": "[encoded data removed]",
            "text/plain": [
              "<Figure size 432x288 with 1 Axes>"
            ]
          },
          "metadata": {
            "tags": []
          }
        }
      ]
    },
    {
      "cell_type": "code",
      "metadata": {
        "id": "HVLjlssWpoC9",
        "colab_type": "code",
        "colab": {
          "base_uri": "https://localhost:8080/",
          "height": 102
        },
        "outputId": "5c75e328-0060-4b99-ae6f-6fe01137b8fb"
      },
      "source": [
        "images, labels = images.to(device), labels.to(device)\n",
        "outputs = net(images)"
      ],
      "execution_count": 13,
      "outputs": [
        {
          "output_type": "stream",
          "text": [
            "torch.Size([256, 32, 32, 32])\n",
            "torch.Size([256, 32, 16, 16])\n",
            "torch.Size([256, 64, 16, 16])\n",
            "torch.Size([256, 64, 8, 8])\n",
            "torch.Size([256, 128, 8, 8])\n"
          ],
          "name": "stdout"
        }
      ]
    },
    {
      "cell_type": "code",
      "metadata": {
        "id": "ABRIDW3lpoDA",
        "colab_type": "code",
        "outputId": "2c487e1a-53de-431b-a324-b538378cb088",
        "colab": {
          "base_uri": "https://localhost:8080/",
          "height": 34
        }
      },
      "source": [
        "_, predicted = torch.max(outputs, 1)\n",
        "\n",
        "print('Predicted: ', ' '.join('%5s' % classes[predicted[j]]\n",
        "                              for j in range(4)))"
      ],
      "execution_count": 14,
      "outputs": [
        {
          "output_type": "stream",
          "text": [
            "Predicted:    cat  ship  ship plane\n"
          ],
          "name": "stdout"
        }
      ]
    },
    {
      "cell_type": "code",
      "metadata": {
        "id": "pDNFuDEDpoDG",
        "colab_type": "code",
        "outputId": "4fdb121c-1103-4ee1-e688-c58ba641bb2c",
        "colab": {
          "base_uri": "https://localhost:8080/",
          "height": 1000
        }
      },
      "source": [
        "ts.test_category_wise(net, device, testloader, classes)"
      ],
      "execution_count": 15,
      "outputs": [
        {
          "output_type": "stream",
          "text": [
            "torch.Size([256, 32, 32, 32])\n",
            "torch.Size([256, 32, 16, 16])\n",
            "torch.Size([256, 64, 16, 16])\n",
            "torch.Size([256, 64, 8, 8])\n",
            "torch.Size([256, 128, 8, 8])\n",
            "torch.Size([256, 32, 32, 32])\n",
            "torch.Size([256, 32, 16, 16])\n",
            "torch.Size([256, 64, 16, 16])\n",
            "torch.Size([256, 64, 8, 8])\n",
            "torch.Size([256, 128, 8, 8])\n",
            "torch.Size([256, 32, 32, 32])\n",
            "torch.Size([256, 32, 16, 16])\n",
            "torch.Size([256, 64, 16, 16])\n",
            "torch.Size([256, 64, 8, 8])\n",
            "torch.Size([256, 128, 8, 8])\n",
            "torch.Size([256, 32, 32, 32])\n",
            "torch.Size([256, 32, 16, 16])\n",
            "torch.Size([256, 64, 16, 16])\n",
            "torch.Size([256, 64, 8, 8])\n",
            "torch.Size([256, 128, 8, 8])\n",
            "torch.Size([256, 32, 32, 32])\n",
            "torch.Size([256, 32, 16, 16])\n",
            "torch.Size([256, 64, 16, 16])\n",
            "torch.Size([256, 64, 8, 8])\n",
            "torch.Size([256, 128, 8, 8])\n",
            "torch.Size([256, 32, 32, 32])\n",
            "torch.Size([256, 32, 16, 16])\n",
            "torch.Size([256, 64, 16, 16])\n",
            "torch.Size([256, 64, 8, 8])\n",
            "torch.Size([256, 128, 8, 8])\n",
            "torch.Size([256, 32, 32, 32])\n",
            "torch.Size([256, 32, 16, 16])\n",
            "torch.Size([256, 64, 16, 16])\n",
            "torch.Size([256, 64, 8, 8])\n",
            "torch.Size([256, 128, 8, 8])\n",
            "torch.Size([256, 32, 32, 32])\n",
            "torch.Size([256, 32, 16, 16])\n",
            "torch.Size([256, 64, 16, 16])\n",
            "torch.Size([256, 64, 8, 8])\n",
            "torch.Size([256, 128, 8, 8])\n",
            "torch.Size([256, 32, 32, 32])\n",
            "torch.Size([256, 32, 16, 16])\n",
            "torch.Size([256, 64, 16, 16])\n",
            "torch.Size([256, 64, 8, 8])\n",
            "torch.Size([256, 128, 8, 8])\n",
            "torch.Size([256, 32, 32, 32])\n",
            "torch.Size([256, 32, 16, 16])\n",
            "torch.Size([256, 64, 16, 16])\n",
            "torch.Size([256, 64, 8, 8])\n",
            "torch.Size([256, 128, 8, 8])\n",
            "torch.Size([256, 32, 32, 32])\n",
            "torch.Size([256, 32, 16, 16])\n",
            "torch.Size([256, 64, 16, 16])\n",
            "torch.Size([256, 64, 8, 8])\n",
            "torch.Size([256, 128, 8, 8])\n",
            "torch.Size([256, 32, 32, 32])\n",
            "torch.Size([256, 32, 16, 16])\n",
            "torch.Size([256, 64, 16, 16])\n",
            "torch.Size([256, 64, 8, 8])\n",
            "torch.Size([256, 128, 8, 8])\n",
            "torch.Size([256, 32, 32, 32])\n",
            "torch.Size([256, 32, 16, 16])\n",
            "torch.Size([256, 64, 16, 16])\n",
            "torch.Size([256, 64, 8, 8])\n",
            "torch.Size([256, 128, 8, 8])\n",
            "torch.Size([256, 32, 32, 32])\n",
            "torch.Size([256, 32, 16, 16])\n",
            "torch.Size([256, 64, 16, 16])\n",
            "torch.Size([256, 64, 8, 8])\n",
            "torch.Size([256, 128, 8, 8])\n",
            "torch.Size([256, 32, 32, 32])\n",
            "torch.Size([256, 32, 16, 16])\n",
            "torch.Size([256, 64, 16, 16])\n",
            "torch.Size([256, 64, 8, 8])\n",
            "torch.Size([256, 128, 8, 8])\n",
            "torch.Size([256, 32, 32, 32])\n",
            "torch.Size([256, 32, 16, 16])\n",
            "torch.Size([256, 64, 16, 16])\n",
            "torch.Size([256, 64, 8, 8])\n",
            "torch.Size([256, 128, 8, 8])\n",
            "torch.Size([256, 32, 32, 32])\n",
            "torch.Size([256, 32, 16, 16])\n",
            "torch.Size([256, 64, 16, 16])\n",
            "torch.Size([256, 64, 8, 8])\n",
            "torch.Size([256, 128, 8, 8])\n",
            "torch.Size([256, 32, 32, 32])\n",
            "torch.Size([256, 32, 16, 16])\n",
            "torch.Size([256, 64, 16, 16])\n",
            "torch.Size([256, 64, 8, 8])\n",
            "torch.Size([256, 128, 8, 8])\n",
            "torch.Size([256, 32, 32, 32])\n",
            "torch.Size([256, 32, 16, 16])\n",
            "torch.Size([256, 64, 16, 16])\n",
            "torch.Size([256, 64, 8, 8])\n",
            "torch.Size([256, 128, 8, 8])\n",
            "torch.Size([256, 32, 32, 32])\n",
            "torch.Size([256, 32, 16, 16])\n",
            "torch.Size([256, 64, 16, 16])\n",
            "torch.Size([256, 64, 8, 8])\n",
            "torch.Size([256, 128, 8, 8])\n",
            "torch.Size([256, 32, 32, 32])\n",
            "torch.Size([256, 32, 16, 16])\n",
            "torch.Size([256, 64, 16, 16])\n",
            "torch.Size([256, 64, 8, 8])\n",
            "torch.Size([256, 128, 8, 8])\n",
            "torch.Size([256, 32, 32, 32])\n",
            "torch.Size([256, 32, 16, 16])\n",
            "torch.Size([256, 64, 16, 16])\n",
            "torch.Size([256, 64, 8, 8])\n",
            "torch.Size([256, 128, 8, 8])\n",
            "torch.Size([256, 32, 32, 32])\n",
            "torch.Size([256, 32, 16, 16])\n",
            "torch.Size([256, 64, 16, 16])\n",
            "torch.Size([256, 64, 8, 8])\n",
            "torch.Size([256, 128, 8, 8])\n",
            "torch.Size([256, 32, 32, 32])\n",
            "torch.Size([256, 32, 16, 16])\n",
            "torch.Size([256, 64, 16, 16])\n",
            "torch.Size([256, 64, 8, 8])\n",
            "torch.Size([256, 128, 8, 8])\n",
            "torch.Size([256, 32, 32, 32])\n",
            "torch.Size([256, 32, 16, 16])\n",
            "torch.Size([256, 64, 16, 16])\n",
            "torch.Size([256, 64, 8, 8])\n",
            "torch.Size([256, 128, 8, 8])\n",
            "torch.Size([256, 32, 32, 32])\n",
            "torch.Size([256, 32, 16, 16])\n",
            "torch.Size([256, 64, 16, 16])\n",
            "torch.Size([256, 64, 8, 8])\n",
            "torch.Size([256, 128, 8, 8])\n",
            "torch.Size([256, 32, 32, 32])\n",
            "torch.Size([256, 32, 16, 16])\n",
            "torch.Size([256, 64, 16, 16])\n",
            "torch.Size([256, 64, 8, 8])\n",
            "torch.Size([256, 128, 8, 8])\n",
            "torch.Size([256, 32, 32, 32])\n",
            "torch.Size([256, 32, 16, 16])\n",
            "torch.Size([256, 64, 16, 16])\n",
            "torch.Size([256, 64, 8, 8])\n",
            "torch.Size([256, 128, 8, 8])\n",
            "torch.Size([256, 32, 32, 32])\n",
            "torch.Size([256, 32, 16, 16])\n",
            "torch.Size([256, 64, 16, 16])\n",
            "torch.Size([256, 64, 8, 8])\n",
            "torch.Size([256, 128, 8, 8])\n",
            "torch.Size([256, 32, 32, 32])\n",
            "torch.Size([256, 32, 16, 16])\n",
            "torch.Size([256, 64, 16, 16])\n",
            "torch.Size([256, 64, 8, 8])\n",
            "torch.Size([256, 128, 8, 8])\n",
            "torch.Size([256, 32, 32, 32])\n",
            "torch.Size([256, 32, 16, 16])\n",
            "torch.Size([256, 64, 16, 16])\n",
            "torch.Size([256, 64, 8, 8])\n",
            "torch.Size([256, 128, 8, 8])\n",
            "torch.Size([256, 32, 32, 32])\n",
            "torch.Size([256, 32, 16, 16])\n",
            "torch.Size([256, 64, 16, 16])\n",
            "torch.Size([256, 64, 8, 8])\n",
            "torch.Size([256, 128, 8, 8])\n",
            "torch.Size([256, 32, 32, 32])\n",
            "torch.Size([256, 32, 16, 16])\n",
            "torch.Size([256, 64, 16, 16])\n",
            "torch.Size([256, 64, 8, 8])\n",
            "torch.Size([256, 128, 8, 8])\n",
            "torch.Size([256, 32, 32, 32])\n",
            "torch.Size([256, 32, 16, 16])\n",
            "torch.Size([256, 64, 16, 16])\n",
            "torch.Size([256, 64, 8, 8])\n",
            "torch.Size([256, 128, 8, 8])\n",
            "torch.Size([256, 32, 32, 32])\n",
            "torch.Size([256, 32, 16, 16])\n",
            "torch.Size([256, 64, 16, 16])\n",
            "torch.Size([256, 64, 8, 8])\n",
            "torch.Size([256, 128, 8, 8])\n",
            "torch.Size([256, 32, 32, 32])\n",
            "torch.Size([256, 32, 16, 16])\n",
            "torch.Size([256, 64, 16, 16])\n",
            "torch.Size([256, 64, 8, 8])\n",
            "torch.Size([256, 128, 8, 8])\n",
            "torch.Size([256, 32, 32, 32])\n",
            "torch.Size([256, 32, 16, 16])\n",
            "torch.Size([256, 64, 16, 16])\n",
            "torch.Size([256, 64, 8, 8])\n",
            "torch.Size([256, 128, 8, 8])\n",
            "torch.Size([256, 32, 32, 32])\n",
            "torch.Size([256, 32, 16, 16])\n",
            "torch.Size([256, 64, 16, 16])\n",
            "torch.Size([256, 64, 8, 8])\n",
            "torch.Size([256, 128, 8, 8])\n",
            "torch.Size([256, 32, 32, 32])\n",
            "torch.Size([256, 32, 16, 16])\n",
            "torch.Size([256, 64, 16, 16])\n",
            "torch.Size([256, 64, 8, 8])\n",
            "torch.Size([256, 128, 8, 8])\n",
            "torch.Size([16, 32, 32, 32])\n",
            "torch.Size([16, 32, 16, 16])\n",
            "torch.Size([16, 64, 16, 16])\n",
            "torch.Size([16, 64, 8, 8])\n",
            "torch.Size([16, 128, 8, 8])\n",
            "Accuracy of plane : 81 %\n",
            "Accuracy of   car : 100 %\n",
            "Accuracy of  bird : 92 %\n",
            "Accuracy of   cat : 50 %\n",
            "Accuracy of  deer : 53 %\n",
            "Accuracy of   dog : 53 %\n",
            "Accuracy of  frog : 66 %\n",
            "Accuracy of horse : 91 %\n",
            "Accuracy of  ship : 90 %\n",
            "Accuracy of truck : 94 %\n"
          ],
          "name": "stdout"
        }
      ]
    }
  ]
}